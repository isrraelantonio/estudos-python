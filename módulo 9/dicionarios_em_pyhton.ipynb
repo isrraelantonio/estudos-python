{
 "cells": [
  {
   "cell_type": "markdown",
   "metadata": {},
   "source": [
    "<h4>Dicionários em Python</h4>\n",
    "Outra estrutura de dados que armazenam informações\n",
    "\n",
    "### Estrutura:\n",
    "Os itens serão coletados por uam chave.\n",
    "logo sua estrutura segue a sequência chave e valor.\n",
    "dicionario = {chave: valor, chave: valor, chave: valor, chave: valor ...}\n",
    "\n",
    "nesse caso, sempre que formos coletar uma informação dentro da lista devemos fazer isso atra vés dessa chave usando seu item cmo indice.\n",
    "logo é mais intuitivo. Para um dicionário é sempre mais indicado o uso da chave para coleta de alguma informação.\n",
    "lembrando que não podemos ter mais de um  item dentro de cada chave, até porque serão ignorados.\n",
    "### Vantagens e Desvantagens\n",
    "\n",
    "- Não devem ser usados para pegar itens em uma determinada ordem\n",
    "- Podem ter valores heterogêneos (vários tipos de valores dentro de um mesmo dicionário: inteiros, strings, listas, etc)\n",
    "- Chaves são únicas obrigatoriamente\n",
    "- Mais intuitivos de trabalhar"
   ]
  },
  {
   "cell_type": "code",
   "execution_count": 37,
   "metadata": {},
   "outputs": [
    {
     "name": "stdout",
     "output_type": "stream",
     "text": [
      "15000\n",
      "o alquimista\n",
      "prancha surf\n",
      "17000\n",
      "1000\n"
     ]
    }
   ],
   "source": [
    "mais_vendidos = {'tecnologia': 'iphone', 'refrigeracao': 'ar consul 12000 btu', 'livros': 'o alquimista', 'eletrodoméstico': 'geladeira', 'lazer': 'prancha surf'}\n",
    "\n",
    "vendas_tecnologia = {'iphone': 15000, 'samsung galaxy': 12000, 'tv samsung': 10000, 'ps5': 14300, 'tablet': 1720, 'ipad': 1000, 'tv philco': 2500, 'notebook hp': 1000, 'notebook dell': 17000, 'notebook asus': 2450}\n",
    "\n",
    "quantidade_iphone = vendas_tecnologia['iphone']\n",
    "print(quantidade_iphone)\n",
    "\n",
    "# Livro mais vendido\n",
    "\n",
    "livro = mais_vendidos['livros']\n",
    "lazer = mais_vendidos[\"lazer\"]\n",
    "\n",
    "print(livro)\n",
    "print(lazer)\n",
    "\n",
    "\n",
    "quantidade_notbook = vendas_tecnologia['notebook dell']\n",
    "qtd_ipad = vendas_tecnologia['ipad']\n",
    "print(quantidade_notbook)\n",
    "print(qtd_ipad)"
   ]
  },
  {
   "cell_type": "markdown",
   "metadata": {},
   "source": [
    "<h4>Não confie na ordem dos dicionários, use as chaves</h4>\n",
    "\n",
    "# Python Versões Antigas x Versões Novas\n",
    "\n",
    "- Dicionários eram \"sem ordem\". Atualmente tem ordem, mas o certo é usar as chaves\n",
    "- 2 formas de pegar um valor:\n",
    "    - dicionario[chave]\n",
    "    - .get(chave)"
   ]
  },
  {
   "cell_type": "code",
   "execution_count": 38,
   "metadata": {},
   "outputs": [],
   "source": [
    "mais_vendidos = {'tecnologia': 'iphone', 'refrigeracao': 'ar consul 12000 btu', 'livros': 'o alquimista', 'eletrodoméstico': 'geladeira', 'lazer': 'prancha surf'}\n",
    "\n",
    "vendas_tecnologia = {'iphone': 15000, 'samsung galaxy': 12000, 'tv samsung': 10000, 'ps5': 14300, 'tablet': 1720, 'ipad': 1000, 'tv philco': 2500, 'notebook hp': 1000, 'notebook dell': 17000, 'notebook asus': 2450}"
   ]
  },
  {
   "cell_type": "markdown",
   "metadata": {},
   "source": [
    "- Qual foi o item mais vendido nas categorias 'livros' e 'lazer'?\n",
    "- Quanto foi vendido de 'notebook asus' e de 'ipad'?"
   ]
  },
  {
   "cell_type": "code",
   "execution_count": 39,
   "metadata": {},
   "outputs": [
    {
     "name": "stdout",
     "output_type": "stream",
     "text": [
      "O livro mais vendido foi o alquimista\n",
      "O produto mais vendido foi prancha surf\n",
      "2450\n",
      "foram vendidas 2450 unidades de ipad\n",
      "None\n"
     ]
    },
    {
     "ename": "KeyError",
     "evalue": "'ipads'",
     "output_type": "error",
     "traceback": [
      "\u001b[1;31m---------------------------------------------------------------------------\u001b[0m",
      "\u001b[1;31mKeyError\u001b[0m                                  Traceback (most recent call last)",
      "Cell \u001b[1;32mIn[39], line 14\u001b[0m\n\u001b[0;32m     11\u001b[0m \u001b[38;5;28mprint\u001b[39m(vendas_tecnologia\u001b[38;5;241m.\u001b[39mget(\u001b[38;5;124m\"\u001b[39m\u001b[38;5;124mipads\u001b[39m\u001b[38;5;124m\"\u001b[39m))\n\u001b[0;32m     13\u001b[0m \u001b[38;5;66;03m#Agora vejamos quando se trata do uso do método anterior em que fazemos o uso de chaves\u001b[39;00m\n\u001b[1;32m---> 14\u001b[0m \u001b[38;5;28mprint\u001b[39m(\u001b[43mvendas_tecnologia\u001b[49m\u001b[43m[\u001b[49m\u001b[38;5;124;43m\"\u001b[39;49m\u001b[38;5;124;43mipads\u001b[39;49m\u001b[38;5;124;43m\"\u001b[39;49m\u001b[43m]\u001b[49m)\n\u001b[0;32m     15\u001b[0m \u001b[38;5;66;03m#Nesse caso perceba que o código nvez de responder como None irá retornar um erro\u001b[39;00m\n",
      "\u001b[1;31mKeyError\u001b[0m: 'ipads'"
     ]
    }
   ],
   "source": [
    "\n",
    "#Nesse caso fazemos o uso dos colcletes dentro do print \n",
    "print(\"O livro mais vendido foi {}\".format(mais_vendidos[\"livros\"]))\n",
    "print(\"O produto mais vendido foi {}\".format(mais_vendidos[\"lazer\"]))\n",
    "\n",
    "#Agora fazemos isso de forma bem mais direta usando o atributo get\n",
    "print(vendas_tecnologia.get(\"notebook asus\"))\n",
    "\n",
    "print(\"foram vendidas {} unidades de ipad\".format(vendas_tecnologia.get(\"notebook asus\")))\n",
    "\n",
    "# Se usamos uma chave que nao existe dentro de uma lista e isso pelo método get nós temos uma respota nula\n",
    "print(vendas_tecnologia.get(\"ipads\"))\n",
    "\n",
    "#Agora vejamos quando se trata do uso do método anterior em que fazemos o uso de chaves\n",
    "print(vendas_tecnologia[\"ipads\"])\n",
    "#Nesse caso perceba que o código nvez de responder como None irá retornar um erro\n",
    "\n"
   ]
  },
  {
   "cell_type": "markdown",
   "metadata": {},
   "source": [
    "Verificar se item está no dicionário:\n",
    "\n",
    "- if\n",
    "- .get(chave) = None\n",
    "\n",
    "Se tentarmos procurar as vendas de \"copo\" na lista de vendas tecnologia, o que acontece?"
   ]
  },
  {
   "cell_type": "code",
   "execution_count": null,
   "metadata": {},
   "outputs": [
    {
     "name": "stdout",
     "output_type": "stream",
     "text": [
      " O produto copo não se encontra dentro da lista de tecnologia.\n",
      " O produto copo não se encontra dentro da lista de tecnologia.\n"
     ]
    }
   ],
   "source": [
    "if \"copo\" in vendas_tecnologia:\n",
    "    print(vendas_tecnologia[\"copo\"])\n",
    "else:\n",
    "    print(\" O produto copo não se encontra dentro da lista de tecnologia.\")\n",
    "\n",
    "\n",
    "#Lembrando que essas verificações acontecem em relação as chaves e não em relação aos valores das mesmas\n",
    "\n",
    "#Agora fazendo um tratamento para o caso do get de saída None:\n",
    "if vendas_tecnologia.get('copos') == None:\n",
    "    print(\" O produto copo não se encontra dentro da lista de tecnologia.\")\n",
    "else:\n",
    "    print(vendas_tecnologia[\"copo\"])"
   ]
  },
  {
   "cell_type": "markdown",
   "metadata": {},
   "source": [
    "Adicionar, Remover e Modificar Itens no Dicionário\n",
    "\n",
    "### Estrutura:\n",
    "\n",
    "- Adicionar itens:\n",
    "\n",
    "dicionario = {} #Nesse caso fazemos a criação de um dicionário vazío\n",
    "\n",
    "dicionario[chave] = valor # Aqui fazemos a adição de valores para o seu dicionário \n",
    "\n",
    "outra opção:\n",
    "\n",
    "dicionario.update({chave: valor, chave: valor}) # Aqui fazemos a apdate, ou seja, adicionamos dessa forma passando a chave e também o valor e nesse caso é mais indicado quando se há  a necessidade de adicionar mais do que um único valor"
   ]
  },
  {
   "cell_type": "code",
   "execution_count": null,
   "metadata": {},
   "outputs": [
    {
     "name": "stdout",
     "output_type": "stream",
     "text": [
      "{'janeiro': 100000, 'fevereiro': 120000, 'março': 90000}\n",
      "{'janeiro': 100000, 'fevereiro': 120000, 'março': 90000, 'abril': 88000}\n",
      "{'janeiro': 100000, 'fevereiro': 120000, 'março': 90000, 'abril': 88000, 'maio': 89000, 'junho': 120000}\n",
      "{'janeiro': 100000, 'fevereiro': 120000, 'março': 90000, 'abril': 88000, 'maio': 89000, 'junho': 180000}\n"
     ]
    }
   ],
   "source": [
    "lucro_1tri = {'janeiro': 100000, 'fevereiro': 120000, 'março': 90000}\n",
    "lucro_2tri = {'abril': 88000, 'maio': 89000, 'junho': 120000}\n",
    "#adicionando 1 item\n",
    "\n",
    "print(lucro_1tri)\n",
    "lucro_1tri[\"abril\"] = 88000\n",
    "print(lucro_1tri)\n",
    "\n",
    "#adicionando vários itens ou um dicionário a outro\n",
    "lucro_1tri.update(lucro_2tri)\n",
    "print(lucro_1tri)\n",
    "\n",
    "#adicionando um item já existente (manualmente ou pelo update)\n",
    "\n",
    "lucro_1tri['junho'] = 180000\n",
    "#Nesse caso ao tentar fazer a adição de uma  chave que a já existe dentro do dicionário ele faz uma atualização modificando o item e nesse caso já subtendemos que para modificação do valor do item é só o atualisar nesse caso teentá-lo  adicionar novamente porém com valores divergentes.\n",
    "print(lucro_1tri)"
   ]
  },
  {
   "cell_type": "markdown",
   "metadata": {},
   "source": [
    " Modificar itens:\n",
    "\n",
    "Da mesma forma que adicionamos 1 valor, caso essa chave já exista o item é apenas modificado.\n",
    "\n",
    "dicionario[chave] = valor\n",
    "\n",
    "Vamos modificar o lucro de fevereiro:<br>\n",
    "(Lembrando: caso o item não exista, ele vai criar o item no dicionário)"
   ]
  },
  {
   "cell_type": "code",
   "execution_count": null,
   "metadata": {},
   "outputs": [
    {
     "name": "stdout",
     "output_type": "stream",
     "text": [
      "{'janeiro': 100000, 'fevereiro': 85000, 'março': 90000, 'abril': 88000, 'maio': 89000, 'junho': 180000}\n",
      "{'janeiro': 100000, 'fevereiro': 85000, 'março': 90000, 'abril': 88000, 'maio': 89000, 'junho': 180000}\n"
     ]
    }
   ],
   "source": [
    "lucro_fev = 85000\n",
    "print(lucro_1tri)\n",
    "lucro_1tri[\"fevereiro\"] = lucro_fev\n",
    "print(lucro_1tri)\n",
    "\n",
    "#Como vimos anteriormente essa é uma forma de fazermos atualização de dicionários"
   ]
  },
  {
   "cell_type": "markdown",
   "metadata": {},
   "source": [
    "Remover itens:\n",
    "\n",
    "del dicionario[chave]\n",
    "\n",
    "ou então\n",
    "\n",
    "valor = dicionario.pop(chave)\n",
    "\n",
    "mas cuidado com:\n",
    "\n",
    "del dicionario<br>    ->    que é diferente de dicionario.clear()"
   ]
  },
  {
   "cell_type": "code",
   "execution_count": 50,
   "metadata": {},
   "outputs": [
    {
     "name": "stdout",
     "output_type": "stream",
     "text": [
      "{'janeiro': 100000, 'fevereiro': 120000, 'março': 90000, 'abril': 88000, 'maio': 89000, 'junho': 120000}\n",
      "{'fevereiro': 120000, 'março': 90000, 'abril': 88000, 'maio': 89000, 'junho': 120000}\n",
      "{'fevereiro': 120000, 'março': 90000, 'abril': 88000, 'maio': 89000}\n",
      "120000\n"
     ]
    }
   ],
   "source": [
    "lucro_1tri = {'janeiro': 100000, 'fevereiro': 120000, 'março': 90000, 'abril': 88000, 'maio': 89000, 'junho': 120000}\n",
    "\n",
    "#removendo o mês de fevereiro\n",
    "print(lucro_1tri)\n",
    "del lucro_1tri[\"janeiro\"]\n",
    "print(lucro_1tri)\n",
    "\n",
    "#Se quisermos retirar um valor do dicionário e for desejo armazená-lo para uma reutilização cocê fará uso do pop veja:\n",
    "lucro_junho = lucro_1tri.pop('junho')\n",
    "print(lucro_1tri)\n",
    "print(lucro_junho)\n",
    "\n",
    "#obs: o del também funciona para listas, caso queira usar\n",
    "#del lista[i]\n",
    "funcionarios = ['João', 'Lira', 'Maria', 'Ana', 'Paula']\n",
    "\n"
   ]
  }
 ],
 "metadata": {
  "kernelspec": {
   "display_name": "Python 3",
   "language": "python",
   "name": "python3"
  },
  "language_info": {
   "codemirror_mode": {
    "name": "ipython",
    "version": 3
   },
   "file_extension": ".py",
   "mimetype": "text/x-python",
   "name": "python",
   "nbconvert_exporter": "python",
   "pygments_lexer": "ipython3",
   "version": "3.12.2"
  }
 },
 "nbformat": 4,
 "nbformat_minor": 2
}
