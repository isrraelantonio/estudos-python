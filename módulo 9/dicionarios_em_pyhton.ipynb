{
 "cells": [
  {
   "cell_type": "markdown",
   "metadata": {},
   "source": [
    "<h4>Dicionários em Python</h4>\n",
    "Outra estrutura de dados que armazenam informações\n",
    "\n",
    "### Estrutura:\n",
    "Os itens serão coletados por uam chave.\n",
    "logo sua estrutura segue a sequência chave e valor.\n",
    "dicionario = {chave: valor, chave: valor, chave: valor, chave: valor ...}\n",
    "\n",
    "nesse caso, sempre que formos coletar uma informação dentro da lista devemos fazer isso atra vés dessa chave usando seu item cmo indice.\n",
    "logo é mais intuitivo. Para um dicionário é sempre mais indicado o uso da chave para coleta de alguma informação.\n",
    "lembrando que não podemos ter mais de um  item dentro de cada chave, até porque serão ignorados.\n",
    "### Vantagens e Desvantagens\n",
    "\n",
    "- Não devem ser usados para pegar itens em uma determinada ordem\n",
    "- Podem ter valores heterogêneos (vários tipos de valores dentro de um mesmo dicionário: inteiros, strings, listas, etc)\n",
    "- Chaves são únicas obrigatoriamente\n",
    "- Mais intuitivos de trabalhar"
   ]
  },
  {
   "cell_type": "code",
   "execution_count": 37,
   "metadata": {},
   "outputs": [
    {
     "name": "stdout",
     "output_type": "stream",
     "text": [
      "15000\n",
      "o alquimista\n",
      "prancha surf\n",
      "17000\n",
      "1000\n"
     ]
    }
   ],
   "source": [
    "mais_vendidos = {'tecnologia': 'iphone', 'refrigeracao': 'ar consul 12000 btu', 'livros': 'o alquimista', 'eletrodoméstico': 'geladeira', 'lazer': 'prancha surf'}\n",
    "\n",
    "vendas_tecnologia = {'iphone': 15000, 'samsung galaxy': 12000, 'tv samsung': 10000, 'ps5': 14300, 'tablet': 1720, 'ipad': 1000, 'tv philco': 2500, 'notebook hp': 1000, 'notebook dell': 17000, 'notebook asus': 2450}\n",
    "\n",
    "quantidade_iphone = vendas_tecnologia['iphone']\n",
    "print(quantidade_iphone)\n",
    "\n",
    "# Livro mais vendido\n",
    "\n",
    "livro = mais_vendidos['livros']\n",
    "lazer = mais_vendidos[\"lazer\"]\n",
    "\n",
    "print(livro)\n",
    "print(lazer)\n",
    "\n",
    "\n",
    "quantidade_notbook = vendas_tecnologia['notebook dell']\n",
    "qtd_ipad = vendas_tecnologia['ipad']\n",
    "print(quantidade_notbook)\n",
    "print(qtd_ipad)"
   ]
  },
  {
   "cell_type": "markdown",
   "metadata": {},
   "source": [
    "<h4>Não confie na ordem dos dicionários, use as chaves</h4>\n",
    "\n",
    "# Python Versões Antigas x Versões Novas\n",
    "\n",
    "- Dicionários eram \"sem ordem\". Atualmente tem ordem, mas o certo é usar as chaves\n",
    "- 2 formas de pegar um valor:\n",
    "    - dicionario[chave]\n",
    "    - .get(chave)"
   ]
  },
  {
   "cell_type": "code",
   "execution_count": 38,
   "metadata": {},
   "outputs": [],
   "source": [
    "mais_vendidos = {'tecnologia': 'iphone', 'refrigeracao': 'ar consul 12000 btu', 'livros': 'o alquimista', 'eletrodoméstico': 'geladeira', 'lazer': 'prancha surf'}\n",
    "\n",
    "vendas_tecnologia = {'iphone': 15000, 'samsung galaxy': 12000, 'tv samsung': 10000, 'ps5': 14300, 'tablet': 1720, 'ipad': 1000, 'tv philco': 2500, 'notebook hp': 1000, 'notebook dell': 17000, 'notebook asus': 2450}"
   ]
  },
  {
   "cell_type": "markdown",
   "metadata": {},
   "source": [
    "- Qual foi o item mais vendido nas categorias 'livros' e 'lazer'?\n",
    "- Quanto foi vendido de 'notebook asus' e de 'ipad'?"
   ]
  },
  {
   "cell_type": "code",
   "execution_count": 39,
   "metadata": {},
   "outputs": [
    {
     "name": "stdout",
     "output_type": "stream",
     "text": [
      "O livro mais vendido foi o alquimista\n",
      "O produto mais vendido foi prancha surf\n",
      "2450\n",
      "foram vendidas 2450 unidades de ipad\n",
      "None\n"
     ]
    },
    {
     "ename": "KeyError",
     "evalue": "'ipads'",
     "output_type": "error",
     "traceback": [
      "\u001b[1;31m---------------------------------------------------------------------------\u001b[0m",
      "\u001b[1;31mKeyError\u001b[0m                                  Traceback (most recent call last)",
      "Cell \u001b[1;32mIn[39], line 14\u001b[0m\n\u001b[0;32m     11\u001b[0m \u001b[38;5;28mprint\u001b[39m(vendas_tecnologia\u001b[38;5;241m.\u001b[39mget(\u001b[38;5;124m\"\u001b[39m\u001b[38;5;124mipads\u001b[39m\u001b[38;5;124m\"\u001b[39m))\n\u001b[0;32m     13\u001b[0m \u001b[38;5;66;03m#Agora vejamos quando se trata do uso do método anterior em que fazemos o uso de chaves\u001b[39;00m\n\u001b[1;32m---> 14\u001b[0m \u001b[38;5;28mprint\u001b[39m(\u001b[43mvendas_tecnologia\u001b[49m\u001b[43m[\u001b[49m\u001b[38;5;124;43m\"\u001b[39;49m\u001b[38;5;124;43mipads\u001b[39;49m\u001b[38;5;124;43m\"\u001b[39;49m\u001b[43m]\u001b[49m)\n\u001b[0;32m     15\u001b[0m \u001b[38;5;66;03m#Nesse caso perceba que o código nvez de responder como None irá retornar um erro\u001b[39;00m\n",
      "\u001b[1;31mKeyError\u001b[0m: 'ipads'"
     ]
    }
   ],
   "source": [
    "\n",
    "#Nesse caso fazemos o uso dos colcletes dentro do print \n",
    "print(\"O livro mais vendido foi {}\".format(mais_vendidos[\"livros\"]))\n",
    "print(\"O produto mais vendido foi {}\".format(mais_vendidos[\"lazer\"]))\n",
    "\n",
    "#Agora fazemos isso de forma bem mais direta usando o atributo get\n",
    "print(vendas_tecnologia.get(\"notebook asus\"))\n",
    "\n",
    "print(\"foram vendidas {} unidades de ipad\".format(vendas_tecnologia.get(\"notebook asus\")))\n",
    "\n",
    "# Se usamos uma chave que nao existe dentro de uma lista e isso pelo método get nós temos uma respota nula\n",
    "print(vendas_tecnologia.get(\"ipads\"))\n",
    "\n",
    "#Agora vejamos quando se trata do uso do método anterior em que fazemos o uso de chaves\n",
    "print(vendas_tecnologia[\"ipads\"])\n",
    "#Nesse caso perceba que o código nvez de responder como None irá retornar um erro\n",
    "\n"
   ]
  },
  {
   "cell_type": "markdown",
   "metadata": {},
   "source": [
    "Verificar se item está no dicionário:\n",
    "\n",
    "- if\n",
    "- .get(chave) = None\n",
    "\n",
    "Se tentarmos procurar as vendas de \"copo\" na lista de vendas tecnologia, o que acontece?"
   ]
  },
  {
   "cell_type": "code",
   "execution_count": null,
   "metadata": {},
   "outputs": [
    {
     "name": "stdout",
     "output_type": "stream",
     "text": [
      " O produto copo não se encontra dentro da lista de tecnologia.\n",
      " O produto copo não se encontra dentro da lista de tecnologia.\n"
     ]
    }
   ],
   "source": [
    "if \"copo\" in vendas_tecnologia:\n",
    "    print(vendas_tecnologia[\"copo\"])\n",
    "else:\n",
    "    print(\" O produto copo não se encontra dentro da lista de tecnologia.\")\n",
    "\n",
    "\n",
    "#Lembrando que essas verificações acontecem em relação as chaves e não em relação aos valores das mesmas\n",
    "\n",
    "#Agora fazendo um tratamento para o caso do get de saída None:\n",
    "if vendas_tecnologia.get('copos') == None:\n",
    "    print(\" O produto copo não se encontra dentro da lista de tecnologia.\")\n",
    "else:\n",
    "    print(vendas_tecnologia[\"copo\"])"
   ]
  },
  {
   "cell_type": "markdown",
   "metadata": {},
   "source": [
    "Adicionar, Remover e Modificar Itens no Dicionário\n",
    "\n",
    "### Estrutura:\n",
    "\n",
    "- Adicionar itens:\n",
    "\n",
    "dicionario = {} #Nesse caso fazemos a criação de um dicionário vazío\n",
    "\n",
    "dicionario[chave] = valor # Aqui fazemos a adição de valores para o seu dicionário \n",
    "\n",
    "outra opção:\n",
    "\n",
    "dicionario.update({chave: valor, chave: valor}) # Aqui fazemos a apdate, ou seja, adicionamos dessa forma passando a chave e também o valor e nesse caso é mais indicado quando se há  a necessidade de adicionar mais do que um único valor"
   ]
  },
  {
   "cell_type": "code",
   "execution_count": null,
   "metadata": {},
   "outputs": [
    {
     "name": "stdout",
     "output_type": "stream",
     "text": [
      "{'janeiro': 100000, 'fevereiro': 120000, 'março': 90000}\n",
      "{'janeiro': 100000, 'fevereiro': 120000, 'março': 90000, 'abril': 88000}\n",
      "{'janeiro': 100000, 'fevereiro': 120000, 'março': 90000, 'abril': 88000, 'maio': 89000, 'junho': 120000}\n",
      "{'janeiro': 100000, 'fevereiro': 120000, 'março': 90000, 'abril': 88000, 'maio': 89000, 'junho': 180000}\n"
     ]
    }
   ],
   "source": [
    "lucro_1tri = {'janeiro': 100000, 'fevereiro': 120000, 'março': 90000}\n",
    "lucro_2tri = {'abril': 88000, 'maio': 89000, 'junho': 120000}\n",
    "#adicionando 1 item\n",
    "\n",
    "print(lucro_1tri)\n",
    "lucro_1tri[\"abril\"] = 88000\n",
    "print(lucro_1tri)\n",
    "\n",
    "#adicionando vários itens ou um dicionário a outro\n",
    "lucro_1tri.update(lucro_2tri)\n",
    "print(lucro_1tri)\n",
    "\n",
    "#adicionando um item já existente (manualmente ou pelo update)\n",
    "\n",
    "lucro_1tri['junho'] = 180000\n",
    "#Nesse caso ao tentar fazer a adição de uma  chave que a já existe dentro do dicionário ele faz uma atualização modificando o item e nesse caso já subtendemos que para modificação do valor do item é só o atualisar nesse caso teentá-lo  adicionar novamente porém com valores divergentes.\n",
    "print(lucro_1tri)"
   ]
  },
  {
   "cell_type": "markdown",
   "metadata": {},
   "source": [
    " Modificar itens:\n",
    "\n",
    "Da mesma forma que adicionamos 1 valor, caso essa chave já exista o item é apenas modificado.\n",
    "\n",
    "dicionario[chave] = valor\n",
    "\n",
    "Vamos modificar o lucro de fevereiro:<br>\n",
    "(Lembrando: caso o item não exista, ele vai criar o item no dicionário)"
   ]
  },
  {
   "cell_type": "code",
   "execution_count": null,
   "metadata": {},
   "outputs": [
    {
     "name": "stdout",
     "output_type": "stream",
     "text": [
      "{'janeiro': 100000, 'fevereiro': 85000, 'março': 90000, 'abril': 88000, 'maio': 89000, 'junho': 180000}\n",
      "{'janeiro': 100000, 'fevereiro': 85000, 'março': 90000, 'abril': 88000, 'maio': 89000, 'junho': 180000}\n"
     ]
    }
   ],
   "source": [
    "lucro_fev = 85000\n",
    "print(lucro_1tri)\n",
    "lucro_1tri[\"fevereiro\"] = lucro_fev\n",
    "print(lucro_1tri)\n",
    "\n",
    "#Como vimos anteriormente essa é uma forma de fazermos atualização de dicionários"
   ]
  },
  {
   "cell_type": "markdown",
   "metadata": {},
   "source": [
    "Remover itens:\n",
    "\n",
    "del dicionario[chave]\n",
    "\n",
    "ou então\n",
    "\n",
    "valor = dicionario.pop(chave)\n",
    "\n",
    "mas cuidado com:\n",
    "\n",
    "del dicionario<br>    ->    que é diferente de dicionario.clear()"
   ]
  },
  {
   "cell_type": "code",
   "execution_count": 15,
   "metadata": {},
   "outputs": [
    {
     "name": "stdout",
     "output_type": "stream",
     "text": [
      "{'janeiro': 100000, 'fevereiro': 120000, 'março': 90000, 'abril': 88000, 'maio': 89000, 'junho': 120000}\n",
      "__________________________________________________________________________________________________\n",
      "{'fevereiro': 120000, 'março': 90000, 'abril': 88000, 'maio': 89000, 'junho': 120000}\n",
      "__________________________________________________________________________________________________\n",
      "{'fevereiro': 120000, 'março': 90000, 'abril': 88000, 'maio': 89000}\n",
      "120000\n",
      "__________________________________________________________________________________________________\n"
     ]
    }
   ],
   "source": [
    "lucro_1tri = {'janeiro': 100000, 'fevereiro': 120000, 'março': 90000, 'abril': 88000, 'maio': 89000, 'junho': 120000}\n",
    "\n",
    "#removendo o mês de fevereiro\n",
    "print(lucro_1tri)\n",
    "print('_________________________________________________' * 2)\n",
    "del lucro_1tri[\"janeiro\"]\n",
    "print(lucro_1tri)\n",
    "print('_________________________________________________' * 2)\n",
    "#Se quisermos retirar um valor do dicionário e for desejo armazená-lo para uma reutilização cocê fará uso do pop veja:\n",
    "lucro_junho = lucro_1tri.pop('junho')\n",
    "print(lucro_1tri)\n",
    "print(lucro_junho)\n",
    "print('_________________________________________________' * 2)\n",
    "#obs: o del também funciona para listas, caso queira usar\n",
    "#del lista[i]\n",
    "funcionarios = ['João', 'Lira', 'Maria', 'Ana', 'Paula']\n",
    "\n"
   ]
  },
  {
   "cell_type": "markdown",
   "metadata": {},
   "source": [
    "<h4>Métodos úteis em dicionários</h4>\n",
    "Já existem métodos em dicionários ja prontos para pegar determinadas informações\n",
    "temos o item que pegará todos os itens do divionário separadamente. Depois veremos um método para pegar todos os itens do dicionário e também para pegar todos os seus valores.\n",
    "\n",
    "\n",
    "\n",
    "\n",
    "items() dos dicionários\n",
    "\n",
    " Estrutura:\n",
    "\n",
    " itens_dicionario = dicionario.items()\n",
    "\n",
    "ou então:\n",
    "\n",
    "for item in dicionario.items()\n",
    "    cada item do dicionario em formato de tupla"
   ]
  },
  {
   "cell_type": "code",
   "execution_count": 13,
   "metadata": {},
   "outputs": [
    {
     "name": "stdout",
     "output_type": "stream",
     "text": [
      "dict_items([('notebook asus', 2450), ('iphone', 15000), ('samsung galaxy', 12000), ('tv samsung', 10000), ('ps5', 14300), ('tablet', 1720), ('notebook dell', 17000), ('ipad', 1000), ('tv philco', 2500), ('notebook hp', 1000)])\n",
      "__________________________________________________________________________________________________\n",
      "('notebook asus', 2450)\n",
      "('iphone', 15000)\n",
      "('samsung galaxy', 12000)\n",
      "('tv samsung', 10000)\n",
      "('ps5', 14300)\n",
      "('tablet', 1720)\n",
      "('notebook dell', 17000)\n",
      "('ipad', 1000)\n",
      "('tv philco', 2500)\n",
      "('notebook hp', 1000)\n",
      "__________________________________________________________________________________________________\n",
      "O notebook asus custa exatamente 2450 R$ a vista\n",
      "O iphone custa exatamente 15000 R$ a vista\n",
      "O samsung galaxy custa exatamente 12000 R$ a vista\n",
      "O tv samsung custa exatamente 10000 R$ a vista\n",
      "O ps5 custa exatamente 14300 R$ a vista\n",
      "O tablet custa exatamente 1720 R$ a vista\n",
      "O notebook dell custa exatamente 17000 R$ a vista\n",
      "O ipad custa exatamente 1000 R$ a vista\n",
      "O tv philco custa exatamente 2500 R$ a vista\n",
      "O notebook hp custa exatamente 1000 R$ a vista\n",
      "__________________________________________________________________________________________________\n"
     ]
    }
   ],
   "source": [
    "vendas_tecnologia = {'notebook asus': 2450, 'iphone': 15000, 'samsung galaxy': 12000, 'tv samsung': 10000, 'ps5': 14300, 'tablet': 1720, 'notebook dell': 17000, 'ipad': 1000, 'tv philco': 2500, 'notebook hp': 1000}\n",
    "\n",
    "itens_dicionarios = vendas_tecnologia.items()\n",
    "print(itens_dicionarios)\n",
    "print('_________________________________________________' * 2)\n",
    "# Perceba que ao fazer isso o a lista dentro do dicionário se transforma em uma lista de tuplas onde cada tupla tem dois valores que correspondem ao que anteriormente eram a chave.\n",
    "\n",
    "#Outra forma de se fazer isso é desse outro jeito onde inclusive é possivel adicionar cada tupla a uma variável:\n",
    "for item in vendas_tecnologia.items():\n",
    "    print(item)\n",
    "print('_________________________________________________' * 2)\n",
    "#Nesse caso, o código pega cada um dos itens da lista separados por vírgula nos pares chave valor e transforma em tuplas a adicionando a variável item.\n",
    "\n",
    "#agora percebemos que é possível fazer o unpaking para que cada um desses valores sejam adicionados a variáveis diferentes.\n",
    "\n",
    "for item, valor in vendas_tecnologia.items():\n",
    "    print('O {} custa exatamente {} R$ a vista'.format(item, valor))\n",
    "print('_________________________________________________' * 2)\n",
    " "
   ]
  },
  {
   "cell_type": "markdown",
   "metadata": {},
   "source": [
    "- Quais produtos venderam mais de 5000 unidades?"
   ]
  },
  {
   "cell_type": "code",
   "execution_count": 12,
   "metadata": {},
   "outputs": [
    {
     "name": "stdout",
     "output_type": "stream",
     "text": [
      "notebook asus: 2450 Unidades\n",
      "iphone: 15000 Unidades\n",
      "samsung galaxy: 12000 Unidades\n",
      "tv samsung: 10000 Unidades\n",
      "ps5: 14300 Unidades\n",
      "tablet: 1720 Unidades\n",
      "notebook dell: 17000 Unidades\n",
      "ipad: 1000 Unidades\n",
      "tv philco: 2500 Unidades\n",
      "notebook hp: 1000 Unidades\n",
      "__________________________________________________________________________________________________\n",
      "notebook asus: 2450 Unidades\n",
      "iphone: 15000 Unidades\n",
      "samsung galaxy: 12000 Unidades\n",
      "tv samsung: 10000 Unidades\n",
      "ps5: 14300 Unidades\n",
      "tablet: 1720 Unidades\n",
      "notebook dell: 17000 Unidades\n",
      "ipad: 1000 Unidades\n",
      "tv philco: 2500 Unidades\n",
      "notebook hp: 1000 Unidades\n"
     ]
    }
   ],
   "source": [
    "#forma 1 -> usando apenas o dicionario e as chaves\n",
    "for chave in vendas_tecnologia:\n",
    "    if vendas_tecnologia[chave] > 500:\n",
    "        print('{}: {} Unidades'.format(chave, vendas_tecnologia[chave]))\n",
    "\n",
    "\n",
    "print('_________________________________________________' * 2)\n",
    "#forma 2 -> usando o dicionario.items()\n",
    "for produto, quantidade in vendas_tecnologia.items():\n",
    "    if quantidade > 500:\n",
    "        print('{}: {} Unidades'.format(produto, quantidade))\n",
    "\n",
    "#Perceba que conseguimos o mesmo resultado porém com métodos diferentes para que isso acontecesse.\n",
    "\n"
   ]
  },
  {
   "cell_type": "markdown",
   "metadata": {},
   "source": [
    "<h4>Listas importantes a partir do Dicionário</h4>\n",
    "\n",
    " Métodos importantes:\n",
    "\n",
    ".keys() -> uma \"lista\" com todas as chaves do dicionario\n",
    "\n",
    ".values() -> uma \"lista\" com todos os valores do dicionario\n",
    "\n",
    "Obs: Se o dicionario for modificado, automaticamente essas variáveis são modificadas, mesmo tendo sido criadas anteriormente"
   ]
  },
  {
   "cell_type": "code",
   "execution_count": 19,
   "metadata": {},
   "outputs": [
    {
     "name": "stdout",
     "output_type": "stream",
     "text": [
      "dict_keys(['notebook asus', 'iphone', 'samsung galaxy', 'tv samsung', 'ps5', 'tablet', 'notebook dell', 'ipad', 'tv philco', 'notebook hp', 'birbiphone'])\n",
      "dict_values([2450, 15000, 12000, 10000, 14300, 1720, 17000, 1000, 2500, 1000, 400])\n",
      "__________________________________________________________________________________________________\n",
      "dict_keys(['notebook asus', 'iphone', 'samsung galaxy', 'tv samsung', 'ps5', 'tablet', 'notebook dell', 'ipad', 'tv philco', 'notebook hp', 'birbiphone'])\n",
      "dict_values([2450, 15000, 12000, 10000, 14300, 1720, 17000, 1000, 2500, 1000, 400])\n",
      "__________________________________________________________________________________________________\n",
      "dict_keys(['notebook asus', 'iphone', 'samsung galaxy', 'tv samsung', 'ps5', 'tablet', 'notebook dell', 'ipad', 'tv philco', 'notebook hp', 'birbiphone'])\n",
      "__________________________________________________________________________________________________\n",
      "['notebook asus', 'iphone', 'samsung galaxy', 'tv samsung', 'ps5', 'tablet', 'notebook dell', 'ipad', 'tv philco', 'notebook hp', 'birbiphone']\n"
     ]
    }
   ],
   "source": [
    "chaves = vendas_tecnologia.keys()\n",
    "valores = vendas_tecnologia.values()\n",
    "print(chaves)\n",
    "print(valores)\n",
    "print('_________________________________________________' * 2)\n",
    "#Perceba que ao fazermos uso do metodo keys e values as chaves e os valores presentes na lista são adicionados as variáveis estipuladas, ao obtermos o seu printe temos uma lista com os mesmos lista essa precedida de de dici_keys e dici_values isso quer dizer que essas listas estarão vinculadas ao dicionário e sempre que houver alteração no mesmo as listas também deverão ser alteradas.\n",
    "#Veja:\n",
    "vendas_tecnologia[\"birbiphone\"] = 400\n",
    "print(chaves)\n",
    "print(valores)\n",
    "print('_________________________________________________' * 2)\n",
    "\n",
    "#esse fato pode ser um fato bom ou um fato ruim já que toda modificação irá impactar a chave e também o valor, além de quê os métodos usados em python para lista não poderão ser usados para essas, logo a melhor opção seja pela desvinculação dessas listas que na verdade não são uma lista normal do puthon. \n",
    "#para isso usaremos o método list. Veja:\n",
    "\n",
    "print(chaves)\n",
    "print('_________________________________________________' * 2)\n",
    "print(list(chaves)) #Nesse caso perceba que o dic_keys ou o dic_values já não está mais presente.\n",
    "\n"
   ]
  },
  {
   "cell_type": "markdown",
   "metadata": {},
   "source": [
    "<h4>O for vai funcionar normal em dict_listas, porque não deixa de ser uma lista de itens que pode ser percorrida (iterable), mas o que aprendemos de lista não necessariamente se aplicam a essas dict_listas.</h4>\n",
    "\n",
    "Para transformar as dict_listas em listas normais, usamos a função list:\n",
    "\n",
    "- lista_chaves = list(dicionario.keys())\n",
    "\n",
    "- Pode ser útil caso a gente queira fazer alguma organização das chaves. Ex: Imprimir uma lista com os valores em ordem alfabética, de forma que todas as tvs fiquem juntas, todos os iphone/ipad também e assim vai:"
   ]
  },
  {
   "cell_type": "code",
   "execution_count": 25,
   "metadata": {},
   "outputs": [
    {
     "name": "stdout",
     "output_type": "stream",
     "text": [
      "notebook asus: 2450 unidades\n",
      "iphone: 15000 unidades\n",
      "samsung galaxy: 12000 unidades\n",
      "tv samsung: 10000 unidades\n",
      "ps5: 14300 unidades\n",
      "tablet: 1720 unidades\n",
      "notebook dell: 17000 unidades\n",
      "ipad: 1000 unidades\n",
      "tv philco: 2500 unidades\n",
      "notebook hp: 1000 unidades\n",
      "birbiphone: 400 unidades\n",
      "----------------------------------------\n",
      "birbiphone: 400 unidades\n",
      "ipad: 1000 unidades\n",
      "iphone: 15000 unidades\n",
      "notebook asus: 2450 unidades\n",
      "notebook dell: 17000 unidades\n",
      "notebook hp: 1000 unidades\n",
      "ps5: 14300 unidades\n",
      "samsung galaxy: 12000 unidades\n",
      "tablet: 1720 unidades\n",
      "tv philco: 2500 unidades\n",
      "tv samsung: 10000 unidades\n"
     ]
    }
   ],
   "source": [
    "for chave in vendas_tecnologia:\n",
    "     print('{}: {} unidades'.format(chave, vendas_tecnologia[chave]))\n",
    "print('-' * 40)\n",
    "\n",
    "#agora se quisermos organizar isso em ordem alfabética por exemplo, como será que faremos isso? veja:\n",
    "lista_chaves = list(chaves)\n",
    "lista_chaves.sort()\n",
    "for chave in lista_chaves:\n",
    "     print('{}: {} unidades'.format(chave, vendas_tecnologia[chave]) )\n",
    "\n",
    "\n"
   ]
  },
  {
   "cell_type": "markdown",
   "metadata": {},
   "source": [
    "<h4>Transformando Listas em Dicionários e Function zip</h4>\n",
    " Estrutura:\n",
    "\n",
    "- Dicionário com valores padrões:\n",
    "\n",
    "dicionario = dict.fromkeys(lista_chaves, valor_padrao)\n",
    "\n",
    "NESSE CASO VOCÊ IRÁ CRIAR UM DICIONÁRIO E IRÁ PASSAR PARA O MESMO UMA SEQUÊNCIA DE CHAVES E TABÉM OS VALORES\n",
    "\n",
    "- Dicionário a partir de listas de tuplas:\n",
    "\n",
    "dicionario = dict(lista_tuplas)\n",
    "\n",
    "- Dicionário a partir de 2 listas:\n",
    "\n",
    "Passo 1: Transformar listas em lista de tuplas com o método zip<br>\n",
    "Passo 2: Transformar em dicionario\n",
    "\n",
    "lista_tuplas = zip(lista1, lista2)<br>\n",
    "dicionario = dict(lista_tuplas)"
   ]
  },
  {
   "cell_type": "code",
   "execution_count": 32,
   "metadata": {},
   "outputs": [
    {
     "name": "stdout",
     "output_type": "stream",
     "text": [
      "{'iphone': 0, 'samsung galaxy': 0, 'tv samsung': 0, 'ps5': 0, 'tablet': 0, 'ipad': 0, 'tv philco': 0, 'notebook hp': 0, 'notebook dell': 0, 'notebook asus': 0}\n",
      "----------------------------------------\n",
      "{'iphone': 15000, 'samsung galaxy': 12000, 'tv samsung': 10000, 'ps5': 14300, 'tablet': 1720, 'ipad': 1000, 'tv philco': 2500, 'notebook hp': 1000, 'notebook dell': 17000, 'notebook asus': 2450}\n"
     ]
    }
   ],
   "source": [
    "produtos = ['iphone', 'samsung galaxy', 'tv samsung', 'ps5', 'tablet', 'ipad', 'tv philco', 'notebook hp', 'notebook dell', 'notebook asus']\n",
    "vendas = [15000, 12000, 10000, 14300, 1720, 1000, 2500, 1000, 17000, 2450]\n",
    "\n",
    "dicionario = dict.fromkeys(produtos, 0)\n",
    "print(dicionario)\n",
    "print('-' * 40)\n",
    "#NESSE CASO SO PODERÃO SER PASSADOS PARA ESSA CHAVE UM VALOR FIXO QUE NÃO PODERÁ SER ALTERADD. \n",
    "\n",
    "lista_de_tuplas = zip(produtos, vendas) #Ao fazer isso inserimos os valores das listas corelacionados dentro de uma tupla \n",
    "\n",
    "#AGORA O QUE FAZEMOS É PEGAR A TUPLA QUE TEMOS OS ELEMENTOS CORRESPONDENTES A CHAVE E O VALOR E TRANSFORMAMOS OS MESMOS EM UM DICIONÁRIO.\n",
    "\n",
    "dicionario_vendas = dict(lista_de_tuplas)\n",
    "print(dicionario_vendas)\n",
    "\n",
    "\n",
    "\n",
    "\n"
   ]
  },
  {
   "cell_type": "markdown",
   "metadata": {},
   "source": [
    "- Quanto vendemos de ipad?"
   ]
  },
  {
   "cell_type": "code",
   "execution_count": 39,
   "metadata": {},
   "outputs": [
    {
     "name": "stdout",
     "output_type": "stream",
     "text": [
      "Foram vendidos 1000 aipads\n",
      "Foram vendidos 1000 aipads\n"
     ]
    }
   ],
   "source": [
    "#PODERIAMOS FAZER ISSO DA FORMA QUE JÁ HAVIAMOS VISTO ANTERIORMENTE AO TRABALHARMOS COM LISTAS.\n",
    "indice = produtos.index('ipad')\n",
    "print('Foram vendidos {} aipads'.format(vendas[indice]))\n",
    "\n",
    "#SE FIZERMOS O USO DE DO DICIONÁRIO PODEREMOS FAZER ISSO DE UMA SÓ VEZ FAZENDO O USO DA CHAVE VALOR\n",
    "print('Foram vendidos {} aipads'.format(dicionario_vendas['ipad']))\n",
    "\n",
    "#PERCEBA QUE JUNTAMOS AS DUAS LISTAS, MANTENDO A CONEXÃO ENTRE AS MESMAS E LOGO APÓS ISSO CONSEGUIMOS ENCONTRAR FACÍLMENTE O VALOR, APARTIR DA CHAVE QUE O CORRESPONDE. ENQUANTO QUE DARIA MAIS TRABALHO TER QUE FAZER ESSA RELAÇÃO APARTIR DO INDICE."
   ]
  }
 ],
 "metadata": {
  "kernelspec": {
   "display_name": "Python 3",
   "language": "python",
   "name": "python3"
  },
  "language_info": {
   "codemirror_mode": {
    "name": "ipython",
    "version": 3
   },
   "file_extension": ".py",
   "mimetype": "text/x-python",
   "name": "python",
   "nbconvert_exporter": "python",
   "pygments_lexer": "ipython3",
   "version": "3.12.2"
  }
 },
 "nbformat": 4,
 "nbformat_minor": 2
}
