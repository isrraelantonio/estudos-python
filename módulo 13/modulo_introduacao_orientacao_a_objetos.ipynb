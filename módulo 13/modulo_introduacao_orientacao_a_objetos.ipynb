{
 "cells": [
  {
   "cell_type": "markdown",
   "metadata": {},
   "source": [
    "O que são Módulos e qual a importância deles?\n",
    "\n",
    "### Importância\n",
    "\n",
    "- Já tem muita coisa pronta, então você não precisa criar do zero.\n",
    "- Se você souber usar Módulos e como usar um módulo novo, você vai conseguir fazer praticamente tudo no Python\n",
    "\n",
    "### Estrutura Básica\n",
    "\n",
    "import\n",
    "\n",
    "ou \n",
    "\n",
    "import modulo as nome \n",
    "\n",
    "nesse caso você faz dessa forma se quiser mudar o nome do módulo."
   ]
  },
  {
   "cell_type": "markdown",
   "metadata": {},
   "source": [
    "- Exemplo: Como pode fazer o nosso código abrir um site específico na internet?\n"
   ]
  },
  {
   "cell_type": "code",
   "execution_count": 2,
   "metadata": {},
   "outputs": [
    {
     "data": {
      "text/plain": [
       "True"
      ]
     },
     "execution_count": 2,
     "metadata": {},
     "output_type": "execute_result"
    }
   ],
   "source": [
    "import webbrowser\n",
    "webbrowser.open('http://google.com')"
   ]
  },
  {
   "cell_type": "code",
   "execution_count": 3,
   "metadata": {},
   "outputs": [
    {
     "data": {
      "text/plain": [
       "True"
      ]
     },
     "execution_count": 3,
     "metadata": {},
     "output_type": "execute_result"
    }
   ],
   "source": [
    "# Agora faremos a renomeação desse módulo\n",
    "import webbrowser as ws\n",
    "\n",
    "ws.open('http://google.com')"
   ]
  },
  {
   "cell_type": "markdown",
   "metadata": {},
   "source": [
    "#Variações\n",
    "\n",
    "importar o módulo sem precisar usar o nome dele\n",
    "from modulo import *\n",
    "\n",
    "#importar apenas algumas partes do módulo\n",
    "from modulo import funcao1, funcao2, etc."
   ]
  },
  {
   "cell_type": "markdown",
   "metadata": {},
   "source": [
    "# Começando a ler um módulo\n",
    "\n",
    "### Vamos testar com o módulo WebBrowser:\n",
    "\n",
    "- Passo 1: Descobrir qual módulo precisamos usar e qual método do Módulo faz o que a gente quer.\n",
    "\n",
    "- Passo 2: Se precisarmos de mais alguma coisa do módulo, buscamos por soluções já escolhendo o módulo"
   ]
  },
  {
   "cell_type": "code",
   "execution_count": 4,
   "metadata": {},
   "outputs": [
    {
     "data": {
      "text/plain": [
       "True"
      ]
     },
     "execution_count": 4,
     "metadata": {},
     "output_type": "execute_result"
    }
   ],
   "source": [
    "import webbrowser\n",
    "\n",
    "webbrowser.open_new('https://hashtagtreinamentos.com')\n",
    "#webbrowser.open('https://www.hashtagtreinamentos.com/blog/')"
   ]
  },
  {
   "cell_type": "markdown",
   "metadata": {},
   "source": [
    "# Modulo time\n",
    "\n",
    "### Estrutura: Um dos módulos mais usados no Python para trabalhar com datas, fazer o programa esperar algum tempo"
   ]
  },
  {
   "cell_type": "code",
   "execution_count": 5,
   "metadata": {},
   "outputs": [
    {
     "name": "stdout",
     "output_type": "stream",
     "text": [
      "1721083057.8396127\n"
     ]
    }
   ],
   "source": [
    "import time\n",
    "\n",
    "#- Marco Zero: EPOCH (01 de janeiro de 1970 às 00:00:00) essa data é a data padrão de início da contagem, logo, ao fazer a contagem de segundos desde a data apresentada até o dia de hoje.\n",
    "\n",
    "#- time() retorna quantos segundos se passaram desde a EPOCH\n",
    "\n",
    "segundos_ate_hoje = time.time() \n",
    "print(segundos_ate_hoje)"
   ]
  },
  {
   "cell_type": "code",
   "execution_count": 6,
   "metadata": {},
   "outputs": [
    {
     "name": "stdout",
     "output_type": "stream",
     "text": [
      "Mon Jul 15 19:37:38 2024\n"
     ]
    }
   ],
   "source": [
    "data_hoje = time.ctime() # Essa função apresenta a contagem de tempo  de uma forma melhor conpreensível do que usando apenas os segundos.\n",
    "print(data_hoje)"
   ]
  },
  {
   "cell_type": "code",
   "execution_count": 7,
   "metadata": {},
   "outputs": [
    {
     "name": "stdout",
     "output_type": "stream",
     "text": [
      "O programa levou 35.775633573532104 segundos para rodar\n"
     ]
    }
   ],
   "source": [
    "tempo_inicial = time.time() #existem programas que exigem certa quantidade de tempo para rodar, e em muitos casos é importante ter conhecimento de quanto é essa duração, pois uma mudança de código pode prolongar esse tempo sendo necessário otimizações no mesmo para melhrar o seu desempenho. nessa primeira linha de código nós definimos o tempo inicial \n",
    "for i in range(100000000):  # Rodamos o código do nosso for \n",
    "    pass\n",
    "tempo_final = time.time() # identificamos o tempo até a finalzação do for \n",
    "duracao = tempo_final - tempo_inicial # fizemos a diferença do tempo antes e depois do for para identificar de quanto foi o mesmo. Lembrando que usamos o time.time(), se quisessemos saber em horas nos usariámos o time.ctime()\n",
    "\n",
    "print('O programa levou {} segundos para rodar'.format(duracao))"
   ]
  },
  {
   "cell_type": "code",
   "execution_count": 8,
   "metadata": {},
   "outputs": [
    {
     "name": "stdout",
     "output_type": "stream",
     "text": [
      "começando\n",
      "Rodou após 5 segundos.\n"
     ]
    }
   ],
   "source": [
    "# podemos com o time também definir um tempo de espera para que o código funcione.\n",
    "\n",
    "print('começando')\n",
    "time.sleep(5)\n",
    "print('Rodou após 5 segundos.')"
   ]
  },
  {
   "cell_type": "markdown",
   "metadata": {},
   "source": [
    "Pegar informações de dias, hora, minuto, segundo, tudo detalhado:\n",
    "- gmtime()\n",
    "- localtime()\n"
   ]
  },
  {
   "cell_type": "code",
   "execution_count": 9,
   "metadata": {},
   "outputs": [
    {
     "name": "stdout",
     "output_type": "stream",
     "text": [
      "time.struct_time(tm_year=2024, tm_mon=7, tm_mday=15, tm_hour=22, tm_min=38, tm_sec=19, tm_wday=0, tm_yday=197, tm_isdst=0)\n",
      "time.struct_time(tm_year=2024, tm_mon=7, tm_mday=15, tm_hour=19, tm_min=38, tm_sec=19, tm_wday=0, tm_yday=197, tm_isdst=0)\n"
     ]
    }
   ],
   "source": [
    "hora_geral = time.gmtime() # Nesse caso o horário usado é o horário internacional com três horas de diferença\n",
    "hora_local = time.localtime()\n",
    "\n",
    "print(hora_geral)\n",
    "print(hora_local)\n",
    "\n",
    "# o resultaso desse print é o que chamamos de struct. que no caso é uma tupla. com informações a respeito do ano, dia, mes, hora, minutos dentre outras informações a respeito do tempo. tanto para o local como também para o internacional."
   ]
  },
  {
   "cell_type": "code",
   "execution_count": 10,
   "metadata": {},
   "outputs": [
    {
     "name": "stdout",
     "output_type": "stream",
     "text": [
      "Data 15/7/2024\n"
     ]
    }
   ],
   "source": [
    "dia = hora_local.tm_mday\n",
    "mes = hora_local.tm_mon\n",
    "ano = hora_local.tm_year\n",
    "dia_da_semana = hora_local.tm_wday\n",
    "print('Data {}/{}/{}'.format(dia, mes, ano))"
   ]
  },
  {
   "cell_type": "markdown",
   "metadata": {},
   "source": [
    "-Mais detalhes e mais exercícios nas próximas aulas\n",
    "\n",
    "-Mais bibliotecas novas nos próximos módulos"
   ]
  },
  {
   "cell_type": "markdown",
   "metadata": {},
   "source": [
    "Módulo `time` em Python\n",
    "\n",
    "O módulo `time` em Python fornece uma variedade de funções para trabalhar com tempo.\n",
    "\n",
    "\n",
    "time.strftime()\n",
    "\n",
    "A função `strftime()` converte um objeto de tempo struct para uma string de acordo com um formato específico.\n",
    "\n",
    "Os símbolos de formato que podem ser usados estão disponíveis na documentação oficial do Python, [neste link](https://docs.python.org/3/library/time.html#time.strftime).\n",
    "\n",
    "No caso esses símbolos são abreviações que indentificam formatos para o tempo como a exemplo, nome abreviado do dia, ou se preferir o nome completo desse dia. Existem outras abreviações que também podem ser usadas.\n",
    "\n",
    "Por exemplo, podemos querer uma string de tempo no seguinte formato: \"Dia da semana, dia do mês de mês do ano, horas:minutos:segundos\". Podemos usar o seguinte código para obter o tempo formatado:"
   ]
  },
  {
   "cell_type": "code",
   "execution_count": 11,
   "metadata": {},
   "outputs": [
    {
     "name": "stdout",
     "output_type": "stream",
     "text": [
      "time.struct_time(tm_year=2024, tm_mon=7, tm_mday=15, tm_hour=19, tm_min=38, tm_sec=19, tm_wday=0, tm_yday=197, tm_isdst=0)\n"
     ]
    }
   ],
   "source": [
    "import time\n",
    "\n",
    "objeto_struct = time.localtime()\n",
    "print(objeto_struct)"
   ]
  },
  {
   "cell_type": "code",
   "execution_count": 12,
   "metadata": {},
   "outputs": [
    {
     "name": "stdout",
     "output_type": "stream",
     "text": [
      " 15 July 2024\n"
     ]
    }
   ],
   "source": [
    "print(time.strftime(' %d %B %Y', objeto_struct))"
   ]
  },
  {
   "cell_type": "code",
   "execution_count": 13,
   "metadata": {},
   "outputs": [
    {
     "name": "stdout",
     "output_type": "stream",
     "text": [
      "19 : 38 : 19\n"
     ]
    }
   ],
   "source": [
    "print(time.strftime('%H : %M : %S', objeto_struct))"
   ]
  },
  {
   "cell_type": "code",
   "execution_count": 14,
   "metadata": {},
   "outputs": [
    {
     "name": "stdout",
     "output_type": "stream",
     "text": [
      "Monday  dia 15 de July  de 2024. São exatamente 19 : 38 : 19\n"
     ]
    }
   ],
   "source": [
    "\n",
    "print(time.strftime('%A  dia %d de %B  de %Y. São exatamente %H : %M : %S', objeto_struct))"
   ]
  },
  {
   "cell_type": "markdown",
   "metadata": {},
   "source": [
    "Observe que o dia e o mês apareceram em inglês. Para obter o tempo formatado em português, podemos usar o módulo `locale` do Python."
   ]
  },
  {
   "cell_type": "code",
   "execution_count": 30,
   "metadata": {},
   "outputs": [
    {
     "name": "stdout",
     "output_type": "stream",
     "text": [
      "Tempo formatado: terÃ§a-feira, 16 de julho de 2024, 17:27:22\n"
     ]
    }
   ],
   "source": [
    "import locale #Nesse caso o import locale transmuta o a língua para a linguagem local.\n",
    "import time\n",
    "\n",
    "# Definir a localização para português. essa configuração irá se manter em seu código e precisará ser usado apenas uma única vez.\n",
    "locale.setlocale(locale.LC_TIME, 'pt_BR.UTF-8')\n",
    "\n",
    "tempo_em_struct = time.localtime()\n",
    "tempo_formatado = time.strftime(\"%A, %d de %B de %Y, %H:%M:%S\", tempo_em_struct)\n",
    "print(f\"Tempo formatado: {tempo_formatado}\")"
   ]
  },
  {
   "cell_type": "markdown",
   "metadata": {},
   "source": [
    "time.strptime()\n",
    "\n",
    "A função `strptime()` analisa uma string representando um horário de acordo com um formato. O retorno é um objeto `struct_time`."
   ]
  },
  {
   "cell_type": "code",
   "execution_count": 16,
   "metadata": {},
   "outputs": [
    {
     "name": "stdout",
     "output_type": "stream",
     "text": [
      "Tempo em struct: time.struct_time(tm_year=2023, tm_mon=6, tm_mday=30, tm_hour=0, tm_min=0, tm_sec=0, tm_wday=4, tm_yday=181, tm_isdst=-1)\n"
     ]
    }
   ],
   "source": [
    "#Nesse caso estamos falando do formato desejado para o calendário. O mesmo pode não ser igual em alguns países e essa mudança pode ser necessária.\n",
    "#Essa primeira formatação está  voltada para o calendário brasileiro. \n",
    "\n",
    "string_tempo = \"30 Junho, 2023\"\n",
    "formato = \"%d %B, %Y\"\n",
    "tempo_em_struct = time.strptime(string_tempo, formato)\n",
    "\n",
    "print(f\"Tempo em struct: {tempo_em_struct}\")"
   ]
  },
  {
   "cell_type": "code",
   "execution_count": 17,
   "metadata": {},
   "outputs": [
    {
     "name": "stdout",
     "output_type": "stream",
     "text": [
      "Tempo em struct: time.struct_time(tm_year=2023, tm_mon=6, tm_mday=9, tm_hour=0, tm_min=0, tm_sec=0, tm_wday=4, tm_yday=160, tm_isdst=-1)\n"
     ]
    }
   ],
   "source": [
    "# data na forma mês/dia/ano\n",
    "string_tempo = \"06/09/2023\"\n",
    "formato = \"%m/%d/%Y\"\n",
    "tempo_em_struct = time.strptime(string_tempo, formato)\n",
    "\n",
    "print(f\"Tempo em struct: {tempo_em_struct}\") "
   ]
  },
  {
   "cell_type": "markdown",
   "metadata": {},
   "source": [
    "time.gmtime()\n",
    "\n",
    "A função `gmtime()` converte um tempo expresso em segundos desde a epoch em um objeto struct_time em UTC. UTC significa Coordinated Universal Time, também conhecido como GMT (Greenwich Mean Time). Este é o fuso horário padrão em que as funções `time` operam."
   ]
  },
  {
   "cell_type": "code",
   "execution_count": 18,
   "metadata": {},
   "outputs": [
    {
     "data": {
      "text/plain": [
       "time.struct_time(tm_year=1970, tm_mon=1, tm_mday=1, tm_hour=0, tm_min=0, tm_sec=0, tm_wday=3, tm_yday=1, tm_isdst=0)"
      ]
     },
     "execution_count": 18,
     "metadata": {},
     "output_type": "execute_result"
    }
   ],
   "source": [
    "#O tempo UTC para a o 0 segundos desde a EPHOC \n",
    "\n",
    "time.gmtime(0) # Quando faço o uso do número zero em meu gmtime eu defino o horário como sendo ogual a EPHOC que já temos como padrão."
   ]
  },
  {
   "cell_type": "code",
   "execution_count": 19,
   "metadata": {},
   "outputs": [
    {
     "name": "stdout",
     "output_type": "stream",
     "text": [
      "time.struct_time(tm_year=2024, tm_mon=7, tm_mday=15, tm_hour=22, tm_min=38, tm_sec=20, tm_wday=0, tm_yday=197, tm_isdst=0)\n"
     ]
    }
   ],
   "source": [
    "# nesse caso não definimos o EPHOC com marco zero de tempo e sim fazemos uso da data e tempos atuais\n",
    "# Lembrando que nesse caso as informações dizem respeito ao horário internacional\n",
    "# e nesse caso o mesmo diz repeito a UTC zero que refere-se ao marco zero do meridiano de greinwith sendo o  mesmo três horas a mais que o horário de Brasília que no caso é o nosso horário de referência.\n",
    "\n",
    "gm_struct_padrao = time.gmtime()\n",
    "print(gm_struct_padrao)"
   ]
  },
  {
   "cell_type": "code",
   "execution_count": 20,
   "metadata": {},
   "outputs": [
    {
     "name": "stdout",
     "output_type": "stream",
     "text": [
      "time.struct_time(tm_year=2024, tm_mon=7, tm_mday=15, tm_hour=19, tm_min=38, tm_sec=20, tm_wday=0, tm_yday=197, tm_isdst=0)\n"
     ]
    }
   ],
   "source": [
    "# Nesse caso vamos verificar informações de tempo segundo o horário local usando o localtime\n",
    "# E nesse caso o horário a que estamos nos referindo é o nosso horário local, tendo como referência o horário de brasília. Perceba que comparado ao horário anterior, temos três horas de diferença para menos \n",
    "struct_horario_local = time.localtime()\n",
    "print(struct_horario_local)"
   ]
  },
  {
   "cell_type": "code",
   "execution_count": 21,
   "metadata": {},
   "outputs": [
    {
     "name": "stdout",
     "output_type": "stream",
     "text": [
      "Esse é o tempo usando o horário local, ou  localtime: 15 / julho / 24 - 19: 38: 20\n",
      "Esse é o tempo usando o horário internacional, ou  gmtime: 15 / julho / 24 - 22: 38: 20\n",
      "Aqui é para saber  a que zona estamos nos referindo: Hora oficial do Brasil\n",
      "Aqui é para saber  a que zona estamos nos referindo: UTC\n"
     ]
    }
   ],
   "source": [
    "# O gmtime dá o horário segundo o marco zero.\n",
    "# o localtime dá o horário segundo o horário local \n",
    "#logo a escolha da formatação de tempo também tem esse diferencial a ser levado em consideração.\n",
    "\n",
    "tempo = (time.strftime('%d / %B / %y - %H: %M: %S', struct_horario_local))\n",
    "print(\"Esse é o tempo usando o horário local, ou  localtime:\", tempo)\n",
    "\n",
    "tempos = (time.strftime('%d / %B / %y - %H: %M: %S', gm_struct_padrao))\n",
    "print(\"Esse é o tempo usando o horário internacional, ou  gmtime:\", tempos)\n",
    "\n",
    "print('Aqui é para saber  a que zona estamos nos referindo:', struct_horario_local.tm_zone)\n",
    "print('Aqui é para saber  a que zona estamos nos referindo:', gm_struct_padrao.tm_zone)\n",
    "\n"
   ]
  },
  {
   "cell_type": "code",
   "execution_count": 22,
   "metadata": {},
   "outputs": [
    {
     "name": "stdout",
     "output_type": "stream",
     "text": [
      "Essa é a data segundo os segundos passados: sexta-feira,  13 de  fevereiro de  2009 - 23: 31: 30\n"
     ]
    }
   ],
   "source": [
    "gm_struct_segundos_editados =  time.gmtime(1_234_567_890) # no caso essess são os segundos tendo como referênlcia o EPHOC os siímbolos usados como o underline não significam nada é apenas para separção e visualização, se não quiser não precisar fazer o seu uso\n",
    "tempos = (time.strftime('%A,  %d de  %B de  %Y - %H: %M: %S', gm_struct_segundos_editados))\n",
    "print(\"Essa é a data segundo os segundos passados:\", tempos)"
   ]
  },
  {
   "cell_type": "markdown",
   "metadata": {},
   "source": [
    "time.mktime()\n",
    "\n",
    "A função `mktime()` converte um objeto `struct_time` em segundos desde a epoch. Este é o inverso da função `localtime()`. Por exemplo, podemos converter o objeto `struct_time` retornado pela função `localtime()` em segundos desde a epoch usando a função `mktime()`. O resultado deve ser o mesmo que o valor retornado pela função `time()`."
   ]
  },
  {
   "cell_type": "code",
   "execution_count": 23,
   "metadata": {},
   "outputs": [
    {
     "name": "stdout",
     "output_type": "stream",
     "text": [
      "Tempo em segundos: 1721083101.0\n",
      "Tempo em segund os: 1721083101.2772408\n"
     ]
    }
   ],
   "source": [
    "tempo_em_struct = time.localtime()\n",
    "tempo_em_segundos = time.mktime(tempo_em_struct)\n",
    "print(f\"Tempo em segundos: {tempo_em_segundos}\")\n",
    "print(f\"Tempo em segund os: {time.time()}\")"
   ]
  },
  {
   "cell_type": "markdown",
   "metadata": {},
   "source": [
    "Podemos usar o método `mktime` para calcular a diferença entre dois tempos. Por exemplo, podemos calcular a diferença entre o tempo atual e o início do ano. O resultado será o número de segundos entre esses dois tempos. Podemos usar a função `localtime()` para obter o tempo atual e a função `mktime()` para obter o tempo em 1 de janeiro de 2023 (ano deste material)."
   ]
  },
  {
   "cell_type": "code",
   "execution_count": 29,
   "metadata": {},
   "outputs": [
    {
     "name": "stdout",
     "output_type": "stream",
     "text": [
      "Diferença em segundos: 48616676.0\n"
     ]
    }
   ],
   "source": [
    "# Nesse caso verificamos o tempo que se passou desde o início de 2023 até o dia atual \n",
    "\n",
    "tempo_atual = time.localtime()\n",
    "tempo_ano_novo = time.mktime((2023, 1, 1, 0, 0, 0, 0, 0, 0))\n",
    "\n",
    "diferenca = time.mktime(tempo_atual) - tempo_ano_novo\n",
    "print(f\"Diferença em segundos: {diferenca}\") \n"
   ]
  },
  {
   "cell_type": "markdown",
   "metadata": {},
   "source": [
    "Guia para o módulo `datetime` em Python\n",
    "\n",
    "O módulo `datetime` em Python fornece classes para manipulação de datas e horas. Aqui está um guia simples para algumas das funções mais úteis deste módulo.\n",
    "\n",
    "datetime.datetime.now()\n",
    "\n",
    "A função `now()` retorna a data e a hora atuais. Vejamos:"
   ]
  },
  {
   "cell_type": "code",
   "execution_count": 4,
   "metadata": {},
   "outputs": [
    {
     "name": "stdout",
     "output_type": "stream",
     "text": [
      "2024-07-22 20:01:20.701983\n",
      "2024-07-22\n",
      "20:01:20.701983\n"
     ]
    }
   ],
   "source": [
    "from datetime import datetime # isso \n",
    "\n",
    "#Dessa forma podemos ter a data e hora apartir dessa classe do datetime essa é apenas umas das classes do datetime onde podemos apenas importar parte do objeto e não necessáriamente ele todo.\n",
    "\n",
    "agora = datetime.datetime.now() #Aqui temos o método now onde estou pegando apenas as informações de data e hora.\n",
    "print(agora)\n",
    "\n",
    "#Já quando queremos apenas obter a hora e data separadamente usamos as funções date() e time()\n",
    "\n",
    "print(agora.date())\n",
    "print(agora.time())\n"
   ]
  },
  {
   "cell_type": "code",
   "execution_count": 5,
   "metadata": {},
   "outputs": [
    {
     "name": "stdout",
     "output_type": "stream",
     "text": [
      "Ano: 2024\n",
      "Mês: 7\n",
      "Dia: 22\n",
      "Hora: 20\n",
      "Minuto: 1\n",
      "Segundo: 20\n"
     ]
    }
   ],
   "source": [
    "#Aqui temos outras funções, que nos permite fazer a manipulação dessas informações pegando apenas informações pontuais.\n",
    "\n",
    "print(f\"Ano: {agora.year}\")\n",
    "print(f\"Mês: {agora.month}\")\n",
    "print(f\"Dia: {agora.day}\")\n",
    "print(f\"Hora: {agora.hour}\")\n",
    "print(f\"Minuto: {agora.minute}\")\n",
    "print(f\"Segundo: {agora.second}\")"
   ]
  },
  {
   "cell_type": "markdown",
   "metadata": {},
   "source": [
    " datetime.date.today()\n",
    "\n",
    "A função `today()` retorna a data atual."
   ]
  },
  {
   "cell_type": "code",
   "execution_count": 6,
   "metadata": {},
   "outputs": [
    {
     "name": "stdout",
     "output_type": "stream",
     "text": [
      "Data atual: 2024-07-23\n"
     ]
    }
   ],
   "source": [
    "from datetime import date # nesse acoso estamos inportando do data time apenas a calsse date onde iremos fazer uso apenas da data\n",
    "\n",
    "hoje = date.today() #Para tal fazemos o uso do método today\n",
    "print(f\"Data atual: {hoje}\")\n",
    "\n",
    "#Como visto anteriormente podemos pegar apenas um elemento dessa data."
   ]
  },
  {
   "cell_type": "code",
   "execution_count": 10,
   "metadata": {},
   "outputs": [
    {
     "name": "stdout",
     "output_type": "stream",
     "text": [
      "Ano de 2024\n",
      "mês de 7\n",
      "Dia de 23\n"
     ]
    }
   ],
   "source": [
    "print('Ano de {}'.format(hoje.year))\n",
    "print('mês de {}'.format(hoje.month))\n",
    "print('Dia de {}'.format(hoje.day))"
   ]
  },
  {
   "cell_type": "markdown",
   "metadata": {},
   "source": [
    "Quando falamos de datetime é impressionante como se faz possível fazer operações com a data com esse recurso.\n",
    "\n",
    "\n",
    "# datetime.timedelta()\n",
    "\n",
    "A classe `timedelta` é usada para realizar operações com datas (adição e subtração)."
   ]
  },
  {
   "cell_type": "code",
   "execution_count": 12,
   "metadata": {},
   "outputs": [
    {
     "name": "stdout",
     "output_type": "stream",
     "text": [
      "Data atual: 2024-07-23 17:25:02.288450\n",
      "A data como 19 dias no futuro será de 2024-08-11 17:25:02.288450\n",
      "Data 10 dias no futuro: 2024-08-02 17:25:02.288450\n",
      "Data 10 dias no passado: 2024-07-13 17:25:02.288450\n"
     ]
    }
   ],
   "source": [
    "from datetime import datetime, timedelta\n",
    "\n",
    "data_atual = datetime.now()\n",
    "print(f\"Data atual: {data_atual}\")\n",
    "\n",
    "data_futuras = data_atual + timedelta(days = 19)\n",
    "print('A data como 19 dias no futuro será de {}'.format(data_futuras))\n",
    "\n",
    "data_futura = data_atual + timedelta(days=10)\n",
    "print(f\"Data 10 dias no futuro: {data_futura}\")\n",
    "\n",
    "data_passada = data_atual - timedelta(days=10)\n",
    "print(f\"Data 10 dias no passado: {data_passada}\")\n",
    "\n",
    "\n",
    "# Logo o datetime vem para facilitar as operações com a data e também as horas. Veja:\n",
    "\n",
    "dez_horas_adiante = data_atual + timedelta(hours=10)\n",
    "print(f\"10 horas adiante: {dez_horas_adiante}\")"
   ]
  },
  {
   "cell_type": "markdown",
   "metadata": {},
   "source": [
    "Criação de um objeto datetime\n",
    "\n",
    "Podemos criar um objeto datetime usando a classe `datetime`. O construtor da classe possui como principais argumentos:\n",
    "\n",
    "- `year`: ano (por exemplo, 2023)\n",
    "- `month`: mês (1-12)\n",
    "- `day`: dia (1-31)\n",
    "- `hour`: hora (0-23)\n",
    "- `minute`: minuto (0-59)\n",
    "- `second`: segundo (0-59)\n",
    "- `microsecond`: microssegundo (0-999999)\n",
    "- `tzinfo`: fuso horário\n",
    "\n",
    "\n",
    "    Obviamente que quando você não necessáriamente irá passar todas essas informações, porém ao fazer isso as informações devem ser definidas como minutio, dia, hora, dentre outras pois senão, o programa vai entender que voCê está passando essas informações na ordem padrão que o programa define."
   ]
  },
  {
   "cell_type": "code",
   "execution_count": 15,
   "metadata": {},
   "outputs": [
    {
     "name": "stdout",
     "output_type": "stream",
     "text": [
      "Data 2024-06-20 06:30:56\n"
     ]
    }
   ],
   "source": [
    "from datetime import datetime\n",
    "data = datetime(2024, 6, 20, 6, 30, 56)\n",
    "print('Data {}'.format(data))"
   ]
  },
  {
   "cell_type": "code",
   "execution_count": 14,
   "metadata": {},
   "outputs": [
    {
     "name": "stdout",
     "output_type": "stream",
     "text": [
      "Data 2024-06-20 00:00:00\n"
     ]
    }
   ],
   "source": [
    "from datetime import datetime\n",
    "data = datetime(2024, 6, 20)\n",
    "print('Data {}'.format(data))"
   ]
  },
  {
   "cell_type": "markdown",
   "metadata": {},
   "source": [
    "fromisoformat()` é um método de classe que converte uma string em um objeto datetime. Desde quê essa string siga o formato de data e hora de forma padronizada pela linguaegem"
   ]
  },
  {
   "cell_type": "code",
   "execution_count": 16,
   "metadata": {},
   "outputs": [
    {
     "name": "stdout",
     "output_type": "stream",
     "text": [
      "Data/hora: 2023-06-26 15:30:20\n",
      "Data e hora definidas 2023-06-26 15:30:20\n"
     ]
    }
   ],
   "source": [
    "\n",
    "data_hora_definidas = datetime.fromisoformat('2023-06-26 15:30:20') #Aqui eu crio uma data toda criada por mim e foi reconhecida estando dessa forma \n",
    "print('Data e hora definidas {}'.format(data_hora_definidas))"
   ]
  },
  {
   "cell_type": "markdown",
   "metadata": {},
   "source": [
    "## Calcular a diferença entre duas datas\n",
    "\n",
    "Podemos calcular a diferença entre duas datas subtraindo uma da outra. O resultado será um objeto timedelta."
   ]
  },
  {
   "cell_type": "code",
   "execution_count": 23,
   "metadata": {},
   "outputs": [
    {
     "name": "stdout",
     "output_type": "stream",
     "text": [
      "A diferença entre as duas datas é de 328 dias\n",
      "A data 1 é anterior que a data 2\n"
     ]
    }
   ],
   "source": [
    "from datetime import datetime\n",
    "data1 = datetime(2023, 8, 27)\n",
    "data2 = datetime(2024, 7, 20)\n",
    "\n",
    "\n",
    "diferenca = data2 - data1\n",
    "print('A diferença entre as duas datas é de {} dias'.format(diferenca.days))\n",
    "\n",
    "if data1 > data2:\n",
    "    print('A data 1 é posterior a data 2')\n",
    "elif data1 < data2:\n",
    "    print('A data 1 é anterior a data 2')\n",
    "else: \n",
    "    print('As datas são iguais')\n",
    "\n",
    "# Vale saber que a diferença entre duas datas usando o datatime o resultado obtido é um objeto do tipo timedelta\n"
   ]
  },
  {
   "cell_type": "markdown",
   "metadata": {},
   "source": [
    " Ordenando uma lista de datas\n",
    "\n",
    "Podemos usar a função `sorted` para ordenar uma lista de datas."
   ]
  },
  {
   "cell_type": "code",
   "execution_count": 25,
   "metadata": {},
   "outputs": [
    {
     "name": "stdout",
     "output_type": "stream",
     "text": [
      "[datetime.datetime(2023, 5, 28, 0, 0), datetime.datetime(2023, 6, 18, 0, 0), datetime.datetime(2023, 6, 28, 0, 0), datetime.datetime(2023, 7, 28, 0, 0)]\n",
      "2023-05-28\n",
      "2023-06-18\n",
      "2023-06-28\n",
      "2023-07-28\n"
     ]
    }
   ],
   "source": [
    "from datetime import datetime\n",
    "\n",
    "datas = [\n",
    "    datetime(2023, 6, 28),\n",
    "    datetime(2023, 5, 28),\n",
    "    datetime(2023, 7, 28),\n",
    "    datetime(2023, 6, 18),\n",
    "]\n",
    "\n",
    "datas_ordenadas = sorted(datas) # Com o sorted fizemos a ordenação das datas\n",
    "\n",
    "print(datas_ordenadas)\n",
    "\n",
    "for data in datas_ordenadas: #Nesse momento percorremos as datas já ordenadas e em seseguda fazemos o print apenas das datas \n",
    "    print(data.date())"
   ]
  },
  {
   "cell_type": "markdown",
   "metadata": {},
   "source": [
    "Guia para o módulo `datetime` em Python\n",
    "\n",
    "O módulo `datetime` em Python fornece classes para manipulação de datas e horas. Aqui está um guia simples para algumas das funções mais úteis deste módulo."
   ]
  },
  {
   "cell_type": "markdown",
   "metadata": {},
   "source": [
    "datetime.datetime.strftime()\n",
    "\n",
    "A função `strftime()` converte um objeto datetime para uma string de acordo com um formato específico.\n",
    "\n",
    "Símbolos que podem ser usados para formatar datas podem ser achados [aqui](https://docs.python.org/3/library/datetime.html#strftime-and-strptime-format-codes).\n"
   ]
  },
  {
   "cell_type": "code",
   "execution_count": 3,
   "metadata": {},
   "outputs": [
    {
     "name": "stdout",
     "output_type": "stream",
     "text": [
      "2024-07-24 20:42:53.961777\n"
     ]
    }
   ],
   "source": [
    "from datetime import datetime #primeiramente fizemos a omportação da biblioteca datatine e sua classe datetime \n",
    "\n",
    "agora = datetime.now() #Acessamos a hora de agora dentro da máquina e fazemos o seu print\n",
    "print(agora)"
   ]
  },
  {
   "cell_type": "code",
   "execution_count": 4,
   "metadata": {},
   "outputs": [
    {
     "name": "stdout",
     "output_type": "stream",
     "text": [
      "<class 'datetime.datetime'>\n"
     ]
    }
   ],
   "source": [
    "#Consegumos fazer a verificação da tipagem dessa informação veja:\n",
    "\n",
    "print(type(agora))"
   ]
  },
  {
   "cell_type": "code",
   "execution_count": 10,
   "metadata": {},
   "outputs": [
    {
     "name": "stdout",
     "output_type": "stream",
     "text": [
      "Wednesday\n",
      "Data formatada:  Wednesday 24 de July de 2024 --  20:42,53\n"
     ]
    }
   ],
   "source": [
    "print(agora.strftime('%A'))\n",
    "data_formatada = agora.strftime(\" %A %d de %B de %Y --  %H:%M,%S\")\n",
    "print(\"Data formatada: {}\".format(data_formatada))"
   ]
  },
  {
   "cell_type": "code",
   "execution_count": 23,
   "metadata": {},
   "outputs": [
    {
     "data": {
      "text/plain": [
       "'pt_BR.UTF-8'"
      ]
     },
     "execution_count": 23,
     "metadata": {},
     "output_type": "execute_result"
    }
   ],
   "source": [
    "import locale\n",
    "\n",
    "from datetime import datetime\n",
    "\n",
    "#Definir a localidade para português \n",
    "\n",
    "locale.setlocale(locale.LC_TIME,'pt_BR.UTF-8')\n",
    "\n"
   ]
  },
  {
   "cell_type": "code",
   "execution_count": 24,
   "metadata": {},
   "outputs": [
    {
     "name": "stdout",
     "output_type": "stream",
     "text": [
      " Wednesday 24 de July de 2024 --  20:42,53\n"
     ]
    }
   ],
   "source": [
    "print(data_formatada)"
   ]
  }
 ],
 "metadata": {
  "kernelspec": {
   "display_name": "Python 3",
   "language": "python",
   "name": "python3"
  },
  "language_info": {
   "codemirror_mode": {
    "name": "ipython",
    "version": 3
   },
   "file_extension": ".py",
   "mimetype": "text/x-python",
   "name": "python",
   "nbconvert_exporter": "python",
   "pygments_lexer": "ipython3",
   "version": "3.12.2"
  }
 },
 "nbformat": 4,
 "nbformat_minor": 2
}
