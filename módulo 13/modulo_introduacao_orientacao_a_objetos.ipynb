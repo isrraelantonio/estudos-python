{
 "cells": [
  {
   "cell_type": "markdown",
   "metadata": {},
   "source": [
    "O que são Módulos e qual a importância deles?\n",
    "\n",
    "### Importância\n",
    "\n",
    "- Já tem muita coisa pronta, então você não precisa criar do zero.\n",
    "- Se você souber usar Módulos e como usar um módulo novo, você vai conseguir fazer praticamente tudo no Python\n",
    "\n",
    "### Estrutura Básica\n",
    "\n",
    "import\n",
    "\n",
    "ou \n",
    "\n",
    "import modulo as nome \n",
    "\n",
    "nesse caso você faz dessa forma se quiser mudar o nome do módulo."
   ]
  },
  {
   "cell_type": "markdown",
   "metadata": {},
   "source": [
    "- Exemplo: Como pode fazer o nosso código abrir um site específico na internet?\n"
   ]
  },
  {
   "cell_type": "code",
   "execution_count": 1,
   "metadata": {},
   "outputs": [
    {
     "data": {
      "text/plain": [
       "True"
      ]
     },
     "execution_count": 1,
     "metadata": {},
     "output_type": "execute_result"
    }
   ],
   "source": [
    "import webbrowser\n",
    "webbrowser.open('http://google.com')"
   ]
  },
  {
   "cell_type": "code",
   "execution_count": 2,
   "metadata": {},
   "outputs": [
    {
     "data": {
      "text/plain": [
       "True"
      ]
     },
     "execution_count": 2,
     "metadata": {},
     "output_type": "execute_result"
    }
   ],
   "source": [
    "# Agora faremos a renomeação desse módulo\n",
    "import webbrowser as ws\n",
    "\n",
    "ws.open('http://google.com')"
   ]
  },
  {
   "cell_type": "markdown",
   "metadata": {},
   "source": [
    "#Variações\n",
    "\n",
    "importar o módulo sem precisar usar o nome dele\n",
    "from modulo import *\n",
    "\n",
    "#importar apenas algumas partes do módulo\n",
    "from modulo import funcao1, funcao2, etc."
   ]
  },
  {
   "cell_type": "markdown",
   "metadata": {},
   "source": [
    "# Começando a ler um módulo\n",
    "\n",
    "### Vamos testar com o módulo WebBrowser:\n",
    "\n",
    "- Passo 1: Descobrir qual módulo precisamos usar e qual método do Módulo faz o que a gente quer.\n",
    "\n",
    "- Passo 2: Se precisarmos de mais alguma coisa do módulo, buscamos por soluções já escolhendo o módulo"
   ]
  },
  {
   "cell_type": "code",
   "execution_count": 3,
   "metadata": {},
   "outputs": [
    {
     "data": {
      "text/plain": [
       "True"
      ]
     },
     "execution_count": 3,
     "metadata": {},
     "output_type": "execute_result"
    }
   ],
   "source": [
    "import webbrowser\n",
    "\n",
    "webbrowser.open_new('https://hashtagtreinamentos.com')\n",
    "#webbrowser.open('https://www.hashtagtreinamentos.com/blog/')"
   ]
  },
  {
   "cell_type": "markdown",
   "metadata": {},
   "source": [
    "# Modulo time\n",
    "\n",
    "### Estrutura: Um dos módulos mais usados no Python para trabalhar com datas, fazer o programa esperar algum tempo"
   ]
  },
  {
   "cell_type": "code",
   "execution_count": 4,
   "metadata": {},
   "outputs": [
    {
     "name": "stdout",
     "output_type": "stream",
     "text": [
      "1722702996.4404583\n"
     ]
    }
   ],
   "source": [
    "import time\n",
    "\n",
    "#- Marco Zero: EPOCH (01 de janeiro de 1970 às 00:00:00) essa data é a data padrão de início da contagem, logo, ao fazer a contagem de segundos desde a data apresentada até o dia de hoje.\n",
    "\n",
    "#- time() retorna quantos segundos se passaram desde a EPOCH\n",
    "\n",
    "segundos_ate_hoje = time.time() \n",
    "print(segundos_ate_hoje)"
   ]
  },
  {
   "cell_type": "code",
   "execution_count": 5,
   "metadata": {},
   "outputs": [
    {
     "name": "stdout",
     "output_type": "stream",
     "text": [
      "Sat Aug  3 13:36:37 2024\n"
     ]
    }
   ],
   "source": [
    "data_hoje = time.ctime() # Essa função apresenta a contagem de tempo  de uma forma melhor conpreensível do que usando apenas os segundos.\n",
    "print(data_hoje)"
   ]
  },
  {
   "cell_type": "code",
   "execution_count": 6,
   "metadata": {},
   "outputs": [
    {
     "name": "stdout",
     "output_type": "stream",
     "text": [
      "O programa levou 80.131906747818 segundos para rodar\n"
     ]
    }
   ],
   "source": [
    "tempo_inicial = time.time() #existem programas que exigem certa quantidade de tempo para rodar, e em muitos casos é importante ter conhecimento de quanto é essa duração, pois uma mudança de código pode prolongar esse tempo sendo necessário otimizações no mesmo para melhrar o seu desempenho. nessa primeira linha de código nós definimos o tempo inicial \n",
    "for i in range(100000000):  # Rodamos o código do nosso for \n",
    "    pass\n",
    "tempo_final = time.time() # identificamos o tempo até a finalzação do for \n",
    "duracao = tempo_final - tempo_inicial # fizemos a diferença do tempo antes e depois do for para identificar de quanto foi o mesmo. Lembrando que usamos o time.time(), se quisessemos saber em horas nos usariámos o time.ctime()\n",
    "\n",
    "print('O programa levou {} segundos para rodar'.format(duracao))"
   ]
  },
  {
   "cell_type": "code",
   "execution_count": 7,
   "metadata": {},
   "outputs": [
    {
     "name": "stdout",
     "output_type": "stream",
     "text": [
      "começando\n"
     ]
    },
    {
     "name": "stdout",
     "output_type": "stream",
     "text": [
      "Rodou após 5 segundos.\n"
     ]
    }
   ],
   "source": [
    "# podemos com o time também definir um tempo de espera para que o código funcione.\n",
    "\n",
    "print('começando')\n",
    "time.sleep(5)\n",
    "print('Rodou após 5 segundos.')"
   ]
  },
  {
   "cell_type": "markdown",
   "metadata": {},
   "source": [
    "Pegar informações de dias, hora, minuto, segundo, tudo detalhado:\n",
    "- gmtime()\n",
    "- localtime()\n"
   ]
  },
  {
   "cell_type": "code",
   "execution_count": 8,
   "metadata": {},
   "outputs": [
    {
     "name": "stdout",
     "output_type": "stream",
     "text": [
      "time.struct_time(tm_year=2024, tm_mon=8, tm_mday=3, tm_hour=16, tm_min=38, tm_sec=6, tm_wday=5, tm_yday=216, tm_isdst=0)\n",
      "time.struct_time(tm_year=2024, tm_mon=8, tm_mday=3, tm_hour=13, tm_min=38, tm_sec=6, tm_wday=5, tm_yday=216, tm_isdst=0)\n"
     ]
    }
   ],
   "source": [
    "hora_geral = time.gmtime() # Nesse caso o horário usado é o horário internacional com três horas de diferença\n",
    "hora_local = time.localtime()\n",
    "\n",
    "print(hora_geral)\n",
    "print(hora_local)\n",
    "\n",
    "# o resultaso desse print é o que chamamos de struct. que no caso é uma tupla. com informações a respeito do ano, dia, mes, hora, minutos dentre outras informações a respeito do tempo. tanto para o local como também para o internacional."
   ]
  },
  {
   "cell_type": "code",
   "execution_count": 9,
   "metadata": {},
   "outputs": [
    {
     "name": "stdout",
     "output_type": "stream",
     "text": [
      "Data 3/8/2024\n"
     ]
    }
   ],
   "source": [
    "dia = hora_local.tm_mday\n",
    "mes = hora_local.tm_mon\n",
    "ano = hora_local.tm_year\n",
    "dia_da_semana = hora_local.tm_wday\n",
    "print('Data {}/{}/{}'.format(dia, mes, ano))"
   ]
  },
  {
   "cell_type": "markdown",
   "metadata": {},
   "source": [
    "-Mais detalhes e mais exercícios nas próximas aulas\n",
    "\n",
    "-Mais bibliotecas novas nos próximos módulos"
   ]
  },
  {
   "cell_type": "markdown",
   "metadata": {},
   "source": [
    "Módulo `time` em Python\n",
    "\n",
    "O módulo `time` em Python fornece uma variedade de funções para trabalhar com tempo.\n",
    "\n",
    "\n",
    "time.strftime()\n",
    "\n",
    "A função `strftime()` converte um objeto de tempo struct para uma string de acordo com um formato específico.\n",
    "\n",
    "Os símbolos de formato que podem ser usados estão disponíveis na documentação oficial do Python, [neste link](https://docs.python.org/3/library/time.html#time.strftime).\n",
    "\n",
    "No caso esses símbolos são abreviações que indentificam formatos para o tempo como a exemplo, nome abreviado do dia, ou se preferir o nome completo desse dia. Existem outras abreviações que também podem ser usadas.\n",
    "\n",
    "Por exemplo, podemos querer uma string de tempo no seguinte formato: \"Dia da semana, dia do mês de mês do ano, horas:minutos:segundos\". Podemos usar o seguinte código para obter o tempo formatado:"
   ]
  },
  {
   "cell_type": "code",
   "execution_count": 10,
   "metadata": {},
   "outputs": [
    {
     "name": "stdout",
     "output_type": "stream",
     "text": [
      "time.struct_time(tm_year=2024, tm_mon=8, tm_mday=3, tm_hour=13, tm_min=38, tm_sec=7, tm_wday=5, tm_yday=216, tm_isdst=0)\n"
     ]
    }
   ],
   "source": [
    "import time\n",
    "\n",
    "objeto_struct = time.localtime()\n",
    "print(objeto_struct)"
   ]
  },
  {
   "cell_type": "code",
   "execution_count": 11,
   "metadata": {},
   "outputs": [
    {
     "name": "stdout",
     "output_type": "stream",
     "text": [
      " 03 August 2024\n"
     ]
    }
   ],
   "source": [
    "print(time.strftime(' %d %B %Y', objeto_struct))"
   ]
  },
  {
   "cell_type": "code",
   "execution_count": 12,
   "metadata": {},
   "outputs": [
    {
     "name": "stdout",
     "output_type": "stream",
     "text": [
      "13 : 38 : 07\n"
     ]
    }
   ],
   "source": [
    "print(time.strftime('%H : %M : %S', objeto_struct))"
   ]
  },
  {
   "cell_type": "code",
   "execution_count": 13,
   "metadata": {},
   "outputs": [
    {
     "name": "stdout",
     "output_type": "stream",
     "text": [
      "Saturday  dia 03 de August  de 2024. São exatamente 13 : 38 : 07\n"
     ]
    }
   ],
   "source": [
    "\n",
    "print(time.strftime('%A  dia %d de %B  de %Y. São exatamente %H : %M : %S', objeto_struct))"
   ]
  },
  {
   "cell_type": "markdown",
   "metadata": {},
   "source": [
    "Observe que o dia e o mês apareceram em inglês. Para obter o tempo formatado em português, podemos usar o módulo `locale` do Python."
   ]
  },
  {
   "cell_type": "code",
   "execution_count": 14,
   "metadata": {},
   "outputs": [
    {
     "name": "stdout",
     "output_type": "stream",
     "text": [
      "Tempo formatado: sÃ¡bado, 03 de agosto de 2024, 13:38:08\n"
     ]
    }
   ],
   "source": [
    "import locale #Nesse caso o import locale transmuta o a língua para a linguagem local.\n",
    "import time\n",
    "\n",
    "# Definir a localização para português. essa configuração irá se manter em seu código e precisará ser usado apenas uma única vez.\n",
    "locale.setlocale(locale.LC_TIME, 'pt_BR.UTF-8')\n",
    "\n",
    "tempo_em_struct = time.localtime()\n",
    "tempo_formatado = time.strftime(\"%A, %d de %B de %Y, %H:%M:%S\", tempo_em_struct)\n",
    "print(f\"Tempo formatado: {tempo_formatado}\")"
   ]
  },
  {
   "cell_type": "markdown",
   "metadata": {},
   "source": [
    "time.strptime()\n",
    "\n",
    "A função `strptime()` analisa uma string representando um horário de acordo com um formato. O retorno é um objeto `struct_time`."
   ]
  },
  {
   "cell_type": "code",
   "execution_count": 15,
   "metadata": {},
   "outputs": [
    {
     "name": "stdout",
     "output_type": "stream",
     "text": [
      "Tempo em struct: time.struct_time(tm_year=2023, tm_mon=6, tm_mday=30, tm_hour=0, tm_min=0, tm_sec=0, tm_wday=4, tm_yday=181, tm_isdst=-1)\n"
     ]
    }
   ],
   "source": [
    "#Nesse caso estamos falando do formato desejado para o calendário. O mesmo pode não ser igual em alguns países e essa mudança pode ser necessária.\n",
    "#Essa primeira formatação está  voltada para o calendário brasileiro. \n",
    "\n",
    "string_tempo = \"30 Junho, 2023\"\n",
    "formato = \"%d %B, %Y\"\n",
    "tempo_em_struct = time.strptime(string_tempo, formato)\n",
    "\n",
    "print(f\"Tempo em struct: {tempo_em_struct}\")"
   ]
  },
  {
   "cell_type": "code",
   "execution_count": 16,
   "metadata": {},
   "outputs": [
    {
     "name": "stdout",
     "output_type": "stream",
     "text": [
      "Tempo em struct: time.struct_time(tm_year=2023, tm_mon=6, tm_mday=9, tm_hour=0, tm_min=0, tm_sec=0, tm_wday=4, tm_yday=160, tm_isdst=-1)\n"
     ]
    }
   ],
   "source": [
    "# data na forma mês/dia/ano\n",
    "string_tempo = \"06/09/2023\"\n",
    "formato = \"%m/%d/%Y\"\n",
    "tempo_em_struct = time.strptime(string_tempo, formato)\n",
    "\n",
    "print(f\"Tempo em struct: {tempo_em_struct}\") "
   ]
  },
  {
   "cell_type": "markdown",
   "metadata": {},
   "source": [
    "time.gmtime()\n",
    "\n",
    "A função `gmtime()` converte um tempo expresso em segundos desde a epoch em um objeto struct_time em UTC. UTC significa Coordinated Universal Time, também conhecido como GMT (Greenwich Mean Time). Este é o fuso horário padrão em que as funções `time` operam."
   ]
  },
  {
   "cell_type": "code",
   "execution_count": 17,
   "metadata": {},
   "outputs": [
    {
     "data": {
      "text/plain": [
       "time.struct_time(tm_year=1970, tm_mon=1, tm_mday=1, tm_hour=0, tm_min=0, tm_sec=0, tm_wday=3, tm_yday=1, tm_isdst=0)"
      ]
     },
     "execution_count": 17,
     "metadata": {},
     "output_type": "execute_result"
    }
   ],
   "source": [
    "#O tempo UTC para a o 0 segundos desde a EPHOC \n",
    "\n",
    "time.gmtime(0) # Quando faço o uso do número zero em meu gmtime eu defino o horário como sendo ogual a EPHOC que já temos como padrão."
   ]
  },
  {
   "cell_type": "code",
   "execution_count": 18,
   "metadata": {},
   "outputs": [
    {
     "name": "stdout",
     "output_type": "stream",
     "text": [
      "time.struct_time(tm_year=2024, tm_mon=8, tm_mday=3, tm_hour=16, tm_min=38, tm_sec=9, tm_wday=5, tm_yday=216, tm_isdst=0)\n"
     ]
    }
   ],
   "source": [
    "# nesse caso não definimos o EPHOC com marco zero de tempo e sim fazemos uso da data e tempos atuais\n",
    "# Lembrando que nesse caso as informações dizem respeito ao horário internacional\n",
    "# e nesse caso o mesmo diz repeito a UTC zero que refere-se ao marco zero do meridiano de greinwith sendo o  mesmo três horas a mais que o horário de Brasília que no caso é o nosso horário de referência.\n",
    "\n",
    "gm_struct_padrao = time.gmtime()\n",
    "print(gm_struct_padrao)"
   ]
  },
  {
   "cell_type": "code",
   "execution_count": 19,
   "metadata": {},
   "outputs": [
    {
     "name": "stdout",
     "output_type": "stream",
     "text": [
      "time.struct_time(tm_year=2024, tm_mon=8, tm_mday=3, tm_hour=13, tm_min=38, tm_sec=10, tm_wday=5, tm_yday=216, tm_isdst=0)\n"
     ]
    }
   ],
   "source": [
    "# Nesse caso vamos verificar informações de tempo segundo o horário local usando o localtime\n",
    "# E nesse caso o horário a que estamos nos referindo é o nosso horário local, tendo como referência o horário de brasília. Perceba que comparado ao horário anterior, temos três horas de diferença para menos \n",
    "struct_horario_local = time.localtime()\n",
    "print(struct_horario_local)"
   ]
  },
  {
   "cell_type": "code",
   "execution_count": 20,
   "metadata": {},
   "outputs": [
    {
     "name": "stdout",
     "output_type": "stream",
     "text": [
      "Esse é o tempo usando o horário local, ou  localtime: 03 / agosto / 24 - 13: 38: 10\n",
      "Esse é o tempo usando o horário internacional, ou  gmtime: 03 / agosto / 24 - 16: 38: 09\n",
      "Aqui é para saber  a que zona estamos nos referindo: Hora oficial do Brasil\n",
      "Aqui é para saber  a que zona estamos nos referindo: UTC\n"
     ]
    }
   ],
   "source": [
    "# O gmtime dá o horário segundo o marco zero.\n",
    "# o localtime dá o horário segundo o horário local \n",
    "#logo a escolha da formatação de tempo também tem esse diferencial a ser levado em consideração.\n",
    "\n",
    "tempo = (time.strftime('%d / %B / %y - %H: %M: %S', struct_horario_local))\n",
    "print(\"Esse é o tempo usando o horário local, ou  localtime:\", tempo)\n",
    "\n",
    "tempos = (time.strftime('%d / %B / %y - %H: %M: %S', gm_struct_padrao))\n",
    "print(\"Esse é o tempo usando o horário internacional, ou  gmtime:\", tempos)\n",
    "\n",
    "print('Aqui é para saber  a que zona estamos nos referindo:', struct_horario_local.tm_zone)\n",
    "print('Aqui é para saber  a que zona estamos nos referindo:', gm_struct_padrao.tm_zone)\n",
    "\n"
   ]
  },
  {
   "cell_type": "code",
   "execution_count": 21,
   "metadata": {},
   "outputs": [
    {
     "name": "stdout",
     "output_type": "stream",
     "text": [
      "Essa é a data segundo os segundos passados: sexta-feira,  13 de  fevereiro de  2009 - 23: 31: 30\n"
     ]
    }
   ],
   "source": [
    "gm_struct_segundos_editados =  time.gmtime(1_234_567_890) # no caso essess são os segundos tendo como referênlcia o EPHOC os siímbolos usados como o underline não significam nada é apenas para separção e visualização, se não quiser não precisar fazer o seu uso\n",
    "tempos = (time.strftime('%A,  %d de  %B de  %Y - %H: %M: %S', gm_struct_segundos_editados))\n",
    "print(\"Essa é a data segundo os segundos passados:\", tempos)"
   ]
  },
  {
   "cell_type": "markdown",
   "metadata": {},
   "source": [
    "time.mktime()\n",
    "\n",
    "A função `mktime()` converte um objeto `struct_time` em segundos desde a epoch. Este é o inverso da função `localtime()`. Por exemplo, podemos converter o objeto `struct_time` retornado pela função `localtime()` em segundos desde a epoch usando a função `mktime()`. O resultado deve ser o mesmo que o valor retornado pela função `time()`."
   ]
  },
  {
   "cell_type": "code",
   "execution_count": 22,
   "metadata": {},
   "outputs": [
    {
     "name": "stdout",
     "output_type": "stream",
     "text": [
      "Tempo em segundos: 1722703090.0\n",
      "Tempo em segund os: 1722703090.7493067\n"
     ]
    }
   ],
   "source": [
    "tempo_em_struct = time.localtime()\n",
    "tempo_em_segundos = time.mktime(tempo_em_struct)\n",
    "print(f\"Tempo em segundos: {tempo_em_segundos}\")\n",
    "print(f\"Tempo em segund os: {time.time()}\")"
   ]
  },
  {
   "cell_type": "markdown",
   "metadata": {},
   "source": [
    "Podemos usar o método `mktime` para calcular a diferença entre dois tempos. Por exemplo, podemos calcular a diferença entre o tempo atual e o início do ano. O resultado será o número de segundos entre esses dois tempos. Podemos usar a função `localtime()` para obter o tempo atual e a função `mktime()` para obter o tempo em 1 de janeiro de 2023 (ano deste material)."
   ]
  },
  {
   "cell_type": "code",
   "execution_count": 23,
   "metadata": {},
   "outputs": [
    {
     "name": "stdout",
     "output_type": "stream",
     "text": [
      "Diferença em segundos: 50161091.0\n"
     ]
    }
   ],
   "source": [
    "# Nesse caso verificamos o tempo que se passou desde o início de 2023 até o dia atual \n",
    "\n",
    "tempo_atual = time.localtime()\n",
    "tempo_ano_novo = time.mktime((2023, 1, 1, 0, 0, 0, 0, 0, 0))\n",
    "\n",
    "diferenca = time.mktime(tempo_atual) - tempo_ano_novo\n",
    "print(f\"Diferença em segundos: {diferenca}\") \n"
   ]
  },
  {
   "cell_type": "markdown",
   "metadata": {},
   "source": [
    "Guia para o módulo `datetime` em Python\n",
    "\n",
    "O módulo `datetime` em Python fornece classes para manipulação de datas e horas. Aqui está um guia simples para algumas das funções mais úteis deste módulo.\n",
    "\n",
    "datetime.datetime.now()\n",
    "\n",
    "A função `now()` retorna a data e a hora atuais. Vejamos:"
   ]
  },
  {
   "cell_type": "code",
   "execution_count": 24,
   "metadata": {},
   "outputs": [
    {
     "ename": "AttributeError",
     "evalue": "type object 'datetime.datetime' has no attribute 'datetime'",
     "output_type": "error",
     "traceback": [
      "\u001b[1;31m---------------------------------------------------------------------------\u001b[0m",
      "\u001b[1;31mAttributeError\u001b[0m                            Traceback (most recent call last)",
      "Cell \u001b[1;32mIn[24], line 5\u001b[0m\n\u001b[0;32m      1\u001b[0m \u001b[38;5;28;01mfrom\u001b[39;00m \u001b[38;5;21;01mdatetime\u001b[39;00m \u001b[38;5;28;01mimport\u001b[39;00m datetime \u001b[38;5;66;03m# isso \u001b[39;00m\n\u001b[0;32m      3\u001b[0m \u001b[38;5;66;03m#Dessa forma podemos ter a data e hora apartir dessa classe do datetime essa é apenas umas das classes do datetime onde podemos apenas importar parte do objeto e não necessáriamente ele todo.\u001b[39;00m\n\u001b[1;32m----> 5\u001b[0m agora \u001b[38;5;241m=\u001b[39m \u001b[43mdatetime\u001b[49m\u001b[38;5;241;43m.\u001b[39;49m\u001b[43mdatetime\u001b[49m\u001b[38;5;241m.\u001b[39mnow() \u001b[38;5;66;03m#Aqui temos o método now onde estou pegando apenas as informações de data e hora.\u001b[39;00m\n\u001b[0;32m      6\u001b[0m \u001b[38;5;28mprint\u001b[39m(agora)\n\u001b[0;32m      8\u001b[0m \u001b[38;5;66;03m#Já quando queremos apenas obter a hora e data separadamente usamos as funções date() e time()\u001b[39;00m\n",
      "\u001b[1;31mAttributeError\u001b[0m: type object 'datetime.datetime' has no attribute 'datetime'"
     ]
    }
   ],
   "source": [
    "from datetime import datetime # isso \n",
    "\n",
    "#Dessa forma podemos ter a data e hora apartir dessa classe do datetime essa é apenas umas das classes do datetime onde podemos apenas importar parte do objeto e não necessáriamente ele todo.\n",
    "\n",
    "agora = datetime.datetime.now() #Aqui temos o método now onde estou pegando apenas as informações de data e hora.\n",
    "print(agora)\n",
    "\n",
    "#Já quando queremos apenas obter a hora e data separadamente usamos as funções date() e time()\n",
    "\n",
    "print(agora.date())\n",
    "print(agora.time())\n"
   ]
  },
  {
   "cell_type": "code",
   "execution_count": null,
   "metadata": {},
   "outputs": [
    {
     "name": "stdout",
     "output_type": "stream",
     "text": [
      "Ano: 2024\n",
      "Mês: 7\n",
      "Dia: 22\n",
      "Hora: 20\n",
      "Minuto: 1\n",
      "Segundo: 20\n"
     ]
    }
   ],
   "source": [
    "#Aqui temos outras funções, que nos permite fazer a manipulação dessas informações pegando apenas informações pontuais.\n",
    "\n",
    "print(f\"Ano: {agora.year}\")\n",
    "print(f\"Mês: {agora.month}\")\n",
    "print(f\"Dia: {agora.day}\")\n",
    "print(f\"Hora: {agora.hour}\")\n",
    "print(f\"Minuto: {agora.minute}\")\n",
    "print(f\"Segundo: {agora.second}\")"
   ]
  },
  {
   "cell_type": "markdown",
   "metadata": {},
   "source": [
    " datetime.date.today()\n",
    "\n",
    "A função `today()` retorna a data atual."
   ]
  },
  {
   "cell_type": "code",
   "execution_count": null,
   "metadata": {},
   "outputs": [
    {
     "name": "stdout",
     "output_type": "stream",
     "text": [
      "Data atual: 2024-07-23\n"
     ]
    }
   ],
   "source": [
    "from datetime import date # nesse acoso estamos inportando do data time apenas a calsse date onde iremos fazer uso apenas da data\n",
    "\n",
    "hoje = date.today() #Para tal fazemos o uso do método today\n",
    "print(f\"Data atual: {hoje}\")\n",
    "\n",
    "#Como visto anteriormente podemos pegar apenas um elemento dessa data."
   ]
  },
  {
   "cell_type": "code",
   "execution_count": null,
   "metadata": {},
   "outputs": [
    {
     "name": "stdout",
     "output_type": "stream",
     "text": [
      "Ano de 2024\n",
      "mês de 7\n",
      "Dia de 23\n"
     ]
    }
   ],
   "source": [
    "print('Ano de {}'.format(hoje.year))\n",
    "print('mês de {}'.format(hoje.month))\n",
    "print('Dia de {}'.format(hoje.day))"
   ]
  },
  {
   "cell_type": "markdown",
   "metadata": {},
   "source": [
    "Quando falamos de datetime é impressionante como se faz possível fazer operações com a data com esse recurso.\n",
    "\n",
    "\n",
    "# datetime.timedelta()\n",
    "\n",
    "A classe `timedelta` é usada para realizar operações com datas (adição e subtração)."
   ]
  },
  {
   "cell_type": "code",
   "execution_count": null,
   "metadata": {},
   "outputs": [
    {
     "name": "stdout",
     "output_type": "stream",
     "text": [
      "Data atual: 2024-07-23 17:25:02.288450\n",
      "A data como 19 dias no futuro será de 2024-08-11 17:25:02.288450\n",
      "Data 10 dias no futuro: 2024-08-02 17:25:02.288450\n",
      "Data 10 dias no passado: 2024-07-13 17:25:02.288450\n"
     ]
    }
   ],
   "source": [
    "from datetime import datetime, timedelta\n",
    "\n",
    "data_atual = datetime.now()\n",
    "print(f\"Data atual: {data_atual}\")\n",
    "\n",
    "data_futuras = data_atual + timedelta(days = 19)\n",
    "print('A data como 19 dias no futuro será de {}'.format(data_futuras))\n",
    "\n",
    "data_futura = data_atual + timedelta(days=10)\n",
    "print(f\"Data 10 dias no futuro: {data_futura}\")\n",
    "\n",
    "data_passada = data_atual - timedelta(days=10)\n",
    "print(f\"Data 10 dias no passado: {data_passada}\")\n",
    "\n",
    "\n",
    "# Logo o datetime vem para facilitar as operações com a data e também as horas. Veja:\n",
    "\n",
    "dez_horas_adiante = data_atual + timedelta(hours=10)\n",
    "print(f\"10 horas adiante: {dez_horas_adiante}\")"
   ]
  },
  {
   "cell_type": "markdown",
   "metadata": {},
   "source": [
    "Criação de um objeto datetime\n",
    "\n",
    "Podemos criar um objeto datetime usando a classe `datetime`. O construtor da classe possui como principais argumentos:\n",
    "\n",
    "- `year`: ano (por exemplo, 2023)\n",
    "- `month`: mês (1-12)\n",
    "- `day`: dia (1-31)\n",
    "- `hour`: hora (0-23)\n",
    "- `minute`: minuto (0-59)\n",
    "- `second`: segundo (0-59)\n",
    "- `microsecond`: microssegundo (0-999999)\n",
    "- `tzinfo`: fuso horário\n",
    "\n",
    "\n",
    "    Obviamente que quando você não necessáriamente irá passar todas essas informações, porém ao fazer isso as informações devem ser definidas como minutio, dia, hora, dentre outras pois senão, o programa vai entender que voCê está passando essas informações na ordem padrão que o programa define."
   ]
  },
  {
   "cell_type": "code",
   "execution_count": null,
   "metadata": {},
   "outputs": [
    {
     "name": "stdout",
     "output_type": "stream",
     "text": [
      "Data 2024-06-20 06:30:56\n"
     ]
    }
   ],
   "source": [
    "from datetime import datetime\n",
    "data = datetime(2024, 6, 20, 6, 30, 56)\n",
    "print('Data {}'.format(data))"
   ]
  },
  {
   "cell_type": "code",
   "execution_count": null,
   "metadata": {},
   "outputs": [
    {
     "name": "stdout",
     "output_type": "stream",
     "text": [
      "Data 2024-06-20 00:00:00\n"
     ]
    }
   ],
   "source": [
    "from datetime import datetime\n",
    "data = datetime(2024, 6, 20)\n",
    "print('Data {}'.format(data))"
   ]
  },
  {
   "cell_type": "markdown",
   "metadata": {},
   "source": [
    "fromisoformat()` é um método de classe que converte uma string em um objeto datetime. Desde quê essa string siga o formato de data e hora de forma padronizada pela linguaegem"
   ]
  },
  {
   "cell_type": "code",
   "execution_count": null,
   "metadata": {},
   "outputs": [
    {
     "name": "stdout",
     "output_type": "stream",
     "text": [
      "Data/hora: 2023-06-26 15:30:20\n",
      "Data e hora definidas 2023-06-26 15:30:20\n"
     ]
    }
   ],
   "source": [
    "\n",
    "data_hora_definidas = datetime.fromisoformat('2023-06-26 15:30:20') #Aqui eu crio uma data toda criada por mim e foi reconhecida estando dessa forma \n",
    "print('Data e hora definidas {}'.format(data_hora_definidas))"
   ]
  },
  {
   "cell_type": "markdown",
   "metadata": {},
   "source": [
    "## Calcular a diferença entre duas datas\n",
    "\n",
    "Podemos calcular a diferença entre duas datas subtraindo uma da outra. O resultado será um objeto timedelta."
   ]
  },
  {
   "cell_type": "code",
   "execution_count": null,
   "metadata": {},
   "outputs": [
    {
     "name": "stdout",
     "output_type": "stream",
     "text": [
      "A diferença entre as duas datas é de 328 dias\n",
      "A data 1 é anterior que a data 2\n"
     ]
    }
   ],
   "source": [
    "from datetime import datetime\n",
    "data1 = datetime(2023, 8, 27)\n",
    "data2 = datetime(2024, 7, 20)\n",
    "\n",
    "\n",
    "diferenca = data2 - data1\n",
    "print('A diferença entre as duas datas é de {} dias'.format(diferenca.days))\n",
    "\n",
    "if data1 > data2:\n",
    "    print('A data 1 é posterior a data 2')\n",
    "elif data1 < data2:\n",
    "    print('A data 1 é anterior a data 2')\n",
    "else: \n",
    "    print('As datas são iguais')\n",
    "\n",
    "# Vale saber que a diferença entre duas datas usando o datatime o resultado obtido é um objeto do tipo timedelta\n"
   ]
  },
  {
   "cell_type": "markdown",
   "metadata": {},
   "source": [
    " Ordenando uma lista de datas\n",
    "\n",
    "Podemos usar a função `sorted` para ordenar uma lista de datas."
   ]
  },
  {
   "cell_type": "code",
   "execution_count": null,
   "metadata": {},
   "outputs": [
    {
     "name": "stdout",
     "output_type": "stream",
     "text": [
      "[datetime.datetime(2023, 5, 28, 0, 0), datetime.datetime(2023, 6, 18, 0, 0), datetime.datetime(2023, 6, 28, 0, 0), datetime.datetime(2023, 7, 28, 0, 0)]\n",
      "2023-05-28\n",
      "2023-06-18\n",
      "2023-06-28\n",
      "2023-07-28\n"
     ]
    }
   ],
   "source": [
    "from datetime import datetime\n",
    "\n",
    "datas = [\n",
    "    datetime(2023, 6, 28),\n",
    "    datetime(2023, 5, 28),\n",
    "    datetime(2023, 7, 28),\n",
    "    datetime(2023, 6, 18),\n",
    "]\n",
    "\n",
    "datas_ordenadas = sorted(datas) # Com o sorted fizemos a ordenação das datas\n",
    "\n",
    "print(datas_ordenadas)\n",
    "\n",
    "for data in datas_ordenadas: #Nesse momento percorremos as datas já ordenadas e em seseguda fazemos o print apenas das datas \n",
    "    print(data.date())"
   ]
  },
  {
   "cell_type": "markdown",
   "metadata": {},
   "source": [
    "Guia para o módulo `datetime` em Python\n",
    "\n",
    "O módulo `datetime` em Python fornece classes para manipulação de datas e horas. Aqui está um guia simples para algumas das funções mais úteis deste módulo."
   ]
  },
  {
   "cell_type": "markdown",
   "metadata": {},
   "source": [
    "datetime.datetime.strftime()\n",
    "\n",
    "A função `strftime()` converte um objeto datetime para uma string de acordo com um formato específico.\n",
    "\n",
    "Símbolos que podem ser usados para formatar datas podem ser achados [aqui](https://docs.python.org/3/library/datetime.html#strftime-and-strptime-format-codes).\n"
   ]
  },
  {
   "cell_type": "code",
   "execution_count": null,
   "metadata": {},
   "outputs": [
    {
     "name": "stdout",
     "output_type": "stream",
     "text": [
      "2024-07-24 20:42:53.961777\n"
     ]
    }
   ],
   "source": [
    "from datetime import datetime #primeiramente fizemos a omportação da biblioteca datatine e sua classe datetime \n",
    "\n",
    "agora = datetime.now() #Acessamos a hora de agora dentro da máquina e fazemos o seu print\n",
    "print(agora)"
   ]
  },
  {
   "cell_type": "code",
   "execution_count": null,
   "metadata": {},
   "outputs": [
    {
     "name": "stdout",
     "output_type": "stream",
     "text": [
      "<class 'datetime.datetime'>\n"
     ]
    }
   ],
   "source": [
    "#Consegumos fazer a verificação da tipagem dessa informação veja:\n",
    "\n",
    "print(type(agora))"
   ]
  },
  {
   "cell_type": "code",
   "execution_count": null,
   "metadata": {},
   "outputs": [
    {
     "name": "stdout",
     "output_type": "stream",
     "text": [
      "Wednesday\n",
      "Data formatada:  Wednesday 24 de July de 2024 --  20:42,53\n"
     ]
    }
   ],
   "source": [
    "print(agora.strftime('%A'))\n",
    "data_formatada = agora.strftime(\" %A %d de %B de %Y --  %H:%M,%S\")\n",
    "print(\"Data formatada: {}\".format(data_formatada))"
   ]
  },
  {
   "cell_type": "code",
   "execution_count": null,
   "metadata": {},
   "outputs": [
    {
     "name": "stdout",
     "output_type": "stream",
     "text": [
      "Essa é a data formatada sÃ¡bado, 27 de julho de 2024, 15: 57: 09\n"
     ]
    }
   ],
   "source": [
    "import locale\n",
    "\n",
    "from datetime import datetime\n",
    "\n",
    "#Definir a localidade para português \n",
    "\n",
    "locale.setlocale(locale.LC_TIME,'pt-br.utf-8')\n",
    "\n",
    "agora = datetime.now()\n",
    "data_formatada = agora.strftime(\"%A, %d de %B de %Y, %H: %M: %S\")\n",
    "print(\"Essa é a data formatada {}\".format(data_formatada))\n",
    " \n"
   ]
  },
  {
   "cell_type": "code",
   "execution_count": null,
   "metadata": {},
   "outputs": [
    {
     "name": "stdout",
     "output_type": "stream",
     "text": [
      "sÃ¡bado, 27 de julho de 2024, 15: 56: 09\n"
     ]
    }
   ],
   "source": [
    "print(data_formatada)"
   ]
  },
  {
   "cell_type": "markdown",
   "metadata": {},
   "source": [
    " datetime.datetime.strptime()\n",
    "\n",
    "A função `strptime()` analisa uma string representando uma data e hora de acordo com um formato. O retorno é um objeto datetime.\n",
    " comparação de strig com umformato e retornará um objeto do tiipo  datetime\n"
   ]
  },
  {
   "cell_type": "code",
   "execution_count": null,
   "metadata": {},
   "outputs": [
    {
     "name": "stdout",
     "output_type": "stream",
     "text": [
      "Data: 2023-06-30 15:30:20\n"
     ]
    }
   ],
   "source": [
    "from datetime import datetime\n",
    "\n",
    "string_data = \"30 Junho, 2023, 15:30:20\" # Eu tenho uma string que representa uma data\n",
    "formato = \"%d %B, %Y, %H:%M:%S\" # aqui passo a foramatação para cada um dos elementos presentes nessa string\n",
    "data = datetime.strptime(string_data, formato) # a variável recceberá a data data no formato date time com as informações passadas pela string no formato da variável formato.\n",
    "\n",
    "print(f\"Data: {data}\") \n",
    "\n",
    "# Obs o formato da data deve ser específicado pois o mesmo varia de acordo com a naicionalidade. Tem local onde o formato de data se mostra de uma forma e tem local que se mostra de outra. por isso a necessidade dessas especificações."
   ]
  },
  {
   "cell_type": "code",
   "execution_count": null,
   "metadata": {},
   "outputs": [
    {
     "name": "stdout",
     "output_type": "stream",
     "text": [
      "Data: 2023-06-09 15:30:20\n",
      "Data: 2023-09-06 15:30:20\n"
     ]
    }
   ],
   "source": [
    "# formato DD/MM/YYYY\n",
    "string_data = \"09/06/2023, 15:30:20\"\n",
    "formato = \"%d/%m/%Y, %H:%M:%S\"\n",
    "data = datetime.strptime(string_data, formato)\n",
    "\n",
    "print(f\"Data: {data}\")\n",
    "\n",
    "# formato MM/DD/YYYY\n",
    "string_data = \"09/06/2023, 15:30:20\"\n",
    "formato = \"%m/%d/%Y, %H:%M:%S\"\n",
    "data = datetime.strptime(string_data, formato)\n",
    "\n",
    "print(f\"Data: {data}\")"
   ]
  },
  {
   "cell_type": "markdown",
   "metadata": {},
   "source": [
    "## Trabalhando com fuso horário\n",
    "\n",
    "Podemos criar um objeto datetime usando a classe `datetime`. O construtor da classe aceita os seguintes argumentos:\n",
    "\n",
    "- `year`: ano (por exemplo, 2023)\n",
    "- `month`: mês (1-12)\n",
    "- `day`: dia (1-31)\n",
    "- `hour`: hora (0-23)\n",
    "- `minute`: minuto (0-59)\n",
    "- `second`: segundo (0-59)\n",
    "- `microsecond`: microssegundo (0-999999)\n",
    "- `tzinfo`: fuso horário"
   ]
  },
  {
   "cell_type": "code",
   "execution_count": null,
   "metadata": {},
   "outputs": [
    {
     "name": "stdout",
     "output_type": "stream",
     "text": [
      "Data/hora: 2023-06-26 15:30:20\n"
     ]
    }
   ],
   "source": [
    "from datetime import datetime\n",
    "\n",
    "data_hora = datetime(2023, 6, 26, 15, 30, 20)\n",
    "print(f\"Data/hora: {data_hora}\") "
   ]
  },
  {
   "cell_type": "markdown",
   "metadata": {},
   "source": [
    "Os horários que vimos até o momento são os que chamamos de ingênuos (*naive*). Eles não possuem informações sobre o fuso horário. Para criar um horário consciente (*aware*), precisamos passar um objeto `tzinfo` para o construtor da classe `datetime`. O módulo `datetime` fornece uma classe `timezone` que pode ser usada para criar um objeto `tzinfo`. No exemplo abaixo, usamos UTC como fuso horário. UTC significa Tempo Universal Coordenado, que é o fuso horário de referência a partir do qual todos os outros fusos horários são calculados.\n",
    "\n",
    "![UTC](https://upload.wikimedia.org/wikipedia/commons/thumb/8/88/World_Time_Zones_Map.png/800px-World_Time_Zones_Map.png)\n"
   ]
  },
  {
   "cell_type": "code",
   "execution_count": null,
   "metadata": {},
   "outputs": [
    {
     "name": "stdout",
     "output_type": "stream",
     "text": [
      "Data/hora : 2023-06-26 15:30:20+00:00\n"
     ]
    }
   ],
   "source": [
    "#Fazendo exemplo com fuso horário \n",
    "\n",
    "from datetime import datetime, timezone\n",
    "\n",
    "fuso_horario = timezone.utc\n",
    "data_hora = datetime(2023, 6, 26, 15, 30, 20, tzinfo = fuso_horario)\n",
    "print('Data/hora : {}'.format(data_hora))"
   ]
  },
  {
   "cell_type": "markdown",
   "metadata": {},
   "source": [
    "Podemos passar um objeto `timedelta` para o construtor da classe `timezone` para criar um fuso horário com um deslocamento específico. Por exemplo, o código abaixo cria um fuso horário com um deslocamento de 3 horas em relação ao UTC:"
   ]
  },
  {
   "cell_type": "code",
   "execution_count": null,
   "metadata": {},
   "outputs": [
    {
     "name": "stdout",
     "output_type": "stream",
     "text": [
      "Data/hora: 2023-06-26 15:30:20-03:00\n"
     ]
    }
   ],
   "source": [
    "# exemplo com fuso horário de São Paulo\n",
    "from datetime import datetime, timezone, timedelta\n",
    "\n",
    "fuso_horario_sao_paulo = timezone(timedelta(hours=-3))\n",
    "data_hora = datetime(2023, 6, 26, 15, 30, 20, tzinfo=fuso_horario_sao_paulo)\n",
    "print(f\"Data/hora: {data_hora}\")"
   ]
  },
  {
   "cell_type": "markdown",
   "metadata": {},
   "source": [
    "Como alternativa, podemos usar o módulo `zoneinfo` para criar um objeto `tzinfo`. O módulo `zoneinfo` está disponível na biblioteca padrão do Python desde a versão 3.9. O módulo `zoneinfo` fornece uma classe `ZoneInfo` que pode ser usada para criar um objeto `tzinfo`. No exemplo abaixo, usamos o fuso horário de São Paulo. Observe que não precisamos passar um objeto `timedelta` para o construtor da classe `ZoneInfo`."
   ]
  },
  {
   "cell_type": "code",
   "execution_count": null,
   "metadata": {},
   "outputs": [
    {
     "ename": "ZoneInfoNotFoundError",
     "evalue": "'No time zone found with key America/Sao_Paulo'",
     "output_type": "error",
     "traceback": [
      "\u001b[1;31m---------------------------------------------------------------------------\u001b[0m",
      "\u001b[1;31mModuleNotFoundError\u001b[0m                       Traceback (most recent call last)",
      "File \u001b[1;32mc:\\Users\\Israel\\AppData\\Local\\Programs\\Python\\Python312\\Lib\\zoneinfo\\_common.py:12\u001b[0m, in \u001b[0;36mload_tzdata\u001b[1;34m(key)\u001b[0m\n\u001b[0;32m     11\u001b[0m \u001b[38;5;28;01mtry\u001b[39;00m:\n\u001b[1;32m---> 12\u001b[0m     \u001b[38;5;28;01mreturn\u001b[39;00m \u001b[43mresources\u001b[49m\u001b[38;5;241;43m.\u001b[39;49m\u001b[43mfiles\u001b[49m\u001b[43m(\u001b[49m\u001b[43mpackage_name\u001b[49m\u001b[43m)\u001b[49m\u001b[38;5;241m.\u001b[39mjoinpath(resource_name)\u001b[38;5;241m.\u001b[39mopen(\u001b[38;5;124m\"\u001b[39m\u001b[38;5;124mrb\u001b[39m\u001b[38;5;124m\"\u001b[39m)\n\u001b[0;32m     13\u001b[0m \u001b[38;5;28;01mexcept\u001b[39;00m (\u001b[38;5;167;01mImportError\u001b[39;00m, \u001b[38;5;167;01mFileNotFoundError\u001b[39;00m, \u001b[38;5;167;01mUnicodeEncodeError\u001b[39;00m):\n\u001b[0;32m     14\u001b[0m     \u001b[38;5;66;03m# There are three types of exception that can be raised that all amount\u001b[39;00m\n\u001b[0;32m     15\u001b[0m     \u001b[38;5;66;03m# to \"we cannot find this key\":\u001b[39;00m\n\u001b[1;32m   (...)\u001b[0m\n\u001b[0;32m     22\u001b[0m     \u001b[38;5;66;03m# UnicodeEncodeError: If package_name or resource_name are not UTF-8,\u001b[39;00m\n\u001b[0;32m     23\u001b[0m     \u001b[38;5;66;03m#   such as keys containing a surrogate character.\u001b[39;00m\n",
      "File \u001b[1;32mc:\\Users\\Israel\\AppData\\Local\\Programs\\Python\\Python312\\Lib\\importlib\\resources\\_common.py:46\u001b[0m, in \u001b[0;36mpackage_to_anchor.<locals>.wrapper\u001b[1;34m(anchor, package)\u001b[0m\n\u001b[0;32m     45\u001b[0m     \u001b[38;5;28;01mreturn\u001b[39;00m func()\n\u001b[1;32m---> 46\u001b[0m \u001b[38;5;28;01mreturn\u001b[39;00m \u001b[43mfunc\u001b[49m\u001b[43m(\u001b[49m\u001b[43manchor\u001b[49m\u001b[43m)\u001b[49m\n",
      "File \u001b[1;32mc:\\Users\\Israel\\AppData\\Local\\Programs\\Python\\Python312\\Lib\\importlib\\resources\\_common.py:56\u001b[0m, in \u001b[0;36mfiles\u001b[1;34m(anchor)\u001b[0m\n\u001b[0;32m     53\u001b[0m \u001b[38;5;250m\u001b[39m\u001b[38;5;124;03m\"\"\"\u001b[39;00m\n\u001b[0;32m     54\u001b[0m \u001b[38;5;124;03mGet a Traversable resource for an anchor.\u001b[39;00m\n\u001b[0;32m     55\u001b[0m \u001b[38;5;124;03m\"\"\"\u001b[39;00m\n\u001b[1;32m---> 56\u001b[0m \u001b[38;5;28;01mreturn\u001b[39;00m from_package(\u001b[43mresolve\u001b[49m\u001b[43m(\u001b[49m\u001b[43manchor\u001b[49m\u001b[43m)\u001b[49m)\n",
      "File \u001b[1;32mc:\\Users\\Israel\\AppData\\Local\\Programs\\Python\\Python312\\Lib\\functools.py:909\u001b[0m, in \u001b[0;36msingledispatch.<locals>.wrapper\u001b[1;34m(*args, **kw)\u001b[0m\n\u001b[0;32m    906\u001b[0m     \u001b[38;5;28;01mraise\u001b[39;00m \u001b[38;5;167;01mTypeError\u001b[39;00m(\u001b[38;5;124mf\u001b[39m\u001b[38;5;124m'\u001b[39m\u001b[38;5;132;01m{\u001b[39;00mfuncname\u001b[38;5;132;01m}\u001b[39;00m\u001b[38;5;124m requires at least \u001b[39m\u001b[38;5;124m'\u001b[39m\n\u001b[0;32m    907\u001b[0m                     \u001b[38;5;124m'\u001b[39m\u001b[38;5;124m1 positional argument\u001b[39m\u001b[38;5;124m'\u001b[39m)\n\u001b[1;32m--> 909\u001b[0m \u001b[38;5;28;01mreturn\u001b[39;00m \u001b[43mdispatch\u001b[49m\u001b[43m(\u001b[49m\u001b[43margs\u001b[49m\u001b[43m[\u001b[49m\u001b[38;5;241;43m0\u001b[39;49m\u001b[43m]\u001b[49m\u001b[38;5;241;43m.\u001b[39;49m\u001b[38;5;18;43m__class__\u001b[39;49m\u001b[43m)\u001b[49m\u001b[43m(\u001b[49m\u001b[38;5;241;43m*\u001b[39;49m\u001b[43margs\u001b[49m\u001b[43m,\u001b[49m\u001b[43m \u001b[49m\u001b[38;5;241;43m*\u001b[39;49m\u001b[38;5;241;43m*\u001b[39;49m\u001b[43mkw\u001b[49m\u001b[43m)\u001b[49m\n",
      "File \u001b[1;32mc:\\Users\\Israel\\AppData\\Local\\Programs\\Python\\Python312\\Lib\\importlib\\resources\\_common.py:82\u001b[0m, in \u001b[0;36m_\u001b[1;34m(cand)\u001b[0m\n\u001b[0;32m     80\u001b[0m \u001b[38;5;129m@resolve\u001b[39m\u001b[38;5;241m.\u001b[39mregister\n\u001b[0;32m     81\u001b[0m \u001b[38;5;28;01mdef\u001b[39;00m \u001b[38;5;21m_\u001b[39m(cand: \u001b[38;5;28mstr\u001b[39m) \u001b[38;5;241m-\u001b[39m\u001b[38;5;241m>\u001b[39m types\u001b[38;5;241m.\u001b[39mModuleType:\n\u001b[1;32m---> 82\u001b[0m     \u001b[38;5;28;01mreturn\u001b[39;00m \u001b[43mimportlib\u001b[49m\u001b[38;5;241;43m.\u001b[39;49m\u001b[43mimport_module\u001b[49m\u001b[43m(\u001b[49m\u001b[43mcand\u001b[49m\u001b[43m)\u001b[49m\n",
      "File \u001b[1;32mc:\\Users\\Israel\\AppData\\Local\\Programs\\Python\\Python312\\Lib\\importlib\\__init__.py:90\u001b[0m, in \u001b[0;36mimport_module\u001b[1;34m(name, package)\u001b[0m\n\u001b[0;32m     89\u001b[0m         level \u001b[38;5;241m+\u001b[39m\u001b[38;5;241m=\u001b[39m \u001b[38;5;241m1\u001b[39m\n\u001b[1;32m---> 90\u001b[0m \u001b[38;5;28;01mreturn\u001b[39;00m \u001b[43m_bootstrap\u001b[49m\u001b[38;5;241;43m.\u001b[39;49m\u001b[43m_gcd_import\u001b[49m\u001b[43m(\u001b[49m\u001b[43mname\u001b[49m\u001b[43m[\u001b[49m\u001b[43mlevel\u001b[49m\u001b[43m:\u001b[49m\u001b[43m]\u001b[49m\u001b[43m,\u001b[49m\u001b[43m \u001b[49m\u001b[43mpackage\u001b[49m\u001b[43m,\u001b[49m\u001b[43m \u001b[49m\u001b[43mlevel\u001b[49m\u001b[43m)\u001b[49m\n",
      "File \u001b[1;32m<frozen importlib._bootstrap>:1387\u001b[0m, in \u001b[0;36m_gcd_import\u001b[1;34m(name, package, level)\u001b[0m\n",
      "File \u001b[1;32m<frozen importlib._bootstrap>:1360\u001b[0m, in \u001b[0;36m_find_and_load\u001b[1;34m(name, import_)\u001b[0m\n",
      "File \u001b[1;32m<frozen importlib._bootstrap>:1310\u001b[0m, in \u001b[0;36m_find_and_load_unlocked\u001b[1;34m(name, import_)\u001b[0m\n",
      "File \u001b[1;32m<frozen importlib._bootstrap>:488\u001b[0m, in \u001b[0;36m_call_with_frames_removed\u001b[1;34m(f, *args, **kwds)\u001b[0m\n",
      "File \u001b[1;32m<frozen importlib._bootstrap>:1387\u001b[0m, in \u001b[0;36m_gcd_import\u001b[1;34m(name, package, level)\u001b[0m\n",
      "File \u001b[1;32m<frozen importlib._bootstrap>:1360\u001b[0m, in \u001b[0;36m_find_and_load\u001b[1;34m(name, import_)\u001b[0m\n",
      "File \u001b[1;32m<frozen importlib._bootstrap>:1310\u001b[0m, in \u001b[0;36m_find_and_load_unlocked\u001b[1;34m(name, import_)\u001b[0m\n",
      "File \u001b[1;32m<frozen importlib._bootstrap>:488\u001b[0m, in \u001b[0;36m_call_with_frames_removed\u001b[1;34m(f, *args, **kwds)\u001b[0m\n",
      "File \u001b[1;32m<frozen importlib._bootstrap>:1387\u001b[0m, in \u001b[0;36m_gcd_import\u001b[1;34m(name, package, level)\u001b[0m\n",
      "File \u001b[1;32m<frozen importlib._bootstrap>:1360\u001b[0m, in \u001b[0;36m_find_and_load\u001b[1;34m(name, import_)\u001b[0m\n",
      "File \u001b[1;32m<frozen importlib._bootstrap>:1324\u001b[0m, in \u001b[0;36m_find_and_load_unlocked\u001b[1;34m(name, import_)\u001b[0m\n",
      "\u001b[1;31mModuleNotFoundError\u001b[0m: No module named 'tzdata'",
      "\nDuring handling of the above exception, another exception occurred:\n",
      "\u001b[1;31mZoneInfoNotFoundError\u001b[0m                     Traceback (most recent call last)",
      "Cell \u001b[1;32mIn[52], line 5\u001b[0m\n\u001b[0;32m      2\u001b[0m \u001b[38;5;28;01mfrom\u001b[39;00m \u001b[38;5;21;01mdatetime\u001b[39;00m \u001b[38;5;28;01mimport\u001b[39;00m datetime\n\u001b[0;32m      3\u001b[0m \u001b[38;5;28;01mfrom\u001b[39;00m \u001b[38;5;21;01mzoneinfo\u001b[39;00m \u001b[38;5;28;01mimport\u001b[39;00m ZoneInfo\n\u001b[1;32m----> 5\u001b[0m fuso_horario_sao_paulo \u001b[38;5;241m=\u001b[39m \u001b[43mZoneInfo\u001b[49m\u001b[43m(\u001b[49m\u001b[38;5;124;43m'\u001b[39;49m\u001b[38;5;124;43mAmerica/Sao_Paulo\u001b[39;49m\u001b[38;5;124;43m'\u001b[39;49m\u001b[43m)\u001b[49m\n\u001b[0;32m      6\u001b[0m data_hora \u001b[38;5;241m=\u001b[39m datetime(\u001b[38;5;241m2023\u001b[39m, \u001b[38;5;241m6\u001b[39m, \u001b[38;5;241m26\u001b[39m, \u001b[38;5;241m15\u001b[39m, \u001b[38;5;241m30\u001b[39m, \u001b[38;5;241m20\u001b[39m, tzinfo\u001b[38;5;241m=\u001b[39mfuso_horario_sao_paulo)\n\u001b[0;32m      7\u001b[0m \u001b[38;5;28mprint\u001b[39m(\u001b[38;5;124mf\u001b[39m\u001b[38;5;124m\"\u001b[39m\u001b[38;5;124mData/hora: \u001b[39m\u001b[38;5;132;01m{\u001b[39;00mdata_hora\u001b[38;5;132;01m}\u001b[39;00m\u001b[38;5;124m\"\u001b[39m)\n",
      "File \u001b[1;32mc:\\Users\\Israel\\AppData\\Local\\Programs\\Python\\Python312\\Lib\\zoneinfo\\_common.py:24\u001b[0m, in \u001b[0;36mload_tzdata\u001b[1;34m(key)\u001b[0m\n\u001b[0;32m     12\u001b[0m     \u001b[38;5;28;01mreturn\u001b[39;00m resources\u001b[38;5;241m.\u001b[39mfiles(package_name)\u001b[38;5;241m.\u001b[39mjoinpath(resource_name)\u001b[38;5;241m.\u001b[39mopen(\u001b[38;5;124m\"\u001b[39m\u001b[38;5;124mrb\u001b[39m\u001b[38;5;124m\"\u001b[39m)\n\u001b[0;32m     13\u001b[0m \u001b[38;5;28;01mexcept\u001b[39;00m (\u001b[38;5;167;01mImportError\u001b[39;00m, \u001b[38;5;167;01mFileNotFoundError\u001b[39;00m, \u001b[38;5;167;01mUnicodeEncodeError\u001b[39;00m):\n\u001b[0;32m     14\u001b[0m     \u001b[38;5;66;03m# There are three types of exception that can be raised that all amount\u001b[39;00m\n\u001b[0;32m     15\u001b[0m     \u001b[38;5;66;03m# to \"we cannot find this key\":\u001b[39;00m\n\u001b[1;32m   (...)\u001b[0m\n\u001b[0;32m     22\u001b[0m     \u001b[38;5;66;03m# UnicodeEncodeError: If package_name or resource_name are not UTF-8,\u001b[39;00m\n\u001b[0;32m     23\u001b[0m     \u001b[38;5;66;03m#   such as keys containing a surrogate character.\u001b[39;00m\n\u001b[1;32m---> 24\u001b[0m     \u001b[38;5;28;01mraise\u001b[39;00m ZoneInfoNotFoundError(\u001b[38;5;124mf\u001b[39m\u001b[38;5;124m\"\u001b[39m\u001b[38;5;124mNo time zone found with key \u001b[39m\u001b[38;5;132;01m{\u001b[39;00mkey\u001b[38;5;132;01m}\u001b[39;00m\u001b[38;5;124m\"\u001b[39m)\n",
      "\u001b[1;31mZoneInfoNotFoundError\u001b[0m: 'No time zone found with key America/Sao_Paulo'"
     ]
    }
   ],
   "source": [
    "# exemplo com fuso horário de São Paulo sem necessidade de timedelta\n",
    "from datetime import datetime\n",
    "from zoneinfo import ZoneInfo\n",
    "\n",
    "fuso_horario_sao_paulo = ZoneInfo('America/Sao_Paulo')\n",
    "data_hora = datetime(2023, 6, 26, 15, 30, 20, tzinfo=fuso_horario_sao_paulo)\n",
    "print(f\"Data/hora: {data_hora}\")\n",
    "\n",
    "#Para mim isso não funcionou, não sei se por algumerro na configuração ou algo do tipo. logo nos proximos códigos farei uso da forma anterior."
   ]
  },
  {
   "cell_type": "markdown",
   "metadata": {},
   "source": [
    "# Conversão entre fusos horários\n",
    "\n",
    "Podemos converter um objeto datetime de um fuso horário para outro usando o método `astimezone()`."
   ]
  },
  {
   "cell_type": "code",
   "execution_count": null,
   "metadata": {},
   "outputs": [
    {
     "name": "stdout",
     "output_type": "stream",
     "text": [
      "Data/hora atual (fuso horário local): 2024-07-28 10:13:45.545921\n"
     ]
    }
   ],
   "source": [
    "from datetime import datetime, timezone, timedelta\n",
    "\n",
    " \n",
    "data_hora_atual = datetime.now()  # aqui fazemos a coleta do horário atual apartir do que é coletado no meu aparelho. \n",
    "print(f\"Data/hora atual (fuso horário local): {data_hora_atual}\") # print da data atual.  "
   ]
  },
  {
   "cell_type": "code",
   "execution_count": null,
   "metadata": {},
   "outputs": [
    {
     "name": "stdout",
     "output_type": "stream",
     "text": [
      "Data/hora: 2024-07-28 10:13:45.545921-03:00\n"
     ]
    }
   ],
   "source": [
    "fuso_horario_sao_paulo = timezone(timedelta(hours=-3)) # Definimos aparir aqui o fuso horario qual temos que fazer essa transformação. Nesse caso a transformação será para o fuso horário segundo o horáraio de são paulo \n",
    "data_hora_desaopaulo = data_hora_atual.astimezone(fuso_horario_sao_paulo) # Aqui jpa fazemos a tranformação do horário atual  seguindo os parâmetros de horário tidos na variável do fuso de são paulo \n",
    "print(f\"Data/hora em São Paulo são de exatamente: {data_hora_desaopaulo }\") #Como minha região está no mesmo fuso não haverá mudança de horário nessa saída, mesmo sendo acrescentado na informa ção uma diferença de -3 segundo a UTC. "
   ]
  },
  {
   "cell_type": "code",
   "execution_count": null,
   "metadata": {},
   "outputs": [
    {
     "name": "stdout",
     "output_type": "stream",
     "text": [
      "Data/hora nos Estados Unidos são exatamente: 2024-07-28 09:13:45.545921-04:00\n"
     ]
    }
   ],
   "source": [
    "fuso_horario_estados_unidos = timezone(timedelta(hours=-4)) # Definimos aparir aqui o fuso horario qual temos que fazer essa transformação. Nesse caso a transformação será para o fuso horário segundo o horáraio dos Estados Unidos \n",
    "data_hora_dosEUA = data_hora_atual.astimezone(fuso_horario_estados_unidos) # Aqui jpa fazemos a tranformação do horário atual  seguindo os parâmetros de horário tidos na variável do fuso dos EUA \n",
    "print(f\"Data/hora nos Estados Unidos são exatamente: {data_hora_dosEUA }\") # Perceba que nessa saída, diferentemente da anteerior temos uma mudança no horário já que nesse caso não estou na mesma região de fuso dos estados unidos, logo, existe uma mudança de fuso horário segundo a utc, e nesse caso, será de quatro horas, ou seja, uma hora a menos que minha região. "
   ]
  },
  {
   "cell_type": "markdown",
   "metadata": {},
   "source": [
    "# Usando módulos para ajudar a resolver desafios\n",
    "\n",
    "### Objetivo\n",
    "\n",
    "- Muitas vezes algum módulo vai ajudar a gente a resolver um desafio que talvez até conseguíssemos resolver de outra forma.\n",
    "\n",
    "### Exemplo\n",
    "\n",
    "- Digamos que você está analisando todas as vendas dos produtos de tecnologia de um e-commerce e quer saber quais foram os 5 produtos que mais venderam (e suas respectivas quantidades de vendas) - ou seja, queremos descobrir um top 3 produtos de forma simples"
   ]
  },
  {
   "cell_type": "code",
   "execution_count": null,
   "metadata": {},
   "outputs": [
    {
     "name": "stdout",
     "output_type": "stream",
     "text": [
      "[('notebook dell', 17000), ('iphone', 15000), ('ps5', 14300)]\n"
     ]
    }
   ],
   "source": [
    "from collections import Counter\n",
    "vendas_tecnologia = {'notebook asus': 2450, 'iphone': 15000, 'samsung galaxy': 12000, 'tv samsung': 10000, 'ps5': 14300, 'tablet': 1720, 'notebook dell': 17000, 'ipad': 1000, 'tv philco': 2500, 'notebook hp': 1000}\n",
    "\n",
    "aux = Counter(vendas_tecnologia)\n",
    "print(aux.most_common(3))"
   ]
  },
  {
   "cell_type": "markdown",
   "metadata": {},
   "source": [
    "# Como instalar um Módulo/Biblioteca que não tenha no seu computador\n",
    "\n",
    "### Estrutura:\n",
    "\n",
    "- Usaremos o \"pip\" para isso. É um gerenciador de módulos/pacotes/bibliotecas que ajuda a gente a instalar, atualizar, desinstalar novos módulos\n",
    "- Não precisa dominar pip, apenas os comandos que vamos usar aqui mesmo\n",
    "\n",
    "Passo 1: Abrir o Prompt do Anaconda<br>\n",
    "Passo 2: Instalar com o pip os pacotes que quiser<br>\n",
    "Passo 3: Reiniciar o Jupyter (nem sempre necessário, mas na dúvida é melhor fazer)<br>"
   ]
  },
  {
   "cell_type": "code",
   "execution_count": null,
   "metadata": {},
   "outputs": [],
   "source": [
    "import keyboard\n",
    "import time \n",
    "\n",
    "keyboard.press_and_release('win')\n",
    "time.sleep(2)\n",
    "keyboard.write(\"chrome\")\n",
    "time.sleep(2)\n",
    "keyboard.press_and_release('enter')\n",
    "time.sleep(5)\n",
    "keyboard.write('google')\n",
    "time.sleep(2)\n",
    "keyboard.press_and_release('enter')"
   ]
  },
  {
   "cell_type": "markdown",
   "metadata": {},
   "source": [
    "# Exibindo Gráficos no Python\n",
    "\n",
    "### Importância\n",
    "\n",
    "- Para exploração e visualização de dados, nada melhor do que usar gráficos para isso. Apesar do Python ser programação, gráficos facilitam d+ em qualquer projeto que trabalhe com dados.\n",
    "\n",
    "### Estrutura\n",
    "\n",
    "- Usaremos o módulo Matplotlib.pyplot, que é o módulo mais usado no Python. Existem outros, como o Seaborn e o Plotly, caso queira ver/usar"
   ]
  },
  {
   "cell_type": "code",
   "execution_count": null,
   "metadata": {},
   "outputs": [
    {
     "name": "stdout",
     "output_type": "stream",
     "text": [
      "Requirement already satisfied: matplotlib in c:\\users\\israel\\appdata\\local\\programs\\python\\python312\\lib\\site-packages (3.9.1)\n",
      "Requirement already satisfied: contourpy>=1.0.1 in c:\\users\\israel\\appdata\\local\\programs\\python\\python312\\lib\\site-packages (from matplotlib) (1.2.1)\n",
      "Requirement already satisfied: cycler>=0.10 in c:\\users\\israel\\appdata\\local\\programs\\python\\python312\\lib\\site-packages (from matplotlib) (0.12.1)\n",
      "Requirement already satisfied: fonttools>=4.22.0 in c:\\users\\israel\\appdata\\local\\programs\\python\\python312\\lib\\site-packages (from matplotlib) (4.53.1)\n",
      "Requirement already satisfied: kiwisolver>=1.3.1 in c:\\users\\israel\\appdata\\local\\programs\\python\\python312\\lib\\site-packages (from matplotlib) (1.4.5)\n",
      "Requirement already satisfied: numpy>=1.23 in c:\\users\\israel\\appdata\\local\\programs\\python\\python312\\lib\\site-packages (from matplotlib) (2.0.1)\n",
      "Requirement already satisfied: packaging>=20.0 in c:\\users\\israel\\appdata\\roaming\\python\\python312\\site-packages (from matplotlib) (23.2)\n",
      "Requirement already satisfied: pillow>=8 in c:\\users\\israel\\appdata\\local\\programs\\python\\python312\\lib\\site-packages (from matplotlib) (10.4.0)\n",
      "Requirement already satisfied: pyparsing>=2.3.1 in c:\\users\\israel\\appdata\\local\\programs\\python\\python312\\lib\\site-packages (from matplotlib) (3.1.2)\n",
      "Requirement already satisfied: python-dateutil>=2.7 in c:\\users\\israel\\appdata\\roaming\\python\\python312\\site-packages (from matplotlib) (2.8.2)\n",
      "Requirement already satisfied: six>=1.5 in c:\\users\\israel\\appdata\\roaming\\python\\python312\\site-packages (from python-dateutil>=2.7->matplotlib) (1.16.0)\n",
      "Note: you may need to restart the kernel to use updated packages.\n"
     ]
    },
    {
     "name": "stderr",
     "output_type": "stream",
     "text": [
      "\n",
      "[notice] A new release of pip is available: 24.0 -> 24.1.2\n",
      "[notice] To update, run: python.exe -m pip install --upgrade pip\n"
     ]
    }
   ],
   "source": [
    "pip install matplotlib"
   ]
  },
  {
   "cell_type": "code",
   "execution_count": null,
   "metadata": {},
   "outputs": [
    {
     "data": {
      "image/png": "[encoded data removed]",
      "text/plain": [
       "<Figure size 640x480 with 1 Axes>"
      ]
     },
     "metadata": {},
     "output_type": "display_data"
    }
   ],
   "source": [
    "vendas_meses = [1500, 1727, 1350, 999, 1050, 1027, 1022, 1500, 2000, 2362, 2100, 2762]\n",
    "meses = ['jan', 'fev', 'mar', 'abr', 'mai', 'jun', 'jul', 'ago', 'set', 'out', 'nov', 'dez']\n",
    "\n",
    "\n",
    "\n",
    "import matplotlib.pyplot as plt\n",
    "\n",
    "plt.plot(meses, vendas_meses) # Dentro do plot pode-se ser passado duas listas para se conectarem na aprsentação.\n",
    "plt.ylabel(\"vendas\") # Com esse recurso label damos um nome ao eixo Y do gráfico \n",
    "plt.xlabel('Meses') # com esse recurso label damso um nome ao eixo X do gráfico\n",
    "plt.axis([0,12,0,max(vendas_meses) + 500]) #Quando usamos essa configuração do axis, definimos um valor máximo e minimo para o eixo X e Y nessa sequência. para que o gráfico sempre se adapte ao maximo da lista usamos o max(Aqui colocamos a lista de referência), e sempre que adicionamos um novo valor o gráfico irá se adaptar.\n",
    "plt.show() #essa configuração é a apresentação do gráfico. todas as outras configurações em relação ao mesmo devem ser postas antes do mesmo.\n",
    "\n",
    "\n",
    "\n",
    "\n",
    "#plotar o gráfico da forma mais simples "
   ]
  },
  {
   "cell_type": "markdown",
   "metadata": {},
   "source": [
    "## Mais edições de gráficos  como matplotlib"
   ]
  },
  {
   "cell_type": "code",
   "execution_count": null,
   "metadata": {},
   "outputs": [
    {
     "name": "stdout",
     "output_type": "stream",
     "text": [
      "Requirement already satisfied: numpy in c:\\users\\israel\\appdata\\local\\programs\\python\\python312\\lib\\site-packages (2.0.1)\n",
      "Note: you may need to restart the kernel to use updated packages.\n"
     ]
    },
    {
     "name": "stderr",
     "output_type": "stream",
     "text": [
      "\n",
      "[notice] A new release of pip is available: 24.0 -> 24.2\n",
      "[notice] To update, run: python.exe -m pip install --upgrade pip\n"
     ]
    }
   ],
   "source": [
    "pip install numpy"
   ]
  },
  {
   "cell_type": "code",
   "execution_count": 27,
   "metadata": {},
   "outputs": [],
   "source": [
    "import matplotlib.pyplot as plt"
   ]
  },
  {
   "cell_type": "code",
   "execution_count": 28,
   "metadata": {},
   "outputs": [],
   "source": [
    "import numpy as np"
   ]
  },
  {
   "cell_type": "markdown",
   "metadata": {},
   "source": [
    "Outros tipos de gráficos "
   ]
  },
  {
   "cell_type": "code",
   "execution_count": 29,
   "metadata": {},
   "outputs": [
    {
     "name": "stdout",
     "output_type": "stream",
     "text": [
      "[ 1  2  3  4  5  6  7  8  9 10 11 12 13 14 15 16 17 18 19 20 21 22 23 24\n",
      " 25 26 27 28 29 30 31 32 33 34 35 36 37 38 39 40 41 42 43 44 45 46 47 48\n",
      " 49 50]\n"
     ]
    }
   ],
   "source": [
    "vendas = np.random.randint(1000, 3000, 50) # Aqui com o numpy podemos gerar um conjunto de números aleatórios, seguindo a sequência temos o menor valor o valor máximo e a quantidade de valores\n",
    "meses = np.arange(1, 51)\n",
    "print(meses)"
   ]
  },
  {
   "cell_type": "code",
   "execution_count": 30,
   "metadata": {},
   "outputs": [
    {
     "data": {
      "image/png": "[encoded data removed]",
      "text/plain": [
       "<Figure size 640x480 with 1 Axes>"
      ]
     },
     "metadata": {},
     "output_type": "display_data"
    }
   ],
   "source": [
    "plt.plot(meses,vendas)\n",
    "plt.ylabel('vendas')\n",
    "plt.xlabel('meses')\n",
    "plt.axis([0,50 , 0, max(vendas) + 200])\n",
    "plt.show()"
   ]
  },
  {
   "cell_type": "markdown",
   "metadata": {},
   "source": [
    "#  Editando o gráfico de linhas e o mudando para marcadores."
   ]
  },
  {
   "cell_type": "code",
   "execution_count": 31,
   "metadata": {},
   "outputs": [
    {
     "data": {
      "image/png": "[encoded data removed]",
      "text/plain": [
       "<Figure size 640x480 with 1 Axes>"
      ]
     },
     "metadata": {},
     "output_type": "display_data"
    }
   ],
   "source": [
    "plt.plot(meses,vendas, 'bs') # recuros dentro do plot como o bs, g, r-- podemos mudar a aprensentação em relação as linhas do gráficos. exiistem muitas outras definições e uma infinidade para customização.\n",
    "plt.ylabel('vendas')\n",
    "plt.xlabel('meses')\n",
    "plt.axis([0,50 , 0, max(vendas) + 200])\n",
    "plt.show()"
   ]
  },
  {
   "cell_type": "code",
   "execution_count": 33,
   "metadata": {},
   "outputs": [
    {
     "data": {
      "image/png": "[encoded data removed]",
      "text/plain": [
       "<Figure size 640x480 with 1 Axes>"
      ]
     },
     "metadata": {},
     "output_type": "display_data"
    }
   ],
   "source": [
    "plt.plot(meses,vendas, color='green') # recuros dentro do plot como o color, podemos customizar nesse caso a linha do gráfico está pintaddo de roxo\n",
    "plt.ylabel('vendas')\n",
    "plt.xlabel('meses')\n",
    "plt.axis([0,50 , 0, max(vendas) + 200])\n",
    "plt.show()"
   ]
  },
  {
   "cell_type": "markdown",
   "metadata": {},
   "source": [
    "# Gráfico de dispersão"
   ]
  },
  {
   "cell_type": "code",
   "execution_count": 35,
   "metadata": {},
   "outputs": [
    {
     "data": {
      "image/png": "[encoded data removed]",
      "text/plain": [
       "<Figure size 640x480 with 1 Axes>"
      ]
     },
     "metadata": {},
     "output_type": "display_data"
    }
   ],
   "source": [
    "plt.scatter(meses, vendas, color= 'purple')\n",
    "plt.show()"
   ]
  },
  {
   "cell_type": "markdown",
   "metadata": {},
   "source": [
    "# Gráfico de barras. "
   ]
  },
  {
   "cell_type": "code",
   "execution_count": 36,
   "metadata": {},
   "outputs": [
    {
     "data": {
      "image/png": "[encoded data removed]",
      "text/plain": [
       "<Figure size 640x480 with 1 Axes>"
      ]
     },
     "metadata": {},
     "output_type": "display_data"
    }
   ],
   "source": [
    "plt.bar(meses, vendas)\n",
    "plt.show()\n",
    "\n",
    ")"
   ]
  },
  {
   "cell_type": "markdown",
   "metadata": {},
   "source": [
    "Para a criação de gráficos um ao lado do outro nós temos o que chamamos de figure() ou figura. o mesmo usa a apresentação desses gráficos como sendo uma única figura, ou seja um único espaço para colocarmos gráficos. Nesse espaço o que será feito é o que chamamos de subplots ou seja a intenção é plotar gráficos dentro do mesmo. para que isso seja feito é importante definir o indice da figura para que ela seja identificada. figure(1) em seguida você irá definir em qual fire se dará essa apresentação, quantos gráficos você deseja por um ao lado do outro e em seguida definir em qual posição esse gráfico irá ficar em ralação aos outros que serão inseridos. veja  o exemplo:"
   ]
  },
  {
   "cell_type": "code",
   "execution_count": 39,
   "metadata": {},
   "outputs": [
    {
     "data": {
      "image/png": "[encoded data removed]",
      "text/plain": [
       "<Figure size 1500x300 with 3 Axes>"
      ]
     },
     "metadata": {},
     "output_type": "display_data"
    }
   ],
   "source": [
    "plt.figure(1, figsize=(15, 3)) #Fazendo inclusive o uso do figsize para configurar a largura e altura da figura a apresentação da mesma se dará de uma melhor forma.\n",
    "\n",
    "plt.subplot(1,3,1)\n",
    "plt.scatter(meses, vendas, color= 'purple')\n",
    "\n",
    "plt.subplot(1,3,2)\n",
    "plt.bar(meses, vendas)\n",
    "\n",
    "plt.subplot(1,3,3)\n",
    "plt.plot(meses,vendas)\n",
    "plt.ylabel('vendas')\n",
    "plt.xlabel('meses')\n",
    "plt.axis([0,50 , 0, max(vendas) + 200])\n",
    "\n",
    "plt.show()"
   ]
  },
  {
   "cell_type": "code",
   "execution_count": null,
   "metadata": {},
   "outputs": [],
   "source": []
  }
 ],
 "metadata": {
  "kernelspec": {
   "display_name": "Python 3",
   "language": "python",
   "name": "python3"
  },
  "language_info": {
   "codemirror_mode": {
    "name": "ipython",
    "version": 3
   },
   "file_extension": ".py",
   "mimetype": "text/x-python",
   "name": "python",
   "nbconvert_exporter": "python",
   "pygments_lexer": "ipython3",
   "version": "3.12.2"
  }
 },
 "nbformat": 4,
 "nbformat_minor": 2
}
