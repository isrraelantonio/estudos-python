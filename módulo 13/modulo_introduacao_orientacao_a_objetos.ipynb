{
 "cells": [
  {
   "cell_type": "markdown",
   "metadata": {},
   "source": [
    "O que são Módulos e qual a importância deles?\n",
    "\n",
    "### Importância\n",
    "\n",
    "- Já tem muita coisa pronta, então você não precisa criar do zero.\n",
    "- Se você souber usar Módulos e como usar um módulo novo, você vai conseguir fazer praticamente tudo no Python\n",
    "\n",
    "### Estrutura Básica\n",
    "\n",
    "import\n",
    "\n",
    "ou \n",
    "\n",
    "import modulo as nome \n",
    "\n",
    "nesse caso você faz dessa forma se quiser mudar o nome do módulo."
   ]
  },
  {
   "cell_type": "markdown",
   "metadata": {},
   "source": [
    "- Exemplo: Como pode fazer o nosso código abrir um site específico na internet?\n"
   ]
  },
  {
   "cell_type": "code",
   "execution_count": 2,
   "metadata": {},
   "outputs": [
    {
     "data": {
      "text/plain": [
       "True"
      ]
     },
     "execution_count": 2,
     "metadata": {},
     "output_type": "execute_result"
    }
   ],
   "source": [
    "import webbrowser\n",
    "webbrowser.open('http://google.com')"
   ]
  },
  {
   "cell_type": "code",
   "execution_count": 3,
   "metadata": {},
   "outputs": [
    {
     "data": {
      "text/plain": [
       "True"
      ]
     },
     "execution_count": 3,
     "metadata": {},
     "output_type": "execute_result"
    }
   ],
   "source": [
    "# Agora faremos a renomeação desse módulo\n",
    "import webbrowser as ws\n",
    "\n",
    "ws.open('http://google.com')"
   ]
  },
  {
   "cell_type": "markdown",
   "metadata": {},
   "source": [
    "#Variações\n",
    "\n",
    "importar o módulo sem precisar usar o nome dele\n",
    "from modulo import *\n",
    "\n",
    "#importar apenas algumas partes do módulo\n",
    "from modulo import funcao1, funcao2, etc."
   ]
  },
  {
   "cell_type": "markdown",
   "metadata": {},
   "source": [
    "# Começando a ler um módulo\n",
    "\n",
    "### Vamos testar com o módulo WebBrowser:\n",
    "\n",
    "- Passo 1: Descobrir qual módulo precisamos usar e qual método do Módulo faz o que a gente quer.\n",
    "\n",
    "- Passo 2: Se precisarmos de mais alguma coisa do módulo, buscamos por soluções já escolhendo o módulo"
   ]
  },
  {
   "cell_type": "code",
   "execution_count": 4,
   "metadata": {},
   "outputs": [
    {
     "data": {
      "text/plain": [
       "True"
      ]
     },
     "execution_count": 4,
     "metadata": {},
     "output_type": "execute_result"
    }
   ],
   "source": [
    "import webbrowser\n",
    "\n",
    "webbrowser.open_new('https://hashtagtreinamentos.com')\n",
    "#webbrowser.open('https://www.hashtagtreinamentos.com/blog/')"
   ]
  },
  {
   "cell_type": "markdown",
   "metadata": {},
   "source": [
    "# Modulo time\n",
    "\n",
    "### Estrutura: Um dos módulos mais usados no Python para trabalhar com datas, fazer o programa esperar algum tempo"
   ]
  },
  {
   "cell_type": "code",
   "execution_count": 5,
   "metadata": {},
   "outputs": [
    {
     "name": "stdout",
     "output_type": "stream",
     "text": [
      "1720830255.5179002\n"
     ]
    }
   ],
   "source": [
    "import time\n",
    "\n",
    "#- Marco Zero: EPOCH (01 de janeiro de 1970 às 00:00:00) essa data é a data padrão de início da contagem, logo, ao fazer a contagem de segundos desde a data apresentada até o dia de hoje.\n",
    "\n",
    "#- time() retorna quantos segundos se passaram desde a EPOCH\n",
    "\n",
    "segundos_ate_hoje = time.time() \n",
    "print(segundos_ate_hoje)"
   ]
  },
  {
   "cell_type": "code",
   "execution_count": 6,
   "metadata": {},
   "outputs": [
    {
     "name": "stdout",
     "output_type": "stream",
     "text": [
      "Fri Jul 12 21:24:15 2024\n"
     ]
    }
   ],
   "source": [
    "data_hoje = time.ctime() # Essa função apresenta a contagem de tempo  de uma forma melhor conpreensível do que usando apenas os segundos.\n",
    "print(data_hoje)"
   ]
  },
  {
   "cell_type": "code",
   "execution_count": 7,
   "metadata": {},
   "outputs": [
    {
     "name": "stdout",
     "output_type": "stream",
     "text": [
      "O programa levou 44.83160662651062 segundos para rodar\n"
     ]
    }
   ],
   "source": [
    "tempo_inicial = time.time() #existem programas que exigem certa quantidade de tempo para rodar, e em muitos casos é importante ter conhecimento de quanto é essa duração, pois uma mudança de código pode prolongar esse tempo sendo necessário otimizações no mesmo para melhrar o seu desempenho. nessa primeira linha de código nós definimos o tempo inicial \n",
    "for i in range(100000000):  # Rodamos o código do nosso for \n",
    "    pass\n",
    "tempo_final = time.time() # identificamos o tempo até a finalzação do for \n",
    "duracao = tempo_final - tempo_inicial # fizemos a diferença do tempo antes e depois do for para identificar de quanto foi o mesmo. Lembrando que usamos o time.time(), se quisessemos saber em horas nos usariámos o time.ctime()\n",
    "\n",
    "print('O programa levou {} segundos para rodar'.format(duracao))"
   ]
  },
  {
   "cell_type": "code",
   "execution_count": 8,
   "metadata": {},
   "outputs": [
    {
     "name": "stdout",
     "output_type": "stream",
     "text": [
      "começando\n",
      "Rodou após 5 segundos.\n"
     ]
    }
   ],
   "source": [
    "# podemos com o time também definir um tempo de espera para que o código funcione.\n",
    "\n",
    "print('começando')\n",
    "time.sleep(5)\n",
    "print('Rodou após 5 segundos.')"
   ]
  },
  {
   "cell_type": "markdown",
   "metadata": {},
   "source": [
    "Pegar informações de dias, hora, minuto, segundo, tudo detalhado:\n",
    "- gmtime()\n",
    "- localtime()\n"
   ]
  },
  {
   "cell_type": "code",
   "execution_count": 9,
   "metadata": {},
   "outputs": [
    {
     "name": "stdout",
     "output_type": "stream",
     "text": [
      "time.struct_time(tm_year=2024, tm_mon=7, tm_mday=13, tm_hour=0, tm_min=25, tm_sec=6, tm_wday=5, tm_yday=195, tm_isdst=0)\n",
      "time.struct_time(tm_year=2024, tm_mon=7, tm_mday=12, tm_hour=21, tm_min=25, tm_sec=6, tm_wday=4, tm_yday=194, tm_isdst=0)\n"
     ]
    }
   ],
   "source": [
    "hora_geral = time.gmtime() # Nesse caso o horário usado é o horário internacional com três horas de diferença\n",
    "hora_local = time.localtime()\n",
    "\n",
    "print(hora_geral)\n",
    "print(hora_local)"
   ]
  },
  {
   "cell_type": "code",
   "execution_count": 12,
   "metadata": {},
   "outputs": [
    {
     "name": "stdout",
     "output_type": "stream",
     "text": [
      "Data 12/7/2024\n"
     ]
    }
   ],
   "source": [
    "dia = hora_local.tm_mday\n",
    "mes = hora_local.tm_mon\n",
    "ano = hora_local.tm_year\n",
    "dia_da_semana = hora_local.tm_wday\n",
    "print('Data {}/{}/{}'.format(dia, mes, ano))"
   ]
  },
  {
   "cell_type": "code",
   "execution_count": null,
   "metadata": {},
   "outputs": [],
   "source": [
    "#para mais informações ainda mais que na verdade para mais que na verdade para mais que na verdade ainda não seria mais infortmação ainda que na verdade onde mais que na verdade para mais "
   ]
  }
 ],
 "metadata": {
  "kernelspec": {
   "display_name": "Python 3",
   "language": "python",
   "name": "python3"
  },
  "language_info": {
   "codemirror_mode": {
    "name": "ipython",
    "version": 3
   },
   "file_extension": ".py",
   "mimetype": "text/x-python",
   "name": "python",
   "nbconvert_exporter": "python",
   "pygments_lexer": "ipython3",
   "version": "3.12.2"
  }
 },
 "nbformat": 4,
 "nbformat_minor": 2
}
