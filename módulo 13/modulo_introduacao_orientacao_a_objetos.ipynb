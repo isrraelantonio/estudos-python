{
 "cells": [
  {
   "cell_type": "markdown",
   "metadata": {},
   "source": [
    "O que são Módulos e qual a importância deles?\n",
    "\n",
    "### Importância\n",
    "\n",
    "- Já tem muita coisa pronta, então você não precisa criar do zero.\n",
    "- Se você souber usar Módulos e como usar um módulo novo, você vai conseguir fazer praticamente tudo no Python\n",
    "\n",
    "### Estrutura Básica\n",
    "\n",
    "import\n",
    "\n",
    "ou \n",
    "\n",
    "import modulo as nome \n",
    "\n",
    "nesse caso você faz dessa forma se quiser mudar o nome do módulo."
   ]
  },
  {
   "cell_type": "markdown",
   "metadata": {},
   "source": [
    "- Exemplo: Como pode fazer o nosso código abrir um site específico na internet?\n"
   ]
  },
  {
   "cell_type": "code",
   "execution_count": 2,
   "metadata": {},
   "outputs": [
    {
     "data": {
      "text/plain": [
       "True"
      ]
     },
     "execution_count": 2,
     "metadata": {},
     "output_type": "execute_result"
    }
   ],
   "source": [
    "import webbrowser\n",
    "webbrowser.open('http://google.com')"
   ]
  },
  {
   "cell_type": "code",
   "execution_count": 3,
   "metadata": {},
   "outputs": [
    {
     "data": {
      "text/plain": [
       "True"
      ]
     },
     "execution_count": 3,
     "metadata": {},
     "output_type": "execute_result"
    }
   ],
   "source": [
    "# Agora faremos a renomeação desse módulo\n",
    "import webbrowser as ws\n",
    "\n",
    "ws.open('http://google.com')"
   ]
  },
  {
   "cell_type": "markdown",
   "metadata": {},
   "source": [
    "#Variações\n",
    "\n",
    "importar o módulo sem precisar usar o nome dele\n",
    "from modulo import *\n",
    "\n",
    "#importar apenas algumas partes do módulo\n",
    "from modulo import funcao1, funcao2, etc."
   ]
  },
  {
   "cell_type": "markdown",
   "metadata": {},
   "source": [
    "# Começando a ler um módulo\n",
    "\n",
    "### Vamos testar com o módulo WebBrowser:\n",
    "\n",
    "- Passo 1: Descobrir qual módulo precisamos usar e qual método do Módulo faz o que a gente quer.\n",
    "\n",
    "- Passo 2: Se precisarmos de mais alguma coisa do módulo, buscamos por soluções já escolhendo o módulo"
   ]
  },
  {
   "cell_type": "code",
   "execution_count": 4,
   "metadata": {},
   "outputs": [
    {
     "data": {
      "text/plain": [
       "True"
      ]
     },
     "execution_count": 4,
     "metadata": {},
     "output_type": "execute_result"
    }
   ],
   "source": [
    "import webbrowser\n",
    "\n",
    "webbrowser.open_new('https://hashtagtreinamentos.com')\n",
    "#webbrowser.open('https://www.hashtagtreinamentos.com/blog/')"
   ]
  },
  {
   "cell_type": "markdown",
   "metadata": {},
   "source": [
    "# Modulo time\n",
    "\n",
    "### Estrutura: Um dos módulos mais usados no Python para trabalhar com datas, fazer o programa esperar algum tempo"
   ]
  },
  {
   "cell_type": "code",
   "execution_count": 5,
   "metadata": {},
   "outputs": [
    {
     "name": "stdout",
     "output_type": "stream",
     "text": [
      "1720561570.851295\n"
     ]
    }
   ],
   "source": [
    "import time\n",
    "\n",
    "#- Marco Zero: EPOCH (01 de janeiro de 1970 às 00:00:00) essa data é a data padrão de início da contagem, logo, ao fazer a contagem de segundos desde a data apresentada até o dia de hoje.\n",
    "\n",
    "#- time() retorna quantos segundos se passaram desde a EPOCH\n",
    "\n",
    "segundos_ate_hoje = time.time() \n",
    "print(segundos_ate_hoje)"
   ]
  },
  {
   "cell_type": "code",
   "execution_count": 6,
   "metadata": {},
   "outputs": [
    {
     "name": "stdout",
     "output_type": "stream",
     "text": [
      "Tue Jul  9 18:53:30 2024\n"
     ]
    }
   ],
   "source": [
    "data_hoje = time.ctime() # Essa função apresenta a contagem de tempo  de uma forma melhor conpreensível do que usando apenas os segundos.\n",
    "print(data_hoje)"
   ]
  },
  {
   "cell_type": "code",
   "execution_count": 7,
   "metadata": {},
   "outputs": [
    {
     "name": "stdout",
     "output_type": "stream",
     "text": [
      "O programa levou 37.360777139663696 segundos para rodar\n"
     ]
    }
   ],
   "source": [
    "tempo_inicial = time.time() #existem programas que exigem certa quantidade de tempo para rodar, e em muitos casos é importante ter conhecimento de quanto é essa duração, pois uma mudança de código pode prolongar esse tempo sendo necessário otimizações no mesmo para melhrar o seu desempenho. nessa primeira linha de código nós definimos o tempo inicial \n",
    "for i in range(100000000):  # Rodamos o código do nosso for \n",
    "    pass\n",
    "tempo_final = time.time() # identificamos o tempo até a finalzação do for \n",
    "duracao = tempo_final - tempo_inicial # fizemos a diferença do tempo antes e depois do for para identificar de quanto foi o mesmo. Lembrando que usamos o time.time(), se quisessemos saber em horas nos usariámos o time.ctime()\n",
    "\n",
    "print('O programa levou {} segundos para rodar'.format(duracao))"
   ]
  },
  {
   "cell_type": "code",
   "execution_count": 8,
   "metadata": {},
   "outputs": [
    {
     "name": "stdout",
     "output_type": "stream",
     "text": [
      "começando\n",
      "Rodou após 5 segundos.\n"
     ]
    }
   ],
   "source": [
    "# podemos com o time também definir um tempo de espera para que o código funcione.\n",
    "\n",
    "print('começando')\n",
    "time.sleep(5)\n",
    "print('Rodou após 5 segundos.')"
   ]
  }
 ],
 "metadata": {
  "kernelspec": {
   "display_name": "Python 3",
   "language": "python",
   "name": "python3"
  },
  "language_info": {
   "codemirror_mode": {
    "name": "ipython",
    "version": 3
   },
   "file_extension": ".py",
   "mimetype": "text/x-python",
   "name": "python",
   "nbconvert_exporter": "python",
   "pygments_lexer": "ipython3",
   "version": "3.12.2"
  }
 },
 "nbformat": 4,
 "nbformat_minor": 2
}
