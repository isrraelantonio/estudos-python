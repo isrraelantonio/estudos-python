{
 "cells": [
  {
   "cell_type": "markdown",
   "metadata": {},
   "source": [
    "<h5> O  recurso print dentro do python faz a impressão de qualquer texto dentro dele. O mesmo irá se encontrar dentro de parênteses e aspas..</h5>"
   ]
  },
  {
   "cell_type": "code",
   "execution_count": 2,
   "metadata": {},
   "outputs": [
    {
     "name": "stdout",
     "output_type": "stream",
     "text": [
      "ola mundo\n"
     ]
    }
   ],
   "source": [
    "print('ola mundo')"
   ]
  },
  {
   "cell_type": "markdown",
   "metadata": {},
   "source": [
    "<h5>Operações básicas em python</h5>\n",
    "\n",
    "para o python, se você não por nenhuma aspas dentro de parênteses e estiver usando sinais o mesmo irá efetuar a operação que se encontra dentro do parêntes. \n",
    "\n",
    " as operações seguem essa sequência: \n",
    " \n",
    "potenciação;\n",
    "\n",
    "resto da divisão; (ou um número mode outro)\n",
    "\n",
    "adição;\n",
    "\n",
    "multiplicação \n",
    "\n",
    "divisão (na divizão existe algo a se observar:Se um valor da divizão apresentar algum ponto o resultado também apresentará esse ponto. se for um úmero menor para um maior obviamente o resultado tabém  irá apresentar isso.)\n",
    "\n",
    "As operações em python seguem a mesma ordem da matemática habitual.\n",
    "\n",
    "\n",
    "\n",
    "o python também faz os apontamentos de erros, e isso é alarmado logo após a tentativa de execução do código."
   ]
  },
  {
   "cell_type": "code",
   "execution_count": 9,
   "metadata": {},
   "outputs": [
    {
     "name": "stdout",
     "output_type": "stream",
     "text": [
      "16\n",
      "1\n",
      "2\n",
      "1\n"
     ]
    },
    {
     "ename": "ZeroDivisionError",
     "evalue": "division by zero",
     "output_type": "error",
     "traceback": [
      "\u001b[1;31m---------------------------------------------------------------------------\u001b[0m",
      "\u001b[1;31mZeroDivisionError\u001b[0m                         Traceback (most recent call last)",
      "Cell \u001b[1;32mIn[9], line 9\u001b[0m\n\u001b[0;32m      5\u001b[0m \u001b[38;5;28mprint\u001b[39m (\u001b[38;5;241m1\u001b[39m \u001b[38;5;241m+\u001b[39m \u001b[38;5;241m1\u001b[39m)\n\u001b[0;32m      7\u001b[0m \u001b[38;5;28mprint\u001b[39m (\u001b[38;5;241m1\u001b[39m \u001b[38;5;241m*\u001b[39m \u001b[38;5;241m1\u001b[39m)\n\u001b[1;32m----> 9\u001b[0m \u001b[38;5;28mprint\u001b[39m (\u001b[38;5;241;43m4\u001b[39;49m\u001b[43m \u001b[49m\u001b[38;5;241;43m/\u001b[39;49m\u001b[43m \u001b[49m\u001b[38;5;241;43m0\u001b[39;49m)\n",
      "\u001b[1;31mZeroDivisionError\u001b[0m: division by zero"
     ]
    }
   ],
   "source": [
    "\n",
    "print (4 ** 2)\n",
    "\n",
    "print (7 % 3)\n",
    "\n",
    "print (1 + 1)\n",
    "\n",
    "print (1 * 1)\n",
    "\n",
    "print (4 / 0)\n",
    "\n",
    "\n"
   ]
  },
  {
   "cell_type": "markdown",
   "metadata": {},
   "source": [
    "Operações com strings permite concatenar, ou seja juntar os textos dentro do parentesês.\n",
    "\n",
    "também podemos usar o in dentro do parenteses para  verificar se um valor está contido dentro de outro. se verdadeiro a saída desse código será true se não será false. Lembrando que a palavra buscada deve ser igual a presente no texto, pois o python leva em consideração nesse caso e em outros o uso de letras maiúsculas e menúsculas. É o que chamamos de case sensitive."
   ]
  },
  {
   "cell_type": "code",
   "execution_count": 11,
   "metadata": {},
   "outputs": [
    {
     "name": "stdout",
     "output_type": "stream",
     "text": [
      "meu nome é israel\n",
      "True\n"
     ]
    }
   ],
   "source": [
    "print(\"meu nome é \" + \"israel\")\n",
    "\n",
    "print(   \"Belga\" in \"chocolate Belga\")\n",
    "\n"
   ]
  },
  {
   "cell_type": "markdown",
   "metadata": {},
   "source": [
    "Quando usamos variáveis dentro do python somos permitidos reservar espaço e ocupá-los com valores para reutilização e rápida atualização, até porque a variável poderá ter valor reatrbuído. Depois se for do sesejo podemos fazer o print dessas informações."
   ]
  },
  {
   "cell_type": "code",
   "execution_count": 12,
   "metadata": {},
   "outputs": [
    {
     "name": "stdout",
     "output_type": "stream",
     "text": [
      "isral silva\n",
      "200\n"
     ]
    }
   ],
   "source": [
    "quantidade_vendas = 200\n",
    "nome = \"isral silva\"\n",
    "\n",
    "print(nome)\n",
    "print(quantidade_vendas)"
   ]
  },
  {
   "cell_type": "code",
   "execution_count": null,
   "metadata": {},
   "outputs": [
    {
     "name": "stdout",
     "output_type": "stream",
     "text": [
      "260\n"
     ]
    }
   ],
   "source": [
    "faturamento = 300\n",
    "custo = 40\n",
    "\n",
    "lucro = faturamento - custo\n",
    "\n",
    "print (lucro)"
   ]
  },
  {
   "cell_type": "markdown",
   "metadata": {},
   "source": [
    "Para gegarmos as informações dentro do python usamos o input e o mesmo irá conter o que se deseja do usuário, o mesmo faz essa coleta  numa caixa aparecerá com esse fim, porém, só isso não é o suficiente. Para que a informação além de coletada seja armazenada usamos uma vaiável para recebê-la. essa variável virá antes do input que também será antecedido do sinal de recebe. Quando se coleta esse tipo de informação em caixas separadas ao pedir para que sejam printados, esse pinrt não acontece com espaçamento, logo, seria interessante entre eles fazer uma concatenação para que esse espaço aconteça."
   ]
  },
  {
   "cell_type": "code",
   "execution_count": 1,
   "metadata": {},
   "outputs": [
    {
     "name": "stdout",
     "output_type": "stream",
     "text": [
      "Israel antonio\n"
     ]
    }
   ],
   "source": [
    "nome = input(\"Digite aqui o seu nome\")\n",
    "sobrenome = input(\"Digite aqui o seu sobrenome\")\n",
    "\n",
    "print(nome + \"\"  + sobrenome )"
   ]
  }
 ],
 "metadata": {
  "kernelspec": {
   "display_name": "Python 3",
   "language": "python",
   "name": "python3"
  },
  "language_info": {
   "codemirror_mode": {
    "name": "ipython",
    "version": 3
   },
   "file_extension": ".py",
   "mimetype": "text/x-python",
   "name": "python",
   "nbconvert_exporter": "python",
   "pygments_lexer": "ipython3",
   "version": "3.12.2"
  }
 },
 "nbformat": 4,
 "nbformat_minor": 2
}
