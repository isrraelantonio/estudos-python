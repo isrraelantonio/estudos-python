{
 "cells": [
  {
   "cell_type": "markdown",
   "metadata": {},
   "source": [
    "\n",
    "<h4>Consições em python</h4>\n",
    "     O if para o python assim como para outras linguagens de programação, significa estrutura de decisão. Ao declarar o if o mesmo é procedido por um questionamento que em hipotese verdadeira, terá seu conteúdo será executado, em caso negativo, o programa só dará continuidade ao seu percurso. o conteúso do if deverá ter um epaçamento ao seu interior, é o que chamamos de tab para dentro, que de fato é um tabe que o seu conteúdo recebe. O if siginifica \"se sim, então:\"\n",
    "\n",
    "if condição:\n",
    "isso será executado caso a consição seja verdadeira.\n"
   ]
  },
  {
   "cell_type": "markdown",
   "metadata": {},
   "source": [
    "Digamos que você trabalha na Amazon (que tem centenas de milhares, se não milhões de produtos) e está analisando o resultado de vendas dos produtos.\n",
    "\n",
    "Você precisa criar um programa que vai analisar o resultado de vendas dos produtos da Amazon em um mês. Para simplificar vamos pensar em um único produto: um Iphone.\n",
    "\n",
    "Meta de Vendas do Iphone = 50.000 unidades<br>\n",
    "Quantidade vendida no Mês = 65.300 unidades\n",
    "\n",
    "O seu programa deve avisar (usaremos o print por enquanto) caso o produto tenha batido a meta do mês. Então devemos fazer:<br>\n",
    "- Caso o produto tenha batido a meta, devemos exibir a mensagem: \"Batemos a meta de vendas de Iphone, vendemos {} unidades\" \n",
    "- Se ele não bateu a meta do mês, o seu programa não deve fazer nada"
   ]
  },
  {
   "cell_type": "code",
   "execution_count": 3,
   "metadata": {},
   "outputs": [
    {
     "name": "stdout",
     "output_type": "stream",
     "text": [
      "Batemos a meta de vendas, vendemos 65400 unidades do iphone\n"
     ]
    }
   ],
   "source": [
    "meta_vendas = 50000\n",
    "quantidade_vendas = 65400\n",
    "\n",
    "if quantidade_vendas >= meta_vendas:\n",
    "    print(f\"Batemos a meta de vendas, vendemos {quantidade_vendas} unidades do iphone\")"
   ]
  },
  {
   "cell_type": "markdown",
   "metadata": {},
   "source": [
    "- existem casos que não queremos exibir algo apenas quanodo a condição é verdadeira, as vezes tambem queremos exibir algo quando a mesma também é falsa,  para ese caso em questão fazemos o uso do else o mesmo significa \"se não, então:\"\n",
    "\n",
    "\n",
    "if condição: \n",
    "    se a condição for verdadeira, faça isso.\n",
    "else: \n",
    "    se a condição for falsa, faça isso."
   ]
  },
  {
   "cell_type": "markdown",
   "metadata": {},
   "source": [
    "- Caso o produto tenha batido a meta, devemos exibir a mensagem: \"Batemos a meta de vendas de Iphone, vendemos {} unidades\" \n",
    "- Se ele não bateu a meta do mês, devemos exibir a mensagem: \"Infelizmente não batemos a meta, vendemos {} unidades. A meta era de {} unidades\"\n",
    "\n"
   ]
  },
  {
   "cell_type": "code",
   "execution_count": 5,
   "metadata": {},
   "outputs": [
    {
     "name": "stdout",
     "output_type": "stream",
     "text": [
      "Vendemos 654 unidades de iphone, infelizmente não batemos a meta de 50000 unidades de iphone\n"
     ]
    }
   ],
   "source": [
    "meta_vendas = 50000\n",
    "quantidade_vendas = 654\n",
    "\n",
    "if quantidade_vendas >= meta_vendas:\n",
    "    print(f\"Batemos a meta de vendas, vendemos {quantidade_vendas} unidades do iphone\")\n",
    "else: \n",
    "    print(f\"Vendemos {quantidade_vendas} unidades de iphone, infelizmente não batemos a meta de {meta_vendas} unidades de iphone\")"
   ]
  },
  {
   "cell_type": "markdown",
   "metadata": {},
   "source": [
    "Digamos que você precisa criar um programa para um fundo de investimentos conseguir avaliar o resultado de uma carteira de ações e o quanto de taxa deverá ser pago.\n",
    "\n",
    "A regra desse fundo de investimentos é:\n",
    "\n",
    "- O fundo se compromete a entregar no mínimo 5% de retorno ao ano.\n",
    "- Caso o fundo não consiga entregar os 5% de retorno, ele não pode cobrar taxa dos seus investidores.\n",
    "- Caso o fundo consiga entregar mais de 5% de retorno, ele irá cobrar 2% de taxa dos seus investidores.\n",
    "- Caso o fundo consiga mais de 20% de retorno, ele irá cobrar 4% de taxa dos seus investidores."
   ]
  },
  {
   "cell_type": "code",
   "execution_count": 7,
   "metadata": {},
   "outputs": [
    {
     "name": "stdout",
     "output_type": "stream",
     "text": [
      "O seu repasse teve cobraça de taxa de 0.04%\n"
     ]
    }
   ],
   "source": [
    "meta = 0.05\n",
    "taxa = 0 \n",
    "rendimento = 0.40\n",
    "if rendimento > meta:\n",
    "  if rendimento > 0.20:\n",
    "    taxa = 0.04   \n",
    "    print(f\"O seu repasse teve cobraça de taxa de {taxa}%\")\n",
    "  else:\n",
    "    taxa = 0.02\n",
    "    print(f\"O seu repasse teve cobraça de taxa de {taxa}%\")\n",
    "\n",
    "else:\n",
    "    print(f\"O seu repasse não teve cobraça de taxa\")\n"
   ]
  },
  {
   "cell_type": "markdown",
   "metadata": {},
   "source": [
    "Perceba que até o momento embora encadeado nós temos apenas uma condição a ser verificada. Porém, se tivermos mais condições a querer verificar? Para tal, usamos o que chamamos de elif, que é a junção do else e o if, o mesmo pode ser usado para criação mais condições dentro do código, sem ter que aninhá-la dentro dele."
   ]
  },
  {
   "cell_type": "markdown",
   "metadata": {},
   "source": [
    "\n",
    "Vamos criar um programa para analisar o bônus dos funcionários de uma empresa (pode parecer \"simples\", mas uma empresa como a Amazon tem 900.000 funcionários)\n",
    "\n",
    "Para os cargos de vendedores, a regra do bônus é de acordo com a meta de vendas da pessoa:\n",
    "\n",
    "Se ela vendeu abaixo da meta dela, ela não ganha bônus.\n",
    "\n",
    "Se ela vendeu acima da meta dela, ela ganha como bônus 3% do valor que ela vendeu.\n",
    "\n",
    "Se ela vendeu mais do que o dobro da meta dela, ela ganha como bônus 7% do valor que ela vendeu.\n",
    "\n",
    "Vamos criar um programa para avaliar uma pessoa que tinha como meta de vendas 20.000 reais e calcular o bônus dela de acordo com o valor de vendas que ela tiver."
   ]
  },
  {
   "cell_type": "code",
   "execution_count": 11,
   "metadata": {},
   "outputs": [
    {
     "name": "stdout",
     "output_type": "stream",
     "text": [
      "Seu bonus é de 600.0\n"
     ]
    }
   ],
   "source": [
    "meta = 2000\n",
    "vendas = 20000\n",
    "\n",
    "if vendas > meta:\n",
    "    print(f\"Seu bonus é de {vendas * 0.03}\")\n",
    "elif vendas > 2*meta:\n",
    "    print(f\"Seu bonus é de {vendas * 0.07}\")\n",
    "else:\n",
    "    print(\"Você não ganhou bonus.\")"
   ]
  },
  {
   "cell_type": "markdown",
   "metadata": {},
   "source": [
    "comparadores dentrodo "
   ]
  }
 ],
 "metadata": {
  "kernelspec": {
   "display_name": "Python 3",
   "language": "python",
   "name": "python3"
  },
  "language_info": {
   "codemirror_mode": {
    "name": "ipython",
    "version": 3
   },
   "file_extension": ".py",
   "mimetype": "text/x-python",
   "name": "python",
   "nbconvert_exporter": "python",
   "pygments_lexer": "ipython3",
   "version": "3.12.2"
  }
 },
 "nbformat": 4,
 "nbformat_minor": 2
}
