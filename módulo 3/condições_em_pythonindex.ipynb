{
 "cells": [
  {
   "cell_type": "markdown",
   "metadata": {},
   "source": [
    "\n",
    "<h4>Consições em python</h4>\n",
    "     O if para o python assim como para outras linguagens de programação, significa estrutura de decisão. Ao declarar o if o mesmo é procedido por um questionamento que em hipotese verdadeira, terá seu conteúdo será executado, em caso negativo, o programa só dará continuidade ao seu percurso. o conteúso do if deverá ter um epaçamento ao seu interior, é o que chamamos de tab para dentro, que de fato é um tabe que o seu conteúdo recebe. O if siginifica \"se sim, então:\"\n",
    "\n",
    "if condição:\n",
    "isso será executado caso a consição seja verdadeira.\n"
   ]
  },
  {
   "cell_type": "markdown",
   "metadata": {},
   "source": [
    "Digamos que você trabalha na Amazon (que tem centenas de milhares, se não milhões de produtos) e está analisando o resultado de vendas dos produtos.\n",
    "\n",
    "Você precisa criar um programa que vai analisar o resultado de vendas dos produtos da Amazon em um mês. Para simplificar vamos pensar em um único produto: um Iphone.\n",
    "\n",
    "Meta de Vendas do Iphone = 50.000 unidades<br>\n",
    "Quantidade vendida no Mês = 65.300 unidades\n",
    "\n",
    "O seu programa deve avisar (usaremos o print por enquanto) caso o produto tenha batido a meta do mês. Então devemos fazer:<br>\n",
    "- Caso o produto tenha batido a meta, devemos exibir a mensagem: \"Batemos a meta de vendas de Iphone, vendemos {} unidades\" \n",
    "- Se ele não bateu a meta do mês, o seu programa não deve fazer nada"
   ]
  },
  {
   "cell_type": "code",
   "execution_count": 2,
   "metadata": {},
   "outputs": [
    {
     "name": "stdout",
     "output_type": "stream",
     "text": [
      "Batemos a meta de vendas, vendemos 65400 unidades do iphone\n"
     ]
    }
   ],
   "source": [
    "meta_vendas = 50000\n",
    "quantidade_vendas = 65400\n",
    "\n",
    "if quantidade_vendas >= meta_vendas:\n",
    "    print(f\"Batemos a meta de vendas, vendemos {quantidade_vendas} unidades do iphone\")"
   ]
  },
  {
   "cell_type": "markdown",
   "metadata": {},
   "source": [
    "- existem casos que não queremos exibir algo apenas quanodo a condição é verdadeira, as vezes tambem queremos exibir algo quando a mesma também é falsa,  para ese caso em questão fazemos o uso do else o mesmo significa \"se não, então:\"\n",
    "\n",
    "\n",
    "if condição: \n",
    "    se a condição for verdadeira, faça isso.\n",
    "else: \n",
    "    se a condição for falsa, faça isso."
   ]
  },
  {
   "cell_type": "markdown",
   "metadata": {},
   "source": [
    "- Caso o produto tenha batido a meta, devemos exibir a mensagem: \"Batemos a meta de vendas de Iphone, vendemos {} unidades\" \n",
    "- Se ele não bateu a meta do mês, devemos exibir a mensagem: \"Infelizmente não batemos a meta, vendemos {} unidades. A meta era de {} unidades\"\n",
    "\n"
   ]
  },
  {
   "cell_type": "code",
   "execution_count": 3,
   "metadata": {},
   "outputs": [
    {
     "name": "stdout",
     "output_type": "stream",
     "text": [
      "Vendemos 654 unidades de iphone, infelizmente não batemos a meta de 50000 unidades de iphone\n"
     ]
    }
   ],
   "source": [
    "meta_vendas = 50000\n",
    "quantidade_vendas = 654\n",
    "\n",
    "if quantidade_vendas >= meta_vendas:\n",
    "    print(f\"Batemos a meta de vendas, vendemos {quantidade_vendas} unidades do iphone\")\n",
    "else: \n",
    "    print(f\"Vendemos {quantidade_vendas} unidades de iphone, infelizmente não batemos a meta de {meta_vendas} unidades de iphone\")"
   ]
  },
  {
   "cell_type": "markdown",
   "metadata": {},
   "source": [
    "Digamos que você precisa criar um programa para um fundo de investimentos conseguir avaliar o resultado de uma carteira de ações e o quanto de taxa deverá ser pago.\n",
    "\n",
    "A regra desse fundo de investimentos é:\n",
    "\n",
    "- O fundo se compromete a entregar no mínimo 5% de retorno ao ano.\n",
    "- Caso o fundo não consiga entregar os 5% de retorno, ele não pode cobrar taxa dos seus investidores.\n",
    "- Caso o fundo consiga entregar mais de 5% de retorno, ele irá cobrar 2% de taxa dos seus investidores.\n",
    "- Caso o fundo consiga mais de 20% de retorno, ele irá cobrar 4% de taxa dos seus investidores."
   ]
  },
  {
   "cell_type": "code",
   "execution_count": 4,
   "metadata": {},
   "outputs": [
    {
     "name": "stdout",
     "output_type": "stream",
     "text": [
      "O seu repasse teve cobraça de taxa de 0.04%\n"
     ]
    }
   ],
   "source": [
    "meta = 0.05\n",
    "taxa = 0 \n",
    "rendimento = 0.40\n",
    "if rendimento > meta:\n",
    "  if rendimento > 0.20:\n",
    "    taxa = 0.04   \n",
    "    print(f\"O seu repasse teve cobraça de taxa de {taxa}%\")\n",
    "  else:\n",
    "    taxa = 0.02\n",
    "    print(f\"O seu repasse teve cobraça de taxa de {taxa}%\")\n",
    "\n",
    "else:\n",
    "    print(f\"O seu repasse não teve cobraça de taxa\")\n"
   ]
  },
  {
   "cell_type": "markdown",
   "metadata": {},
   "source": [
    "Perceba que até o momento embora encadeado nós temos apenas uma condição a ser verificada. Porém, se tivermos mais condições a querer verificar? Para tal, usamos o que chamamos de elif, que é a junção do else e o if, o mesmo pode ser usado para criação mais condições dentro do código, sem ter que aninhá-la dentro dele."
   ]
  },
  {
   "cell_type": "markdown",
   "metadata": {},
   "source": [
    "\n",
    "Vamos criar um programa para analisar o bônus dos funcionários de uma empresa (pode parecer \"simples\", mas uma empresa como a Amazon tem 900.000 funcionários)\n",
    "\n",
    "Para os cargos de vendedores, a regra do bônus é de acordo com a meta de vendas da pessoa:\n",
    "\n",
    "Se ela vendeu abaixo da meta dela, ela não ganha bônus.\n",
    "\n",
    "Se ela vendeu acima da meta dela, ela ganha como bônus 3% do valor que ela vendeu.\n",
    "\n",
    "Se ela vendeu mais do que o dobro da meta dela, ela ganha como bônus 7% do valor que ela vendeu.\n",
    "\n",
    "Vamos criar um programa para avaliar uma pessoa que tinha como meta de vendas 20.000 reais e calcular o bônus dela de acordo com o valor de vendas que ela tiver."
   ]
  },
  {
   "cell_type": "code",
   "execution_count": 5,
   "metadata": {},
   "outputs": [
    {
     "name": "stdout",
     "output_type": "stream",
     "text": [
      "Seu bonus é de 600.0\n"
     ]
    }
   ],
   "source": [
    "meta = 2000\n",
    "vendas = 20000\n",
    "\n",
    "if vendas > meta:\n",
    "    print(f\"Seu bonus é de {vendas * 0.03}\")\n",
    "elif vendas > 2*meta:\n",
    "    print(f\"Seu bonus é de {vendas * 0.07}\")\n",
    "else:\n",
    "    print(\"Você não ganhou bonus.\")"
   ]
  },
  {
   "cell_type": "markdown",
   "metadata": {},
   "source": [
    "comparadores dentro do python \n",
    "os comparadores dentro do python assim como para outras linguagens de programação servem para tornar as condições ainda mais específicas dentro da construção do código.\n",
    "\n",
    "vejamos os priincipais comparadores dentro do python:\n",
    "\n",
    "==  igual<br>\n",
    "!= diferente <br>\n",
    "\">\" Maior que <br>\n",
    "< Menor que <br>\n",
    "in  Se o texto existe dentro do outro texto<br>\n",
    "not verifica o contrário da comparação\n",
    "\n",
    "Se chagar em alguma condição  e você não desejar fazer nada é só escrever o pass."
   ]
  },
  {
   "cell_type": "code",
   "execution_count": 6,
   "metadata": {},
   "outputs": [
    {
     "name": "stdout",
     "output_type": "stream",
     "text": [
      "Os faturamentos são deiferentes.\n"
     ]
    }
   ],
   "source": [
    "faturamento1 = 2000\n",
    "faturamento2 = 4000\n",
    "email = \"birbixinhogmail.com\"\n",
    "\n",
    "if faturamento1 == faturamento2:\n",
    "    print(\"Os faturamentos são iguais.\")\n",
    "else:  \n",
    "    print(\"Os faturamentos são deiferentes.\")"
   ]
  },
  {
   "cell_type": "code",
   "execution_count": 7,
   "metadata": {},
   "outputs": [
    {
     "name": "stdout",
     "output_type": "stream",
     "text": [
      " O email escrito está errado\n"
     ]
    }
   ],
   "source": [
    "if email == \"birbizinhogmail.com\":\n",
    "    print(\" O email escrito está correto\")\n",
    "else: \n",
    "    print(\" O email escrito está errado\")\n"
   ]
  },
  {
   "cell_type": "code",
   "execution_count": 8,
   "metadata": {},
   "outputs": [
    {
     "name": "stdout",
     "output_type": "stream",
     "text": [
      "Email invalido\n"
     ]
    }
   ],
   "source": [
    "email_usuario = input(\"Digite o seu email\")\n",
    "if \"@\" in email_usuario:\n",
    "    print(\"Email válido\")\n",
    "else:\n",
    "    print(\"Email invalido\")"
   ]
  },
  {
   "cell_type": "markdown",
   "metadata": {},
   "source": [
    "O AND e o OR dentro de python, significam o \"e\" e \"ou\" respectivamente.\n",
    "No primeiro caso podemos verificar se as duas condições são verdadeiras, ja no segundo caso,verificamos se uma das duas condições são verdadeiras."
   ]
  },
  {
   "cell_type": "markdown",
   "metadata": {},
   "source": [
    "Vamos voltar ao exemplo de cálculo de meta de vendas dos funcionários. Muitas empresas atribuem bonificação do salário dos funcionários de acordo com o resultado do funcionário e também com o resultado da empresa como um todo.\n",
    "\n",
    "Nesse caso, a regra funciona da seguinte forma:\n",
    "- Se o funcionário vendeu mais do que a meta de vendas e a loja bateu a meta de vendas da loja, o funcionário ganha 3% do que ele vendeu em forma de bônus.\n",
    "- Caso o funcionário tenha batido a meta de vendas individual dele, mas a loja não tenha batido a meta de vendas da loja como um todo, o funcionário não ganha bônus."
   ]
  },
  {
   "cell_type": "code",
   "execution_count": 9,
   "metadata": {},
   "outputs": [
    {
     "name": "stdout",
     "output_type": "stream",
     "text": [
      " seu bonûs é de 150.0\n"
     ]
    }
   ],
   "source": [
    "meta_funcionario = 4000\n",
    "vendas_funcionario = 5000\n",
    "meta_loja = 30000\n",
    "vendas_loja = 40000\n",
    "bonus = 0.03\n",
    "if vendas_funcionario > meta:\n",
    "    if vendas_funcionario > meta_funcionario and vendas_loja >= meta_loja:\n",
    "        print(f\" seu bonûs é de {vendas_funcionario * bonus}\")\n",
    "    else:\n",
    "        print(\"Parabén você bateu a sua meta de vendas.\")\n",
    "else:\n",
    "    print(\"você não obteve nenhum bonûs.\")\n",
    "   \n"
   ]
  },
  {
   "cell_type": "markdown",
   "metadata": {},
   "source": [
    "Agora vamos levar essa análise mais a fundo.\n",
    "\n",
    "Nessa empresa, existe um outro caso também que garante que o funcionário ganhe um bônus, independente das vendas que ele fez naquele mês.\n",
    "\n",
    "Todo mês os diretores da empresa fazem uma avaliação qualitativa de todos os funcionários. Nessa avaliação os diretores dão uma nota de 0 a 10 para cada funcionário. Se a nota do funcionário for 9 ou 10, ele também ganha o bônus de 3% do valor de vendas. (os bônus não são cumulativos)"
   ]
  },
  {
   "cell_type": "code",
   "execution_count": 10,
   "metadata": {},
   "outputs": [
    {
     "name": "stdout",
     "output_type": "stream",
     "text": [
      "Seu bônus é de 150.0\n"
     ]
    }
   ],
   "source": [
    "meta_funcionario = 7\n",
    "meta = 9 or 10 #posso usar esse recurso de ou até mesmo nas variáveis. pelos meus testes funcionaram.\n",
    "if meta_funcionario == meta or (vendas_funcionario > meta_funcionario and vendas_loja >= meta_loja):\n",
    "    print(f\"Seu bônus é de {vendas_funcionario * 0.03}\")\n",
    "else:\n",
    "    print(\"Você não obteve nenhum bônus\")\n"
   ]
  },
  {
   "cell_type": "markdown",
   "metadata": {},
   "source": [
    "<h4>comprações contraintuitivas.</h4>\n",
    "\n",
    "as mesmas não fazem uso de comparadores.\n",
    "na verdade o seu uso é muito importante por exeplo para verificar se determinada informação está presente na caixa de texto, onde foi solicitado determinada informação. caso o contrário alguma mensagem deverá ser exibida.\n",
    "\n"
   ]
  },
  {
   "cell_type": "code",
   "execution_count": 17,
   "metadata": {},
   "outputs": [
    {
     "name": "stdout",
     "output_type": "stream",
     "text": [
      "O lucro da loja é igual a 4921\n"
     ]
    }
   ],
   "source": [
    "faturamento = input(\"Digite o faturamento aqui!\")\n",
    "custo = input(\"Digite o custo aqui!\")\n",
    "\n",
    "if faturamento == '' or custo == '': # para esse caso o correto é usar as aspas simples, aspas duplas não funcionam.\n",
    "    print(\"Preencha os campos corretamente\")\n",
    "else:\n",
    "    lucro = int(faturamento) - int(custo)\n",
    "    print(f\"O lucro da loja é igual a {lucro}\")\n",
    "\n",
    "    "
   ]
  },
  {
   "cell_type": "markdown",
   "metadata": {},
   "source": [
    "Outra forma de se fazer isso  é verificando se apnas um elemento está presente. Veja :\n",
    "\n",
    "    if faturamento :\n",
    "        lucro = int(faturamento) - int(custo)\n",
    "        print(f\"O lucro da loja é igual a {lucro}\") \n",
    "    else:\n",
    "         print(\"Preencha os campos corretamente\")\n",
    "\n",
    "Outra forma de fazer essa verificação, prém nesse caso é  feita a verificação dos dois elementos:\n",
    "    if faturamento and custo:\n",
    "        lucro = int(faturamento) - int(custo)\n",
    "        print(f\"O lucro da loja é igual a {lucro}\") \n",
    "    else:\n",
    "         print(\"Preencha os campos corretamente\")\n",
    "\n",
    "\n",
    "    "
   ]
  }
 ],
 "metadata": {
  "kernelspec": {
   "display_name": "Python 3",
   "language": "python",
   "name": "python3"
  },
  "language_info": {
   "codemirror_mode": {
    "name": "ipython",
    "version": 3
   },
   "file_extension": ".py",
   "mimetype": "text/x-python",
   "name": "python",
   "nbconvert_exporter": "python",
   "pygments_lexer": "ipython3",
   "version": "3.12.2"
  }
 },
 "nbformat": 4,
 "nbformat_minor": 2
}
