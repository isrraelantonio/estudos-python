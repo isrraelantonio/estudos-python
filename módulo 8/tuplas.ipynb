{
 "cells": [
  {
   "cell_type": "markdown",
   "metadata": {},
   "source": [
    "<h4> Tuplas e Unpacking em tuplas </h4>"
   ]
  },
  {
   "cell_type": "markdown",
   "metadata": {},
   "source": [
    "as tuplas são bem parecidas com as listas porém seguem algumas regras diferentes.\n",
    "as tuplas em sua criação ficam dentro de um parênteses.\n"
   ]
  },
  {
   "cell_type": "markdown",
   "metadata": {},
   "source": [
    "Tuplas\n",
    "\n",
    "Estrutura:\n",
    "\n",
    "tupla = (valor, valor, valor, ...)\n",
    "\n",
    "Diferença\n",
    "\n",
    "Parece uma lista, mas é imutável.\n",
    "\n",
    "Vantagens:\n",
    "\n",
    "- Mais eficiente (em termos de performance)\n",
    "- Protege a base de dados (por ser imutável)\n",
    "- Muito usado para dados heterogêneos\n",
    "\n",
    "Criando tuplas"
   ]
  },
  {
   "cell_type": "code",
   "execution_count": 2,
   "metadata": {},
   "outputs": [
    {
     "name": "stdout",
     "output_type": "stream",
     "text": [
      "('Lira', '25/08/2020', '15/02/1994', 2000, 'Estagiário')\n"
     ]
    }
   ],
   "source": [
    "vendas = ('Lira', '25/08/2020', '15/02/1994', 2000, 'Estagiário')\n",
    "print(vendas)"
   ]
  },
  {
   "cell_type": "code",
   "execution_count": 3,
   "metadata": {},
   "outputs": [
    {
     "name": "stdout",
     "output_type": "stream",
     "text": [
      "2000\n"
     ]
    }
   ],
   "source": [
    "# Uma forma de atribuir todos esses valores presentes de uma tupla as algumas variáveis e acessar cada um deles é assim:\n",
    "nome = vendas[0]\n",
    "data_contratracao = vendas[1]\n",
    "data_nascimento = vendas[2]\n",
    "salario = vendas[3]\n",
    "cargo = vendas[4]\n",
    "print(salario)\n",
    "# Perceba que o método usado não foge do que já aprendemos em listas, na verdadel segue o mesmo processo.\n",
    "\n"
   ]
  },
  {
   "cell_type": "markdown",
   "metadata": {},
   "source": [
    "Porém existe outra forma de fazer esse acesso e essa forma é ainda mais simples que é fazendo o uso das Unpackings para atribuições dos valores de uma tupla:\n",
    "veja abaixo:"
   ]
  },
  {
   "cell_type": "code",
   "execution_count": 4,
   "metadata": {},
   "outputs": [
    {
     "name": "stdout",
     "output_type": "stream",
     "text": [
      "Lira\n",
      "25/08/2020\n",
      "15/02/1994\n",
      "2000\n",
      "Estagiário\n"
     ]
    }
   ],
   "source": [
    "nome, data_contratracao, data_nascimento, salario, cargo = vendas  # Isso é o que chamamos de Upacking em  tuplas\n",
    "#Ao fazer esse movimento estamos atribuindo para cada umas dessas variáveis os valores presentes na tupla. Lembrando que nesse caso o número de variáveis deve ser de acordo com a quantidade de valores presentes dentro da tupla, e que cada variáveis receberá o seu valor de acordo com a ordem que você pôs para receber os balores da lista venda.\n",
    "\n",
    "print(nome)\n",
    "print(data_contratracao)\n",
    "print(data_nascimento)\n",
    "print(salario)\n",
    "print(cargo)\n"
   ]
  },
  {
   "cell_type": "markdown",
   "metadata": {},
   "source": [
    " - o enumerate que vínhamos usando até agora, na verdade, cria uma tupla para a gente. Vamos ver na prática:"
   ]
  },
  {
   "cell_type": "code",
   "execution_count": 5,
   "metadata": {},
   "outputs": [
    {
     "name": "stdout",
     "output_type": "stream",
     "text": [
      "João vendeu 1000 unidades\n",
      "Lira vendeu 2000 unidades\n",
      "Ana vendeu 300 unidades\n",
      "Maria vendeu 300 unidades\n",
      "Paula vendeu 150 unidades\n",
      "(0, 1000)\n",
      "(1, 2000)\n",
      "(2, 300)\n",
      "(3, 300)\n",
      "(4, 150)\n",
      "0\n",
      "1000\n",
      "1\n",
      "2000\n",
      "2\n",
      "300\n",
      "3\n",
      "300\n",
      "4\n",
      "150\n"
     ]
    }
   ],
   "source": [
    "vendas = [1000, 2000, 300, 300, 150]\n",
    "funcionarios = ['João', 'Lira', 'Ana', 'Maria', 'Paula']\n",
    "\n",
    "for i,  venda in enumerate(vendas):\n",
    "        print(\"{} vendeu {} unidades\".format(funcionarios[i], venda))\n",
    "\n",
    "# o i e vendas é a mesma coisa de uma tupla \n",
    "for item in enumerate(vendas):#Perceba que nesse aso estou coletan do o indice e também o seu valor correspondente e estou fazendo o seu direcionamento para o a agora tupla item.\n",
    "        print(item)\n",
    "\n",
    "#Agora irei atribuir os valores dessa tupla pra variáveis distintas veja:\n",
    "for item in enumerate(vendas):\n",
    "        i, venda = item \n",
    "        print(i)\n",
    "        print(venda)\n",
    "\n",
    "#As atribuições serão bem interressantes quando temos valores de tipos distitos dentro de uma tupla."
   ]
  },
  {
   "cell_type": "markdown",
   "metadata": {},
   "source": [
    "<h4>Plicação de tuplas - Listas de tuplas </h4>\n",
    "\n",
    "Estrutura:\n",
    "\n",
    "Além de casos como o do enumerate, em que usamos uma função para transformar itens em tuplas porque isso ajuda o nosso código, temos também listas de tuplas como algo comum dentro do Python.\n",
    "\n",
    "lista = [\n",
    "    tupla1,\n",
    "    tupla2,\n",
    "    tupla3,\n",
    "    ]\n",
    "    \n",
    "ou seja\n",
    "\n",
    "lista = [\n",
    "    (valor1, valor2, valor3),\n",
    "    (valor4, valor5, valor6),\n",
    "    (valor7, valor8, valor9),\n",
    "    ]\n",
    "\n",
    "    Exemplo:\n",
    "\n",
    "Digamos que você está analisando as vendas do Banco de Dados de um e-commerce.\n",
    "\n",
    "Em um determinado dia, você extraiu as vendas do Banco de Dados e elas vieram nesse formato:"
   ]
  },
  {
   "cell_type": "code",
   "execution_count": 6,
   "metadata": {},
   "outputs": [
    {
     "name": "stdout",
     "output_type": "stream",
     "text": [
      "[('20/08/2020', 'iphone x', 'azul', '128gb', 350, 4000), ('20/08/2020', 'iphone x', 'prata', '128gb', 1500, 4000), ('20/08/2020', 'ipad', 'prata', '256gb', 127, 6000), ('20/08/2020', 'ipad', 'prata', '128gb', 981, 5000), ('21/08/2020', 'iphone x', 'azul', '128gb', 397, 4000), ('21/08/2020', 'iphone x', 'prata', '128gb', 1017, 4000), ('21/08/2020', 'ipad', 'prata', '256gb', 50, 6000), ('21/08/2020', 'ipad', 'prata', '128gb', 4000, 5000)]\n"
     ]
    }
   ],
   "source": [
    "vendas = [\n",
    "    ('20/08/2020', 'iphone x', 'azul', '128gb', 350, 4000),\n",
    "    ('20/08/2020', 'iphone x', 'prata', '128gb', 1500, 4000),\n",
    "    ('20/08/2020', 'ipad', 'prata', '256gb', 127, 6000),\n",
    "    ('20/08/2020', 'ipad', 'prata', '128gb', 981, 5000),\n",
    "    ('21/08/2020', 'iphone x', 'azul', '128gb', 397, 4000),\n",
    "    ('21/08/2020', 'iphone x', 'prata', '128gb', 1017, 4000),\n",
    "    ('21/08/2020', 'ipad', 'prata', '256gb', 50, 6000),\n",
    "    ('21/08/2020', 'ipad', 'prata', '128gb', 4000, 5000),\n",
    "]\n",
    "print(vendas)"
   ]
  },
  {
   "cell_type": "code",
   "execution_count": 7,
   "metadata": {},
   "outputs": [
    {
     "name": "stdout",
     "output_type": "stream",
     "text": [
      "1400000\n",
      "1400000\n",
      "na data 20/08/2020 a venda do produto iphone x de cor azul, capacidade 128gb, unidad e350 e valor unitário 4000\n",
      "na data 20/08/2020 a venda do produto iphone x de cor prata, capacidade 128gb, unidad e1500 e valor unitário 4000\n",
      "na data 20/08/2020 a venda do produto ipad de cor prata, capacidade 256gb, unidad e127 e valor unitário 6000\n",
      "na data 20/08/2020 a venda do produto ipad de cor prata, capacidade 128gb, unidad e981 e valor unitário 5000\n",
      "na data 21/08/2020 a venda do produto iphone x de cor azul, capacidade 128gb, unidad e397 e valor unitário 4000\n",
      "na data 21/08/2020 a venda do produto iphone x de cor prata, capacidade 128gb, unidad e1017 e valor unitário 4000\n",
      "na data 21/08/2020 a venda do produto ipad de cor prata, capacidade 256gb, unidad e50 e valor unitário 6000\n",
      "na data 21/08/2020 a venda do produto ipad de cor prata, capacidade 128gb, unidad e4000 e valor unitário 5000\n"
     ]
    }
   ],
   "source": [
    "#PODERIAMOS FAZER  A NAVEGAÇÃO DA TUPLA PARA DESCOBRIR ESSES VALORES DA SEGUINTE FORMA:\n",
    "faturamento = vendas[0][4] * vendas[0][5]\n",
    "print(faturamento)\n",
    "\n",
    "#Porém isso pode ser feito de forma muito mais intuitiva usando o Unpacking:\n",
    "data, produto, cor, capacidade, unidade, valor_unitario = vendas[0]\n",
    "faturamento = unidade * valor_unitario\n",
    "print(faturamento) #Perceba que o unpacking conseguimos descobrir essas informações de forma bem mais  intuitiva.\n",
    "\n",
    "\n",
    "#Agora fazendo uso so Unpacking no enumerate do for vamos printar os valores de forma bem mais intuitiva e no caso poderemos brincar com essas informações de forma muito mais simples.\n",
    "\n",
    "for i, item in enumerate(vendas):\n",
    "    data, produto, cor, capacidade, unidade, valor_unitario = vendas[i] \n",
    "    print(\"na data {} a venda do produto {} de cor {}, capacidade {}, unidad e{} e valor unitário {}\".format( data, produto, cor, capacidade, unidade, valor_unitario))\n",
    "\n"
   ]
  },
  {
   "cell_type": "markdown",
   "metadata": {},
   "source": [
    "\n",
    "<h4>qual o faturamento de iphone em 20/08/2020</h4>\n",
    "<h4>Qual o produto mais vendido </h4>"
   ]
  },
  {
   "cell_type": "code",
   "execution_count": 8,
   "metadata": {},
   "outputs": [
    {
     "name": "stdout",
     "output_type": "stream",
     "text": [
      "o faturamento de iphone x no dia 20/08/2020 foi de 13056000\n"
     ]
    }
   ],
   "source": [
    "faturamento = 0 \n",
    "for item in vendas:\n",
    "    data, produto, cor, capacidade, unidade, valor_unitario = item\n",
    "    if produto == 'iphone x':\n",
    "        faturamento += unidade * valor_unitario\n",
    "\n",
    "print('o faturamento de iphone x no dia 20/08/2020 foi de {}'.format(faturamento))\n"
   ]
  },
  {
   "cell_type": "markdown",
   "metadata": {},
   "source": [
    "qual o produto mais vendido (em unidades no dia 21/08/2020)"
   ]
  },
  {
   "cell_type": "code",
   "execution_count": 19,
   "metadata": {},
   "outputs": [
    {
     "name": "stdout",
     "output_type": "stream",
     "text": [
      "O produto mais vendido no dia 21/08/2020 foi o ipad, com 4000 unidades\n"
     ]
    }
   ],
   "source": [
    "produ_mais_vendido = \"\"\n",
    "quantidade_produto_mais_vendido = 0\n",
    "for item in vendas:\n",
    "    data, produto, cor, capacidade, unidade, valor_unitario = item\n",
    "    if data == \"21/08/2020\":\n",
    "        if  unidade > quantidade_produto_mais_vendido:\n",
    "            produ_mais_vendido = produto\n",
    "            quantidade_produto_mais_vendido = unidade\n",
    "print(\"O produto mais vendido no dia {} foi o {}, com {} unidades\".format(data,produ_mais_vendido, quantidade_produto_mais_vendido))"
   ]
  }
 ],
 "metadata": {
  "kernelspec": {
   "display_name": "Python 3",
   "language": "python",
   "name": "python3"
  },
  "language_info": {
   "codemirror_mode": {
    "name": "ipython",
    "version": 3
   },
   "file_extension": ".py",
   "mimetype": "text/x-python",
   "name": "python",
   "nbconvert_exporter": "python",
   "pygments_lexer": "ipython3",
   "version": "3.12.2"
  }
 },
 "nbformat": 4,
 "nbformat_minor": 2
}
