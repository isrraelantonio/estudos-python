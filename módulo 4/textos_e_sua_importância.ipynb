{
 "cells": [
  {
   "cell_type": "markdown",
   "metadata": {},
   "source": [
    "<h4>Porque aprender textos em python</h4>\n",
    "\n",
    "Teoria para organizar textos em base de dados.<br>\n",
    "Istring funciona no python como lista de caractéres.<br>\n",
    "Em python usamos bastante as listas.<br>\n",
    "\n",
    "\n",
    "0 1 2 3 4 5 6 7 8 9 10 11 12 13\n",
    "b i r b @ g m a i l  .  c  o m\n",
    "\n",
    "dentro de um texto cada caractere é um ídice, os mesmos tem por padrão início no índice 0 (zero), e as informação são coletadas apartir desses indices\n",
    "\n",
    "Pegar um item de uma string: texto[índice]\n",
    "Pegar o tamanho de um texto: len(texto)\n",
    "os espaçamentos também contam como carteres contabeis."
   ]
  },
  {
   "cell_type": "code",
   "execution_count": 5,
   "metadata": {},
   "outputs": [
    {
     "name": "stdout",
     "output_type": "stream",
     "text": [
      "15\n",
      "I\n"
     ]
    }
   ],
   "source": [
    "email = \"birb@gmail.com\"\n",
    "nome = \"Israel antonios\"\n",
    "\n",
    "print(len(nome)) #para sabermos quantos caracteres temos\n",
    "print(nome[0]) #aqui encontramos um carecter apartir do seu ídice dentro de determinado texto"
   ]
  },
  {
   "cell_type": "markdown",
   "metadata": {},
   "source": [
    "<h4>indice negativo e parte de texto</h4>\n",
    "Texto: birb@gmail.com\n",
    "\n",
    "-14 -13 -12 -11 -10 -9 -8 -7 -6 -5 -4 -3 -2 -1\n",
    "  b   i   r   b   @  g  m  a  i  l  .  c  o  m\n",
    "  0   1   2   3   4  5  6  7  8  9 10 11 12 13\n",
    "  \n",
    "Para pegar um texto de trás para frente: texto[índice] -> onde índice é negativo\n",
    "\n",
    "Para pegar o pedaço de um texto use : (dois pontos). texto[:indice] ou texto[indice:] ou ainda texto[indice:indice]\n",
    "ese uso é bem interessante para quando os textos a serem usados fazem uso de determinado padrão.\n",
    "\n",
    "\n",
    "da mesma forma que podemos contar um número de traz para frente, podemos contar também de frente para traz, e  nesse caso o indice iniciá-se no menos um (-1)\n",
    "\n"
   ]
  },
  {
   "cell_type": "code",
   "execution_count": 12,
   "metadata": {},
   "outputs": [
    {
     "name": "stdout",
     "output_type": "stream",
     "text": [
      "b\n",
      "birb@gm\n",
      "bir\n",
      "ail.com\n",
      "gmail.com\n",
      "gmail\n"
     ]
    }
   ],
   "source": [
    "email = \"birb@gmail.com\"\n",
    "nome = \"Israel antonios silva\"\n",
    "\n",
    "print(email[-14]) #nesse caso, estamos pegando o caracter que encontra-se na posição -14 do nosso texto\n",
    "print(email[:-7]) #nesse caso, pegamos uma parte do texto até antes do caracter de indice -7\n",
    "print(email[:3])#também podemos fazer uso dos indices positivo com a mesma dinâmica.\n",
    "\n",
    "#Nos casos acima estamos falando de coleta até determinado indice \n",
    "\n",
    "#no caso abaixo veremos a coleta apartir de determinado indice:\n",
    "\n",
    "print(email[-7:]) #nesse caso o caracter presente no indice -7 é inserido diferente do que vimos anteriormente\n",
    "print(email[5:]) # também podemos usar com os indices positivos que também terão a mesma dinâmica.\n",
    "print(email[5:10]) # nesse caso temos o que podemos chamar de periódo da string"
   ]
  },
  {
   "cell_type": "code",
   "execution_count": 19,
   "metadata": {},
   "outputs": [
    {
     "name": "stdout",
     "output_type": "stream",
     "text": [
      "O tamanho da lista email é 14\n",
      "O primeiro item da lista é o b\n",
      "O último item da lista é o m\n",
      "O servidor de email é o gmail\n"
     ]
    }
   ],
   "source": [
    "print(\"O tamanho da lista email é \" + str(len(email)))\n",
    "print(\"O primeiro item da lista é o \" + email[0])\n",
    "print(\"O último item da lista é o \" + email[-1])\n",
    "print(\"O servidor de email é o \" + email[5:10])"
   ]
  },
  {
   "cell_type": "markdown",
   "metadata": {},
   "source": [
    " Operações com String\n",
    "\n",
    "str -> transforma número em string<br>\n",
    "in -> verifica se um texto está contido dentro do outro<br>\n",
    "operador + -> concatenar string<br>\n",
    "format e {} -> substitui valores<br>\n",
    "%s -> substitui textos<br>\n",
    "%d -> substitui números decimais<br>\n"
   ]
  },
  {
   "cell_type": "code",
   "execution_count": 21,
   "metadata": {},
   "outputs": [],
   "source": [
    "faturamento = 1000\n",
    "custo = 500\n",
    "lucro = faturamento - custo"
   ]
  },
  {
   "cell_type": "markdown",
   "metadata": {},
   "source": [
    "Fazendo o uso do str as variáveis devem ser todas concatenadas com o texto além de que deven estar dentro de parênteses antecedidos por str,  "
   ]
  },
  {
   "cell_type": "code",
   "execution_count": 23,
   "metadata": {},
   "outputs": [
    {
     "name": "stdout",
     "output_type": "stream",
     "text": [
      " o faturamento da loja foi 1000 o lucro da loja foi de 500 o custo da loja foi de 500\n"
     ]
    }
   ],
   "source": [
    "print(\" o faturamento da loja foi \" +  str(faturamento) + \" o lucro da loja foi de \" + str(lucro) + \" o custo da loja foi de \" + str(custo))"
   ]
  },
  {
   "cell_type": "markdown",
   "metadata": {},
   "source": [
    "fazendo o uso do format. As chaves dentro do texto indicam que o print deve preenche-la com os itens especificados dentro do format se tivermos duas ou mais chaves dentro da lista devem obrigatóriamente existir itens que as ocupem.\n",
    "em caso da necessidade da repetição de um mesmo item dentro de mais de um achave, todas as chaves dnetro do texto deverão ter em seu interior o indice daquele item, seguindo a mesma regraa das strings onde o indice inicial é o zero."
   ]
  },
  {
   "cell_type": "code",
   "execution_count": 28,
   "metadata": {},
   "outputs": [
    {
     "name": "stdout",
     "output_type": "stream",
     "text": [
      "o faturamento da loja foi de 1000\n",
      "o faturamneto da loja foi de 1000, e o seu custo foi de 500 por tanto o seu lucro foi de 500. já que o lucro será 1000 - 500\n"
     ]
    }
   ],
   "source": [
    "print(\"o faturamento da loja foi de {}\".format(faturamento))\n",
    "\n",
    "print(\"o faturamneto da loja foi de {0}, e o seu custo foi de {1} por tanto o seu lucro foi de {2}. já que o lucro será {0} - {2}\".format(faturamento, custo, lucro))"
   ]
  },
  {
   "cell_type": "markdown",
   "metadata": {},
   "source": [
    "agora fazendo uso do %s e %d. No primeiro caso fasemos a inserção de texto e no segundo faremos a incersão de números os mesos funcionam como o format só que não faremonem o uso das chaves e nem do format e sim o %d e o %, os mesmos terão  o mesmo funcionamento que o format tendo que para cada %d deve haver um item na lista para essa ocupação."
   ]
  },
  {
   "cell_type": "code",
   "execution_count": 29,
   "metadata": {},
   "outputs": [
    {
     "name": "stdout",
     "output_type": "stream",
     "text": [
      " O faturamento da loja foi de 1000. o custo da loja foi de 500 e o lucro foi de 500\n"
     ]
    }
   ],
   "source": [
    "print(' O faturamento da loja foi de %d. o custo da loja foi de %d e o lucro foi de %d' % (faturamento, custo, lucro))"
   ]
  },
  {
   "cell_type": "markdown",
   "metadata": {},
   "source": [
    "Fazendo o uso do in como bem sabemos o in servirá para indicar se um determinado texto está presente em outro."
   ]
  },
  {
   "cell_type": "code",
   "execution_count": 31,
   "metadata": {},
   "outputs": [
    {
     "name": "stdout",
     "output_type": "stream",
     "text": [
      "True\n",
      "False\n"
     ]
    }
   ],
   "source": [
    "print(\"@\" in \"birb@gmail.com\")\n",
    "print(\"@\" in \"birb.com\")"
   ]
  },
  {
   "cell_type": "markdown",
   "metadata": {},
   "source": [
    " <h4>\"Fórmulas\" de Texto - Métodos de String</h4>\n",
    "\n",
    " <h5>Estrutura:</h5>\n",
    "\n",
    "- Normalmente usamos a estrutura texto.método() para fazer as modificações que queremos\n",
    "- Alguns métodos pedem \"argumentos\", que são informações que temos que passar para a fórmula (método) para ela funcionar. Esses argumentos são passados dentro do parênteses\n"
   ]
  },
  {
   "cell_type": "code",
   "execution_count": 34,
   "metadata": {},
   "outputs": [
    {
     "name": "stdout",
     "output_type": "stream",
     "text": [
      "Birbizinho da silva queiroga\n"
     ]
    }
   ],
   "source": [
    "#veja o exemplo:\n",
    "texto =\"birbizinho da silva queiroga\"\n",
    "print(texto.capitalize())# Nesse caso, ele transforma a primeira letra do texto em maiúscula mesmo que existam mais palavras apenas a primeira terá essa mudança.\n"
   ]
  },
  {
   "cell_type": "code",
   "execution_count": 44,
   "metadata": {},
   "outputs": [
    {
     "name": "stdout",
     "output_type": "stream",
     "text": [
      "birbizinho da silva queiroga\n"
     ]
    }
   ],
   "source": [
    "texto =\"BIRBIZINHO DA SILVA QUEIROGA\"\n",
    "print(texto.casefold()) # o casefold() na verdade, transforma todos os caracteres maiúsculo em caractere minúsculo"
   ]
  },
  {
   "cell_type": "code",
   "execution_count": 47,
   "metadata": {},
   "outputs": [
    {
     "name": "stdout",
     "output_type": "stream",
     "text": [
      "True\n"
     ]
    }
   ],
   "source": [
    "texto =\"birbizinho da silva queiroga\"\n",
    "print(texto.endswith(\"queiroga\"))# o endswith( ) identifica se determinado texto finaliza um outro e reponde cmo True ou False, que são respectivamente o verdadeiro ou o falso."
   ]
  },
  {
   "cell_type": "code",
   "execution_count": 49,
   "metadata": {},
   "outputs": [
    {
     "name": "stdout",
     "output_type": "stream",
     "text": [
      "2\n"
     ]
    }
   ],
   "source": [
    "texto =\"BIRBIZINHO DA SILVA QUEIROGA\"\n",
    "print(texto.count(\"B\")) # o conunt() verifica quantas vezes determinado elemento se repete dento do texto. esse recurso também é so tipo case-sensitive."
   ]
  },
  {
   "cell_type": "code",
   "execution_count": 50,
   "metadata": {},
   "outputs": [
    {
     "name": "stdout",
     "output_type": "stream",
     "text": [
      "True\n"
     ]
    }
   ],
   "source": [
    "texto =\"birbizinho da silva queiroga\"\n",
    "print(texto.endswith(\"queiroga\"))"
   ]
  },
  {
   "cell_type": "code",
   "execution_count": 53,
   "metadata": {},
   "outputs": [
    {
     "name": "stdout",
     "output_type": "stream",
     "text": [
      "14\n"
     ]
    }
   ],
   "source": [
    "texto =\"birbizinho da silva queiroga\"\n",
    "print(texto.find(\"s\")) #o find na verdade indica em qual posição determinado elemento está e apresenta o indice do mesmo. só poderá ser usado apenas um único elemento para ser procurado se usarmos por exemplo uma palavra completa o mesmo só irá procurar a primeira letra da palavra."
   ]
  },
  {
   "cell_type": "code",
   "execution_count": 59,
   "metadata": {},
   "outputs": [
    {
     "name": "stdout",
     "output_type": "stream",
     "text": [
      "True\n"
     ]
    }
   ],
   "source": [
    "texto =\"4895\"\n",
    "print(texto.isalnum()) # Esse recurso verifica se determinado conjunto de caractere é formado por números ou números e letras a resposta será verdadeira ou falsa. Respectivamento o True e o False"
   ]
  },
  {
   "cell_type": "code",
   "execution_count": 56,
   "metadata": {},
   "outputs": [
    {
     "name": "stdout",
     "output_type": "stream",
     "text": [
      "False\n"
     ]
    }
   ],
   "source": [
    "texto =\"birb6788sa\"\n",
    "print(texto.isalpha()) #Nesse caso verifica-se se um conjunto de caractere é formado por apenas letras. Como é de costume  o resultado final ou será True ou será False"
   ]
  },
  {
   "cell_type": "code",
   "execution_count": 61,
   "metadata": {},
   "outputs": [
    {
     "name": "stdout",
     "output_type": "stream",
     "text": [
      "True\n"
     ]
    }
   ],
   "source": [
    "texto =\"892508\"\n",
    "print(texto.isnumeric())  #Nesse caso verifica-se se um conjunto de caractere é formado por apenas números. Como é de costume  o resultado final ou será True ou será False"
   ]
  }
 ],
 "metadata": {
  "kernelspec": {
   "display_name": "Python 3",
   "language": "python",
   "name": "python3"
  },
  "language_info": {
   "codemirror_mode": {
    "name": "ipython",
    "version": 3
   },
   "file_extension": ".py",
   "mimetype": "text/x-python",
   "name": "python",
   "nbconvert_exporter": "python",
   "pygments_lexer": "ipython3",
   "version": "3.12.2"
  }
 },
 "nbformat": 4,
 "nbformat_minor": 2
}
