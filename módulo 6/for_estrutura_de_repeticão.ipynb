{
 "cells": [
  {
   "cell_type": "markdown",
   "metadata": {},
   "source": [
    "Estrutura de repetição for. \n",
    "\n",
    "o mesmo percorre toda uma lista de informações. e essa é sua principal função dentro do pyhton e de qualauer outra linguagem de programção.\n",
    "\n",
    "for i in range(n):\n",
    "    repetir código n vezes\n",
    "\n",
    "    todo bloco dentro do for deve ser identado pra o seu funcionamento."
   ]
  },
  {
   "cell_type": "code",
   "execution_count": 3,
   "metadata": {},
   "outputs": [
    {
     "name": "stdout",
     "output_type": "stream",
     "text": [
      "0\n",
      "1\n",
      "2\n",
      "3\n",
      "4\n"
     ]
    }
   ],
   "source": [
    "for i in range(5): #Temos o for e o I que nesse caso é uma variável, o mesmo a principio indica indice \n",
    "    print(i)       #o renge indica quantas repetições haverá do bloco de código\n",
    "                    # nesse caso estamos printando o indice de todas as repetições que como já vimos inicia-se no indice zero."
   ]
  },
  {
   "cell_type": "markdown",
   "metadata": {},
   "source": [
    "- Imagine que você está construindo uma automação para enviar todo dia por e-mail um resumo da produção de uma fábrica. Construa um código que exiba a quantidade produzida de cada os produto nesse \"e-mail\""
   ]
  },
  {
   "cell_type": "code",
   "execution_count": 7,
   "metadata": {},
   "outputs": [
    {
     "name": "stdout",
     "output_type": "stream",
     "text": [
      "15000 unidades produzidas de coca\n",
      "12000 unidades produzidas de pepsi\n",
      "13000 unidades produzidas de guarana\n",
      "5000 unidades produzidas de sprite\n",
      "250 unidades produzidas de fanta\n"
     ]
    }
   ],
   "source": [
    "produtos = ['coca', 'pepsi', 'guarana', 'sprite', 'fanta']\n",
    "producao = [15000, 12000, 13000, 5000, 250]\n",
    "\n",
    "for i in range(5): #Nesse caso pegamos o indice de 5 elementos e fazemos o uso do mesmo para encontar produtos \n",
    "    print(\"{} unidades produzidas de {}\".format(producao[i], produtos[i])) # e tambem seus valores que estão por esse mesmo índice conectados."
   ]
  },
  {
   "cell_type": "code",
   "execution_count": 8,
   "metadata": {},
   "outputs": [
    {
     "name": "stdout",
     "output_type": "stream",
     "text": [
      "15000 unidades produzidas de coca\n",
      "12000 unidades produzidas de pepsi\n",
      "13000 unidades produzidas de guarana\n",
      "5000 unidades produzidas de sprite\n",
      "250 unidades produzidas de fanta\n"
     ]
    }
   ],
   "source": [
    "produtos = ['coca', 'pepsi', 'guarana', 'sprite', 'fanta']\n",
    "producao = [15000, 12000, 13000, 5000, 250]\n",
    "tamanho = len(produtos) \n",
    "for i in range(tamanho):#Nesse caso o range deixa de ser 5 e passa a ser o tamnaho da lista atribuída a variável  tamanho  ao ser lido com a função len quantos elementos temos dentro da lista produtos. \n",
    "    print(\"{} unidades produzidas de {}\".format(producao[i], produtos[i])) "
   ]
  },
  {
   "cell_type": "markdown",
   "metadata": {},
   "source": [
    " For \"each\"\n",
    "\n",
    "Estrutura:\n",
    "\n",
    "O for no Python consegue percorrer uma lista e a cada \"loop\" retornar o valor do item. percorrendo assim a mesma por completo e identificando cada um dos valores presentes nela.\n"
   ]
  },
  {
   "cell_type": "code",
   "execution_count": 10,
   "metadata": {},
   "outputs": [
    {
     "name": "stdout",
     "output_type": "stream",
     "text": [
      "O produto é  coca\n",
      "O produto é  pepsi\n",
      "O produto é  guarana\n",
      "O produto é  sprite\n",
      "O produto é  fanta\n",
      "l\n",
      "i\n",
      "r\n",
      "a\n",
      "@\n",
      "g\n",
      "m\n",
      "a\n",
      "i\n",
      "l\n",
      ".\n",
      "c\n",
      "o\n",
      "m\n"
     ]
    }
   ],
   "source": [
    "produtos = ['coca', 'pepsi', 'guarana', 'sprite', 'fanta']\n",
    "texto = 'lira@gmail.com'\n",
    " \n",
    "for produto in produtos:\n",
    "    print(\"O produto é  {}\".format(produto)) # Dessa forma é como fazemos com listas. \n",
    "\n",
    "for ch in texto:\n",
    "    print(ch) #Também podemos fazer isso com textos que na verdade também são considerados listas"
   ]
  },
  {
   "cell_type": "markdown",
   "metadata": {},
   "source": [
    "for + if\n",
    "\n",
    "Estrutura:\n",
    "\n",
    "for item in lista:\n",
    "    if condicao:\n",
    "        faça alguma coisa\n",
    "    else:\n",
    "        outra coisa"
   ]
  },
  {
   "cell_type": "markdown",
   "metadata": {},
   "source": [
    "Digamos que a gente esteja analisando a meta de vendas de vários funcionários de uma empresa. A meta de vendas é de 1000 reais em 1 dia.\n",
    "\n",
    "Temos uma lista com as vendas de todos os funcionários e quero calcular qual o % de pessoas que bateram a meta."
   ]
  },
  {
   "cell_type": "code",
   "execution_count": 15,
   "metadata": {},
   "outputs": [
    {
     "name": "stdout",
     "output_type": "stream",
     "text": [
      "o percentual de pessoas que bateram a meta foi de 26%\n"
     ]
    }
   ],
   "source": [
    "vendas = [1200, 300, 800, 1500, 1900, 2750, 400, 20, 23, 70, 90, 80, 1100, 999, 900, 880, 870, 50, 1111, 120, 300, 450, 800]\n",
    "meta = 1000\n",
    "bateu_meta = 0\n",
    "for item in vendas:#Nesse caso fazemos a junção do for ao if perceba que para cada item da lista tivemos uma verificação e apartir dessa verificação descobrimos a quantidaade de pessoas que bateram a meta, apatir disso o cálculo em porcentagem dos que conseguiram essse feito.\n",
    "   if item >= meta:\n",
    "     bateu_meta += 1\n",
    "\n",
    "total = len(vendas)\n",
    "print(\"o percentual de pessoas que bateram a meta foi de {:.0%}\".format(bateu_meta/total))"
   ]
  },
  {
   "cell_type": "markdown",
   "metadata": {},
   "source": []
  }
 ],
 "metadata": {
  "kernelspec": {
   "display_name": "Python 3",
   "language": "python",
   "name": "python3"
  },
  "language_info": {
   "codemirror_mode": {
    "name": "ipython",
    "version": 3
   },
   "file_extension": ".py",
   "mimetype": "text/x-python",
   "name": "python",
   "nbconvert_exporter": "python",
   "pygments_lexer": "ipython3",
   "version": "3.12.2"
  }
 },
 "nbformat": 4,
 "nbformat_minor": 2
}
