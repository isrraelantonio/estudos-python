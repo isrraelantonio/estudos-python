{
 "cells": [
  {
   "cell_type": "markdown",
   "metadata": {},
   "source": [
    "Estrutura de repetição for. \n",
    "\n",
    "o mesmo percorre toda uma lista de informações. e essa é sua principal função dentro do pyhton e de qualauer outra linguagem de programção.\n",
    "\n",
    "for i in range(n):\n",
    "    repetir código n vezes\n",
    "\n",
    "    todo bloco dentro do for deve ser identado pra o seu funcionamento."
   ]
  },
  {
   "cell_type": "code",
   "execution_count": 3,
   "metadata": {},
   "outputs": [
    {
     "name": "stdout",
     "output_type": "stream",
     "text": [
      "0\n",
      "1\n",
      "2\n",
      "3\n",
      "4\n"
     ]
    }
   ],
   "source": [
    "for i in range(5): #Temos o for e o I que nesse caso é uma variável, o mesmo a principio indica indice \n",
    "    print(i)       #o renge indica quantas repetições haverá do bloco de código\n",
    "                    # nesse caso estamos printando o indice de todas as repetições que como já vimos inicia-se no indice zero."
   ]
  },
  {
   "cell_type": "markdown",
   "metadata": {},
   "source": [
    "- Imagine que você está construindo uma automação para enviar todo dia por e-mail um resumo da produção de uma fábrica. Construa um código que exiba a quantidade produzida de cada os produto nesse \"e-mail\""
   ]
  },
  {
   "cell_type": "code",
   "execution_count": 7,
   "metadata": {},
   "outputs": [
    {
     "name": "stdout",
     "output_type": "stream",
     "text": [
      "15000 unidades produzidas de coca\n",
      "12000 unidades produzidas de pepsi\n",
      "13000 unidades produzidas de guarana\n",
      "5000 unidades produzidas de sprite\n",
      "250 unidades produzidas de fanta\n"
     ]
    }
   ],
   "source": [
    "produtos = ['coca', 'pepsi', 'guarana', 'sprite', 'fanta']\n",
    "producao = [15000, 12000, 13000, 5000, 250]\n",
    "\n",
    "for i in range(5): #Nesse caso pegamos o indice de 5 elementos e fazemos o uso do mesmo para encontar produtos \n",
    "    print(\"{} unidades produzidas de {}\".format(producao[i], produtos[i])) # e tambem seus valores que estão por esse mesmo índice conectados."
   ]
  },
  {
   "cell_type": "code",
   "execution_count": 8,
   "metadata": {},
   "outputs": [
    {
     "name": "stdout",
     "output_type": "stream",
     "text": [
      "15000 unidades produzidas de coca\n",
      "12000 unidades produzidas de pepsi\n",
      "13000 unidades produzidas de guarana\n",
      "5000 unidades produzidas de sprite\n",
      "250 unidades produzidas de fanta\n"
     ]
    }
   ],
   "source": [
    "produtos = ['coca', 'pepsi', 'guarana', 'sprite', 'fanta']\n",
    "producao = [15000, 12000, 13000, 5000, 250]\n",
    "tamanho = len(produtos) \n",
    "for i in range(tamanho):#Nesse caso o range deixa de ser 5 e passa a ser o tamnaho da lista atribuída a variável  tamanho  ao ser lido com a função len quantos elementos temos dentro da lista produtos. \n",
    "    print(\"{} unidades produzidas de {}\".format(producao[i], produtos[i])) "
   ]
  },
  {
   "cell_type": "markdown",
   "metadata": {},
   "source": [
    " For \"each\"\n",
    "\n",
    "Estrutura:\n",
    "\n",
    "O for no Python consegue percorrer uma lista e a cada \"loop\" retornar o valor do item. percorrendo assim a mesma por completo e identificando cada um dos valores presentes nela.\n"
   ]
  },
  {
   "cell_type": "code",
   "execution_count": 10,
   "metadata": {},
   "outputs": [
    {
     "name": "stdout",
     "output_type": "stream",
     "text": [
      "O produto é  coca\n",
      "O produto é  pepsi\n",
      "O produto é  guarana\n",
      "O produto é  sprite\n",
      "O produto é  fanta\n",
      "l\n",
      "i\n",
      "r\n",
      "a\n",
      "@\n",
      "g\n",
      "m\n",
      "a\n",
      "i\n",
      "l\n",
      ".\n",
      "c\n",
      "o\n",
      "m\n"
     ]
    }
   ],
   "source": [
    "produtos = ['coca', 'pepsi', 'guarana', 'sprite', 'fanta']\n",
    "texto = 'lira@gmail.com'\n",
    " \n",
    "for produto in produtos:\n",
    "    print(\"O produto é  {}\".format(produto)) # Dessa forma é como fazemos com listas. \n",
    "\n",
    "for ch in texto:\n",
    "    print(ch) #Também podemos fazer isso com textos que na verdade também são considerados listas"
   ]
  },
  {
   "cell_type": "markdown",
   "metadata": {},
   "source": [
    "for + if\n",
    "\n",
    "Estrutura:\n",
    "\n",
    "for item in lista:\n",
    "    if condicao:\n",
    "        faça alguma coisa\n",
    "    else:\n",
    "        outra coisa"
   ]
  },
  {
   "cell_type": "markdown",
   "metadata": {},
   "source": [
    "Digamos que a gente esteja analisando a meta de vendas de vários funcionários de uma empresa. A meta de vendas é de 1000 reais em 1 dia.\n",
    "\n",
    "Temos uma lista com as vendas de todos os funcionários e quero calcular qual o % de pessoas que bateram a meta."
   ]
  },
  {
   "cell_type": "code",
   "execution_count": 15,
   "metadata": {},
   "outputs": [
    {
     "name": "stdout",
     "output_type": "stream",
     "text": [
      "o percentual de pessoas que bateram a meta foi de 26%\n"
     ]
    }
   ],
   "source": [
    "vendas = [1200, 300, 800, 1500, 1900, 2750, 400, 20, 23, 70, 90, 80, 1100, 999, 900, 880, 870, 50, 1111, 120, 300, 450, 800]\n",
    "meta = 1000\n",
    "bateu_meta = 0\n",
    "for item in vendas:#Nesse caso fazemos a junção do for ao if perceba que para cada item da lista tivemos uma verificação e apartir dessa verificação descobrimos a quantidaade de pessoas que bateram a meta, apatir disso o cálculo em porcentagem dos que conseguiram essse feito.\n",
    "   if item >= meta:\n",
    "     bateu_meta += 1\n",
    "\n",
    "total = len(vendas)\n",
    "print(\"o percentual de pessoas que bateram a meta foi de {:.0%}\".format(bateu_meta/total))"
   ]
  },
  {
   "cell_type": "markdown",
   "metadata": {},
   "source": [
    "\n",
    "Enumerate.\n",
    "tratando-se de enumerate temos algo um pouco diferente, nesse caso dentro do enumerate, fica a lista e ocnsegumeos pegar o índice e também o nome do elemento.\n",
    "\n",
    "Observe a diferença entre essas duas formas de se usar o for.\n",
    "\n",
    "for item in lista:\n",
    "    resto do código\n",
    "\n",
    "for i, item in enumerate(lista):\n",
    "    resto do código\n"
   ]
  },
  {
   "cell_type": "code",
   "execution_count": 1,
   "metadata": {},
   "outputs": [
    {
     "name": "stdout",
     "output_type": "stream",
     "text": [
      "o funcionário Maria de indíce 0\n",
      "o funcionário José de indíce 1\n",
      "o funcionário Antônio de indíce 2\n",
      "o funcionário João de indíce 3\n",
      "o funcionário Francisco de indíce 4\n",
      "o funcionário Ana de indíce 5\n",
      "o funcionário Luiz de indíce 6\n",
      "o funcionário Paulo de indíce 7\n",
      "o funcionário Carlos de indíce 8\n",
      "o funcionário Manoel de indíce 9\n",
      "o funcionário Pedro de indíce 10\n",
      "o funcionário Francisca de indíce 11\n",
      "o funcionário Marcos de indíce 12\n",
      "o funcionário Raimundo de indíce 13\n",
      "o funcionário Sebastião de indíce 14\n",
      "o funcionário Antônia de indíce 15\n",
      "o funcionário Marcelo de indíce 16\n",
      "o funcionário Jorge de indíce 17\n",
      "o funcionário Márcia de indíce 18\n",
      "o funcionário Geraldo de indíce 19\n",
      "o funcionário Adriana de indíce 20\n",
      "o funcionário Sandra de indíce 21\n",
      "o funcionário Luis de indíce 22\n"
     ]
    }
   ],
   "source": [
    "funcionarios = ['Maria', 'José', 'Antônio', 'João', 'Francisco', 'Ana', 'Luiz', 'Paulo', 'Carlos', 'Manoel', 'Pedro', 'Francisca', 'Marcos', 'Raimundo', 'Sebastião', 'Antônia', 'Marcelo', 'Jorge', 'Márcia', 'Geraldo', 'Adriana', 'Sandra', 'Luis']\n",
    "\n",
    "for i, funcionario in enumerate(funcionarios):\n",
    "    print(\"o funcionário {} de indíce {}\".format(funcionario, i))\n",
    "    "
   ]
  },
  {
   "cell_type": "markdown",
   "metadata": {},
   "source": [
    " <h4>Exemplo Prático</h4>\n",
    "\n",
    "Vamos pegar um exemplo de nível mínimo de estoque. Em uma fábrica você tem vários produtos e não pode deixar que os produtos fiquem em falta. Para isso, foi definido uma quantidade mínima de estoque que os produtos precisam ter:\n",
    "\n",
    "Identifique quais produtos estão abaixo do nível mínimo de estoque."
   ]
  },
  {
   "cell_type": "code",
   "execution_count": 3,
   "metadata": {},
   "outputs": [
    {
     "name": "stdout",
     "output_type": "stream",
     "text": [
      "O produto dolly apresenta 20 unidade em estoque, e encontra-se abaixo do nivel mínimo favor repor o estoque desse produto.\n",
      "O produto red bull apresenta 23 unidade em estoque, e encontra-se abaixo do nivel mínimo favor repor o estoque desse produto.\n"
     ]
    }
   ],
   "source": [
    "estoque = [1200, 300, 800, 1500, 1900, 2750, 400, 20, 23, 70, 90, 80, 1100, 999, 900, 880, 870, 50, 1111, 120, 300, 450, 800]\n",
    "produtos = ['coca', 'pepsi', 'guarana', 'skol', 'brahma', 'agua', 'del valle', 'dolly', 'red bull', 'cachaça', 'vinho tinto', 'vodka', 'vinho branco', 'tequila', 'champagne', 'gin', 'guaracamp', 'matte', 'leite de castanha', 'leite', 'jurupinga', 'sprite', 'fanta']\n",
    "nivel_minimo = 50\n",
    "\n",
    "for i, quantidade in enumerate(estoque):\n",
    "    if quantidade < nivel_minimo:\n",
    "        print(\"O produto {} apresenta {} unidade em estoque, e encontra-se abaixo do nivel mínimo favor repor o estoque desse produto.\".format(produtos[i], estoque[i]))"
   ]
  },
  {
   "cell_type": "markdown",
   "metadata": {},
   "source": [
    "quando fazer cada  for "
   ]
  },
  {
   "cell_type": "code",
   "execution_count": 12,
   "metadata": {},
   "outputs": [
    {
     "name": "stdout",
     "output_type": "stream",
     "text": [
      "7700.000000000001\n",
      "11000.0\n",
      "2750.0\n",
      "15400.000000000002\n",
      "0\n",
      "1\n",
      "2\n",
      "3\n",
      "iphone 7700.000000000001\n",
      "ipad 11000.0\n",
      "airpod 2750.0\n",
      "macbook 15400.000000000002\n"
     ]
    }
   ],
   "source": [
    "#FOR ITEM IN LISTA:\n",
    "\n",
    "produtos = [\"iphone\", \"ipad\", \"airpod\", \"macbook\"]\n",
    "precos = [7000, 10000, 2500, 14000]\n",
    "\n",
    "#Em casos mais simples, podemos fazer uso de for mais simples.\n",
    "#nesse caso é algo mais direto e fazemos uso de uma única lista.\n",
    "\n",
    "for preco in precos:\n",
    "    print(preco * 1.1)\n",
    "    \n",
    "# FOR I IN RANGE:\n",
    "for i in range(len(produtos)): #Nessse caso temos duas listas separadas e ratrio de indice permitindo trabalhar com o mesmo do jeito que preferir.\n",
    "        print(i)\n",
    "        \n",
    "\n",
    "#FOR I IN ELEMENTO ENUMERATE():\n",
    "\n",
    "for i, preco in enumerate(precos): #para casos como esse podemos facilmente optar por escolher o range ou o enumerate\n",
    "    preco = preco * 1.1\n",
    "    produto = produtos[i]\n",
    "    print(produto, preco)"
   ]
  },
  {
   "cell_type": "markdown",
   "metadata": {},
   "source": [
    "FOR DENTRO DE FOR.\n",
    "\n",
    "For dentro de For\n",
    "\n",
    "Quando temos listas dentro de listas, às vezes precisamos fazer um \"for dentro de for\"\n",
    "\n",
    "for item in lista: \n",
    "    for item2 in lista2: \n",
    "        codigo aqui\n",
    "\n",
    "\n",
    "perceba que nesse caso o segundo for faz uso de uma variável diferente do primeiro "
   ]
  },
  {
   "cell_type": "markdown",
   "metadata": {},
   "source": [
    "Vamos pegar um exemplo de nível mínimo de estoque. Em uma fábrica você tem vários produtos e não pode deixar que os produtos fiquem em falta. Para isso, foi definido uma quantidade mínima de estoque que os produtos precisam ter:\n",
    "\n",
    "Identifique quais fábricas tem algum produto abaixo do nível de estoque\n",
    "\n",
    "- Agora ao invés de analisar o estoque de apenas 1 fábrica, vamos analisar o estoque de várias fábricas"
   ]
  },
  {
   "cell_type": "code",
   "execution_count": 35,
   "metadata": {},
   "outputs": [
    {
     "name": "stdout",
     "output_type": "stream",
     "text": [
      "['Lira Manufacturing', 'Fábrica Hashtag', 'Python Manufaturas']\n"
     ]
    }
   ],
   "source": [
    "estoque = [\n",
    "    [294, 125, 269, 208, 783, 852, 259, 371, 47, 102, 386, 87, 685, 686, 697, 941, 163, 631, 7, 714, 218, 670, 453],\n",
    "    [648, 816, 310, 555, 992, 643, 226, 319, 501, 23, 239, 42, 372, 441, 126, 645, 927, 911, 761, 445, 974, 2, 549],\n",
    "    [832, 683, 784, 449, 977, 705, 198, 937, 729, 327, 339, 10, 975, 310, 95, 689, 137, 795, 211, 538, 933, 751, 522],\n",
    "    [837, 168, 570, 397, 53, 297, 966, 714, 72, 737, 259, 629, 625, 469, 922, 305, 782, 243, 841, 848, 372, 621, 362],\n",
    "    [429, 242, 53, 985, 406, 186, 198, 50, 501, 870, 781, 632, 781, 105, 644, 509, 401, 88, 961, 765, 422, 340, 654],\n",
    "]\n",
    "fabricas = ['Lira Manufacturing', 'Fábrica Hashtag', 'Python Manufaturas', 'Produções e Cia', 'Manufatura e Cia']\n",
    "fabricaixom = []\n",
    "nivel_minimo = 50\n",
    "for i, lista  in enumerate(estoque): # percorri todos os elementos dentro da lista estoque e use\n",
    "    for quantidade in lista:# depois peguei cada uma das listas que são os elementos e fiz a verificação\n",
    "        if quantidade < nivel_minimo:# verifiuei os elementos de cada lista \n",
    "            if fabricas[i] in  fabricaixom: #para que não  ocorra a repetição de lita so será adicionada \n",
    "                pass                        # a listas fabricaixom aquelas que ainda não foram inseridas para \n",
    "            else:                           # evitar repetições desnecessárias.\n",
    "                fabricaixom.append(fabricas[i])\n",
    "print(fabricaixom)"
   ]
  },
  {
   "cell_type": "markdown",
   "metadata": {},
   "source": [
    "Existem duas formas de interromper o for:\n",
    "\n",
    "- break -> interrompe e finaliza o for\n",
    "- continue -> interrompe e vai para o próximo item do for"
   ]
  },
  {
   "cell_type": "markdown",
   "metadata": {},
   "source": [
    "- Caso 1: Se todas as vendas forem acima da meta, a loja ganha bônus"
   ]
  },
  {
   "cell_type": "code",
   "execution_count": 21,
   "metadata": {},
   "outputs": [
    {
     "name": "stdout",
     "output_type": "stream",
     "text": [
      "A loja não ganha bônus\n"
     ]
    }
   ],
   "source": [
    "vendas = [100, 150, 1500, 2000, 120]\n",
    "\n",
    "meta = 110 \n",
    "for valor in vendas:\n",
    "    if valor < meta:\n",
    "        print(\"A loja não ganha bônus\")\n",
    "        break # Nesse caso, quando o entramos no for e fazemos o break o mesmo pausa o for e vai diretamente a outra linha de código mesmo não verificando outros itens da lista, e executando a linha de código pós for, assim que a condição for verdadeira ele executa o caomando correspondente aquela condição."
   ]
  },
  {
   "cell_type": "markdown",
   "metadata": {},
   "source": [
    "- Caso 2: Exiba quem bateu a meta"
   ]
  },
  {
   "cell_type": "code",
   "execution_count": 17,
   "metadata": {},
   "outputs": [
    {
     "name": "stdout",
     "output_type": "stream",
     "text": [
      "150\n",
      "1500\n",
      "2000\n"
     ]
    }
   ],
   "source": [
    "vendedores = ['João', 'Julia', 'Ana', 'José', 'Maria']\n",
    "meta = 130\n",
    "\n",
    "for valor in vendas:\n",
    "    if valor < meta:\n",
    "        continue #Nesse caso, enquanto a condição for verdadeira o for continuará rodando. Quando a condição for falsa ele irá pular fora da condição.\n",
    "    print(valor)"
   ]
  },
  {
   "cell_type": "code",
   "execution_count": null,
   "metadata": {},
   "outputs": [],
   "source": []
  }
 ],
 "metadata": {
  "kernelspec": {
   "display_name": "Python 3",
   "language": "python",
   "name": "python3"
  },
  "language_info": {
   "codemirror_mode": {
    "name": "ipython",
    "version": 3
   },
   "file_extension": ".py",
   "mimetype": "text/x-python",
   "name": "python",
   "nbconvert_exporter": "python",
   "pygments_lexer": "ipython3",
   "version": "3.12.2"
  }
 },
 "nbformat": 4,
 "nbformat_minor": 2
}
