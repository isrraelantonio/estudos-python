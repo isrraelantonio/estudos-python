{
 "cells": [
  {
   "cell_type": "markdown",
   "metadata": {},
   "source": [
    "<h4>As variaveis dentro de python não precisan de identificação.</h4>\n",
    "\n",
    "As mais comuns dentro de python são:\n",
    "\n",
    "int: que se refere a inteiro <br>\n",
    "string: que se refere a texto  <br>\n",
    "float ou ponto flutuante : É quando falamos em números decimais. <br>\n",
    "bool ou boolean : São os famosos True ou False. <br>\n",
    "\n",
    "É bom ter em mente que temos palavras reservadas dentro de python que que fazer uso dessas palavras que para o mesmo ja tem valor semântico, causa erro no código.\n",
    "\n",
    "O python é uma linguagem orientada a objeto. Tudo para ele é um objeto, nós temos elementos que apresentam características e métodos específicos. Se as variáveis são diferentes elas usam métodos diferestes. as variáveis dentro de python não devem ser mudadas a todos o tempo e muito menos tendo o seu tipo de informção mudada. "
   ]
  },
  {
   "cell_type": "code",
   "execution_count": 5,
   "metadata": {},
   "outputs": [
    {
     "name": "stdout",
     "output_type": "stream",
     "text": [
      "<class 'int'>\n",
      "<class 'str'>\n",
      "<class 'float'>\n",
      "<class 'bool'>\n"
     ]
    }
   ],
   "source": [
    "faturamento = 100\n",
    "faturamentos = \"Rosangela\"\n",
    "faturamentoss = 39.0\n",
    "faturamentosss = True\n",
    "\n",
    "print (type(faturamento))\n",
    "print (type(faturamentos))\n",
    "print (type(faturamentoss))\n",
    "print (type(faturamentosss))\n",
    "\n"
   ]
  },
  {
   "cell_type": "markdown",
   "metadata": {},
   "source": [
    "O python não permite a concatenação de variáveis de tipos diferentes. Se existe por exemplo em transformar por exemplo uma variável do tipo number em string é necessário pro essa variável dentro de parenteses antecedida pela palavra resservada srt. "
   ]
  },
  {
   "cell_type": "code",
   "execution_count": 10,
   "metadata": {},
   "outputs": [
    {
     "name": "stdout",
     "output_type": "stream",
     "text": [
      "elizangela comprou 200 reais em doces\n",
      "elizangela comprou 200 reais em doces, e isso rendeu a ela 500 balinhas\n"
     ]
    }
   ],
   "source": [
    "gasto = 200 \n",
    "quantidade = 500\n",
    "print(\"elizangela comprou \" + str(gasto) + \" reais em doces\")\n",
    "print(\"elizangela comprou \" + str(gasto) + \" reais em doces, e isso rendeu a ela \" + str(quantidade) + \" balinhas\")"
   ]
  },
  {
   "cell_type": "markdown",
   "metadata": {},
   "source": [
    "<h4>Metodo format</h4>\n",
    "\n",
    "o metodo format isere dentro do texto a variável representada por chaves, e no final do conteúdo você especifica dentro de parentesas com o .format(), qual ou quais variáveis estamos nos referindo. Dessa forma é  possível escrever o texto todo dentro de um único par de aspas sem a necessidade transformar e ainda concatenar as variáveis ao texto.\n"
   ]
  },
  {
   "cell_type": "code",
   "execution_count": 11,
   "metadata": {},
   "outputs": [
    {
     "name": "stdout",
     "output_type": "stream",
     "text": [
      "elizangela comprou 300 reais em doces\n",
      "elizangela comprou 300 reais em doces, e isso rendeu a ela 700 balinhas\n"
     ]
    }
   ],
   "source": [
    "gasto = 300 \n",
    "quantidade = 700\n",
    "\n",
    "print(\"elizangela comprou {} reais em doces\".format(gasto))\n",
    "print(\"elizangela comprou {} reais em doces, e isso rendeu a ela {} balinhas\".format(gasto, quantidade))"
   ]
  },
  {
   "cell_type": "markdown",
   "metadata": {},
   "source": [
    "<h4>Fstring e mudança no tipo de variável.</h4>\n",
    "\n",
    " o fstring é bem interessante principalmente se não quer fazer uso do format. Nesse caso,antecendendo o texto teremos a letra f fora das aspas, o mesmo que irá transformar as variáveis que para esse caso estarão presentes dentro das chaves, em strings, e assim corresponder a esse formato. \n",
    "    Os inputs automáticamente ao receber informações do usuário transforma as mesmas em textos mesmo que sejam numeros. se existe a necessidade de fazer cálculos com os mesmos é importante fazer sua transformação, isso pode se feito usando por exemplo a palavra reservada int antecedendo o input que estará dentro de parenteses, logo, essa tranformação acontece ao fazer essa coleta.\n",
    "\n",
    "    veja as principais palavras reservadas para essas tensformações:\n",
    "\n",
    "    int inteiro \n",
    "    str texto \n",
    "    float número decimal"
   ]
  },
  {
   "cell_type": "code",
   "execution_count": 14,
   "metadata": {},
   "outputs": [
    {
     "name": "stdout",
     "output_type": "stream",
     "text": [
      "elizangela comprou 900 reais em doces\n",
      "elizangela comprou 900 reais em doces, e isso rendeu a ela 800 balinhas\n"
     ]
    }
   ],
   "source": [
    "gasto = 900 \n",
    "quantidade = 800\n",
    "\n",
    "print(f\"elizangela comprou {gasto} reais em doces\")\n",
    "print(f\"elizangela comprou {gasto} reais em doces, e isso rendeu a ela {quantidade} balinhas\")\n",
    "\n"
   ]
  },
  {
   "cell_type": "code",
   "execution_count": 15,
   "metadata": {},
   "outputs": [
    {
     "name": "stdout",
     "output_type": "stream",
     "text": [
      "<class 'int'>\n",
      "<class 'int'>\n",
      "1600\n"
     ]
    }
   ],
   "source": [
    "faturamento = int( input(\"Digite o faturamento\"))\n",
    "custo = int( input(\"Digite o custo\"))\n",
    "print(type(faturamento))\n",
    "print(type(custo))\n",
    "\n",
    "lucro = faturamento -  custo\n",
    "print(lucro)"
   ]
  }
 ],
 "metadata": {
  "kernelspec": {
   "display_name": "Python 3",
   "language": "python",
   "name": "python3"
  },
  "language_info": {
   "codemirror_mode": {
    "name": "ipython",
    "version": 3
   },
   "file_extension": ".py",
   "mimetype": "text/x-python",
   "name": "python",
   "nbconvert_exporter": "python",
   "pygments_lexer": "ipython3",
   "version": "3.12.2"
  }
 },
 "nbformat": 4,
 "nbformat_minor": 2
}
