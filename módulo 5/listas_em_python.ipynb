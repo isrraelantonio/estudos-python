{
 "cells": [
  {
   "cell_type": "markdown",
   "metadata": {},
   "source": [
    "<h4>Listas em Python, indice de lista: Descobrindo o indice de cada item.</h4>\n",
    "\n",
    "<h4>Estrutura da lista:</h4>\n",
    "\n",
    "Essa é a forma de criar listas dentro do python.<br>\n",
    "\n",
    "lista = [valor, valor, valor, valor, ...]\n",
    "\n",
    "- Lista é um dos objetos mais importantes de Python, por isso vamos trabalhar bastante neles\n",
    "- Quando importamos uma base de dados para o Python, normalmente ele é lido como uma \"lista\" ou como alguma \"variação de lista\"\n",
    "- Listas em Python foram feitas para serem homogêneas(ou é só de texto ou só números), apesar de aceitarem valores heterogêneos por exemplo quando se coleta essas informações dos bancos de dados onde essas informações podem estar misturadas. mesmo assim é mais indicado ao criar as suas fazê-las de forma homogênea.\n",
    "- Exemplos de Lista:  Listas de Produtos de uma Loja:\n",
    "\n",
    "Como ja vimos em pyhton para identificarmos determinado indice do produto devemos lembrar sempre que seu início se dá no valor zero.\n",
    "\n"
   ]
  },
  {
   "cell_type": "code",
   "execution_count": 6,
   "metadata": {},
   "outputs": [
    {
     "name": "stdout",
     "output_type": "stream",
     "text": [
      "['tv', 'celular', 'mouse', 'teclado']\n",
      "teclado\n"
     ]
    }
   ],
   "source": [
    "produtos = [ \"tv\" , \"celular\", \"mouse\", \"teclado\"]\n",
    "print(produtos)\n",
    "\n",
    "print(produtos[3])\n",
    "\n"
   ]
  },
  {
   "cell_type": "markdown",
   "metadata": {},
   "source": [
    "Podemos fazer inclusive a conexão de listas atravéz do índice. que ambas as mesmas te em comum.\n",
    "\n",
    "produtos = [ \"tv\" , \"celular\", \"mouse\", \"teclado\"]\n",
    "               0        1          2         3\n",
    "vendas   = [ 100 ,     200,      300,        400  ]\n",
    "\n"
   ]
  },
  {
   "cell_type": "code",
   "execution_count": 9,
   "metadata": {},
   "outputs": [
    {
     "name": "stdout",
     "output_type": "stream",
     "text": [
      " Vendas do produtomouse foram de 300 unidades.\n"
     ]
    }
   ],
   "source": [
    "produtos = [ \"tv\" , \"celular\", \"mouse\", \"teclado\"]\n",
    "            #   0        1          2         3\n",
    "vendas   = [ 100 ,     200,      300,        400  ]\n",
    "\n",
    "\n",
    "\n",
    "\n",
    "print(\" Vendas do produto {} foram de {} unidades.\".format(produtos[2], vendas[2]))"
   ]
  },
  {
   "cell_type": "markdown",
   "metadata": {},
   "source": [
    "nas istrings não conseguimos fazer a substituição de valores de forma ordenada ou específica, pois, a ocerrência se dará a todos os elementos iguais que existirem dentro do texto em questão. nas listas essa troca é bem mais tranquila."
   ]
  },
  {
   "cell_type": "code",
   "execution_count": 10,
   "metadata": {},
   "outputs": [
    {
     "name": "stdout",
     "output_type": "stream",
     "text": [
      "barba@gmaal.com\n"
     ]
    }
   ],
   "source": [
    "texto = \"birbi@gmail.com\"\n",
    "print(texto.replace(\"i\", \"a\")) #Veja que se a intenção é fazer a modificação para a primeira letra i dentro do texto isso não irá se restringir a mesma onde a troca irá  se perpetuaar durante todo o conjunto emquanto ela existir."
   ]
  },
  {
   "cell_type": "markdown",
   "metadata": {},
   "source": [
    "Como descobrir o índice de um item de uma lista?\n",
    "\n",
    "i = lista.index('item')\n",
    "\n",
    "Digamos que você puxou do Banco de Dados da sua empresa uma lista com todos os produtos que a empresa vende e a quantidade em estoque de todos eles."
   ]
  },
  {
   "cell_type": "code",
   "execution_count": null,
   "metadata": {},
   "outputs": [],
   "source": [
    "produtos = ['tv', 'celular', 'tablet', 'mouse', 'teclado', 'geladeira', 'forno']\n",
    "estoque = [100, 150, 100, 120, 70, 180, 80]"
   ]
  },
  {
   "cell_type": "markdown",
   "metadata": {},
   "source": [
    "\n",
    "Agora vamos tentar encontar a quantidade de geladeira em estoque atravéz do index onde o indice da mesma servirá de referencia para encontar sua quantidade em estoque."
   ]
  },
  {
   "cell_type": "code",
   "execution_count": 19,
   "metadata": {},
   "outputs": [
    {
     "name": "stdout",
     "output_type": "stream",
     "text": [
      "Temos em estoque 180 geladeiras\n"
     ]
    }
   ],
   "source": [
    "i = produtos.index(\"geladeira\")\n",
    "print(\"Temos em estoque {} {}s\".format(estoque[i], produtos[i]))"
   ]
  },
  {
   "cell_type": "markdown",
   "metadata": {},
   "source": [
    "Crie um programa para fazer uma consulta de estoque. O usuário do programa deve inserir o nome do produto e, caso ele não exista na lista, ele deve ser avisado. Caso exista, o programa deve dizer a quantidade de unidades em estoque do produto"
   ]
  },
  {
   "cell_type": "code",
   "execution_count": 28,
   "metadata": {},
   "outputs": [
    {
     "name": "stdout",
     "output_type": "stream",
     "text": [
      "o item gelad não se encontra na lista.\n"
     ]
    }
   ],
   "source": [
    "produt =  input(\"insira o nome do produto.\").lower()\n",
    "if produt:\n",
    "    if produt in produtos:\n",
    "        i = produtos.index(produt)\n",
    "        print(\"temos {} {} em estoque\".format(estoque[i], produtos[i]))\n",
    "    else:\n",
    "        print(\"o item {} não se encontra na lista.\".format(produt))\n",
    "else:\n",
    "    print(\"Preencha o campo\")"
   ]
  },
  {
   "cell_type": "markdown",
   "metadata": {},
   "source": [
    "<h4>Adicionar e remover item da lista</h4>\n",
    "\n",
    "Adicionar:<br>\n",
    "lista.append(item)\n",
    "\n",
    "Remover:<br>\n",
    "item_removido = lista.pop(indice)<br> nesse caso posso armazenar o valor retirado em variável.\n",
    "lista.remove(item)\n",
    "\n",
    "Digamos que você está construindo o controle de produtos da Apple.<br>\n",
    "E a Apple lançou o IPhone 11 e irá tirar dos seus estoques o IPhone X\n"
   ]
  },
  {
   "cell_type": "code",
   "execution_count": 37,
   "metadata": {},
   "outputs": [
    {
     "name": "stdout",
     "output_type": "stream",
     "text": [
      "['apple tv', 'mac', 'iphone 11', 'IPad', 'apple watch', 'mac book', 'airpods']\n",
      "['apple tv', 'mac', 'iphone 11', 'IPad', 'apple watch', 'mac book', 'airpods', 'iphone 12']\n",
      "['apple tv', 'mac', 'iphone 11', 'IPad', 'apple watch', 'mac book', 'airpods']\n",
      "Removemos da lista o produto mac\n",
      "['apple tv', 'iphone 11', 'IPad', 'apple watch', 'mac book', 'airpods']\n"
     ]
    }
   ],
   "source": [
    "produtos = ['apple tv', 'mac', 'iphone x', 'IPad', 'apple watch', 'mac book', 'airpods']\n",
    "\n",
    "#Adicionaresmos o item iphone11 e remover o iphone x \n",
    "#Essa é a primeira forma de se fazer\n",
    "produtos[2] = \"iphone 11\"\n",
    "print(produtos)\n",
    "\n",
    "#Nesse segundo caso para adicionar usamos o append. Os valores inseridos serão  postos no final de toda a lista\n",
    "produtos.append(\"iphone 12\")\n",
    "print(produtos)\n",
    "\n",
    "#Primeira forma de remover um item da lista. Para esse caso fazemos o uso do remove\n",
    "produtos.remove(\"iphone 12\")\n",
    "print(produtos)\n",
    "\n",
    "#Outra forma de remoção é o pop que te da o item segundo o seu indice\n",
    "item = produtos.pop(1)\n",
    "print(\"Removemos da lista o produto {}\".format(item))\n",
    "print(produtos)\n"
   ]
  },
  {
   "cell_type": "markdown",
   "metadata": {},
   "source": [
    "Existem duas foramas de fazer o tratamento da remoção dentro de uma lista.\n",
    "No primeiro caso usamos a estrutura de repetição if else. A segunda forma que isso possa ser feito é o que chamamos de try, nesse caso, não se tenta fazer uma verificação, apenas se tenta fazer, e caso não consiga, irá executar outra coisa dando seguimento a execução do código, com por exemplo um print."
   ]
  },
  {
   "cell_type": "code",
   "execution_count": 39,
   "metadata": {},
   "outputs": [
    {
     "name": "stdout",
     "output_type": "stream",
     "text": [
      "mac bok não está presente na lista\n"
     ]
    }
   ],
   "source": [
    "#O python assim como outras linguagens de programação é do tipo case sensitive logo uma letra diferente ou até mesmo espaços que não se  repetem em ambos os textos podem o eliminar sua presença dentro da lista, e isso deve ser tratado \n",
    "\n",
    "#Primeira opção de tratamento:\n",
    "\n",
    "item_agora = \"mac bok\"\n",
    "if item_agora in produtos:\n",
    "    produtos.remove(item_agora)\n",
    "    print(produtos)\n",
    "else:\n",
    "    print(\"{} não está presente na lista\".format(item_agora))\n"
   ]
  },
  {
   "cell_type": "code",
   "execution_count": 38,
   "metadata": {},
   "outputs": [
    {
     "name": "stdout",
     "output_type": "stream",
     "text": [
      "mac bok não está na lista\n"
     ]
    }
   ],
   "source": [
    "try:\n",
    "    produtos.remove(item_agora)\n",
    "except:\n",
    "    print(\"{} não está na lista\".format(item_agora))#Aqui eu também posso usar um pass. nesse caso não irá acontaecer nada."
   ]
  },
  {
   "cell_type": "markdown",
   "metadata": {},
   "source": [
    "<h4>Algumas Funções Básicas de Lista</h4>\n",
    "Tamanho da Lista\n",
    "\n",
    "tamanho = len(lista)"
   ]
  },
  {
   "cell_type": "code",
   "execution_count": 48,
   "metadata": {},
   "outputs": [],
   "source": [
    "produtos = [ \"iphone\", 'mac', 'iphone x', 'IPad', 'apple watch', 'mac book', 'airpods']"
   ]
  },
  {
   "cell_type": "markdown",
   "metadata": {},
   "source": [
    "Quantos produtos eu tenho na loja"
   ]
  },
  {
   "cell_type": "code",
   "execution_count": 49,
   "metadata": {},
   "outputs": [
    {
     "name": "stdout",
     "output_type": "stream",
     "text": [
      "Temos um total de 7 produtos\n"
     ]
    }
   ],
   "source": [
    "tamanho = len(produtos)\n",
    "print(\"Temos um total de {} produtos\".format(tamanho))"
   ]
  },
  {
   "cell_type": "markdown",
   "metadata": {},
   "source": [
    "<h4>Maior e Menor Valor dentro de uma lista</h4>\n",
    "\n",
    "maior = max(lista)\n",
    "\n",
    "menor = min(lista)"
   ]
  },
  {
   "cell_type": "code",
   "execution_count": 51,
   "metadata": {},
   "outputs": [
    {
     "name": "stdout",
     "output_type": "stream",
     "text": [
      "O item mais vendido da loja tem valor de 15000, e o menos vendido tem valor de 100\n"
     ]
    }
   ],
   "source": [
    "vendas = [1000, 1500, 15000, 270, 900, 100, 1200]\n",
    "\n",
    "#Veremos o item mais vendido dentro da lista, ou seja o maior valor da lista, e o menos vendido, sendo esse o de menor item da lista.\n",
    "\n",
    "mais_vendido = max(vendas)\n",
    "menos_vendido = min(vendas)\n",
    "\n",
    "print( \"O item mais vendido da loja tem valor de {}, e o menos vendido tem valor de {}\".format(mais_vendido, menos_vendido))"
   ]
  },
  {
   "cell_type": "code",
   "execution_count": 56,
   "metadata": {},
   "outputs": [
    {
     "name": "stdout",
     "output_type": "stream",
     "text": [
      "o produto mais vendido está na posição 2, e o menos vendido está na posição 5\n"
     ]
    }
   ],
   "source": [
    "#vejamos a posição dos itens mais e  menos vendidos dentro da lista.\n",
    "\n",
    "mais_vendido = max(vendas)\n",
    "menos_vendido = min(vendas)\n",
    "\n",
    "print(\"o produto mais vendido está na posição {}, e o menos vendido está na posição {}\".format(vendas.index(mais_vendido),vendas.index(menos_vendido)))\n"
   ]
  },
  {
   "cell_type": "markdown",
   "metadata": {},
   "source": [
    "<h4>\n",
    "    Juntar Listas, Ordenar e Cuidados Especiais\n",
    "    \n",
    "</h4>\n",
    " para tal podemos usar duas foramas para que essa junção aconteça\n",
    "- lista1.extend(lista2)\n",
    "- lista_nova = lista1 + lista2\n",
    "\n",
    "Obs: o Método .append não junta listas, mas adiciona um valor no final da lista"
   ]
  },
  {
   "cell_type": "code",
   "execution_count": 5,
   "metadata": {},
   "outputs": [
    {
     "name": "stdout",
     "output_type": "stream",
     "text": [
      "['apple tv', 'mac', 'iphone x', 'iphone 11', 'IPad', 'apple watch', 'mac book', 'airpods', 'iphone 12', 'ioculos']\n",
      "['apple tv', 'mac', 'iphone x', 'iphone 11', 'IPad', 'apple watch', 'mac book', 'airpods', 'iphone 12', 'ioculos', 'iphone 12', 'ioculos']\n",
      "['apple tv', 'mac', 'iphone x', 'iphone 11', 'IPad', 'apple watch', 'mac book', 'airpods', 'iphone 12', 'ioculos', ['iphone 12', 'ioculos']]\n"
     ]
    }
   ],
   "source": [
    "produtos = ['apple tv', 'mac', 'iphone x', 'iphone 11', 'IPad', 'apple watch', 'mac book', 'airpods']\n",
    "novos_produtos = ['iphone 12', 'ioculos']\n",
    "\n",
    "\n",
    "#vamos fazer a primeira adição desses novos produtos\n",
    "\n",
    "produtos.extend(novos_produtos)\n",
    "print(produtos)\n",
    "\n",
    "#Vamos a nossa segunda maneira:\n",
    "todos_produtos = produtos + novos_produtos\n",
    "print(todos_produtos)#nesse caso temos uma nova variável com uma novas lista\n",
    "\n",
    "\n",
    "\n",
    "#OBS: Não é interessante usarmos o append para para junção de listas seria o mesmo que criarmos uma lista dentro da outra levando inclusive para dentro da mesma o colchete.\n",
    "\n",
    "produtos.append(novos_produtos)\n",
    "print(produtos)"
   ]
  },
  {
   "cell_type": "markdown",
   "metadata": {},
   "source": [
    "<h4>Cuidado:</h4>\n",
    "\n",
    "- [1] + [2] não é a mesma coisa que 1 + 2, então cuidado sempre com o formato dos valores na hora de fazer operações."
   ]
  },
  {
   "cell_type": "code",
   "execution_count": 8,
   "metadata": {},
   "outputs": [
    {
     "name": "stdout",
     "output_type": "stream",
     "text": [
      "35000\n",
      "[15000, 20000]\n",
      "35000\n"
     ]
    }
   ],
   "source": [
    "produtos = ['apple tv', 'mac', 'iphone x', 'iphone 11', 'IPad', 'apple watch', 'mac book', 'airpods']\n",
    "\n",
    "vendas = [1000, 1500, 15000, 20000, 270, 900, 100, 1200]\n",
    "vendas_iphonex = [15000]\n",
    "vendas_iphone11 = [20000]\n",
    "\n",
    "#Para fazer a soma de valores dentro de uma lista deve fazer uso do índice para que isso aconteça.\n",
    "i = produtos.index('iphone x')\n",
    "i2 = produtos.index(\"iphone 11\")\n",
    "print(vendas[i] + vendas[i2])\n",
    "\n",
    "# se fizessemos isso, somando a lista mesmo que cada uma com um único valor, ele irá criar uma outra lista com ambos os valores\n",
    "\n",
    "print(vendas_iphonex + vendas_iphone11)\n",
    "print(vendas_iphone11[0] + vendas_iphonex[0])\n"
   ]
  },
  {
   "cell_type": "markdown",
   "metadata": {},
   "source": [
    "<h4>Ordenação de listas</h4>\n",
    "Nesse caso podemos por os elementos em ordem alfabética do maior para o maior \n",
    "\n",
    "pra isso usamos o lista.sort() Nesse caso a lista ficará em ordem alfabética."
   ]
  },
  {
   "cell_type": "code",
   "execution_count": 11,
   "metadata": {},
   "outputs": [
    {
     "name": "stdout",
     "output_type": "stream",
     "text": [
      "['IPad', 'airpods', 'apple tv', 'apple watch', 'iphone 11', 'iphone x', 'mac', 'mac book']\n"
     ]
    }
   ],
   "source": [
    "produtos = ['apple tv', 'mac', 'iphone x', 'iphone 11', 'IPad', 'apple watch', 'mac book', 'airpods']\n",
    "produtos.sort()\n",
    "print(produtos) # a lista é posta em ordem alfabética porém ele leva em consideração a ordenação de todos que iniciem em letras maiúsculas antes de ordenar os de letra minúscula, como se fossem blocos diferentes.perceba que como saída, o primeiro elemento da lista é o I pois é o úçnico item da lista com letra maiúscula."
   ]
  },
  {
   "cell_type": "code",
   "execution_count": 13,
   "metadata": {},
   "outputs": [
    {
     "name": "stdout",
     "output_type": "stream",
     "text": [
      "[1000, 1500, 15000, 20000, 270, 900, 100, 1200]\n",
      "[20000, 15000, 1500, 1200, 1000, 900, 270, 100]\n"
     ]
    }
   ],
   "source": [
    "vendas = [1000, 1500, 15000, 20000, 270, 900, 100, 1200]\n",
    "#Nesse caso, os valores serão dispostos do menor para o maior\n",
    "print(vendas)\n",
    "\n",
    "#Se o desejo for ordenar os números do maior para o menor devemos usar o reverse dentro dos parênteses\n",
    "vendas.sort(reverse=True)\n",
    "print(vendas)\n",
    "\n"
   ]
  },
  {
   "cell_type": "markdown",
   "metadata": {},
   "source": [
    "É importante tomar certo cuidado ao fazer ordenações quando temos listas que se relacionam pois ao por em ordem perdemos perder a relação que ambas teriam em relação ao índice.\n",
    "Esse ligamento em tre lista será tratado mais a frente como outros artifícios dentro do python."
   ]
  },
  {
   "cell_type": "markdown",
   "metadata": {},
   "source": [
    "<h4>print e Join em Listas.</h4>\n",
    "\n",
    "2 Opções:\n",
    "- print \"normal\"\n",
    "- método join -> texto.join(lista) Nesse caso a intenção é foramtar a lista como ela é apresentada na vida real, na posição texto usamos o delimitador que irá separar a lista. Pode ser uma vírgula, um ponto, um ponto e uma vírgula, emfim o delimitador que quiser. se for o \\n nesse caso os elementos ficarão ordenados um abaixo do outro. O mesmo irá funcionar como uma tecla enter do tecaldo.\n"
   ]
  },
  {
   "cell_type": "code",
   "execution_count": 17,
   "metadata": {},
   "outputs": [
    {
     "name": "stdout",
     "output_type": "stream",
     "text": [
      "['apple tv', 'mac', 'iphone x', 'iphone 11', 'IPad', 'apple watch', 'mac book', 'airpods']\n",
      "apple tv\n",
      "mac\n",
      "iphone x\n",
      "iphone 11\n",
      "IPad\n",
      "apple watch\n",
      "mac book\n",
      "airpods\n"
     ]
    }
   ],
   "source": [
    "produtos = ['apple tv', 'mac', 'iphone x', 'iphone 11', 'IPad', 'apple watch', 'mac book', 'airpods']\n",
    "\n",
    "print(produtos)\n",
    "print(\"\\n\".join(produtos))\n"
   ]
  },
  {
   "cell_type": "markdown",
   "metadata": {},
   "source": [
    "Lembrando do método split de strings:\n",
    "\n",
    "lista = texto.split(separador) nesse caso, pegamos uma string transformamos em lista e definimos para a mesma qual será o delimitador no texto que também será o delimitador da lista criada.\n"
   ]
  },
  {
   "cell_type": "code",
   "execution_count": 23,
   "metadata": {},
   "outputs": [
    {
     "name": "stdout",
     "output_type": "stream",
     "text": [
      "['apple tv, mac, iphone x, iphone 11, IPad, apple watch, mac book, airpods']\n"
     ]
    }
   ],
   "source": [
    "produtos = 'apple tv, mac, iphone x, iphone 11, IPad, apple watch, mac book, airpods'\n",
    "lista = produtos.split(\",\") #para que realmente seja criada uma lista deve ser feita dessa forma o atribuindo a outra variável.\n",
    "print(lista)"
   ]
  },
  {
   "cell_type": "markdown",
   "metadata": {},
   "source": [
    "<h4>Alterações de Variáveis</h4>\n",
    "\n",
    "Estrutura:\n",
    "\n",
    "- variavel = variavel + outro_valor\n",
    "\n",
    "ou então\n",
    "\n",
    "- variavel += outro_valor"
   ]
  },
  {
   "cell_type": "code",
   "execution_count": 26,
   "metadata": {},
   "outputs": [
    {
     "name": "stdout",
     "output_type": "stream",
     "text": [
      "6000\n",
      "alegria e harmonia\n"
     ]
    }
   ],
   "source": [
    "faturamento = 3000\n",
    "#faturamento = faturamento + 3000\n",
    "faturamento +=3000\n",
    "print(faturamento)\n",
    "#Nesse caso quando fazemos isso queremos dizer que o faturamento apartir daquele momento será igual ao seu antigo valor mais três mil, nesse caso é como se estivessemos abreviando essa ação para diminuirmos a escrita de código.\n",
    "\n",
    "#isso também pode ser feito com as istrings\n",
    "Texto = \"alegria e \"\n",
    "Texto +=\"harmonia\"\n",
    "print(Texto)"
   ]
  },
  {
   "cell_type": "code",
   "execution_count": 29,
   "metadata": {},
   "outputs": [
    {
     "name": "stdout",
     "output_type": "stream",
     "text": [
      "['mac', 'iphone', 'iphad']\n"
     ]
    }
   ],
   "source": [
    "\n",
    "lista = ['mac', 'iphone']\n",
    "vendas = [100, 200] \n",
    "#adicionando IPad na lista\n",
    "lista += [\"iphad\"]#Se não fizermos uso do colchete cada uma das letras serão inseridas dentro da lista como se fossem vários elementos. Nesse caso, essa inserção também poderia acontecer com o append, ou até mesmo fazendo uma soma de listas se decidissimos criar uma variável para adicionar esse novo elemento.\n",
    "print(lista)\n"
   ]
  },
  {
   "cell_type": "code",
   "execution_count": 30,
   "metadata": {},
   "outputs": [
    {
     "name": "stdout",
     "output_type": "stream",
     "text": [
      "700\n"
     ]
    }
   ],
   "source": [
    "soma_vendas = 300\n",
    "#adicionando na soma a quantidade de IPad\n",
    "soma_vendas += 400\n",
    "print(soma_vendas)\n"
   ]
  },
  {
   "cell_type": "code",
   "execution_count": 32,
   "metadata": {},
   "outputs": [
    {
     "name": "stdout",
     "output_type": "stream",
     "text": [
      "Esse mês vendemos um total de 700 produtos, sendo:\n",
      "100 unidades de mac\n",
      "200 unidades de iphone\n",
      "500 unidades de iphad\n"
     ]
    }
   ],
   "source": [
    "email = 'Esse mês vendemos um total de {} produtos, sendo:\\n{} unidades de {}\\n{} unidades de {}'.format(soma_vendas, vendas[0], lista[0], vendas[1], lista[1])\n",
    "#adicionando no fim do texto o Ipad\n",
    "email += \"\\n{} unidades de iphad\".format(500)\n",
    "print(email)"
   ]
  },
  {
   "cell_type": "markdown",
   "metadata": {},
   "source": [
    "<h4>cópiar e igualdade de listas.</h4>\n",
    "\n",
    "Estrutura:\n",
    "\n",
    "- Quando fazemos:<br>\n",
    "lista2 = lista1<br>\n",
    "não estamos criando uma lista nova, mas estamos atribuindo outra variável à mesma lista.\n",
    "\n",
    "- Se quisermos copiar lista devemos fazer<br>\n",
    "lista2 = lista1.copy()<br>\n",
    "ou entao<br>\n",
    "lista2 = lista1[:]\n",
    "\n"
   ]
  },
  {
   "cell_type": "code",
   "execution_count": 6,
   "metadata": {},
   "outputs": [
    {
     "name": "stdout",
     "output_type": "stream",
     "text": [
      "['ipad', 'ipohne 11', 'apple tv']\n",
      "['ipad', 'ipohne 11', 'apple tv']\n",
      "['ipad', 'ipohne 11', 'apple tv']\n",
      "['macboook', 'ipohne 11', 'apple tv']\n",
      "['ipad', 'ipohne 11', 'apple tv']\n",
      "['ipad', 'ipohne 11', 'macbuster']\n",
      "['ipad', 'ipohne 11', 'apple tv']\n"
     ]
    }
   ],
   "source": [
    "lista = ['ipad', 'iphone x', 'apple tv']\n",
    "lista2 = lista #Nesse caso a lista2 irá receber os valores presentes na primeira lista \n",
    "lista[1] = 'ipohne 11' # Essa mudança ocorre  tanto na primeira lista como na segunda pois de qualquer  forma  ambas estão conectadas já que na verdade a lista2 e uma concatenização entre ela mesma e a primeira lista\n",
    "print(lista)\n",
    "print(lista2)\n",
    "\n",
    "#para a criação de uma cópia da lista anterior  sem afetá-la caso se resolva intervir na construção da original é necessário seguir outras regras \n",
    "\n",
    "lista2 = lista.copy()\n",
    "print(lista2)\n",
    "lista[0] = \"macboook\"\n",
    "print(lista)\n",
    "print(lista2)\n",
    "\n",
    "#Outra forma de fazer isso\n",
    "lista3 = lista2[:]\n",
    "lista2[2] = \"macbuster\"\n",
    "print(lista2)\n",
    "print(lista3)\n"
   ]
  },
  {
   "cell_type": "markdown",
   "metadata": {},
   "source": [
    "\n",
    "<h4>Listas de Listas</h4>\n",
    "Estrutura:\n",
    "\n",
    "Cada item de uma lista pode ser qualquer tipo de variável. Inclusive, uma lista.\n",
    "\n",
    "Quando dentro de uma lista temos cada item como sendo uma outra lista, temos uma \"nested list\", ou seja, uma lista de listas.\n"
   ]
  },
  {
   "cell_type": "code",
   "execution_count": 12,
   "metadata": {},
   "outputs": [],
   "source": [
    "vendedores = ['Lira', 'João', 'Diego', 'Alon']\n",
    "produtos = ['ipad', 'iphone']\n",
    "vendas = [ #Temos aui uma lista de quatro itens cada uma delas com dois elemntos\n",
    "    [100, 200],\n",
    "    [300, 500],\n",
    "    [50, 1000],\n",
    "    [900, 10],\n",
    "]\n"
   ]
  },
  {
   "cell_type": "markdown",
   "metadata": {},
   "source": [
    "- Quanto João vendeu de IPad?\n",
    "- Quanto Diego vendeu de IPhone\n",
    "- Qual o total de vendas de IPhone?"
   ]
  },
  {
   "cell_type": "code",
   "execution_count": 15,
   "metadata": {},
   "outputs": [
    {
     "name": "stdout",
     "output_type": "stream",
     "text": [
      "300\n",
      "1000\n",
      "10\n",
      "1710\n"
     ]
    }
   ],
   "source": [
    "vendas_ipad_joao = vendas[1][0]\n",
    "print(vendas_ipad_joao)\n",
    "\n",
    "vendas_iphone_diego = vendas[2][1]\n",
    "print(vendas_iphone_diego)\n",
    "\n",
    "vendas_iphone_alon = vendas[3][1]\n",
    "print(vendas_iphone_alon)\n",
    "\n",
    "faturamento_iphone =  vendas[1][1] +  vendas[2][1] + vendas[0][1] + vendas[3][1]\n",
    "print(faturamento_iphone)"
   ]
  }
 ],
 "metadata": {
  "kernelspec": {
   "display_name": "Python 3",
   "language": "python",
   "name": "python3"
  },
  "language_info": {
   "codemirror_mode": {
    "name": "ipython",
    "version": 3
   },
   "file_extension": ".py",
   "mimetype": "text/x-python",
   "name": "python",
   "nbconvert_exporter": "python",
   "pygments_lexer": "ipython3",
   "version": "3.12.2"
  }
 },
 "nbformat": 4,
 "nbformat_minor": 2
}
