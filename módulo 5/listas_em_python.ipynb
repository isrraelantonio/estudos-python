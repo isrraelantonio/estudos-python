{
 "cells": [
  {
   "cell_type": "markdown",
   "metadata": {},
   "source": [
    "<h4>Listas em Python, indice de lista: Descobrindo o indice de cada item.</h4>\n",
    "\n",
    "<h4>Estrutura da lista:</h4>\n",
    "\n",
    "Essa é a forma de criar listas dentro do python.<br>\n",
    "\n",
    "lista = [valor, valor, valor, valor, ...]\n",
    "\n",
    "- Lista é um dos objetos mais importantes de Python, por isso vamos trabalhar bastante neles\n",
    "- Quando importamos uma base de dados para o Python, normalmente ele é lido como uma \"lista\" ou como alguma \"variação de lista\"\n",
    "- Listas em Python foram feitas para serem homogêneas(ou é só de texto ou só números), apesar de aceitarem valores heterogêneos por exemplo quando se coleta essas informações dos bancos de dados onde essas informações podem estar misturadas. mesmo assim é mais indicado ao criar as suas fazê-las de forma homogênea.\n",
    "- Exemplos de Lista:  Listas de Produtos de uma Loja:\n",
    "\n",
    "Como ja vimos em pyhton para identificarmos determinado indice do produto devemos lembrar sempre que seu início se dá no valor zero.\n",
    "\n"
   ]
  },
  {
   "cell_type": "code",
   "execution_count": 6,
   "metadata": {},
   "outputs": [
    {
     "name": "stdout",
     "output_type": "stream",
     "text": [
      "['tv', 'celular', 'mouse', 'teclado']\n",
      "teclado\n"
     ]
    }
   ],
   "source": [
    "produtos = [ \"tv\" , \"celular\", \"mouse\", \"teclado\"]\n",
    "print(produtos)\n",
    "\n",
    "print(produtos[3])\n",
    "\n"
   ]
  },
  {
   "cell_type": "markdown",
   "metadata": {},
   "source": [
    "Podemos fazer inclusive a conexão de listas atravéz do índice. que ambas as mesmas te em comum.\n",
    "\n",
    "produtos = [ \"tv\" , \"celular\", \"mouse\", \"teclado\"]\n",
    "               0        1          2         3\n",
    "vendas   = [ 100 ,     200,      300,        400  ]\n",
    "\n"
   ]
  },
  {
   "cell_type": "code",
   "execution_count": 9,
   "metadata": {},
   "outputs": [
    {
     "name": "stdout",
     "output_type": "stream",
     "text": [
      " Vendas do produtomouse foram de 300 unidades.\n"
     ]
    }
   ],
   "source": [
    "produtos = [ \"tv\" , \"celular\", \"mouse\", \"teclado\"]\n",
    "            #   0        1          2         3\n",
    "vendas   = [ 100 ,     200,      300,        400  ]\n",
    "\n",
    "\n",
    "\n",
    "\n",
    "print(\" Vendas do produto {} foram de {} unidades.\".format(produtos[2], vendas[2]))"
   ]
  },
  {
   "cell_type": "markdown",
   "metadata": {},
   "source": [
    "nas istrings não conseguimos fazer a substituição de valores de forma ordenada ou específica, pois, a ocerrência se dará a todos os elementos iguais que existirem dentro do texto em questão. nas listas essa troca é bem mais tranquila."
   ]
  },
  {
   "cell_type": "code",
   "execution_count": 10,
   "metadata": {},
   "outputs": [
    {
     "name": "stdout",
     "output_type": "stream",
     "text": [
      "barba@gmaal.com\n"
     ]
    }
   ],
   "source": [
    "texto = \"birbi@gmail.com\"\n",
    "print(texto.replace(\"i\", \"a\")) #Veja que se a intenção é fazer a modificação para a primeira letra i dentro do texto isso não irá se restringir a mesma onde a troca irá  se perpetuaar durante todo o conjunto emquanto ela existir."
   ]
  },
  {
   "cell_type": "markdown",
   "metadata": {},
   "source": [
    "Como descobrir o índice de um item de uma lista?\n",
    "\n",
    "i = lista.index('item')\n",
    "\n",
    "Digamos que você puxou do Banco de Dados da sua empresa uma lista com todos os produtos que a empresa vende e a quantidade em estoque de todos eles."
   ]
  },
  {
   "cell_type": "code",
   "execution_count": null,
   "metadata": {},
   "outputs": [],
   "source": [
    "produtos = ['tv', 'celular', 'tablet', 'mouse', 'teclado', 'geladeira', 'forno']\n",
    "estoque = [100, 150, 100, 120, 70, 180, 80]"
   ]
  },
  {
   "cell_type": "markdown",
   "metadata": {},
   "source": [
    "\n",
    "Agora vamos tentar encontar a quantidade de geladeira em estoque atravéz do index onde o indice da mesma servirá de referencia para encontar sua quantidade em estoque."
   ]
  },
  {
   "cell_type": "code",
   "execution_count": 19,
   "metadata": {},
   "outputs": [
    {
     "name": "stdout",
     "output_type": "stream",
     "text": [
      "Temos em estoque 180 geladeiras\n"
     ]
    }
   ],
   "source": [
    "i = produtos.index(\"geladeira\")\n",
    "print(\"Temos em estoque {} {}s\".format(estoque[i], produtos[i]))"
   ]
  },
  {
   "cell_type": "markdown",
   "metadata": {},
   "source": [
    "Crie um programa para fazer uma consulta de estoque. O usuário do programa deve inserir o nome do produto e, caso ele não exista na lista, ele deve ser avisado. Caso exista, o programa deve dizer a quantidade de unidades em estoque do produto"
   ]
  },
  {
   "cell_type": "code",
   "execution_count": 28,
   "metadata": {},
   "outputs": [
    {
     "name": "stdout",
     "output_type": "stream",
     "text": [
      "o item gelad não se encontra na lista.\n"
     ]
    }
   ],
   "source": [
    "produt =  input(\"insira o nome do produto.\").lower()\n",
    "if produt:\n",
    "    if produt in produtos:\n",
    "        i = produtos.index(produt)\n",
    "        print(\"temos {} {} em estoque\".format(estoque[i], produtos[i]))\n",
    "    else:\n",
    "        print(\"o item {} não se encontra na lista.\".format(produt))\n",
    "else:\n",
    "    print(\"Preencha o campo\")"
   ]
  },
  {
   "cell_type": "markdown",
   "metadata": {},
   "source": [
    "<h4>Adicionar e remover item da lista</h4>\n",
    "\n",
    "Adicionar:<br>\n",
    "lista.append(item)\n",
    "\n",
    "Remover:<br>\n",
    "item_removido = lista.pop(indice)<br> nesse caso posso armazenar o valor retirado em variável.\n",
    "lista.remove(item)\n",
    "\n",
    "Digamos que você está construindo o controle de produtos da Apple.<br>\n",
    "E a Apple lançou o IPhone 11 e irá tirar dos seus estoques o IPhone X\n"
   ]
  },
  {
   "cell_type": "code",
   "execution_count": 37,
   "metadata": {},
   "outputs": [
    {
     "name": "stdout",
     "output_type": "stream",
     "text": [
      "['apple tv', 'mac', 'iphone 11', 'IPad', 'apple watch', 'mac book', 'airpods']\n",
      "['apple tv', 'mac', 'iphone 11', 'IPad', 'apple watch', 'mac book', 'airpods', 'iphone 12']\n",
      "['apple tv', 'mac', 'iphone 11', 'IPad', 'apple watch', 'mac book', 'airpods']\n",
      "Removemos da lista o produto mac\n",
      "['apple tv', 'iphone 11', 'IPad', 'apple watch', 'mac book', 'airpods']\n"
     ]
    }
   ],
   "source": [
    "produtos = ['apple tv', 'mac', 'iphone x', 'IPad', 'apple watch', 'mac book', 'airpods']\n",
    "\n",
    "#Adicionaresmos o item iphone11 e remover o iphone x \n",
    "#Essa é a primeira forma de se fazer\n",
    "produtos[2] = \"iphone 11\"\n",
    "print(produtos)\n",
    "\n",
    "#Nesse segundo caso para adicionar usamos o append. Os valores inseridos serão  postos no final de toda a lista\n",
    "produtos.append(\"iphone 12\")\n",
    "print(produtos)\n",
    "\n",
    "#Primeira forma de remover um item da lista. Para esse caso fazemos o uso do remove\n",
    "produtos.remove(\"iphone 12\")\n",
    "print(produtos)\n",
    "\n",
    "#Outra forma de remoção é o pop que te da o item segundo o seu indice\n",
    "item = produtos.pop(1)\n",
    "print(\"Removemos da lista o produto {}\".format(item))\n",
    "print(produtos)\n"
   ]
  },
  {
   "cell_type": "markdown",
   "metadata": {},
   "source": [
    "Existem duas foramas de fazer o tratamento da remoção dentro de uma lista.\n",
    "No primeiro caso usamos a estrutura de repetição if else. A segunda forma que isso possa ser feito é o que chamamos de try, nesse caso, não se tenta fazer uma verificação, apenas se tenta fazer, e caso não consiga, irá executar outra coisa dando seguimento a execução do código, com por exemplo um print."
   ]
  },
  {
   "cell_type": "code",
   "execution_count": 39,
   "metadata": {},
   "outputs": [
    {
     "name": "stdout",
     "output_type": "stream",
     "text": [
      "mac bok não está presente na lista\n"
     ]
    }
   ],
   "source": [
    "#O python assim como outras linguagens de programação é do tipo case sensitive logo uma letra diferente ou até mesmo espaços que não se  repetem em ambos os textos podem o eliminar sua presença dentro da lista, e isso deve ser tratado \n",
    "\n",
    "#Primeira opção de tratamento:\n",
    "\n",
    "item_agora = \"mac bok\"\n",
    "if item_agora in produtos:\n",
    "    produtos.remove(item_agora)\n",
    "    print(produtos)\n",
    "else:\n",
    "    print(\"{} não está presente na lista\".format(item_agora))\n"
   ]
  },
  {
   "cell_type": "code",
   "execution_count": 38,
   "metadata": {},
   "outputs": [
    {
     "name": "stdout",
     "output_type": "stream",
     "text": [
      "mac bok não está na lista\n"
     ]
    }
   ],
   "source": [
    "try:\n",
    "    produtos.remove(item_agora)\n",
    "except:\n",
    "    print(\"{} não está na lista\".format(item_agora))#Aqui eu também posso usar um pass. nesse caso não irá acontaecer nada."
   ]
  },
  {
   "cell_type": "markdown",
   "metadata": {},
   "source": [
    "<h4>Algumas Funções Básicas de Lista</h4>\n",
    "Tamanho da Lista\n",
    "\n",
    "tamanho = len(lista)"
   ]
  },
  {
   "cell_type": "code",
   "execution_count": 48,
   "metadata": {},
   "outputs": [],
   "source": [
    "produtos = [ \"iphone\", 'mac', 'iphone x', 'IPad', 'apple watch', 'mac book', 'airpods']"
   ]
  },
  {
   "cell_type": "markdown",
   "metadata": {},
   "source": [
    "Quantos produtos eu tenho na loja"
   ]
  },
  {
   "cell_type": "code",
   "execution_count": 49,
   "metadata": {},
   "outputs": [
    {
     "name": "stdout",
     "output_type": "stream",
     "text": [
      "Temos um total de 7 produtos\n"
     ]
    }
   ],
   "source": [
    "tamanho = len(produtos)\n",
    "print(\"Temos um total de {} produtos\".format(tamanho))"
   ]
  },
  {
   "cell_type": "markdown",
   "metadata": {},
   "source": [
    "<h4>Maior e Menor Valor dentro de uma lista</h4>\n",
    "\n",
    "maior = max(lista)\n",
    "\n",
    "menor = min(lista)"
   ]
  },
  {
   "cell_type": "code",
   "execution_count": 51,
   "metadata": {},
   "outputs": [
    {
     "name": "stdout",
     "output_type": "stream",
     "text": [
      "O item mais vendido da loja tem valor de 15000, e o menos vendido tem valor de 100\n"
     ]
    }
   ],
   "source": [
    "vendas = [1000, 1500, 15000, 270, 900, 100, 1200]\n",
    "\n",
    "#Veremos o item mais vendido dentro da lista, ou seja o maior valor da lista, e o menos vendido, sendo esse o de menor item da lista.\n",
    "\n",
    "mais_vendido = max(vendas)\n",
    "menos_vendido = min(vendas)\n",
    "\n",
    "print( \"O item mais vendido da loja tem valor de {}, e o menos vendido tem valor de {}\".format(mais_vendido, menos_vendido))"
   ]
  },
  {
   "cell_type": "code",
   "execution_count": 56,
   "metadata": {},
   "outputs": [
    {
     "name": "stdout",
     "output_type": "stream",
     "text": [
      "o produto mais vendido está na posição 2, e o menos vendido está na posição 5\n"
     ]
    }
   ],
   "source": [
    "#vejamos a posição dos itens mais e  menos vendidos dentro da lista.\n",
    "\n",
    "mais_vendido = max(vendas)\n",
    "menos_vendido = min(vendas)\n",
    "\n",
    "print(\"o produto mais vendido está na posição {}, e o menos vendido está na posição {}\".format(vendas.index(mais_vendido),vendas.index(menos_vendido)))\n"
   ]
  },
  {
   "cell_type": "code",
   "execution_count": null,
   "metadata": {},
   "outputs": [],
   "source": []
  }
 ],
 "metadata": {
  "kernelspec": {
   "display_name": "Python 3",
   "language": "python",
   "name": "python3"
  },
  "language_info": {
   "codemirror_mode": {
    "name": "ipython",
    "version": 3
   },
   "file_extension": ".py",
   "mimetype": "text/x-python",
   "name": "python",
   "nbconvert_exporter": "python",
   "pygments_lexer": "ipython3",
   "version": "3.12.2"
  }
 },
 "nbformat": 4,
 "nbformat_minor": 2
}
