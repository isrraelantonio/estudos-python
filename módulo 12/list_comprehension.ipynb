{
 "cells": [
  {
   "cell_type": "markdown",
   "metadata": {},
   "source": [
    "List Comprehension - O que é e qual a importância?\n",
    "\n",
    "### Descrição:\n",
    "\n",
    "- List Comprehension é uma forma de iterar pelos elementas das listas de maneira \"mais direta\", com mais \"cara de Python\"\n",
    "- Em resumo: é como se você fizesse um \"for\" em 1 linha de código\n",
    "\n",
    "### Observação Importante:\n",
    "\n",
    "- Você não precisa de List comprehension para programar, tudo que vamos mostrar aqui dá pra fazer do jeito que já aprendemos\n",
    "- Você não vai sair de uma hora pra outra fazendo tudo list comprehension ao invés de for, porque é realmente mais confuso.\n",
    "- O objetivo aqui é:\n",
    "    1. Saber ler e entender o que tá acontecendo quando ver list comprehension (principal)\n",
    "    2. A medida do tempo você vai se acostumando com isso, vendo mais, usando mais e vai fazer naturalmente quando precisar.\n",
    "    \n",
    "- Mas se você sair desse módulo do curso achando isso tudo muito difícil, fica tranquilo, não usa por hora list comprehension e a medida que você for pegando mais experiência com o Python você lembra que tem esse módulo aqui e pode voltar no futuro\n",
    "\n",
    "### Estrutura:\n",
    "\n",
    "lista = [expressão for item in iterable]"
   ]
  },
  {
   "cell_type": "code",
   "execution_count": 5,
   "metadata": {},
   "outputs": [
    {
     "name": "stdout",
     "output_type": "stream",
     "text": [
      "[30.0, 45.0, 90.0, 1650.0]\n",
      "[30.0, 45.0, 90.0, 1650.0]\n"
     ]
    }
   ],
   "source": [
    "preco_produtos = [100, 150, 300, 5500]\n",
    "produtos = ['vinho', 'cafeiteira', 'microondas', 'iphone']\n",
    "impostos =[]\n",
    "\n",
    "#digamos que o imposto sobre os produtos é de 30%, ou seja, 0.3. Como eu faria para criar uma lista com os \n",
    "#valores de imposto de cada produto?\n",
    "\n",
    "for  item in preco_produtos:\n",
    "    impostos.append(item * 0.3)\n",
    "\n",
    "print(impostos)\n",
    "\n",
    "#Agora vamos conseguir como listcomprehension o mesmo resultado e fazendo o uso de uma única lista:\n",
    "\n",
    "impostozz = [preco * 0.3 for preco in preco_produtos]\n",
    "# Na construção definimos que o impostozz vai receber uma lista, nessa lista teremos o resultado dos itens de uma lista vezes o 0.3, ou seja os 30% dos itens dessa lista, em seguida chamamos o for e nele identificamos que a multiplicação será usada para cada item da lista preco_produtos.\n",
    "\n",
    "\n",
    "print(impostozz)\n"
   ]
  },
  {
   "cell_type": "code",
   "execution_count": 8,
   "metadata": {},
   "outputs": [
    {
     "name": "stdout",
     "output_type": "stream",
     "text": [
      "[30.0, 45.0, 90.0, 1650.0]\n"
     ]
    }
   ],
   "source": [
    "#Além de podermos criar uma expresão nós ao invéz disso podemos chamar uma função já previamente criada passando dentro da mesma os parâmetros necessários para que a função funcione veja:\n",
    "\n",
    "imposto = 0.3\n",
    "preco_produtos = [100, 150, 300, 5500]\n",
    "\n",
    "def calcu_imposto(preco, imposto):\n",
    "    return preco * imposto\n",
    "    \n",
    "preco_imposto =[calcu_imposto(preco, imposto) for preco in preco_produtos]\n",
    "\n",
    "print(preco_imposto)"
   ]
  },
  {
   "cell_type": "markdown",
   "metadata": {},
   "source": [
    "Um exemplo prático de List Comprehension\n",
    "\n",
    "O que faríamos se quisermos ordenar 2 listas \"relacionadas\""
   ]
  },
  {
   "cell_type": "code",
   "execution_count": 12,
   "metadata": {},
   "outputs": [
    {
     "name": "stdout",
     "output_type": "stream",
     "text": [
      "[2100, 1950, 1500, 150]\n"
     ]
    }
   ],
   "source": [
    "vendas_produtos = [1500, 150, 2100, 1950]\n",
    "produtos = ['vinho', 'cafeiteira', 'microondas', 'iphone']\n",
    "\n",
    "# imagine que você tem duas listas que se relacionam, e deseja por exemplo ordenar os ites mais vendidos para os menos vendidos \n",
    "\n",
    "vendas_produtos.sort(reverse= True)\n",
    "print(vendas_produtos)\n",
    "produtos.sort(reverse = True)\n",
    "#Perceba que usando o sort reverse = True, nós conseguimos organizar os elementos do maior para o menor porém o mesmo já não se encontra ligado a lista produtos pois as coisas mudaram de ordem mesmo fazendo o sort reverse = True também nessa lista.\n",
    "\n",
    "\n"
   ]
  },
  {
   "cell_type": "code",
   "execution_count": 15,
   "metadata": {},
   "outputs": [
    {
     "name": "stdout",
     "output_type": "stream",
     "text": [
      "[(1500, 'vinho'), (150, 'cafeiteira'), (2100, 'microondas'), (1950, 'iphone')]\n",
      "['microondas', 'iphone', 'vinho', 'cafeiteira']\n"
     ]
    }
   ],
   "source": [
    "vendas_produtos = [1500, 150, 2100, 1950]\n",
    "produtos = ['vinho', 'cafeiteira', 'microondas', 'iphone']\n",
    "\n",
    "\n",
    "# O uso do zip foi aprendido no módulo que trata sobre tuplas.\n",
    "\n",
    "lista_aux = list(zip(vendas_produtos, produtos)) # a melhor opção foi a de criar uma lista auxíliar onde para ela iremos zipar os elementos de ambas as listas ainda com relação de posição, criando assim uma tupla de chave valor. perceba que o zip  foi posto dentro de um list para além disso essas tuplas sejam postas dentro de uma lista como queremos fazer após isso a ordenação dos valores do maior para o menor a lista vendas_produtos foi passada primeiro, logo essa ordenação vai ser feita levando em consideração esse primeiro parâmetro passado.\n",
    "print(lista_aux)\n",
    "\n",
    "lista_aux.sort(reverse=True) #Aqui já fizemos a ordenação desses valores do maior para o menor\n",
    "produtos = [produto for vendas, produto in lista_aux] #Agora fazendo uma lista comprehension passamos para a lista produto que a mesma ira receber o elemento produto das vendas e produtos contidos dentro  da lista_aux\n",
    "print(produtos) #Agora pritamos a lista produto, e nesse caso temos  printado os itens dos mais vendidos para os menos vendidos."
   ]
  }
 ],
 "metadata": {
  "kernelspec": {
   "display_name": "Python 3",
   "language": "python",
   "name": "python3"
  },
  "language_info": {
   "codemirror_mode": {
    "name": "ipython",
    "version": 3
   },
   "file_extension": ".py",
   "mimetype": "text/x-python",
   "name": "python",
   "nbconvert_exporter": "python",
   "pygments_lexer": "ipython3",
   "version": "3.12.2"
  }
 },
 "nbformat": 4,
 "nbformat_minor": 2
}
