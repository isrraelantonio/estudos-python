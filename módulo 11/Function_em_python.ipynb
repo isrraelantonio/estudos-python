{
 "cells": [
  {
   "cell_type": "markdown",
   "metadata": {},
   "source": [
    "<h4>Function Python</h4>\n",
    "\n",
    "O que é?\n",
    "\n",
    "As functions são blocos de código que servem 1 único propósito, fazem uma ação específica. se escrevemos no programa um metodo já estamos fazendo uso de uma function. Nesse caso a function permite que esse método seja reutilizado para uotros momentos do código para evitar a redundancia do mesmo.\n",
    "\n",
    " Estrutura Básica\n",
    "\n",
    " def nome_funcao():\n",
    "    faça alguma coisa\n",
    "    faça outra coisa\n",
    "    return valor_final"
   ]
  },
  {
   "cell_type": "markdown",
   "metadata": {},
   "source": [
    "Exemplo: vamos criar uma função de cadastro de um Produto. Essa função deve garantir que o produto cadastrado está em letra minúscula."
   ]
  },
  {
   "cell_type": "code",
   "execution_count": 7,
   "metadata": {},
   "outputs": [
    {
     "name": "stdout",
     "output_type": "stream",
     "text": [
      "[58, 59, 90, 350]\n"
     ]
    }
   ],
   "source": [
    "lista = [350, 59, 58, 90]\n",
    "lista.sort() # O sort é  um exemplo de function, a mesma é um conjunto de códigos que já se tem em na bliblioteca do python é apenas chamado para execução sem a necessidade de reescrevê-lo para ter a sua execução.\n",
    "print(lista)\n",
    "\n",
    "#Outro exemplo de function é o casefold para que isso aconteça.\n",
    "\n",
    "def  cadastrar_produto():\n",
    "    #Perceba que nesse caso já crio a minha propria função e dou a ela o nome com uma variável no infinitivo como se fosse algo a ser executado.\n",
    "    produto = input('Digite o nome de algum produto.')\n",
    "    produto = produto.lower()\n",
    "    print('{} está cadastrado'.format(produto))\n",
    "\n",
    "# Nesse caso redefinimos o valor de produtos e com o lower nós o trandformamos em letras minúsculas.\n",
    "# na célula abaixo erei chamar a função cadastrar produto e ela será chamada para uma execução.\n"
   ]
  },
  {
   "cell_type": "code",
   "execution_count": 8,
   "metadata": {},
   "outputs": [
    {
     "name": "stdout",
     "output_type": "stream",
     "text": [
      "margarina está cadastrado\n",
      "doce está cadastrado\n",
      "macarão está cadastrado\n"
     ]
    }
   ],
   "source": [
    "\n",
    "for i in range(3):\n",
    "    cadastrar_produto()"
   ]
  },
  {
   "cell_type": "markdown",
   "metadata": {},
   "source": [
    "<h4>Retornar um valor na Function Python</h4>\n",
    "\n",
    "Estrutura Básica\n",
    "\n",
    "def nome_funcao():\n",
    "    return valor_final  Quando falamos em retornar valor em functions, é retornar o resultado após executar o seu conjunto de códigos, o mesmo poderá ser armazenado em variáveis e usado posteriormente dentro do código.\n",
    "\n",
    "\n",
    "Exemplo: vamos criar uma função de cadastro de um Produto. Essa função deve garantir que o produto cadastrado está em letra minúscula."
   ]
  },
  {
   "cell_type": "code",
   "execution_count": 16,
   "metadata": {},
   "outputs": [],
   "source": [
    "def  cadastrar_produtos():\n",
    "    produtos = input('Digite o nome de algum produto.')\n",
    "    produtos = produtos.lower()\n",
    "    produtos = produtos.strip()\n",
    "    return produtos"
   ]
  },
  {
   "cell_type": "code",
   "execution_count": 18,
   "metadata": {},
   "outputs": [
    {
     "name": "stdout",
     "output_type": "stream",
     "text": [
      "feijão\n"
     ]
    }
   ],
   "source": [
    "cadastrar_o_produto = cadastrar_produtos()\n",
    "print(cadastrar_o_produto) # Se fosse de desejo, poderia usar a variável produto novamente já que a mesma só existe dentro da function."
   ]
  },
  {
   "cell_type": "markdown",
   "metadata": {},
   "source": [
    " Argumentos/Parâmetros da Função\n",
    "\n",
    "como passar argumentos/parâmetros para uma função.\n",
    "ao fazer o print por exemplo, as informações que estamos passando dentro de parênteses para serem exibidas é o que chamamos de parâmetros, ou seja, são elementos necessários para que a função funcione.\n",
    "\n",
    "\n",
    " Estrutura:\n",
    "\n",
    "\n",
    "def minha_funcao(parametro1, parametro2, parametro3): Perceba que pode ser passado mais de um parãmetro para que o mesmo funcione.\n",
    "    return parametro1 + parametro2 + parametro3"
   ]
  },
  {
   "cell_type": "code",
   "execution_count": 2,
   "metadata": {},
   "outputs": [
    {
     "name": "stdout",
     "output_type": "stream",
     "text": [
      "texto alegria harmonia\n"
     ]
    }
   ],
   "source": [
    "#Exemplo: nosso famoso print\n",
    "print(\"texto\", 'alegria', 'harmonia')\n",
    "\n",
    "# perceba que nesse print foram usados mais de um parâmetro para que o mesmo funcione.\n",
    "\n"
   ]
  },
  {
   "cell_type": "markdown",
   "metadata": {},
   "source": [
    "- Só para mostrar o funcionamento, vamos criar uma função de soma"
   ]
  },
  {
   "cell_type": "code",
   "execution_count": 3,
   "metadata": {},
   "outputs": [
    {
     "name": "stdout",
     "output_type": "stream",
     "text": [
      "6\n"
     ]
    }
   ],
   "source": [
    "def minha_soma(num1, num2, num3): # primeiro defini minha function\n",
    "    return num1 + num2 + num3\n",
    "\n",
    "\n",
    "soma = minha_soma(1, 2, 3) # Agora chamo minha função, ou seja, faço o uso da mesma onde inclusive a ela passo os parâmetros necessários para que funcione. É bom perceber que para isso eu sigo essa passagem de parâmetros seguindo a ordem e a quantidades de item da minha função.\n",
    "\n",
    "print(soma)  # Aqui eu printo a resposta da função que foi armazenada dentro da variável soma.      "
   ]
  },
  {
   "cell_type": "markdown",
   "metadata": {},
   "source": [
    " Vamos criar uma function com parâmetro\n",
    "\n",
    "Digamos que estamos criando um programa para categorizar os produtos de uma revendedora de bebidas.\n",
    "\n",
    "Cada produto tem um código. O tipo de produto é dado pelas 3 primeiras letras do código.\n",
    "\n",
    "Ex:<br>\n",
    "Vinho -> BEB12302<br>\n",
    "Cerveja -> BEB12043<br>\n",
    "Vodka -> BEB34501<br>\n",
    "\n",
    "Guaraná -> BSA11104<br>\n",
    "Coca -> BSA54301<br>\n",
    "Sprite -> BSA34012<br>\n",
    "Água -> BSA09871<br>\n",
    "\n",
    "Repare que bebidas não alcóolicas começam com BSA e bebidas alcoolicas começam com BEB.\n",
    "\n",
    "Crie um programa que analise uma lista de produtos e envie instruções para a equipe de estoque dizendo quais produtos devem ser enviados para a área de bebidas alcóolicas."
   ]
  },
  {
   "cell_type": "code",
   "execution_count": 7,
   "metadata": {},
   "outputs": [
    {
     "name": "stdout",
     "output_type": "stream",
     "text": [
      "\n",
      "Enviar beb46275 para o setro de bebidas alcólicas\n",
      "Enviar BEB21365 para o setro de bebidas alcólicas\n",
      "Enviar BEB31623 para o setro de bebidas alcólicas\n",
      "Enviar BEB73344 para o setro de bebidas alcólicas\n",
      "Enviar BEB80694 para o setro de bebidas alcólicas\n",
      "Enviar BEB19495 para o setro de bebidas alcólicas\n",
      "Enviar BEB97471 para o setro de bebidas alcólicas\n",
      "Enviar BEB62362 para o setro de bebidas alcólicas\n",
      "Enviar BEB85146 para o setro de bebidas alcólicas\n",
      "Enviar BEB48898 para o setro de bebidas alcólicas\n",
      "Enviar BEB79496 para o setro de bebidas alcólicas\n",
      "Enviar BEB15385 para o setro de bebidas alcólicas\n",
      "Enviar BEB24213 para o setro de bebidas alcólicas\n",
      "Enviar BEB56262 para o setro de bebidas alcólicas\n",
      "Enviar BEB75073 para o setro de bebidas alcólicas\n"
     ]
    }
   ],
   "source": [
    "def alcolica(bebida):\n",
    "    bebida = bebida.upper()\n",
    "    if \"BEB\" in bebida:\n",
    "        return True\n",
    "    else:\n",
    "        return False\n",
    "\n",
    "\n",
    "\n",
    "\n",
    "produtos = ['beb46275','TFA23962','TFA64715','TFA69555','TFA56743','BSA45510','TFA44968','CAR75448','CAR23596','CAR13490','BEB21365','BEB31623','BSA62419','BEB73344','TFA20079','BEB80694','BSA11769','BEB19495','TFA14792','TFA78043','BSA33484','BEB97471','BEB62362','TFA27311','TFA17715','BEB85146','BEB48898','BEB79496','CAR38417','TFA19947','TFA58799','CAR94811','BSA59251','BEB15385','BEB24213','BEB56262','BSA96915','CAR53454','BEB75073']\n",
    "\n",
    "\n",
    "print()\n",
    "# 1° passo, percorrer toda minha lista de produtos.\n",
    "for produto in produtos:\n",
    "#2° Para cada produto verificar se o mesmo é bebida alcólica.\n",
    "    if alcolica(produto):\n",
    "        print('Enviar {} para o setro de bebidas alcólicas'.format(produto))\n",
    "\n",
    "\n"
   ]
  },
  {
   "cell_type": "code",
   "execution_count": 1,
   "metadata": {},
   "outputs": [
    {
     "name": "stdout",
     "output_type": "stream",
     "text": [
      "\n",
      "Enviar beb46275 para o setro de bebidas alcólicas\n",
      "Enviar BSA45510 para o setro de bebidas não alcólicas\n",
      "Enviar BEB21365 para o setro de bebidas alcólicas\n",
      "Enviar BEB31623 para o setro de bebidas alcólicas\n",
      "Enviar BSA62419 para o setro de bebidas não alcólicas\n",
      "Enviar BEB73344 para o setro de bebidas alcólicas\n",
      "Enviar BEB80694 para o setro de bebidas alcólicas\n",
      "Enviar BSA11769 para o setro de bebidas não alcólicas\n",
      "Enviar BEB19495 para o setro de bebidas alcólicas\n",
      "Enviar BSA33484 para o setro de bebidas não alcólicas\n",
      "Enviar BEB97471 para o setro de bebidas alcólicas\n",
      "Enviar BEB62362 para o setro de bebidas alcólicas\n",
      "Enviar BEB85146 para o setro de bebidas alcólicas\n",
      "Enviar BEB48898 para o setro de bebidas alcólicas\n",
      "Enviar BEB79496 para o setro de bebidas alcólicas\n",
      "Enviar BSA59251 para o setro de bebidas não alcólicas\n",
      "Enviar BEB15385 para o setro de bebidas alcólicas\n",
      "Enviar BEB24213 para o setro de bebidas alcólicas\n",
      "Enviar BEB56262 para o setro de bebidas alcólicas\n",
      "Enviar BSA96915 para o setro de bebidas não alcólicas\n",
      "Enviar BEB75073 para o setro de bebidas alcólicas\n"
     ]
    }
   ],
   "source": [
    "# Essa é uma outra forma de identificar se um elemento é do tipo alcólica ou não \n",
    "\n",
    "\n",
    "def he_da_catgoria (bebida, cod_categoria):\n",
    "    bebida = bebida.upper()\n",
    "    if cod_categoria in bebida:\n",
    "        return True\n",
    "    else:\n",
    "        return False\n",
    "\n",
    "\n",
    "produtos = ['beb46275','TFA23962','TFA64715','TFA69555','TFA56743','BSA45510','TFA44968','CAR75448','CAR23596','CAR13490','BEB21365','BEB31623','BSA62419','BEB73344','TFA20079','BEB80694','BSA11769','BEB19495','TFA14792','TFA78043','BSA33484','BEB97471','BEB62362','TFA27311','TFA17715','BEB85146','BEB48898','BEB79496','CAR38417','TFA19947','TFA58799','CAR94811','BSA59251','BEB15385','BEB24213','BEB56262','BSA96915','CAR53454','BEB75073']\n",
    "\n",
    "\n",
    "print()\n",
    "# 1° passo, percorrer toda minha lista de produtos.\n",
    "for produto in produtos:\n",
    "#2° Para cada produto verificar se o mesmo é bebida alcólica ou se não é do tipo de bebida alcólica.\n",
    "    if he_da_catgoria(produto, 'BEB'): #Esse tipo de argumaento é o que chamamos de positional argument, onde o argumento deve levar em consideração a posição em que os argumentos são inseridos dentro da função.\n",
    "        print('Enviar {} para o setro de bebidas alcólicas'.format(produto))\n",
    "    elif he_da_catgoria(produto, 'BSA'):\n",
    "        print('Enviar {} para o setro de bebidas não alcólicas'.format(produto))\n",
    "\n"
   ]
  },
  {
   "cell_type": "code",
   "execution_count": 2,
   "metadata": {},
   "outputs": [
    {
     "name": "stdout",
     "output_type": "stream",
     "text": [
      "\n",
      "Enviar beb46275 para o setro de bebidas alcólicas\n",
      "Enviar BSA45510 para o setro de bebidas não alcólicas\n",
      "Enviar BEB21365 para o setro de bebidas alcólicas\n",
      "Enviar BEB31623 para o setro de bebidas alcólicas\n",
      "Enviar BSA62419 para o setro de bebidas não alcólicas\n",
      "Enviar BEB73344 para o setro de bebidas alcólicas\n",
      "Enviar BEB80694 para o setro de bebidas alcólicas\n",
      "Enviar BSA11769 para o setro de bebidas não alcólicas\n",
      "Enviar BEB19495 para o setro de bebidas alcólicas\n",
      "Enviar BSA33484 para o setro de bebidas não alcólicas\n",
      "Enviar BEB97471 para o setro de bebidas alcólicas\n",
      "Enviar BEB62362 para o setro de bebidas alcólicas\n",
      "Enviar BEB85146 para o setro de bebidas alcólicas\n",
      "Enviar BEB48898 para o setro de bebidas alcólicas\n",
      "Enviar BEB79496 para o setro de bebidas alcólicas\n",
      "Enviar BSA59251 para o setro de bebidas não alcólicas\n",
      "Enviar BEB15385 para o setro de bebidas alcólicas\n",
      "Enviar BEB24213 para o setro de bebidas alcólicas\n",
      "Enviar BEB56262 para o setro de bebidas alcólicas\n",
      "Enviar BSA96915 para o setro de bebidas não alcólicas\n",
      "Enviar BEB75073 para o setro de bebidas alcólicas\n"
     ]
    }
   ],
   "source": [
    "# Essa é uma outra forma de identificar se um atributo para a função. Nesse caso temos o que chamamos de (keyword argument)\n",
    "\n",
    "\n",
    "def he_da_catgoria (bebida, cod_categoria):\n",
    "    bebida = bebida.upper()\n",
    "    if cod_categoria in bebida:\n",
    "        return True\n",
    "    else:\n",
    "        return False\n",
    "\n",
    "\n",
    "\n",
    "\n",
    "produtos = ['beb46275','TFA23962','TFA64715','TFA69555','TFA56743','BSA45510','TFA44968','CAR75448','CAR23596','CAR13490','BEB21365','BEB31623','BSA62419','BEB73344','TFA20079','BEB80694','BSA11769','BEB19495','TFA14792','TFA78043','BSA33484','BEB97471','BEB62362','TFA27311','TFA17715','BEB85146','BEB48898','BEB79496','CAR38417','TFA19947','TFA58799','CAR94811','BSA59251','BEB15385','BEB24213','BEB56262','BSA96915','CAR53454','BEB75073']\n",
    "\n",
    "\n",
    "print()\n",
    "\n",
    "for produto in produtos:\n",
    "\n",
    "    if he_da_catgoria(bebida = produto, cod_categoria = 'BEB'): #Nesse caso, os dois parâmetros são passados independentes da posição, pois as variáveis da função recebem os mesmos de forma nominal. Lembrando que se usar o argumento de palavra chave em um elemento, isso deve se repetir nos outros também.\n",
    "        print('Enviar {} para o setro de bebidas alcólicas'.format(produto))\n",
    "    elif he_da_catgoria(produto, 'BSA'):\n",
    "        print('Enviar {} para o setro de bebidas não alcólicas'.format(produto))\n"
   ]
  },
  {
   "cell_type": "code",
   "execution_count": 6,
   "metadata": {},
   "outputs": [
    {
     "name": "stdout",
     "output_type": "stream",
     "text": [
      "Esses são os produtos da lista:  ['beb46275', 'TFA23962', 'TFA64715', 'TFA69555', 'TFA56743', 'BSA45510', 'TFA44968', 'CAR75448', 'CAR23596', 'CAR13490', 'BEB21365', 'BEB31623', 'BSA62419', 'BEB73344', 'TFA20079', 'BEB80694', 'BSA11769', 'BEB19495', 'TFA14792', 'TFA78043', 'BSA33484', 'BEB97471', 'BEB62362', 'TFA27311', 'TFA17715', 'BEB85146', 'BEB48898', 'BEB79496', 'CAR38417', 'TFA19947', 'TFA58799', 'CAR94811', 'BSA59251', 'BEB15385', 'BEB24213', 'BEB56262', 'BSA96915', 'CAR53454', 'BEB75073']\n",
      "Esses são os produtos da lista: \n",
      "39\n",
      "texto1\n",
      "texto2\n",
      "texto3\n"
     ]
    }
   ],
   "source": [
    "produtos = ['beb46275','TFA23962','TFA64715','TFA69555','TFA56743','BSA45510','TFA44968','CAR75448','CAR23596','CAR13490','BEB21365','BEB31623','BSA62419','BEB73344','TFA20079','BEB80694','BSA11769','BEB19495','TFA14792','TFA78043','BSA33484','BEB97471','BEB62362','TFA27311','TFA17715','BEB85146','BEB48898','BEB79496','CAR38417','TFA19947','TFA58799','CAR94811','BSA59251','BEB15385','BEB24213','BEB56262','BSA96915','CAR53454','BEB75073']\n",
    "\n",
    "\n",
    "quande_produtos = len(produtos)\n",
    "\n",
    "print('Esses são os produtos da lista: ',(produtos)) #Nesse caso a separação dos produtos é um espaço\n",
    "#Quando queremos fazer a separação por exemplo com um enter existe um parâmetro que faz isso é o parâmetro sep veja o exemplo e sua aplicação no uso.\n",
    "\n",
    "\n",
    "\n",
    "print('Esses são os produtos da lista: ', quande_produtos, 'texto1', 'texto2', 'texto3', sep= '\\n') # É bom ter em mente que esse sep deve ser inserido no final dessa lista de  elementos se for feito o contrário disso o seu código dará erro.\n",
    "\n"
   ]
  },
  {
   "cell_type": "markdown",
   "metadata": {},
   "source": [
    "<h4>Exemplos de parâmetros</h4>\n",
    "\n",
    "\n",
    "- upper() -> não tem parâmetros \n",
    "- sort() -> apenas parâmetros keyword\n",
    "- extend(lista) -> 1 parâmetro obrigatório\n",
    "- nossa função eh_da_categoria(bebida, cod_categoria) -> 2 parâmetros de posição obrigatórios"
   ]
  },
  {
   "cell_type": "code",
   "execution_count": 12,
   "metadata": {},
   "outputs": [
    {
     "name": "stdout",
     "output_type": "stream",
     "text": [
      "NMAODSI\n",
      "[10, 50, 55, 60, 90, 100, 200, 240, 300, 789]\n",
      "[10, 50, 55, 60, 90, 100, 200, 240, 300, 789, 500, 1555]\n"
     ]
    }
   ],
   "source": [
    "#Pega um texto e põe tudo em letras maiúsculas, a mesma não leva com sigo nenhum argumento, é uma função sem parâmetro\n",
    "cod_produto = 'nmaodsi'\n",
    "print(cod_produto.upper())\n",
    "\n",
    "#Lista para o caso so sort e extend\n",
    "vendas_ano = [100, 200, 50, 90, 240, 300, 55, 10, 789, 60]\n",
    "vendas_novdez = [500, 1555]\n",
    "\n",
    "#sort\n",
    "vendas_ano.sort()\n",
    "print(vendas_ano)# por padrão ele organiza do maior para o menor, para que a organização seja ao contrário, deve-se por dentro dese sort o parâmetro reverse = true\n",
    "\n",
    "#extend    como nós bem já sabemos para junção de listas, fazemos uso o extend e o mesmo recebe como parâmetro o nome da lista a que se quer inserir dentro de uma outra. Veja o exemplo.\n",
    "\n",
    "vendas_ano.extend(vendas_novdez) #Perceba que na saída do código o já foi inserido os dois novos itens a lista.\n",
    "print(vendas_ano)\n"
   ]
  },
  {
   "cell_type": "code",
   "execution_count": null,
   "metadata": {},
   "outputs": [],
   "source": [
    "def eh_da_categoria(bebida, cod_categoria):\n",
    "    bebida = bebida.upper()\n",
    "    if cod_categoria in bebida:\n",
    "        return True\n",
    "    else:\n",
    "        return False"
   ]
  },
  {
   "cell_type": "code",
   "execution_count": null,
   "metadata": {},
   "outputs": [],
   "source": [
    "#em casos de funções ais quais você não lembra quais parâmetros são necessários, podemos por o cursor dentro de seus parenteses e clicar chfit + tab que o editor trará informações a respeito da função que se deseja obter informação. Nesse caso vai depender do editor que você usa, pois pode funcionar no jupter porém não em outros editores, alguns deles só o fato deixarmos o cursor dentro do parentese o editor já apresenta essas informações. lembrando que isso funciona inclusive para funçõe do próprio python\n",
    "\n",
    "if eh_da_categoria() "
   ]
  },
  {
   "cell_type": "markdown",
   "metadata": {},
   "source": [
    "<h4>Valores Padrões para os argumentos</h4>\n",
    "\n",
    "Estrutura\n",
    "\n",
    "- Nesse caso, você não é obrigado a passar o valor para usar a função, pode usar o valor padrão.\n",
    "\n",
    "para algumas functions é possivel adicionar alguns valores padrão não sendo necessário ser passado nenhum valor como parâmetro \n",
    "\n",
    "def minha_funcao(argumento = valor_padrao):\n",
    "    ...\n",
    "    return ...\n",
    "\n",
    "\n",
    "    - Como vimos, o sort() para listas tem um argumento padrão. O reverse = False é padrão, então a ordem é crescente. Caso o usuário queira fazer em ordem decrescente, o reverse deve ser alterado para True"
   ]
  },
  {
   "cell_type": "code",
   "execution_count": 1,
   "metadata": {},
   "outputs": [
    {
     "name": "stdout",
     "output_type": "stream",
     "text": [
      "['airpods', 'apple tv', 'apple watch', 'iPad', 'iphone x', 'mac', 'mac book']\n",
      "['mac book', 'mac', 'iphone x', 'iPad', 'apple watch', 'apple tv', 'airpods']\n"
     ]
    }
   ],
   "source": [
    "produtos = ['apple tv', 'mac', 'iphone x', 'iPad', 'apple watch', 'mac book', 'airpods']\n",
    "\n",
    "produtos.sort()\n",
    "print(produtos)\n",
    "\n",
    "produtos.sort(reverse = True)  #Perceba que para o sort nós não necessáriamente precisamos passar qualquer parâmetro pois por padrão essa função já recebe o valor reverse = false, porém temos a opção de mudar esse padrão se adicionarmos um valor diferente disso como no caso do elemento reverse = True, nesse caso os valores da lista serão ordenados do maior para o menor. No exemplo abaixo no caso, a ordem mudada foi a alfabética. \n",
    "print(produtos)"
   ]
  },
  {
   "cell_type": "markdown",
   "metadata": {},
   "source": [
    "Vamos criar uma função que padronize códigos de produtos. O default será padronizar os códigos para letras minúsculas (dado por 'm'), mas se o usuário quiser pode padronizar para maiúscula, dado por ('M')."
   ]
  },
  {
   "cell_type": "code",
   "execution_count": 8,
   "metadata": {},
   "outputs": [
    {
     "name": "stdout",
     "output_type": "stream",
     "text": [
      "['abc12', 'abc34', 'abc37']\n"
     ]
    }
   ],
   "source": [
    "def padronizar_codigos(lista_codigos, padrao='m'):\n",
    "    for i, itens in enumerate(lista_codigos):\n",
    "        iten = itens.replace('  ',' ')\n",
    "        iten = itens.strip()\n",
    "        if padrao == \"m\":\n",
    "            iten = iten.lower()\n",
    "        elif padrao == \"M\":\n",
    "            iten = iten.upper()\n",
    "        lista_codigos[i] = iten # Se não fizermos isso o código não terá o resultado esperado, pois é necessário que haja a substituição dos valores da lista pelos novos valores editados, Nesse caso fisemos uso do for do tipo enumerate onde fizemos o uso i para indicarmos o indice do elemento a ser substituído, logo todos os itens da lista ganharão uma nova edição, dependendo inclusive do padrão escolhido pelo usuário.\n",
    "    return lista_codigos\n",
    "\n",
    "\n",
    "cod_produtos = [' ABC12 ', 'abc34', 'AbC37']\n",
    "print(padronizar_codigos(cod_produtos, padrao = 'm'))"
   ]
  },
  {
   "cell_type": "markdown",
   "metadata": {},
   "source": [
    " <h4>Mais sobre o return</h4>\n",
    "\n",
    " Pontos importantes:\n",
    "\n",
    "- Podemos usar no return praticamente qualquer tipo de objeto: (número, string, lista, tupla, dicionário, outros objetos, etc.)\n",
    "- O return, se for executado, encerra a função, mesmo que dentro dela haja um loop."
   ]
  },
  {
   "cell_type": "code",
   "execution_count": 12,
   "metadata": {},
   "outputs": [],
   "source": [
    "#retornar um número\n",
    "def minha_soma(num1, num2, num3):\n",
    "    return num1 + num2 + num3\n",
    "\n",
    "#retornar um texto\n",
    "def padronizar_texto(texto):\n",
    "    texto = texto.casefold()\n",
    "    texto = texto.replace(\"  \", \" \")\n",
    "    texto = texto.strip()\n",
    "    return texto\n",
    "\n",
    "#retornar um boolean\n",
    "def bateu_meta(vendas, meta):\n",
    "    if vendas >= meta:\n",
    "        return True\n",
    "    else:\n",
    "        return False\n",
    "    \n",
    "#retornar uma lista, tupla ou dicionario\n",
    "def filtrar_lista_texto(lista, pedaco_texto):\n",
    "    lista_filtrada = []\n",
    "    for item in lista:\n",
    "        if pedaco_texto in item:\n",
    "            lista_filtrada.append(item)\n",
    "    return lista_filtrada"
   ]
  },
  {
   "cell_type": "code",
   "execution_count": 13,
   "metadata": {},
   "outputs": [
    {
     "name": "stdout",
     "output_type": "stream",
     "text": [
      "João bateu a meta\n"
     ]
    }
   ],
   "source": [
    "vendas_joao = 3000\n",
    "meta = 1000\n",
    "if bateu_meta(vendas_joao, meta): # No caso desse código nós temos um if que irá traçar uma rota dependendo se o boolean retornado seja verdadeiro ou falso. Perceba que nesse caso se for verdadeiro significa que a pessoa bateu a meta, e se for uma negativa, significa que na verdade a pessoa não bateu a meta. \n",
    "    print('João bateu a meta')\n",
    "else:\n",
    "    print('João não bateu a meta')"
   ]
  },
  {
   "cell_type": "code",
   "execution_count": 15,
   "metadata": {},
   "outputs": [
    {
     "name": "stdout",
     "output_type": "stream",
     "text": [
      "['israel@gmail.com', 'Antonio@gmail.com', 'birbizinho@gmail.com']\n"
     ]
    }
   ],
   "source": [
    "lista_texto = ['israel@gmail.com','Antonio@gmail.com', 'birbizinho@gmail.com','menzoleta@hotimail.com']\n",
    "# Nesse caso iremos fazer uso da função que faz o filtro de uma lista adicionando elementos que cumpram com os requisitos dentro de uma outra.\n",
    "lista =  filtrar_lista_texto(lista_texto, '@gmail')\n",
    "print(lista)\n",
    "\n",
    "\n"
   ]
  },
  {
   "cell_type": "markdown",
   "metadata": {},
   "source": [
    " <h4>Como \"retornar\" mais de um objeto</h4>\n",
    "\n",
    "- É possível retornar 2 \"coisas\"? 2 listas, 2 strings, 2 números...\n",
    "    - Sim, basta retornar como uma tupla com 2 itens (vamos fazer um exemplo)\n",
    "Básicamente uma função tem como padrão retornar quando estamos nos referindo a mais de um elemento para um return os mesmos em forma de tupla. Veja o exemplo abaixo:"
   ]
  },
  {
   "cell_type": "code",
   "execution_count": 18,
   "metadata": {},
   "outputs": [
    {
     "name": "stdout",
     "output_type": "stream",
     "text": [
      "(30, -10, 200, 0.5)\n"
     ]
    }
   ],
   "source": [
    "def operacoes_basicas(num1, num2):\n",
    "    soma = num1 + num2\n",
    "    diferenca = num1 - num2\n",
    "    mult = num1 * num2\n",
    "    divisao = num1 / num2\n",
    "    return soma, diferenca, mult, divisao\n",
    "\n",
    "print(operacoes_basicas(10,20))\n",
    "#Perceba que na saída do print, por mais que os returns não estejam dentro de tuplas, a saídas desses valores estarão dentro de tuplas.\n"
   ]
  }
 ],
 "metadata": {
  "kernelspec": {
   "display_name": "Python 3",
   "language": "python",
   "name": "python3"
  },
  "language_info": {
   "codemirror_mode": {
    "name": "ipython",
    "version": 3
   },
   "file_extension": ".py",
   "mimetype": "text/x-python",
   "name": "python",
   "nbconvert_exporter": "python",
   "pygments_lexer": "ipython3",
   "version": "3.12.2"
  }
 },
 "nbformat": 4,
 "nbformat_minor": 2
}
