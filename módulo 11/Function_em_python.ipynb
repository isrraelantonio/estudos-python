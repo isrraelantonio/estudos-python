{
 "cells": [
  {
   "cell_type": "markdown",
   "metadata": {},
   "source": [
    "<h4>Function Python</h4>\n",
    "\n",
    "O que é?\n",
    "\n",
    "As functions são blocos de código que servem 1 único propósito, fazem uma ação específica. se escrevemos no programa um metodo já estamos fazendo uso de uma function. Nesse caso a function permite que esse método seja reutilizado para uotros momentos do código para evitar a redundancia do mesmo.\n",
    "\n",
    " Estrutura Básica\n",
    "\n",
    " def nome_funcao():\n",
    "    faça alguma coisa\n",
    "    faça outra coisa\n",
    "    return valor_final"
   ]
  },
  {
   "cell_type": "markdown",
   "metadata": {},
   "source": [
    "Exemplo: vamos criar uma função de cadastro de um Produto. Essa função deve garantir que o produto cadastrado está em letra minúscula."
   ]
  },
  {
   "cell_type": "code",
   "execution_count": 7,
   "metadata": {},
   "outputs": [
    {
     "name": "stdout",
     "output_type": "stream",
     "text": [
      "[58, 59, 90, 350]\n"
     ]
    }
   ],
   "source": [
    "lista = [350, 59, 58, 90]\n",
    "lista.sort() # O sort é  um exemplo de function, a mesma é um conjunto de códigos que já se tem em na bliblioteca do python é apenas chamado para execução sem a necessidade de reescrevê-lo para ter a sua execução.\n",
    "print(lista)\n",
    "\n",
    "#Outro exemplo de function é o casefold para que isso aconteça.\n",
    "\n",
    "def  cadastrar_produto():\n",
    "    #Perceba que nesse caso já crio a minha propria função e dou a ela o nome com uma variável no infinitivo como se fosse algo a ser executado.\n",
    "    produto = input('Digite o nome de algum produto.')\n",
    "    produto = produto.lower()\n",
    "    print('{} está cadastrado'.format(produto))\n",
    "\n",
    "# Nesse caso redefinimos o valor de produtos e com o lower nós o trandformamos em letras minúsculas.\n",
    "# na célula abaixo erei chamar a função cadastrar produto e ela será chamada para uma execução.\n"
   ]
  },
  {
   "cell_type": "code",
   "execution_count": 8,
   "metadata": {},
   "outputs": [
    {
     "name": "stdout",
     "output_type": "stream",
     "text": [
      "margarina está cadastrado\n",
      "doce está cadastrado\n",
      "macarão está cadastrado\n"
     ]
    }
   ],
   "source": [
    "\n",
    "for i in range(3):\n",
    "    cadastrar_produto()"
   ]
  },
  {
   "cell_type": "markdown",
   "metadata": {},
   "source": [
    "<h4>Retornar um valor na Function Python</h4>\n",
    "\n",
    "Estrutura Básica\n",
    "\n",
    "def nome_funcao():\n",
    "    return valor_final  Quando falamos em retornar valor em functions, é retornar o resultado após executar o seu conjunto de códigos, o mesmo poderá ser armazenado em variáveis e usado posteriormente dentro do código.\n",
    "\n",
    "\n",
    "Exemplo: vamos criar uma função de cadastro de um Produto. Essa função deve garantir que o produto cadastrado está em letra minúscula."
   ]
  },
  {
   "cell_type": "code",
   "execution_count": 16,
   "metadata": {},
   "outputs": [],
   "source": [
    "def  cadastrar_produtos():\n",
    "    produtos = input('Digite o nome de algum produto.')\n",
    "    produtos = produtos.lower()\n",
    "    produtos = produtos.strip()\n",
    "    return produtos"
   ]
  },
  {
   "cell_type": "code",
   "execution_count": 18,
   "metadata": {},
   "outputs": [
    {
     "name": "stdout",
     "output_type": "stream",
     "text": [
      "feijão\n"
     ]
    }
   ],
   "source": [
    "cadastrar_o_produto = cadastrar_produtos()\n",
    "print(cadastrar_o_produto) # Se fosse de desejo, poderia usar a variável produto novamente já que a mesma só existe dentro da function."
   ]
  },
  {
   "cell_type": "markdown",
   "metadata": {},
   "source": [
    " Argumentos/Parâmetros da Função\n",
    "\n",
    "como passar argumentos/parâmetros para uma função.\n",
    "ao fazer o print por exemplo, as informações que estamos passando dentro de parênteses para serem exibidas é o que chamamos de parâmetros, ou seja, são elementos necessários para que a função funcione.\n",
    "\n",
    "\n",
    " Estrutura:\n",
    "\n",
    "\n",
    "def minha_funcao(parametro1, parametro2, parametro3): Perceba que pode ser passado mais de um parãmetro para que o mesmo funcione.\n",
    "    return parametro1 + parametro2 + parametro3"
   ]
  },
  {
   "cell_type": "code",
   "execution_count": 2,
   "metadata": {},
   "outputs": [
    {
     "name": "stdout",
     "output_type": "stream",
     "text": [
      "texto alegria harmonia\n"
     ]
    }
   ],
   "source": [
    "#Exemplo: nosso famoso print\n",
    "print(\"texto\", 'alegria', 'harmonia')\n",
    "\n",
    "# perceba que nesse print foram usados mais de um parâmetro para que o mesmo funcione.\n",
    "\n"
   ]
  },
  {
   "cell_type": "markdown",
   "metadata": {},
   "source": [
    "- Só para mostrar o funcionamento, vamos criar uma função de soma"
   ]
  },
  {
   "cell_type": "code",
   "execution_count": 3,
   "metadata": {},
   "outputs": [
    {
     "name": "stdout",
     "output_type": "stream",
     "text": [
      "6\n"
     ]
    }
   ],
   "source": [
    "def minha_soma(num1, num2, num3): # primeiro defini minha function\n",
    "    return num1 + num2 + num3\n",
    "\n",
    "\n",
    "soma = minha_soma(1, 2, 3) # Agora chamo minha função, ou seja, faço o uso da mesma onde inclusive a ela passo os parâmetros necessários para que funcione. É bom perceber que para isso eu sigo essa passagem de parâmetros seguindo a ordem e a quantidades de item da minha função.\n",
    "\n",
    "print(soma)  # Aqui eu printo a resposta da função que foi armazenada dentro da variável soma.      "
   ]
  },
  {
   "cell_type": "markdown",
   "metadata": {},
   "source": [
    " Vamos criar uma function com parâmetro\n",
    "\n",
    "Digamos que estamos criando um programa para categorizar os produtos de uma revendedora de bebidas.\n",
    "\n",
    "Cada produto tem um código. O tipo de produto é dado pelas 3 primeiras letras do código.\n",
    "\n",
    "Ex:<br>\n",
    "Vinho -> BEB12302<br>\n",
    "Cerveja -> BEB12043<br>\n",
    "Vodka -> BEB34501<br>\n",
    "\n",
    "Guaraná -> BSA11104<br>\n",
    "Coca -> BSA54301<br>\n",
    "Sprite -> BSA34012<br>\n",
    "Água -> BSA09871<br>\n",
    "\n",
    "Repare que bebidas não alcóolicas começam com BSA e bebidas alcoolicas começam com BEB.\n",
    "\n",
    "Crie um programa que analise uma lista de produtos e envie instruções para a equipe de estoque dizendo quais produtos devem ser enviados para a área de bebidas alcóolicas."
   ]
  },
  {
   "cell_type": "code",
   "execution_count": 7,
   "metadata": {},
   "outputs": [
    {
     "name": "stdout",
     "output_type": "stream",
     "text": [
      "\n",
      "Enviar beb46275 para o setro de bebidas alcólicas\n",
      "Enviar BEB21365 para o setro de bebidas alcólicas\n",
      "Enviar BEB31623 para o setro de bebidas alcólicas\n",
      "Enviar BEB73344 para o setro de bebidas alcólicas\n",
      "Enviar BEB80694 para o setro de bebidas alcólicas\n",
      "Enviar BEB19495 para o setro de bebidas alcólicas\n",
      "Enviar BEB97471 para o setro de bebidas alcólicas\n",
      "Enviar BEB62362 para o setro de bebidas alcólicas\n",
      "Enviar BEB85146 para o setro de bebidas alcólicas\n",
      "Enviar BEB48898 para o setro de bebidas alcólicas\n",
      "Enviar BEB79496 para o setro de bebidas alcólicas\n",
      "Enviar BEB15385 para o setro de bebidas alcólicas\n",
      "Enviar BEB24213 para o setro de bebidas alcólicas\n",
      "Enviar BEB56262 para o setro de bebidas alcólicas\n",
      "Enviar BEB75073 para o setro de bebidas alcólicas\n"
     ]
    }
   ],
   "source": [
    "def alcolica(bebida):\n",
    "    bebida = bebida.upper()\n",
    "    if \"BEB\" in bebida:\n",
    "        return True\n",
    "    else:\n",
    "        return False\n",
    "\n",
    "\n",
    "\n",
    "\n",
    "produtos = ['beb46275','TFA23962','TFA64715','TFA69555','TFA56743','BSA45510','TFA44968','CAR75448','CAR23596','CAR13490','BEB21365','BEB31623','BSA62419','BEB73344','TFA20079','BEB80694','BSA11769','BEB19495','TFA14792','TFA78043','BSA33484','BEB97471','BEB62362','TFA27311','TFA17715','BEB85146','BEB48898','BEB79496','CAR38417','TFA19947','TFA58799','CAR94811','BSA59251','BEB15385','BEB24213','BEB56262','BSA96915','CAR53454','BEB75073']\n",
    "\n",
    "\n",
    "print()\n",
    "# 1° passo, percorrer toda minha lista de produtos.\n",
    "for produto in produtos:\n",
    "#2° Para cada produto verificar se o mesmo é bebida alcólica.\n",
    "    if alcolica(produto):\n",
    "        print('Enviar {} para o setro de bebidas alcólicas'.format(produto))\n",
    "\n",
    "\n"
   ]
  },
  {
   "cell_type": "code",
   "execution_count": 1,
   "metadata": {},
   "outputs": [
    {
     "name": "stdout",
     "output_type": "stream",
     "text": [
      "\n",
      "Enviar beb46275 para o setro de bebidas alcólicas\n",
      "Enviar BSA45510 para o setro de bebidas não alcólicas\n",
      "Enviar BEB21365 para o setro de bebidas alcólicas\n",
      "Enviar BEB31623 para o setro de bebidas alcólicas\n",
      "Enviar BSA62419 para o setro de bebidas não alcólicas\n",
      "Enviar BEB73344 para o setro de bebidas alcólicas\n",
      "Enviar BEB80694 para o setro de bebidas alcólicas\n",
      "Enviar BSA11769 para o setro de bebidas não alcólicas\n",
      "Enviar BEB19495 para o setro de bebidas alcólicas\n",
      "Enviar BSA33484 para o setro de bebidas não alcólicas\n",
      "Enviar BEB97471 para o setro de bebidas alcólicas\n",
      "Enviar BEB62362 para o setro de bebidas alcólicas\n",
      "Enviar BEB85146 para o setro de bebidas alcólicas\n",
      "Enviar BEB48898 para o setro de bebidas alcólicas\n",
      "Enviar BEB79496 para o setro de bebidas alcólicas\n",
      "Enviar BSA59251 para o setro de bebidas não alcólicas\n",
      "Enviar BEB15385 para o setro de bebidas alcólicas\n",
      "Enviar BEB24213 para o setro de bebidas alcólicas\n",
      "Enviar BEB56262 para o setro de bebidas alcólicas\n",
      "Enviar BSA96915 para o setro de bebidas não alcólicas\n",
      "Enviar BEB75073 para o setro de bebidas alcólicas\n"
     ]
    }
   ],
   "source": [
    "# Essa é uma outra forma de identificar se um elemento é do tipo alcólica ou não \n",
    "\n",
    "\n",
    "def he_da_catgoria (bebida, cod_categoria):\n",
    "    bebida = bebida.upper()\n",
    "    if cod_categoria in bebida:\n",
    "        return True\n",
    "    else:\n",
    "        return False\n",
    "\n",
    "\n",
    "produtos = ['beb46275','TFA23962','TFA64715','TFA69555','TFA56743','BSA45510','TFA44968','CAR75448','CAR23596','CAR13490','BEB21365','BEB31623','BSA62419','BEB73344','TFA20079','BEB80694','BSA11769','BEB19495','TFA14792','TFA78043','BSA33484','BEB97471','BEB62362','TFA27311','TFA17715','BEB85146','BEB48898','BEB79496','CAR38417','TFA19947','TFA58799','CAR94811','BSA59251','BEB15385','BEB24213','BEB56262','BSA96915','CAR53454','BEB75073']\n",
    "\n",
    "\n",
    "print()\n",
    "# 1° passo, percorrer toda minha lista de produtos.\n",
    "for produto in produtos:\n",
    "#2° Para cada produto verificar se o mesmo é bebida alcólica ou se não é do tipo de bebida alcólica.\n",
    "    if he_da_catgoria(produto, 'BEB'): #Esse tipo de argumaento é o que chamamos de positional argument, onde o argumento deve levar em consideração a posição em que os argumentos são inseridos dentro da função.\n",
    "        print('Enviar {} para o setro de bebidas alcólicas'.format(produto))\n",
    "    elif he_da_catgoria(produto, 'BSA'):\n",
    "        print('Enviar {} para o setro de bebidas não alcólicas'.format(produto))\n",
    "\n"
   ]
  },
  {
   "cell_type": "code",
   "execution_count": 2,
   "metadata": {},
   "outputs": [
    {
     "name": "stdout",
     "output_type": "stream",
     "text": [
      "\n",
      "Enviar beb46275 para o setro de bebidas alcólicas\n",
      "Enviar BSA45510 para o setro de bebidas não alcólicas\n",
      "Enviar BEB21365 para o setro de bebidas alcólicas\n",
      "Enviar BEB31623 para o setro de bebidas alcólicas\n",
      "Enviar BSA62419 para o setro de bebidas não alcólicas\n",
      "Enviar BEB73344 para o setro de bebidas alcólicas\n",
      "Enviar BEB80694 para o setro de bebidas alcólicas\n",
      "Enviar BSA11769 para o setro de bebidas não alcólicas\n",
      "Enviar BEB19495 para o setro de bebidas alcólicas\n",
      "Enviar BSA33484 para o setro de bebidas não alcólicas\n",
      "Enviar BEB97471 para o setro de bebidas alcólicas\n",
      "Enviar BEB62362 para o setro de bebidas alcólicas\n",
      "Enviar BEB85146 para o setro de bebidas alcólicas\n",
      "Enviar BEB48898 para o setro de bebidas alcólicas\n",
      "Enviar BEB79496 para o setro de bebidas alcólicas\n",
      "Enviar BSA59251 para o setro de bebidas não alcólicas\n",
      "Enviar BEB15385 para o setro de bebidas alcólicas\n",
      "Enviar BEB24213 para o setro de bebidas alcólicas\n",
      "Enviar BEB56262 para o setro de bebidas alcólicas\n",
      "Enviar BSA96915 para o setro de bebidas não alcólicas\n",
      "Enviar BEB75073 para o setro de bebidas alcólicas\n"
     ]
    }
   ],
   "source": [
    "# Essa é uma outra forma de identificar se um atributo para a função. Nesse caso temos o que chamamos de (keyword argument)\n",
    "\n",
    "\n",
    "def he_da_catgoria (bebida, cod_categoria):\n",
    "    bebida = bebida.upper()\n",
    "    if cod_categoria in bebida:\n",
    "        return True\n",
    "    else:\n",
    "        return False\n",
    "\n",
    "\n",
    "\n",
    "\n",
    "produtos = ['beb46275','TFA23962','TFA64715','TFA69555','TFA56743','BSA45510','TFA44968','CAR75448','CAR23596','CAR13490','BEB21365','BEB31623','BSA62419','BEB73344','TFA20079','BEB80694','BSA11769','BEB19495','TFA14792','TFA78043','BSA33484','BEB97471','BEB62362','TFA27311','TFA17715','BEB85146','BEB48898','BEB79496','CAR38417','TFA19947','TFA58799','CAR94811','BSA59251','BEB15385','BEB24213','BEB56262','BSA96915','CAR53454','BEB75073']\n",
    "\n",
    "\n",
    "print()\n",
    "\n",
    "for produto in produtos:\n",
    "\n",
    "    if he_da_catgoria(bebida = produto, cod_categoria = 'BEB'): #Nesse caso, os dois parâmetros são passados independentes da posição, pois as variáveis da função recebem os mesmos de forma nominal. Lembrando que se usar o argumento de palavra chave em um elemento, isso deve se repetir nos outros também.\n",
    "        print('Enviar {} para o setro de bebidas alcólicas'.format(produto))\n",
    "    elif he_da_catgoria(produto, 'BSA'):\n",
    "        print('Enviar {} para o setro de bebidas não alcólicas'.format(produto))\n"
   ]
  },
  {
   "cell_type": "code",
   "execution_count": 6,
   "metadata": {},
   "outputs": [
    {
     "name": "stdout",
     "output_type": "stream",
     "text": [
      "Esses são os produtos da lista:  ['beb46275', 'TFA23962', 'TFA64715', 'TFA69555', 'TFA56743', 'BSA45510', 'TFA44968', 'CAR75448', 'CAR23596', 'CAR13490', 'BEB21365', 'BEB31623', 'BSA62419', 'BEB73344', 'TFA20079', 'BEB80694', 'BSA11769', 'BEB19495', 'TFA14792', 'TFA78043', 'BSA33484', 'BEB97471', 'BEB62362', 'TFA27311', 'TFA17715', 'BEB85146', 'BEB48898', 'BEB79496', 'CAR38417', 'TFA19947', 'TFA58799', 'CAR94811', 'BSA59251', 'BEB15385', 'BEB24213', 'BEB56262', 'BSA96915', 'CAR53454', 'BEB75073']\n",
      "Esses são os produtos da lista: \n",
      "39\n",
      "texto1\n",
      "texto2\n",
      "texto3\n"
     ]
    }
   ],
   "source": [
    "produtos = ['beb46275','TFA23962','TFA64715','TFA69555','TFA56743','BSA45510','TFA44968','CAR75448','CAR23596','CAR13490','BEB21365','BEB31623','BSA62419','BEB73344','TFA20079','BEB80694','BSA11769','BEB19495','TFA14792','TFA78043','BSA33484','BEB97471','BEB62362','TFA27311','TFA17715','BEB85146','BEB48898','BEB79496','CAR38417','TFA19947','TFA58799','CAR94811','BSA59251','BEB15385','BEB24213','BEB56262','BSA96915','CAR53454','BEB75073']\n",
    "\n",
    "\n",
    "quande_produtos = len(produtos)\n",
    "\n",
    "print('Esses são os produtos da lista: ',(produtos)) #Nesse caso a separação dos produtos é um espaço\n",
    "#Quando queremos fazer a separação por exemplo com um enter existe um parâmetro que faz isso é o parâmetro sep veja o exemplo e sua aplicação no uso.\n",
    "\n",
    "\n",
    "\n",
    "print('Esses são os produtos da lista: ', quande_produtos, 'texto1', 'texto2', 'texto3', sep= '\\n') # É bom ter em mente que esse sep deve ser inserido no final dessa lista de  elementos se for feito o contrário disso o seu código dará erro.\n",
    "\n"
   ]
  },
  {
   "cell_type": "markdown",
   "metadata": {},
   "source": [
    "<h4>Exemplos de parâmetros</h4>\n",
    "\n",
    "\n",
    "- upper() -> não tem parâmetros \n",
    "- sort() -> apenas parâmetros keyword\n",
    "- extend(lista) -> 1 parâmetro obrigatório\n",
    "- nossa função eh_da_categoria(bebida, cod_categoria) -> 2 parâmetros de posição obrigatórios"
   ]
  },
  {
   "cell_type": "code",
   "execution_count": 12,
   "metadata": {},
   "outputs": [
    {
     "name": "stdout",
     "output_type": "stream",
     "text": [
      "NMAODSI\n",
      "[10, 50, 55, 60, 90, 100, 200, 240, 300, 789]\n",
      "[10, 50, 55, 60, 90, 100, 200, 240, 300, 789, 500, 1555]\n"
     ]
    }
   ],
   "source": [
    "#Pega um texto e põe tudo em letras maiúsculas, a mesma não leva com sigo nenhum argumento, é uma função sem parâmetro\n",
    "cod_produto = 'nmaodsi'\n",
    "print(cod_produto.upper())\n",
    "\n",
    "#Lista para o caso so sort e extend\n",
    "vendas_ano = [100, 200, 50, 90, 240, 300, 55, 10, 789, 60]\n",
    "vendas_novdez = [500, 1555]\n",
    "\n",
    "#sort\n",
    "vendas_ano.sort()\n",
    "print(vendas_ano)# por padrão ele organiza do maior para o menor, para que a organização seja ao contrário, deve-se por dentro dese sort o parâmetro reverse = true\n",
    "\n",
    "#extend    como nós bem já sabemos para junção de listas, fazemos uso o extend e o mesmo recebe como parâmetro o nome da lista a que se quer inserir dentro de uma outra. Veja o exemplo.\n",
    "\n",
    "vendas_ano.extend(vendas_novdez) #Perceba que na saída do código o já foi inserido os dois novos itens a lista.\n",
    "print(vendas_ano)\n"
   ]
  },
  {
   "cell_type": "code",
   "execution_count": null,
   "metadata": {},
   "outputs": [],
   "source": [
    "def eh_da_categoria(bebida, cod_categoria):\n",
    "    bebida = bebida.upper()\n",
    "    if cod_categoria in bebida:\n",
    "        return True\n",
    "    else:\n",
    "        return False"
   ]
  },
  {
   "cell_type": "code",
   "execution_count": null,
   "metadata": {},
   "outputs": [],
   "source": [
    "#em casos de funções ais quais você não lembra quais parâmetros são necessários, podemos por o cursor dentro de seus parenteses e clicar chfit + tab que o editor trará informações a respeito da função que se deseja obter informação. Nesse caso vai depender do editor que você usa, pois pode funcionar no jupter porém não em outros editores, alguns deles só o fato deixarmos o cursor dentro do parentese o editor já apresenta essas informações. lembrando que isso funciona inclusive para funçõe do próprio python\n",
    "\n",
    "if eh_da_categoria() "
   ]
  },
  {
   "cell_type": "markdown",
   "metadata": {},
   "source": [
    "<h4>Valores Padrões para os argumentos</h4>\n",
    "\n",
    "Estrutura\n",
    "\n",
    "- Nesse caso, você não é obrigado a passar o valor para usar a função, pode usar o valor padrão.\n",
    "\n",
    "para algumas functions é possivel adicionar alguns valores padrão não sendo necessário ser passado nenhum valor como parâmetro \n",
    "\n",
    "def minha_funcao(argumento = valor_padrao):\n",
    "    ...\n",
    "    return ...\n",
    "\n",
    "\n",
    "    - Como vimos, o sort() para listas tem um argumento padrão. O reverse = False é padrão, então a ordem é crescente. Caso o usuário queira fazer em ordem decrescente, o reverse deve ser alterado para True"
   ]
  },
  {
   "cell_type": "code",
   "execution_count": 1,
   "metadata": {},
   "outputs": [
    {
     "name": "stdout",
     "output_type": "stream",
     "text": [
      "['airpods', 'apple tv', 'apple watch', 'iPad', 'iphone x', 'mac', 'mac book']\n",
      "['mac book', 'mac', 'iphone x', 'iPad', 'apple watch', 'apple tv', 'airpods']\n"
     ]
    }
   ],
   "source": [
    "produtos = ['apple tv', 'mac', 'iphone x', 'iPad', 'apple watch', 'mac book', 'airpods']\n",
    "\n",
    "produtos.sort()\n",
    "print(produtos)\n",
    "\n",
    "produtos.sort(reverse = True)  #Perceba que para o sort nós não necessáriamente precisamos passar qualquer parâmetro pois por padrão essa função já recebe o valor reverse = false, porém temos a opção de mudar esse padrão se adicionarmos um valor diferente disso como no caso do elemento reverse = True, nesse caso os valores da lista serão ordenados do maior para o menor. No exemplo abaixo no caso, a ordem mudada foi a alfabética. \n",
    "print(produtos)"
   ]
  },
  {
   "cell_type": "markdown",
   "metadata": {},
   "source": [
    "Vamos criar uma função que padronize códigos de produtos. O default será padronizar os códigos para letras minúsculas (dado por 'm'), mas se o usuário quiser pode padronizar para maiúscula, dado por ('M')."
   ]
  },
  {
   "cell_type": "code",
   "execution_count": 8,
   "metadata": {},
   "outputs": [
    {
     "name": "stdout",
     "output_type": "stream",
     "text": [
      "['abc12', 'abc34', 'abc37']\n"
     ]
    }
   ],
   "source": [
    "def padronizar_codigos(lista_codigos, padrao='m'):\n",
    "    for i, itens in enumerate(lista_codigos):\n",
    "        iten = itens.replace('  ',' ')\n",
    "        iten = itens.strip()\n",
    "        if padrao == \"m\":\n",
    "            iten = iten.lower()\n",
    "        elif padrao == \"M\":\n",
    "            iten = iten.upper()\n",
    "        lista_codigos[i] = iten # Se não fizermos isso o código não terá o resultado esperado, pois é necessário que haja a substituição dos valores da lista pelos novos valores editados, Nesse caso fisemos uso do for do tipo enumerate onde fizemos o uso i para indicarmos o indice do elemento a ser substituído, logo todos os itens da lista ganharão uma nova edição, dependendo inclusive do padrão escolhido pelo usuário.\n",
    "    return lista_codigos\n",
    "\n",
    "\n",
    "cod_produtos = [' ABC12 ', 'abc34', 'AbC37']\n",
    "print(padronizar_codigos(cod_produtos, padrao = 'm'))"
   ]
  },
  {
   "cell_type": "markdown",
   "metadata": {},
   "source": [
    " <h4>Mais sobre o return</h4>\n",
    "\n",
    " Pontos importantes:\n",
    "\n",
    "- Podemos usar no return praticamente qualquer tipo de objeto: (número, string, lista, tupla, dicionário, outros objetos, etc.)\n",
    "- O return, se for executado, encerra a função, mesmo que dentro dela haja um loop."
   ]
  },
  {
   "cell_type": "code",
   "execution_count": 12,
   "metadata": {},
   "outputs": [],
   "source": [
    "#retornar um número\n",
    "def minha_soma(num1, num2, num3):\n",
    "    return num1 + num2 + num3\n",
    "\n",
    "#retornar um texto\n",
    "def padronizar_texto(texto):\n",
    "    texto = texto.casefold()\n",
    "    texto = texto.replace(\"  \", \" \")\n",
    "    texto = texto.strip()\n",
    "    return texto\n",
    "\n",
    "#retornar um boolean\n",
    "def bateu_meta(vendas, meta):\n",
    "    if vendas >= meta:\n",
    "        return True\n",
    "    else:\n",
    "        return False\n",
    "    \n",
    "#retornar uma lista, tupla ou dicionario\n",
    "def filtrar_lista_texto(lista, pedaco_texto):\n",
    "    lista_filtrada = []\n",
    "    for item in lista:\n",
    "        if pedaco_texto in item:\n",
    "            lista_filtrada.append(item)\n",
    "    return lista_filtrada"
   ]
  },
  {
   "cell_type": "code",
   "execution_count": 13,
   "metadata": {},
   "outputs": [
    {
     "name": "stdout",
     "output_type": "stream",
     "text": [
      "João bateu a meta\n"
     ]
    }
   ],
   "source": [
    "vendas_joao = 3000\n",
    "meta = 1000\n",
    "if bateu_meta(vendas_joao, meta): # No caso desse código nós temos um if que irá traçar uma rota dependendo se o boolean retornado seja verdadeiro ou falso. Perceba que nesse caso se for verdadeiro significa que a pessoa bateu a meta, e se for uma negativa, significa que na verdade a pessoa não bateu a meta. \n",
    "    print('João bateu a meta')\n",
    "else:\n",
    "    print('João não bateu a meta')"
   ]
  },
  {
   "cell_type": "code",
   "execution_count": 15,
   "metadata": {},
   "outputs": [
    {
     "name": "stdout",
     "output_type": "stream",
     "text": [
      "['israel@gmail.com', 'Antonio@gmail.com', 'birbizinho@gmail.com']\n"
     ]
    }
   ],
   "source": [
    "lista_texto = ['israel@gmail.com','Antonio@gmail.com', 'birbizinho@gmail.com','menzoleta@hotimail.com']\n",
    "# Nesse caso iremos fazer uso da função que faz o filtro de uma lista adicionando elementos que cumpram com os requisitos dentro de uma outra.\n",
    "lista =  filtrar_lista_texto(lista_texto, '@gmail')\n",
    "print(lista)\n",
    "\n",
    "\n"
   ]
  },
  {
   "cell_type": "markdown",
   "metadata": {},
   "source": [
    " <h4>Como \"retornar\" mais de um objeto</h4>\n",
    "\n",
    "- É possível retornar 2 \"coisas\"? 2 listas, 2 strings, 2 números...\n",
    "    - Sim, basta retornar como uma tupla com 2 itens (vamos fazer um exemplo)\n",
    "Básicamente uma função tem como padrão retornar quando estamos nos referindo a mais de um elemento para um return os mesmos em forma de tupla. Veja o exemplo abaixo:"
   ]
  },
  {
   "cell_type": "code",
   "execution_count": 18,
   "metadata": {},
   "outputs": [
    {
     "name": "stdout",
     "output_type": "stream",
     "text": [
      "(30, -10, 200, 0.5)\n"
     ]
    }
   ],
   "source": [
    "def operacoes_basicas(num1, num2):\n",
    "    soma = num1 + num2\n",
    "    diferenca = num1 - num2\n",
    "    mult = num1 * num2\n",
    "    divisao = num1 / num2\n",
    "    return soma, diferenca, mult, divisao\n",
    "\n",
    "print(operacoes_basicas(10,20))\n",
    "#Perceba que na saída do print, por mais que os returns não estejam dentro de tuplas, a saídas desses valores estarão dentro de tuplas.\n"
   ]
  },
  {
   "cell_type": "markdown",
   "metadata": {},
   "source": [
    "Aplicação\n",
    "\n",
    "- Data Science e Inteligência Artificial usa MUITO isso.\n",
    "\n",
    "    1. Quando criamos um modelo de previsão, precisamos treinar esse modelo e testar para ver se ele sendo um bom modelo ou não.\n",
    "    2. Temos então que pegar os nossos dados e dividir em 2 pedaços, uma lista de treino e uma lista de teste.\n",
    "    3. Vamos então pensar no exemplo de um modelo que tenta identificar qual o valor justo de um imóvel de acordo com o tamanho do imóvel. Temos então 2 listas:\n",
    "        - Lista 1: Preços Reais dos Imóveis\n",
    "        - Lista 2: Tamanho do imóvel.\n",
    "    4. Vamos criar então uma função que recebe 2 listas como entrada e que divide cada uma dessas listas em 2, um pedaço de treino e um pedaço de teste. O percentual que a lista vai ser dividida é definida por um fator (que também vai ser um parâmetro da função)"
   ]
  },
  {
   "cell_type": "code",
   "execution_count": 37,
   "metadata": {},
   "outputs": [
    {
     "name": "stdout",
     "output_type": "stream",
     "text": [
      "([1.54, 1.45, 1.94, 2.37, 2.3, 1.79, 1.8, 2.25, 1.37], [2.17], [207], [148, 130, 203, 257, 228, 160, 194, 232, 147])\n"
     ]
    }
   ],
   "source": [
    "#exemplo mais simples para facilitar a visualização\n",
    "precos_imoveis = [2.17,1.54,1.45,1.94,2.37,2.3,1.79,1.8,2.25,1.37]\n",
    "tamanho_imoveis = [207,148,130,203,257,228,160,194,232,147]\n",
    "\n",
    "# Vamos definir qual o fator que vamos dividir as listas (ou seja, quantos % da lista vai ficar pra teste. O resto fica pra treino)\n",
    "#Vamos usar 0.1 (10%)\n",
    "def dividindo_lista(lista1,lista2):\n",
    "    lista_teste =[]\n",
    "    lista_valendo = []\n",
    "    tamanho= len(lista1)\n",
    "    for i in range(int(tamanho/10)):\n",
    "         lista_teste.append(lista1[i])\n",
    "    for i, item in enumerate(lista1[1:]):\n",
    "         lista_valendo.append(item)\n",
    "    lista_teste2 =[]\n",
    "    lista_valendo2 = []\n",
    "    tamanho2= len(lista2)\n",
    "    for i in range(int(tamanho2/10)):\n",
    "         lista_teste2.append(lista2[i])\n",
    "    for i, item in enumerate(lista2[1:]):\n",
    "         lista_valendo2.append(item)\n",
    "         \n",
    "\n",
    "    return lista_valendo, lista_teste,lista_teste2, lista_valendo2\n",
    "    \n",
    "print(dividindo_lista(precos_imoveis,tamanho_imoveis))\n",
    "\n",
    " \n",
    "\n",
    "\n",
    "\n",
    "\n",
    "#Isso significa que a lista de teste tem quantos itens?\n",
    "\n",
    "#Agora vamos entender qual conta temos que fazer para dividir a lista em 2 listas. Uma com 90% dos valores e outra com 10%\n"
   ]
  },
  {
   "cell_type": "code",
   "execution_count": 59,
   "metadata": {},
   "outputs": [],
   "source": [
    "precos_imoveis = [2.17,1.54,1.45,1.94,2.37,2.3,1.79,1.8,2.25,1.37,2.4,1.72,2,1.69,1.63,2.01,2.25,1.61,1.02,1.19,1.86,2.15,2.03,1.61,1.52,1.56,1.69,1.47,1.09,2.47,1.62,2.15,1.81,2.49,2.08,1.02,1.68,1.53,1.2,1.29,1.88,1.92,2.14,1.95,2.48,2.44,1.41,1.98,1.89,1.69,1.95,1.42,1.57,2.32,1.23,1.43,1.35,1.49,2.39,2.37,1.3,2.25,1.5,1.35,2.06,1.05,1.7,2.29,2.44,2.09,1.81,2.04,2.45,1.42,2.09,2.19,2.09,1,2.23,1.39,2,1.29,1.55,1.67,2.06,1.89,2.07,2.39,1.93,1.51,1.73,1.66,1.18,1.13,1.69,2.48,1.26,1.75, 1.51, 1.73]\n",
    "tamanho_imoveis = [207,148,130,203,257,228,160,194,232,147,222,165,184,175,147,217,214,171,86,111,180,211,210,168,156,154,179,163,99,246,162,205,195,263,198,121,149,140,122,119,197,210,218,202,258,256,135,203,173,152,197,145,154,252,141,141,151,133,232,229,134,215,155,138,186,120,152,213,256,219,200,210,238,140,224,233,222,120,233,151,185,111,149,186,194,194,222,223,185,157,154,164,129,128,169,240,136,191, 157, 154 ]"
   ]
  },
  {
   "cell_type": "code",
   "execution_count": 97,
   "metadata": {},
   "outputs": [
    {
     "name": "stdout",
     "output_type": "stream",
     "text": [
      "[2.17, 1.54, 1.45, 1.94, 2.37, 2.3, 1.79, 1.8, 2.25, 1.37, 2.4, 1.72, 2, 1.69, 1.63, 2.01, 2.25, 1.61, 1.02, 1.19]\n",
      "[207, 148, 130, 203, 257, 228, 160, 194, 232, 147, 222, 165, 184, 175, 147, 217, 214, 171, 86, 111]\n",
      "[1.86, 2.15, 2.03, 1.61, 1.52, 1.56, 1.69, 1.47, 1.09, 2.47, 1.62, 2.15, 1.81, 2.49, 2.08, 1.02, 1.68, 1.53, 1.2, 1.29, 1.88, 1.92, 2.14, 1.95, 2.48, 2.44, 1.41, 1.98, 1.89, 1.69, 1.95, 1.42, 1.57, 2.32, 1.23, 1.43, 1.35, 1.49, 2.39, 2.37, 1.3, 2.25, 1.5, 1.35, 2.06, 1.05, 1.7, 2.29, 2.44, 2.09, 1.81, 2.04, 2.45, 1.42, 2.09, 2.19, 2.09, 1, 2.23, 1.39, 2, 1.29, 1.55, 1.67, 2.06, 1.89, 2.07, 2.39, 1.93, 1.51, 1.73, 1.66, 1.18, 1.13, 1.69, 2.48, 1.26, 1.75, 1.51, 1.73]\n",
      "[180, 211, 210, 168, 156, 154, 179, 163, 99, 246, 162, 205, 195, 263, 198, 121, 149, 140, 122, 119, 197, 210, 218, 202, 258, 256, 135, 203, 173, 152, 197, 145, 154, 252, 141, 141, 151, 133, 232, 229, 134, 215, 155, 138, 186, 120, 152, 213, 256, 219, 200, 210, 238, 140, 224, 233, 222, 120, 233, 151, 185, 111, 149, 186, 194, 194, 222, 223, 185, 157, 154, 164, 129, 128, 169, 240, 136, 191, 157, 154]\n",
      "____________________________________________________________________________________________________\n",
      "90 100\n",
      "[1.73, 1.66, 1.18, 1.13, 1.69, 2.48, 1.26, 1.75, 1.51, 1.73]\n"
     ]
    }
   ],
   "source": [
    "def dividindo_lista(lista1,lista2,porcentagem):\n",
    "    lista_teste =[]\n",
    "    lista_valendo = []\n",
    "\n",
    "    tamanho= len(lista1)\n",
    "\n",
    "    inicio = int(tamanho * porcentagem)\n",
    "\n",
    "    if len(lista1) == len(lista2):\n",
    "          \n",
    "          for i in range(int(inicio)):\n",
    "               lista_teste.append(lista1[i])\n",
    "          for i, item in enumerate(lista1[inicio:]):\n",
    "               lista_valendo.append(item)\n",
    "          \n",
    "          lista_teste2 =[]\n",
    "          lista_valendo2 = []\n",
    "          \n",
    "          for i in range(int(inicio)):\n",
    "               lista_teste2.append(lista2[i])\n",
    "          for i, item in enumerate(lista2[inicio:]):\n",
    "               lista_valendo2.append(item)\n",
    "\n",
    "          return lista_teste, lista_valendo, lista_teste2, lista_valendo2\n",
    "    else:\n",
    "         print(\"As listas não tem tamanhos iguais\")\n",
    "lista_teste, lista_imoveis_preco, lista_teste2, lista_imoveis_tamanho   =  dividindo_lista(precos_imoveis,tamanho_imoveis, porcentagem = 0.2)\n",
    "print(lista_teste)\n",
    "print(lista_teste2)\n",
    "print(lista_imoveis_preco)\n",
    "print(lista_imoveis_tamanho)\n",
    "print('_'* 100)\n",
    "\n",
    "#Esse exemplo abaixo foi o do gabarito da aula, o mesmo é mais simples, porém, quis fazer por conta própria apartir dos meus conhecimentos, logo os dois apresentam muita diferença.\n",
    "\n",
    "def separar_listas(lista_valores, lista_atributos, fator = 0.1):\n",
    "    qtde_valores = len(precos_imoveis)\n",
    "    if qtde_valores == len(tamanho_imoveis):\n",
    "        i = int(qtde_valores - qtde_valores * fator)\n",
    "        print(i, qtde_valores)\n",
    "        lista_valores_treino = lista_valores[:i]\n",
    "        lista_valores_teste = lista_valores[i:]\n",
    "        lista_atributos_treino = lista_atributos[:i]\n",
    "        lista_atributos_teste = lista_atributos[i:]\n",
    "        return lista_valores_treino, lista_atributos_treino, lista_valores_teste, lista_atributos_teste\n",
    "    else:\n",
    "        print('Lista Valores e Lista Atributos de Tamanho diferentes, favor corrigir')\n",
    "        return\n",
    "    \n",
    "y_treino, x_treino, x_teste, y_teste = separar_listas(precos_imoveis, tamanho_imoveis)\n",
    "print(x_teste)"
   ]
  },
  {
   "cell_type": "code",
   "execution_count": null,
   "metadata": {},
   "outputs": [],
   "source": []
  },
  {
   "cell_type": "markdown",
   "metadata": {},
   "source": [
    "Docstring e Annotations\n",
    "\n",
    "Estrutura - São ferramentas \"apenas\" para organização:\n",
    "\n",
    "     Quando criamos uma função, normalmente não seremos as únicas pessoas a usarem essa função e também pode ser que a gente precise usar essa mesma função semanas, meses ou até anos depois da sua criação.\n",
    "\n",
    "Por isso é importante usarmos DocStrings e Annotations\n",
    "\n",
    "- Docstring -> diz o que a função faz, quais valores ela tem como argumento e o que significa cada valor\n",
    "- Annotation -> diz o que devem ser os argumentos e o que a função retorna\n",
    "\n",
    "Em muitas empresas, o time de tecnologia vai ter um padrão que você deve seguir para isso, mas caso não tenha, vamos te mostrar um padrão bom a ser utilizado.\n",
    "\n",
    "### Docstring:\n",
    "\n",
    "def minha_funcao(arg1, arg2, ...):\n",
    "    '''O que a função faz    #para fazer uso de uma docstring é necessário fazer uso das 3 aspas.\n",
    "    \n",
    "    \n",
    "    Parameters:\n",
    "        arg1 (int): o que é o argumento 1\n",
    "        arg2 (str): o que é o argumento 2\n",
    "        ...\n",
    "    \n",
    "    Returns:\n",
    "        texto (str): o que a função retorna como resposta\n",
    "    '''\n",
    "    \n",
    "    ...código da função\n"
   ]
  },
  {
   "cell_type": "code",
   "execution_count": null,
   "metadata": {},
   "outputs": [],
   "source": [
    "def minha_soma(num1, num2, num3):\n",
    "    '''Faz a soma de 3 números inteiros e devolve como resposta um inteiro\n",
    "    Parameters:\n",
    "    \n",
    "        num1 (int): primeiro número a ser somado\n",
    "        num2 (int): segundo número a ser somado\n",
    "        num3 (int): terceiro número a ser somado\n",
    "    \n",
    "    Returns:\n",
    "        soma (int): o valor da soma dos 3 números dados como argumento\n",
    "    '''\n",
    "    return num1 + num2 + num3\n",
    "\n",
    "minha_soma()\n",
    "#Ao fazer esse tipo de  descrição para  a função, passar o mouse por cima da mesma, ou até mesmo em cima dela clicar chft+enter, isso dependendo do editor: aparecerá toda essa descrição a repeito da função criada por você.\n",
    "         "
   ]
  },
  {
   "cell_type": "markdown",
   "metadata": {},
   "source": [
    " Annotation: \n",
    "\n",
    " No caso do annotation, o foco não será na descrição do que o código faz em sí, mas sim sobre que tipo de parâmetro deverá ser passado para  a função.\n",
    "\n",
    " def minha_funcao(arg1: isso, arg2: aquilo) -> o que a função retorna: nesse caso não temos um breve descritivo da função.\n",
    "    ...\n",
    "    return ..."
   ]
  },
  {
   "cell_type": "code",
   "execution_count": 6,
   "metadata": {},
   "outputs": [],
   "source": [
    "def minha_soma(num1: int, num2: int, num3: int) -> int: # Em meu editor esse recurso não funcionou.\n",
    "    return num1 + num2 + num3\n",
    "\n"
   ]
  },
  {
   "cell_type": "markdown",
   "metadata": {},
   "source": [
    "A escolha por docstring ou anotation irá depender da empresa em que se está trabalhando. Algumas em suas regras tem o docstring como padrão para documentar um código, já outras tem o anotation."
   ]
  },
  {
   "cell_type": "markdown",
   "metadata": {},
   "source": [
    "<h4>Exceções e Erros em Funções</h4>\n",
    "\n",
    "\n",
    "Como \"testar\" erros e tratar exceções:\n",
    "\n",
    "try:\n",
    "    o que eu quero tentar fazer\n",
    "except:\n",
    "    o que vou fazer caso dê erro\n",
    "\n",
    "Obs: Se fazemos o uso do try por obrigação devemos por também o except, pois ambbos são um complemento."
   ]
  },
  {
   "cell_type": "code",
   "execution_count": 17,
   "metadata": {},
   "outputs": [],
   "source": [
    "def descobrir_servidor(email):\n",
    "    try:\n",
    "\n",
    "        posicao_a = email.index('@')\n",
    "        servidor = email[posicao_a:]\n",
    "        if 'gmail' in servidor:\n",
    "            return 'gmail'\n",
    "        elif 'hotmail' in servidor or 'outlook' in servidor or 'live' in servidor:\n",
    "            return 'hotmail'\n",
    "        elif 'yahoo' in servidor:\n",
    "            return 'yahoo'\n",
    "        elif 'uol' in servidor or 'bol' in servidor:\n",
    "            return 'uol'\n",
    "        else:\n",
    "            return 'não determinado'\n",
    "        \n",
    "    except:\n",
    "       print(\"O email digitado não tem @, digite novamente.\")"
   ]
  },
  {
   "cell_type": "markdown",
   "metadata": {},
   "source": [
    "Quando usamos o try, consideramos que todo o conteúdo dentro do mesmo está correto. mas caso o código esteja errado será retornado a mensagem do erro da exceção.\n",
    " Cuidado: uma vez dentro do try, qualquer erro vai levar ao except"
   ]
  },
  {
   "cell_type": "code",
   "execution_count": 18,
   "metadata": {},
   "outputs": [
    {
     "ename": "Exception",
     "evalue": "O email digitado não tem @, digite novamente.",
     "output_type": "error",
     "traceback": [
      "\u001b[1;31m---------------------------------------------------------------------------\u001b[0m",
      "\u001b[1;31mValueError\u001b[0m                                Traceback (most recent call last)",
      "Cell \u001b[1;32mIn[17], line 4\u001b[0m, in \u001b[0;36mdescobrir_servidor\u001b[1;34m(email)\u001b[0m\n\u001b[0;32m      2\u001b[0m \u001b[38;5;28;01mtry\u001b[39;00m:\n\u001b[1;32m----> 4\u001b[0m     posicao_a \u001b[38;5;241m=\u001b[39m \u001b[43memail\u001b[49m\u001b[38;5;241;43m.\u001b[39;49m\u001b[43mindex\u001b[49m\u001b[43m(\u001b[49m\u001b[38;5;124;43m'\u001b[39;49m\u001b[38;5;124;43m@\u001b[39;49m\u001b[38;5;124;43m'\u001b[39;49m\u001b[43m)\u001b[49m\n\u001b[0;32m      5\u001b[0m     servidor \u001b[38;5;241m=\u001b[39m email[posicao_a:]\n",
      "\u001b[1;31mValueError\u001b[0m: substring not found",
      "\nDuring handling of the above exception, another exception occurred:\n",
      "\u001b[1;31mException\u001b[0m                                 Traceback (most recent call last)",
      "Cell \u001b[1;32mIn[18], line 3\u001b[0m\n\u001b[0;32m      1\u001b[0m email \u001b[38;5;241m=\u001b[39m \u001b[38;5;28minput\u001b[39m(\u001b[38;5;124m'\u001b[39m\u001b[38;5;124mDigite o seu email\u001b[39m\u001b[38;5;124m'\u001b[39m)\n\u001b[1;32m----> 3\u001b[0m \u001b[38;5;28mprint\u001b[39m(\u001b[43mdescobrir_servidor\u001b[49m\u001b[43m(\u001b[49m\u001b[43memail\u001b[49m\u001b[43m)\u001b[49m)\n",
      "Cell \u001b[1;32mIn[17], line 18\u001b[0m, in \u001b[0;36mdescobrir_servidor\u001b[1;34m(email)\u001b[0m\n\u001b[0;32m     15\u001b[0m         \u001b[38;5;28;01mreturn\u001b[39;00m \u001b[38;5;124m'\u001b[39m\u001b[38;5;124mnão determinado\u001b[39m\u001b[38;5;124m'\u001b[39m\n\u001b[0;32m     17\u001b[0m \u001b[38;5;28;01mexcept\u001b[39;00m:\n\u001b[1;32m---> 18\u001b[0m     \u001b[38;5;28;01mraise\u001b[39;00m \u001b[38;5;167;01mException\u001b[39;00m(\u001b[38;5;124m\"\u001b[39m\u001b[38;5;124mO email digitado não tem @, digite novamente.\u001b[39m\u001b[38;5;124m\"\u001b[39m)\n",
      "\u001b[1;31mException\u001b[0m: O email digitado não tem @, digite novamente."
     ]
    }
   ],
   "source": [
    "email = input('Digite o seu email')\n",
    "\n",
    "print(descobrir_servidor(email))"
   ]
  },
  {
   "cell_type": "markdown",
   "metadata": {},
   "source": [
    "Como \"printar\" um erro em uma function\n",
    "\n",
    "raise Exception('O erro foi esse') Nesse caso eu consigo criar uma mensagem de erro personalizada para o código. \n",
    "\n",
    "ou então avisando qual o tipo de erro que ele teve, pois cada uma dessas exceções dizem respeito a algum tipo de erro específico.\n",
    "\n",
    "raise TypeError('O erro foi esse')\n",
    "raise ValueError('O erro foi esse')\n",
    "raise ZeroDivisionError('O erro foi esse')"
   ]
  },
  {
   "cell_type": "code",
   "execution_count": 19,
   "metadata": {},
   "outputs": [
    {
     "ename": "ValueError",
     "evalue": "O email digitado não tem @, digite novamente.",
     "output_type": "error",
     "traceback": [
      "\u001b[1;31m---------------------------------------------------------------------------\u001b[0m",
      "\u001b[1;31mValueError\u001b[0m                                Traceback (most recent call last)",
      "Cell \u001b[1;32mIn[19], line 4\u001b[0m, in \u001b[0;36mdescobrir_servidor\u001b[1;34m(email)\u001b[0m\n\u001b[0;32m      2\u001b[0m \u001b[38;5;28;01mtry\u001b[39;00m:\n\u001b[1;32m----> 4\u001b[0m     posicao_a \u001b[38;5;241m=\u001b[39m \u001b[43memail\u001b[49m\u001b[38;5;241;43m.\u001b[39;49m\u001b[43mindex\u001b[49m\u001b[43m(\u001b[49m\u001b[38;5;124;43m'\u001b[39;49m\u001b[38;5;124;43m@\u001b[39;49m\u001b[38;5;124;43m'\u001b[39;49m\u001b[43m)\u001b[49m\n\u001b[0;32m      5\u001b[0m     servidor \u001b[38;5;241m=\u001b[39m email[posicao_a:]\n",
      "\u001b[1;31mValueError\u001b[0m: substring not found",
      "\nDuring handling of the above exception, another exception occurred:\n",
      "\u001b[1;31mValueError\u001b[0m                                Traceback (most recent call last)",
      "Cell \u001b[1;32mIn[19], line 23\u001b[0m\n\u001b[0;32m     18\u001b[0m        \u001b[38;5;28;01mraise\u001b[39;00m \u001b[38;5;167;01mValueError\u001b[39;00m(\u001b[38;5;124m\"\u001b[39m\u001b[38;5;124mO email digitado não tem @, digite novamente.\u001b[39m\u001b[38;5;124m\"\u001b[39m)\n\u001b[0;32m     21\u001b[0m email \u001b[38;5;241m=\u001b[39m \u001b[38;5;28minput\u001b[39m(\u001b[38;5;124m'\u001b[39m\u001b[38;5;124mDigite o seu email\u001b[39m\u001b[38;5;124m'\u001b[39m)\n\u001b[1;32m---> 23\u001b[0m \u001b[38;5;28mprint\u001b[39m(\u001b[43mdescobrir_servidor\u001b[49m\u001b[43m(\u001b[49m\u001b[43memail\u001b[49m\u001b[43m)\u001b[49m)\n",
      "Cell \u001b[1;32mIn[19], line 18\u001b[0m, in \u001b[0;36mdescobrir_servidor\u001b[1;34m(email)\u001b[0m\n\u001b[0;32m     15\u001b[0m         \u001b[38;5;28;01mreturn\u001b[39;00m \u001b[38;5;124m'\u001b[39m\u001b[38;5;124mnão determinado\u001b[39m\u001b[38;5;124m'\u001b[39m\n\u001b[0;32m     17\u001b[0m \u001b[38;5;28;01mexcept\u001b[39;00m:\n\u001b[1;32m---> 18\u001b[0m    \u001b[38;5;28;01mraise\u001b[39;00m \u001b[38;5;167;01mValueError\u001b[39;00m(\u001b[38;5;124m\"\u001b[39m\u001b[38;5;124mO email digitado não tem @, digite novamente.\u001b[39m\u001b[38;5;124m\"\u001b[39m)\n",
      "\u001b[1;31mValueError\u001b[0m: O email digitado não tem @, digite novamente."
     ]
    }
   ],
   "source": [
    "def descobrir_servidor(email):\n",
    "    try:\n",
    "\n",
    "        posicao_a = email.index('@')\n",
    "        servidor = email[posicao_a:]\n",
    "        if 'gmail' in servidor:\n",
    "            return 'gmail'\n",
    "        elif 'hotmail' in servidor or 'outlook' in servidor or 'live' in servidor:\n",
    "            return 'hotmail'\n",
    "        elif 'yahoo' in servidor:\n",
    "            return 'yahoo'\n",
    "        elif 'uol' in servidor or 'bol' in servidor:\n",
    "            return 'uol'\n",
    "        else:\n",
    "            return 'não determinado'\n",
    "        \n",
    "    except:\n",
    "       raise ValueError(\"O email digitado não tem @, digite novamente.\")\n",
    "        # Se seu código cair em um exception e você faz esse tipo de uso, alem de criar uma mensagem de erro de código em linha, personaliza o tipo de erro relacionado.\n",
    "\n",
    "email = input('Digite o seu email')\n",
    "\n",
    "print(descobrir_servidor(email))"
   ]
  },
  {
   "cell_type": "markdown",
   "metadata": {},
   "source": [
    "### Tratamento Completo:\n",
    "\n",
    "\n",
    "try:\n",
    "    tente fazer isso\n",
    "except ErroEspecífico:\n",
    "    deu esse erro aqui que era esperado \n",
    "\n",
    "\n",
    "else:\n",
    "    caso não dê o erro esperado, rode isso.\n",
    "finally:\n",
    "    independente do que acontecer, faça isso.\n",
    "\n",
    "Nesse caso, esses dois últimos recursos são rodados cada qual dependendo do nosso try e exception respectivamente\n"
   ]
  },
  {
   "cell_type": "code",
   "execution_count": 22,
   "metadata": {},
   "outputs": [
    {
     "name": "stdout",
     "output_type": "stream",
     "text": [
      "gmail\n"
     ]
    }
   ],
   "source": [
    "def descobrir_servidor(email):\n",
    "    try:\n",
    "        posicao_a = email.index('@')\n",
    "    except:\n",
    "       raise ValueError(\"O email digitado não tem @, digite novamente.\")\n",
    "\n",
    "        # Se seu código cair em um exception e você faz esse tipo de uso, alem de criar uma mensagem de erro de código em linha, personaliza o tipo de erro relacionado.\n",
    "\n",
    "    else:\n",
    "        servidor = email[posicao_a:]\n",
    "        if 'gmail' in servidor:\n",
    "            return 'gmail'\n",
    "        elif 'hotmail' in servidor or 'outlook' in servidor or 'live' in servidor:\n",
    "            return 'hotmail'\n",
    "        elif 'yahoo' in servidor:\n",
    "            return 'yahoo'\n",
    "        elif 'uol' in servidor or 'bol' in servidor:\n",
    "            return 'uol'\n",
    "        else:\n",
    "            return 'não determinado'\n",
    "    finally:\n",
    "        raise ValueError(\"O email digitado não tem @, digite novamente.\")\n",
    "\n",
    "email = input('Digite o seu email')\n",
    "\n",
    "print(descobrir_servidor(email))"
   ]
  },
  {
   "cell_type": "markdown",
   "metadata": {},
   "source": [
    "Quantidade Indefinidas de Argumentos\n",
    "\n",
    "### Utilidade:\n",
    "\n",
    "Quando você quer permitir uma quantidade indefinida de argumentos, usa o * para isso.\n",
    "\n",
    "### Estrutura:\n",
    "\n",
    "rgs para positional arguments -> argumentos vêm em formato de tupla\n",
    "\n",
    "def minha_funcao(*args):\n",
    "    ...\n",
    "Quando fazemos o uso do *args para os argumentos, nos é permitido passar a essa função diversos elementos, por ser posicional esses elementos assumirão uma posição dentro da função de acordo com a ordem que você passar. Os mesmos serão passados separadamente e serão inseridos dentro de uma tupla.\n",
    "\n",
    "**kwargs para keyword arguments -> argumentos vêm em formato de dicionário\n",
    "\n",
    "def minha_funcao(**kwargs):\n",
    "Nesse caso aqui, essa função será aplicada aos argumentos que tem palavras chaves.\n",
    "    ..."
   ]
  },
  {
   "cell_type": "code",
   "execution_count": 23,
   "metadata": {},
   "outputs": [
    {
     "name": "stdout",
     "output_type": "stream",
     "text": [
      "(2, 4, 5, 6, 9)\n",
      "26\n"
     ]
    }
   ],
   "source": [
    "def minha_soma(*numeros):\n",
    "    print(numeros)\n",
    "    soma = 0\n",
    "    for numero in numeros:\n",
    "        soma += numero\n",
    "    return soma\n",
    "\n",
    "print(minha_soma(2, 4, 5, 6, 9)) #Perceba que vários elementos foram passados, inseridos em tuplas e em seguida percorridos por um for para que fossem usados, esse uso irá depender da ordem em que foi feita essa incersão."
   ]
  },
  {
   "cell_type": "code",
   "execution_count": 31,
   "metadata": {},
   "outputs": [
    {
     "name": "stdout",
     "output_type": "stream",
     "text": [
      "{'garantia_extra': 200, 'bom_bom': 34}\n",
      "400\n"
     ]
    }
   ],
   "source": [
    "def preco_final(preco, **adicionais):\n",
    "    print(adicionais)\n",
    "    if 'desconto' in adicionais:\n",
    "        preco *= (1 - adicionais['desconto'])\n",
    "    if 'garantia_extra' in adicionais:\n",
    "        preco += adicionais['garantia_extra'] \n",
    "    if 'imposto' in adicionais:\n",
    "        preco *= (1 + adicionais['imposto'])\n",
    "    return preco \n",
    "\n",
    "# Nesse caso, percebemos que a função tem alguns informações a serem verificadas, e o resultado final irá depender disso, aqui, deve-se ser passados o preço de um produto dependendo preço outras informações com sua respectiva chave e valor como no caso de algum desconto, garantia extra, ou imposto sobre o produto, informações que influenciam o resultado final.\n",
    "\n",
    "print(preco_final(200, garantia_extra= 200, bom_bom = 34))\n",
    "\n",
    " #Não há a necessidade de que seja passado o segundo parãmetro, fica a critério a inserção de nenhum ou vários elementos para esse parãmetro da função. Nesse caso se for passado um elento para o parâmetro e o mesmo não estiver presente dentro da função, nada irá acontecer porque nesse caso a informação passada em nada terá haver com a funão e por tanto nenhum poder de influência sobre o resultado final, mesmo que essa informação seja inserida dentro da tupla da função."
   ]
  },
  {
   "cell_type": "markdown",
   "metadata": {},
   "source": [
    "# Ordem dos Argumentos\n",
    "\n",
    "Assim como na matemática, na programação também temos a ordem certa para determinadas execuções, principalmente no que diz respeiro ao tipo de passagem do parâmetro. O argumento fixo sempre vem antes do *args para argumentos aleatórios, que vem antes do kwagas fixos, que vem antes do **kwargs para chaves e valore aleatórios. caso essa ordem não seja seguida ao serem passados os  elementos do parâmetro o código dará erro. \n",
    "\n",
    "### Estrutura:\n",
    "\n",
    "- Sempre os positional arguments vêm antes e depois os keywords arguments.\n",
    "- Sempre os argumentos individuais vêm antes e depois os \"múltiplos\"\n",
    "\n",
    "def minha_funcao(arg1, arg2, arg3, arg4, *args, k = kwarg1, k2 = kwarg2, k3 = kwarg3, **kwargs):"
   ]
  },
  {
   "cell_type": "markdown",
   "metadata": {},
   "source": [
    "### Forma de pensar para resolução de problemas."
   ]
  },
  {
   "cell_type": "markdown",
   "metadata": {},
   "source": [
    "Top -> Down  chamamos de decomposição top Down\n",
    "#iremos destinchar as tarefas em partes e depois essas partes em outras partes, é o que chamamos de dividir para conquistar. pegando primeiramente tarefas de auto nível e depois tarefas menores e mais simples para resolver. \n",
    "\n",
    "\n",
    "\n",
    "\n",
    "# Exemplo simples: atravessar a rua\n",
    "\n",
    "# atravessar a rua \n",
    "   # olhar para os dois lados.\n",
    "        #olhar para o lado direito e ver se vemcarro \n",
    "        # olhar para o lado esquerdo e ver se vme carro    \n",
    "        # se não vier carro em nenhum dos dois lados.\n",
    "            # atravessar a rua \n",
    "        # se hover carro em algum dos dois lados:\n",
    "            #esperar o carro passar.\n",
    "   # ir até o outro lado da rua.\n"
   ]
  },
  {
   "cell_type": "markdown",
   "metadata": {},
   "source": [
    "Exemplo de Exercício do Curso\n",
    "\n",
    "23. Faça um Programa para uma loja de tintas. O programa deverá pedir o tamanho em metros quadrados da área a ser pintada. Considere que a cobertura da tinta é de 1 litro para cada 6 metros quadrados e que a tinta é vendida em latas de 18 litros, que custam R\\\\$ 80,00 ou em galões de 3,6 litros, que custam R\\\\$ 25,00."
   ]
  },
  {
   "cell_type": "code",
   "execution_count": 27,
   "metadata": {},
   "outputs": [],
   "source": [
    "# pedir o tamanho em metros da área a ser pintada:\n",
    "    # um litro é destinado para cada 6 metros  -- logo devemos dividir o valor cedido para 6 e descobrir quantas lata de tintas deverão ser usadas,\n",
    "       # verificaremos qual tipo  de lata será mais vantajosa para o cliente,a de 18 litros ou a de 3´6 litros.\n",
    "        #ao saber quantas latas de tintas precisará ser usada, precisamos saber qual será o gasto do cliente sobre as latas de 18 litros que custam 80 reais. \n",
    "\n"
   ]
  },
  {
   "cell_type": "code",
   "execution_count": 5,
   "metadata": {},
   "outputs": [
    {
     "name": "stdout",
     "output_type": "stream",
     "text": [
      "0.0925925925925926\n",
      "1.6666666666666667\n",
      "80\n",
      "0.46296296296296297\n",
      "1.6666666666666667\n",
      "25\n",
      "Segundo sua área de 10 m² é mais vantajoso comprar a tinta de 3,6 litros, tendo um custo de 25 reais\n"
     ]
    }
   ],
   "source": [
    "#Função criada por mim:\n",
    "\n",
    "area = int(input('Digite quantos métros tem a sua casa.'))\n",
    "\n",
    "def calculo_tinta(area):\n",
    "    litros = area / 6\n",
    "    \n",
    "\n",
    "    latas = litros / 18\n",
    "\n",
    "    print(latas)\n",
    "    if latas <= 1 :\n",
    "        latas = 1\n",
    "    elif latas == float(latas):\n",
    "        latas = int(latas)\n",
    "        latas += 1\n",
    "    valor = latas * 80\n",
    "\n",
    "    print(litros)\n",
    "    print(valor)\n",
    "\n",
    "    latas2 = litros / 3.6\n",
    "\n",
    "    print(latas2)\n",
    "\n",
    "    if latas2 <= 1 :\n",
    "        latas2 = 1\n",
    "    elif latas2 == float(latas2):\n",
    "        latas2 = int(latas2)\n",
    "        latas2 += 1\n",
    "\n",
    "    valor2 = latas2 * 25\n",
    "\n",
    "    print(litros)\n",
    "    print(valor2)\n",
    "\n",
    "    if valor > valor2:\n",
    "        mensagem = '3,6 litros'\n",
    "        return valor2, mensagem\n",
    "    else:\n",
    "        mensagem = '18 litros'\n",
    "        return valor, mensagem\n",
    "    \n",
    "valor, mensagem = calculo_tinta(area)\n",
    "\n",
    "print(\"Segundo sua área de {} m² é mais vantajoso comprar a tinta de {}, tendo um custo de {} reais\".format(area, mensagem, valor))\n",
    "\n",
    "\n"
   ]
  },
  {
   "cell_type": "markdown",
   "metadata": {},
   "source": [
    " O ideal quando se está trabalhando como um código que pode exigir diferentes cálculos, que embora se sonectem, possam ser exeutados separadamente, é fazer essa separação em etapas. Em casos como mudanças  na forma de recebimento de parâmetros pode ser um exemplo. Tendo essas funções organizadas em locais diferentes, é muito mais fácil fazer a localização da variável e atualizar a forma de usá-la."
   ]
  },
  {
   "cell_type": "code",
   "execution_count": 3,
   "metadata": {},
   "outputs": [
    {
     "name": "stdout",
     "output_type": "stream",
     "text": [
      "Latas 1\n",
      "Custo 80\n"
     ]
    }
   ],
   "source": [
    "#Função criada pelo professor:\n",
    "# 1. Comprar apenas latas de 18 litros: (apenas latas inteiras)\n",
    "\n",
    "def area_a_ser_pintada():\n",
    "    area = int(input(\"Escreva qual a área a ser pintada (m²):\"))\n",
    "    return area\n",
    "\n",
    "def calcular_litros_tinta(area):\n",
    "    litros = area / 6\n",
    "    return litros\n",
    "    \n",
    "def calcular_latas_tinta(litros):\n",
    "    latas = litros / 18\n",
    "    if latas > int(latas):\n",
    "        latas = int(latas) + 1\n",
    "    return latas\n",
    "\n",
    "def calcular_custo(latas):\n",
    "    custo = latas * 80\n",
    "    return custo\n",
    "\n",
    "area = area_a_ser_pintada()\n",
    "litros = calcular_litros_tinta(area)\n",
    "latas = calcular_latas_tinta(litros)\n",
    "custo = calcular_custo(latas)\n",
    "print(\"Latas\", latas)\n",
    "print(\"Custo\", custo)"
   ]
  },
  {
   "cell_type": "code",
   "execution_count": 4,
   "metadata": {},
   "outputs": [
    {
     "name": "stdout",
     "output_type": "stream",
     "text": [
      "Galões 1\n",
      "Custo 25\n"
     ]
    }
   ],
   "source": [
    "#2. Comprar apenas galões de 3,6 litros: (apenas galoes inteiros)\n",
    "\n",
    "\n",
    "def area_a_ser_pintada():\n",
    "    area = int(input(\"Escreva qual a área a ser pintada (m²):\"))\n",
    "    return area\n",
    "\n",
    "def calcular_litros_tinta(area):\n",
    "    litros = area / 6\n",
    "    return litros\n",
    "    \n",
    "def calcular_latas_tinta(litros):\n",
    "    latas = litros / 3.6\n",
    "    if latas > int(latas):\n",
    "        latas = int(latas) + 1\n",
    "    return latas\n",
    "\n",
    "def calcular_custo(latas):\n",
    "    custo = latas * 25\n",
    "    return custo\n",
    "\n",
    "area = area_a_ser_pintada()\n",
    "litros = calcular_litros_tinta(area)\n",
    "latas = calcular_latas_tinta(litros)\n",
    "custo = calcular_custo(latas)\n",
    "print(\"Galões\", latas)\n",
    "print(\"Custo\", custo)"
   ]
  },
  {
   "cell_type": "markdown",
   "metadata": {},
   "source": [
    " Misturar latas e galões, de forma que o desperdício de tinta seja menor. Sempre arredonde os valores para cima, isto é, considere latas cheias.\n",
    "\n",
    " O custo da lata é 80/18 = 4,44 R\\\\$/L\n",
    "\n",
    "O custo do galão é 25/3,6 = 6,94 R\\\\$/L\n",
    "\n",
    "A lata é mais econômica, então todas as latas inteiras que pudermos usar devemos comprar em latas. Se ficar faltando alguma coisa para completar devemos avaliar se é melhor comprar latas ou galões. Exemplo:\n",
    "\n",
    "Se queremos comprar 90 litros. 5 latas dão exatamente 90 litros. Então devemos comprar tudo em latas.\n",
    "\n",
    "Se queremos comprar 95 litros. 5 latas dão exatamente 90 litros. Então devemos comprar pelo menos 5 latas e avaliar o que falta, se estes últimos 5 litros valem mais apenas em latas ou galões.\n",
    "\n",
    "Para os 5 litros faltantes precisamos de 2 galões que custam 50 reais no total. Ou de uma lata que custa 80 reais no total. Portanto, neste caso vale mais a pena usar 2 galões.\n",
    "\n",
    "Se queremos comprar 107 litros. 5 latas dão exatamente 90 litros. Então devemos comprar pelo menos 5 latas e avaliar o que falta, se estes últimos 5 litros valem mais apenas em latas ou galões.\n",
    "\n",
    "Para os 17 litros faltantes precisamos de 5 galões que custam 125 reais no total. Ou de uma lata que custa 80 reais no total. Portanto, neste caso vale mais a pena usar uma lata.\n",
    "\n",
    "3 galões custam 75 reais, 4 galões custam 100 reais. Então, se for possível completar com até 3 galões escolhe-se galões. Qualquer quantidade maior que 3 galões, usa-se latas.\n",
    "\n",
    "Podemos ir ao exercício:"
   ]
  },
  {
   "cell_type": "code",
   "execution_count": 10,
   "metadata": {},
   "outputs": [
    {
     "name": "stdout",
     "output_type": "stream",
     "text": [
      "12\n"
     ]
    }
   ],
   "source": [
    "#função desenvolvida por mim;\n",
    "\n",
    "area = int(input('Digite quantos métros tem a sua casa.'))\n",
    "\n",
    "def calculo_tinta(area):\n",
    "    litros = area / 6\n",
    "    \n",
    "    latas2 = litros / 3.6\n",
    "    latas = litros / 18\n",
    "    latas2_arredondada = int(litros / 3.6)\n",
    "    latas_arredondada = int(litros / 18)\n",
    "    return latas2_arredondada\n",
    "\n",
    "\n",
    "\n",
    "print(calcular_latas_tinta(area))\n",
    "\n",
    "    \n",
    "   \n",
    "\n",
    "\n"
   ]
  }
 ],
 "metadata": {
  "kernelspec": {
   "display_name": "Python 3",
   "language": "python",
   "name": "python3"
  },
  "language_info": {
   "codemirror_mode": {
    "name": "ipython",
    "version": 3
   },
   "file_extension": ".py",
   "mimetype": "text/x-python",
   "name": "python",
   "nbconvert_exporter": "python",
   "pygments_lexer": "ipython3",
   "version": "3.12.2"
  }
 },
 "nbformat": 4,
 "nbformat_minor": 2
}
