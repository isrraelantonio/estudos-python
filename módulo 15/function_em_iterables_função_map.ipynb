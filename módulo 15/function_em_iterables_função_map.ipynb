{
 "cells": [
  {
   "cell_type": "markdown",
   "metadata": {},
   "source": [
    "Function em iterables\n",
    "\n",
    "### Segue a mesma lógica de list comprehension, mas é mais simples\n",
    "\n",
    "Basicamente alguns métodos e funções que já existem no Python podem rodar uma function para cada item, da mesma forma que fizemos com list comprehension.\n",
    "\n",
    "Isso pode ajudar a gente a resolver alguns desafios de forma mais simples\n",
    "\n",
    "Uma função que permite que a gente faça isso é a map function\n",
    "\n",
    "### map function\n",
    "\n",
    "lista = list(map(função, iterable_original))\n",
    "\n",
    "o que irá acontecer na linha de código é que determinada função será aplicada a cada um dos itens da lista"
   ]
  },
  {
   "cell_type": "markdown",
   "metadata": {},
   "source": [
    "- Exemplo: digamos que eu tenha uma function que corrige um código de um produto (semelhante ao que fizemos na seção de function aqui do curso)"
   ]
  },
  {
   "cell_type": "code",
   "execution_count": 8,
   "metadata": {},
   "outputs": [
    {
     "name": "stdout",
     "output_type": "stream",
     "text": [
      "['abc12', 'abc34', 'abc37', 'beb12', 'bsa151', 'beb23']\n"
     ]
    }
   ],
   "source": [
    "def padronizar_texto(texto):\n",
    "    texto = texto.casefold()\n",
    "    texto = texto.replace(\"  \", \" \")\n",
    "    texto = texto.strip()\n",
    "    return texto\n",
    "\n",
    "# O QUE NÓS QEUREMSOÉ PARONIZAR OS TEXTOS DA LISTA ABAIXO.\n",
    "\n",
    "\n",
    "produtos = [' ABC12 ', 'abc34', 'AbC37', 'beb12', ' BSA151', 'BEB23']\n",
    "\n",
    "# PARA TAL PRECISAMOS PERCORRE-LA.\n",
    "\n",
    "for i, porduto in enumerate(produtos):\n",
    "    # usamos o enumerate pois iremos modificar cada um dos itens da lista apartir do indice do memso, por isso pegamos o indice de cada item da lista e o texto referente ao mesmo para que possamos manipular a lista.\n",
    "    produtos[i] = padronizar_texto(porduto)\n",
    "\n",
    "print(produtos)\n",
    "\n"
   ]
  },
  {
   "cell_type": "markdown",
   "metadata": {},
   "source": [
    "É isso que o map faz, aplica a função a cada um dos elementos da lista. Vejamos sua aplicação de fato"
   ]
  },
  {
   "cell_type": "code",
   "execution_count": 9,
   "metadata": {},
   "outputs": [
    {
     "name": "stdout",
     "output_type": "stream",
     "text": [
      "['abc12', 'abc34', 'abc37', 'beb12', 'bsa151', 'beb23']\n"
     ]
    }
   ],
   "source": [
    "produtos = list(map(padronizar_texto, produtos)) # se fizessemso o uso do map sem o list o mesmo iria retornar um objeto do tipo zip, logo para que seja retornada uma lista é necessário transformar o map em uma lista.\n",
    "print(produtos)\n"
   ]
  },
  {
   "cell_type": "markdown",
   "metadata": {},
   "source": [
    "sort (ou sorted) com function\n",
    "\n",
    "### Descrição:\n",
    "\n",
    "Até agora no programa, usamos várias vezes o .sort() para ordenar listas\n",
    "\n",
    "Mas o método sort tem um parâmetro que nunca usamos e que agora sabemos usar."
   ]
  },
  {
   "cell_type": "code",
   "execution_count": 1,
   "metadata": {},
   "outputs": [
    {
     "name": "stdout",
     "output_type": "stream",
     "text": [
      "['IPad', 'IPhone 11', 'IPhone x', 'airpods', 'apple tv', 'apple watch', 'mac', 'mac book']\n"
     ]
    }
   ],
   "source": [
    "produtos = ['apple tv', 'mac', 'IPhone x', 'IPhone 11', 'IPad', 'apple watch', 'mac book', 'airpods']\n",
    "produtos.sort()\n",
    "print(produtos)"
   ]
  },
  {
   "cell_type": "markdown",
   "metadata": {},
   "source": [
    "faazendo o uso do sort dessa forma temos como resultado os valores em ordem crescente ou alfabética como no caso anterior. só que nessa saída temos primeiramente a ordenação  das letras maiúsculas para que depois possa ser feito o processo com a minúscula. Porém não é isso que nós desejamos. \n",
    "\n",
    "\n",
    "o sort tem um metodo  que pode resolver esse nosso probleminha fazendo a ordenação como se todas as letras que iniciam cada um os itens da lista fossem minúsculas, ignirando assim a diferença da grafia e organizando os valores do modo que se deseja.\n",
    "\n",
    "esse método e o método key onde o valor para o mesmo pode sero o str.lower  ou str.upper para se o desejo for essa percepção como se todas as iniciais fossem para letras maiúsculas."
   ]
  },
  {
   "cell_type": "code",
   "execution_count": 2,
   "metadata": {},
   "outputs": [
    {
     "name": "stdout",
     "output_type": "stream",
     "text": [
      "['airpods', 'apple tv', 'apple watch', 'IPad', 'IPhone 11', 'IPhone x', 'mac', 'mac book']\n"
     ]
    }
   ],
   "source": [
    "produtos = ['apple tv', 'mac', 'IPhone x', 'IPhone 11', 'IPad', 'apple watch', 'mac book', 'airpods']\n",
    "produtos.sort(key= str.lower)\n",
    "print(produtos)\n",
    "\n",
    "# e já na saída percebemos que independente da lista em si não ter sido mudada os valores foram ordenados de forma desejada pois o interpretador inntendeu todas as iniciais como sendo minúsculas, mesmo que na realidade não estejam."
   ]
  },
  {
   "cell_type": "markdown",
   "metadata": {},
   "source": [
    "Outro exemplo: como ordenar um dicionário de acordo com o valor"
   ]
  },
  {
   "cell_type": "code",
   "execution_count": 7,
   "metadata": {},
   "outputs": [
    {
     "name": "stdout",
     "output_type": "stream",
     "text": [
      "[('vinho', 100), ('cafeiteira', 150), ('microondas', 300), ('missig', 66789), ('mop', 50), ('iphone', 5500)]\n"
     ]
    }
   ],
   "source": [
    "vendas_produtos = {'vinho': 100, 'cafeiteira': 150, 'microondas': 300, \"missig\": 66789, \"mop\": 50, 'iphone': 5500}\n",
    "\n",
    "lista_profutos = list(vendas_produtos.items()) # a função items torna cada um dos valores da tupla como sendo um item. e usamos o list no início adicionaremos cada intem para destro de uma lista\n",
    "\n",
    "print(lista_profutos)"
   ]
  },
  {
   "cell_type": "markdown",
   "metadata": {},
   "source": [
    "o que queremos na verdade é ordenar os valores do maior para o menor. só que antes precisamos de uma função que utilise os valores  como chave e não as palavras. "
   ]
  },
  {
   "cell_type": "code",
   "execution_count": 8,
   "metadata": {},
   "outputs": [
    {
     "name": "stdout",
     "output_type": "stream",
     "text": [
      "[('mop', 50), ('vinho', 100), ('cafeiteira', 150), ('microondas', 300), ('iphone', 5500), ('missig', 66789)]\n"
     ]
    }
   ],
   "source": [
    "def segundo_item(tupla): # Nesse caso eu pego a tupla e seleciono o segundo item da mesma \n",
    "    return tupla[1]\n",
    "\n",
    "lista_profutos.sort(key= segundo_item) # e se quisermos trasnformar isso do maior para o meno re so usar o reverse = True\n",
    "print(lista_profutos)"
   ]
  },
  {
   "cell_type": "markdown",
   "metadata": {},
   "source": [
    "Lambda Expressions\n",
    "\n",
    "### Objetivo:\n",
    "\n",
    "- As lambdas expressions são funções anônimas (sem nome mesmo) que tem 1 linha de código e são atribuidas a uma variável, como se a variável virasse uma função.\n",
    "- Elas normalmente são usadas para fazer uma única ação, mas em Python usamos principalmente dentro de métodos como argumento, para não precisarmos criar uma função só para isso (vamos ver isso na aula que vem)\n",
    "- Outra aplicação delas está em criar um \"gerador de funções\" (vamos ver na 3ª Aula dessa Seção)\n",
    "\n",
    "### Obs\n",
    "\n",
    "- Não é \"obrigatório\" usar lambda expression, até porque praticamente tudo o que você faz com elas você consegue fazer com functions normais. Mas, é importante saber entender quando encontrar e saber usar a medida que você for se acostumando e vendo necessidade\n",
    "\n",
    "### Estrutura:\n",
    "\n",
    "minha_funcao = lambda parametro: expressão"
   ]
  },
  {
   "cell_type": "code",
   "execution_count": 9,
   "metadata": {},
   "outputs": [
    {
     "name": "stdout",
     "output_type": "stream",
     "text": [
      "10\n"
     ]
    }
   ],
   "source": [
    "# uso com  função normal:\n",
    "def minha_function(num):\n",
    "    return num * 2 \n",
    "print(minha_function(5))\n",
    " "
   ]
  },
  {
   "cell_type": "code",
   "execution_count": 10,
   "metadata": {},
   "outputs": [
    {
     "name": "stdout",
     "output_type": "stream",
     "text": [
      "10\n"
     ]
    }
   ],
   "source": [
    "# Agora fazendo uso da estrutura lambda \n",
    "\n",
    "minha_function2 = lambda num : num * 2 \n",
    "print(minha_function2(5))"
   ]
  },
  {
   "cell_type": "markdown",
   "metadata": {},
   "source": [
    "- Exemplo útil: Vamos usar lambda expressions para criar uma função que calcula o preço dos produtos acrescido do imposto"
   ]
  },
  {
   "cell_type": "code",
   "execution_count": 13,
   "metadata": {},
   "outputs": [
    {
     "name": "stdout",
     "output_type": "stream",
     "text": [
      "130.0\n",
      "130.0\n"
     ]
    }
   ],
   "source": [
    "imposto = 0.3\n",
    "def preco_imposto(preco):\n",
    "    return preco +  (preco * imposto)\n",
    "\n",
    "preco_imposto2 = lambda preco : preco +  (preco * imposto)\n",
    "print(preco_imposto(100))\n",
    "print(preco_imposto2(100))"
   ]
  },
  {
   "cell_type": "markdown",
   "metadata": {},
   "source": [
    " Principal Aplicação de Lambda Expressions\n",
    "\n",
    "### Usar lambda como argumento de alguma outra função, como map e filter"
   ]
  },
  {
   "cell_type": "code",
   "execution_count": 4,
   "metadata": {},
   "outputs": [],
   "source": [
    "preco_tecnologia = {'notebook asus': 2450, 'iphone': 4500, 'samsung galaxy': 3000, 'tv samsung': 1000, 'ps5': 3000, 'tablet': 1000, 'notebook dell': 3000, 'ipad': 3000, 'tv philco': 800, 'notebook hp': 1700}"
   ]
  },
  {
   "cell_type": "markdown",
   "metadata": {},
   "source": [
    "-map ()\n",
    "\n",
    "Queremos saber o preço de cada produto adicionando o valor do imposto de 30% sobre o valor do produto"
   ]
  },
  {
   "cell_type": "markdown",
   "metadata": {},
   "source": [
    "A principal função das expressões lambidas é ser aplicada comofarâmetro denrtro de funções já existentes dentro do python\n",
    "como nós já bem sabemos como o map podemos fazer uso de determinada função dentro de um iterble se aplicando a cada um dos itens do mesmo. e se essa função form bem simples podemos simplificar ainda mais com as expressões lambida."
   ]
  },
  {
   "cell_type": "code",
   "execution_count": 7,
   "metadata": {},
   "outputs": [
    {
     "name": "stdout",
     "output_type": "stream",
     "text": [
      "[3185.0, 5850.0, 3900.0, 1300.0, 3900.0, 1300.0, 3900.0, 3900.0, 1040.0, 2210.0]\n"
     ]
    }
   ],
   "source": [
    "# Vamos ao código com a função como já conhecemos.\n",
    "\n",
    "def calcular_preco(preco):\n",
    "    return preco * 1.3 # cada preço será multiplicado por 1.3 que no caso sera o valor atual mais ele vezes o 0.3 \n",
    "\n",
    "preco_com_imposto = list(map(calcular_preco, preco_tecnologia.values())) # estou aplicando a função a cada um dos valores da lista onde cada um dos valores será o parâmetro da função\n",
    "\n",
    "print(preco_com_imposto)"
   ]
  },
  {
   "cell_type": "code",
   "execution_count": 8,
   "metadata": {},
   "outputs": [
    {
     "name": "stdout",
     "output_type": "stream",
     "text": [
      "[3185.0, 5850.0, 3900.0, 1300.0, 3900.0, 1300.0, 3900.0, 3900.0, 1040.0, 2210.0]\n"
     ]
    }
   ],
   "source": [
    "#gora com a expressão lambida.\n",
    "preco_com_imposto2 = list(map(lambda preco: preco * 1.3, preco_tecnologia.values()))\n",
    "print(preco_com_imposto2)\n",
    "\n",
    "# com o lambida em funções mais simples, conseguimos reslver o problema numa única linaha de código."
   ]
  },
  {
   "cell_type": "markdown",
   "metadata": {},
   "source": [
    "filter()\n",
    "- Queremos apenas os produtos que custam acima de 2000\n",
    "\n",
    "com esse recurso nós podemos filtrar informações dento do nosso iterable \n",
    "\n",
    "filter(função, iterable) -> retorna como resposta todos os itens do iterable onde a função é True"
   ]
  },
  {
   "cell_type": "code",
   "execution_count": 9,
   "metadata": {},
   "outputs": [
    {
     "name": "stdout",
     "output_type": "stream",
     "text": [
      "[('notebook asus', 2450), ('iphone', 4500), ('samsung galaxy', 3000), ('ps5', 3000), ('notebook dell', 3000), ('ipad', 3000)]\n"
     ]
    }
   ],
   "source": [
    "\n",
    "def maior2000(item): #os items a serem filtrados devem ser referente ao indice 1 do mesmo e ainda ser maior que 2000\n",
    "    return item[1] > 2000\n",
    "\n",
    "produto_2000 = list(filter(maior2000, preco_tecnologia.items())) #criando uma nova lista definimos umfiltro\n",
    "print(produto_2000)"
   ]
  },
  {
   "cell_type": "code",
   "execution_count": 11,
   "metadata": {},
   "outputs": [
    {
     "name": "stdout",
     "output_type": "stream",
     "text": [
      "[('notebook asus', 2450), ('iphone', 4500), ('samsung galaxy', 3000), ('tv samsung', 1000), ('ps5', 3000), ('tablet', 1000), ('notebook dell', 3000), ('ipad', 3000), ('tv philco', 800), ('notebook hp', 1700)]\n"
     ]
    }
   ],
   "source": [
    "#fazendo usando o lambda \n",
    "\n",
    "\n",
    "produto_2000_2 = list(filter(lambda item: item[1]> 200, preco_tecnologia.items()))\n",
    "print(produto_2000_2)"
   ]
  },
  {
   "cell_type": "markdown",
   "metadata": {},
   "source": [
    "# Lambda Expressions para gerar funções\n",
    "\n",
    "### Descrição\n",
    "\n",
    "- Uma das aplicações de lambda expressions, além da vista na aula passada, é criar um \"gerador de funções\". Nesse caso, usaremos a lambda expressions dentro da definição de uma outra função\n",
    "\n",
    "### Exemplo:\n",
    "\n",
    "1. Vamos criar uma função que me permita calcular o valor acrescido do imposto de diferentes categorias (produto, serviço, royalties, etc.)"
   ]
  },
  {
   "cell_type": "code",
   "execution_count": 1,
   "metadata": {},
   "outputs": [],
   "source": [
    "def calcular_imposto(imposto):\n",
    "    return lambda preco: preco * (1+imposto)\n",
    "\n",
    "# produto 0.1\n",
    "#serviço 0.15\n",
    "#royalties 0.25"
   ]
  },
  {
   "cell_type": "markdown",
   "metadata": {},
   "source": [
    "- Agora vamos definir as funções que calculam o imposto das 3 categorias (produto, serviço, royalties)"
   ]
  },
  {
   "cell_type": "code",
   "execution_count": 2,
   "metadata": {},
   "outputs": [],
   "source": [
    "calcular_produto = calcular_imposto(0.1)\n",
    "calcular_servico = calcular_imposto(0.15)\n",
    "calcular_royalties = calcular_imposto(0.25)"
   ]
  },
  {
   "cell_type": "markdown",
   "metadata": {},
   "source": [
    "- Agora vamos aplicar com um valor de nota fiscal de 100 para ver o resultado"
   ]
  },
  {
   "cell_type": "code",
   "execution_count": 10,
   "metadata": {},
   "outputs": [
    {
     "name": "stdout",
     "output_type": "stream",
     "text": [
      "110\n",
      "114\n",
      "125\n"
     ]
    }
   ],
   "source": [
    "print(int(calcular_produto(100)))\n",
    "print(int(calcular_servico(100)))\n",
    "print(int(calcular_royalties(100)))"
   ]
  },
  {
   "cell_type": "code",
   "execution_count": null,
   "metadata": {},
   "outputs": [],
   "source": []
  }
 ],
 "metadata": {
  "kernelspec": {
   "display_name": "Python 3",
   "language": "python",
   "name": "python3"
  },
  "language_info": {
   "codemirror_mode": {
    "name": "ipython",
    "version": 3
   },
   "file_extension": ".py",
   "mimetype": "text/x-python",
   "name": "python",
   "nbconvert_exporter": "python",
   "pygments_lexer": "ipython3",
   "version": "3.12.2"
  }
 },
 "nbformat": 4,
 "nbformat_minor": 2
}
