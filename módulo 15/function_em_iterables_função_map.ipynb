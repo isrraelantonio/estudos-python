{
 "cells": [
  {
   "cell_type": "markdown",
   "metadata": {},
   "source": [
    "Function em iterables\n",
    "\n",
    "### Segue a mesma lógica de list comprehension, mas é mais simples\n",
    "\n",
    "Basicamente alguns métodos e funções que já existem no Python podem rodar uma function para cada item, da mesma forma que fizemos com list comprehension.\n",
    "\n",
    "Isso pode ajudar a gente a resolver alguns desafios de forma mais simples\n",
    "\n",
    "Uma função que permite que a gente faça isso é a map function\n",
    "\n",
    "### map function\n",
    "\n",
    "lista = list(map(função, iterable_original))\n",
    "\n",
    "o que irá acontecer na linha de código é que determinada função será aplicada a cada um dos itens da lista"
   ]
  },
  {
   "cell_type": "markdown",
   "metadata": {},
   "source": [
    "- Exemplo: digamos que eu tenha uma function que corrige um código de um produto (semelhante ao que fizemos na seção de function aqui do curso)"
   ]
  },
  {
   "cell_type": "code",
   "execution_count": 8,
   "metadata": {},
   "outputs": [
    {
     "name": "stdout",
     "output_type": "stream",
     "text": [
      "['abc12', 'abc34', 'abc37', 'beb12', 'bsa151', 'beb23']\n"
     ]
    }
   ],
   "source": [
    "def padronizar_texto(texto):\n",
    "    texto = texto.casefold()\n",
    "    texto = texto.replace(\"  \", \" \")\n",
    "    texto = texto.strip()\n",
    "    return texto\n",
    "\n",
    "# O QUE NÓS QEUREMSOÉ PARONIZAR OS TEXTOS DA LISTA ABAIXO.\n",
    "\n",
    "\n",
    "produtos = [' ABC12 ', 'abc34', 'AbC37', 'beb12', ' BSA151', 'BEB23']\n",
    "\n",
    "# PARA TAL PRECISAMOS PERCORRE-LA.\n",
    "\n",
    "for i, porduto in enumerate(produtos):\n",
    "    # usamos o enumerate pois iremos modificar cada um dos itens da lista apartir do indice do memso, por isso pegamos o indice de cada item da lista e o texto referente ao mesmo para que possamos manipular a lista.\n",
    "    produtos[i] = padronizar_texto(porduto)\n",
    "\n",
    "print(produtos)\n",
    "\n"
   ]
  },
  {
   "cell_type": "markdown",
   "metadata": {},
   "source": [
    "É isso que o map faz, aplica a função a cada um dos elementos da lista. Vejamos sua aplicação de fato"
   ]
  },
  {
   "cell_type": "code",
   "execution_count": 9,
   "metadata": {},
   "outputs": [
    {
     "name": "stdout",
     "output_type": "stream",
     "text": [
      "['abc12', 'abc34', 'abc37', 'beb12', 'bsa151', 'beb23']\n"
     ]
    }
   ],
   "source": [
    "produtos = list(map(padronizar_texto, produtos)) # se fizessemso o uso do map sem o list o mesmo iria retornar um objeto do tipo zip, logo para que seja retornada uma lista é necessário transformar o map em uma lista.\n",
    "print(produtos)\n"
   ]
  },
  {
   "cell_type": "markdown",
   "metadata": {},
   "source": [
    "sort (ou sorted) com function\n",
    "\n",
    "### Descrição:\n",
    "\n",
    "Até agora no programa, usamos várias vezes o .sort() para ordenar listas\n",
    "\n",
    "Mas o método sort tem um parâmetro que nunca usamos e que agora sabemos usar."
   ]
  },
  {
   "cell_type": "code",
   "execution_count": 1,
   "metadata": {},
   "outputs": [
    {
     "name": "stdout",
     "output_type": "stream",
     "text": [
      "['IPad', 'IPhone 11', 'IPhone x', 'airpods', 'apple tv', 'apple watch', 'mac', 'mac book']\n"
     ]
    }
   ],
   "source": [
    "produtos = ['apple tv', 'mac', 'IPhone x', 'IPhone 11', 'IPad', 'apple watch', 'mac book', 'airpods']\n",
    "produtos.sort()\n",
    "print(produtos)"
   ]
  },
  {
   "cell_type": "markdown",
   "metadata": {},
   "source": [
    "faazendo o uso do sort dessa forma temos como resultado os valores em ordem crescente ou alfabética como no caso anterior. só que nessa saída temos primeiramente a ordenação  das letras maiúsculas para que depois possa ser feito o processo com a minúscula. Porém não é isso que nós desejamos. \n",
    "\n",
    "\n",
    "o sort tem um metodo  que pode resolver esse nosso probleminha fazendo a ordenação como se todas as letras que iniciam cada um os itens da lista fossem minúsculas, ignirando assim a diferença da grafia e organizando os valores do modo que se deseja.\n",
    "\n",
    "esse método e o método key onde o valor para o mesmo pode sero o str.lower  ou str.upper para se o desejo for essa percepção como se todas as iniciais fossem para letras maiúsculas."
   ]
  },
  {
   "cell_type": "code",
   "execution_count": 2,
   "metadata": {},
   "outputs": [
    {
     "name": "stdout",
     "output_type": "stream",
     "text": [
      "['airpods', 'apple tv', 'apple watch', 'IPad', 'IPhone 11', 'IPhone x', 'mac', 'mac book']\n"
     ]
    }
   ],
   "source": [
    "produtos = ['apple tv', 'mac', 'IPhone x', 'IPhone 11', 'IPad', 'apple watch', 'mac book', 'airpods']\n",
    "produtos.sort(key= str.lower)\n",
    "print(produtos)\n",
    "\n",
    "# e já na saída percebemos que independente da lista em si não ter sido mudada os valores foram ordenados de forma desejada pois o interpretador inntendeu todas as iniciais como sendo minúsculas, mesmo que na realidade não estejam."
   ]
  },
  {
   "cell_type": "markdown",
   "metadata": {},
   "source": [
    "Outro exemplo: como ordenar um dicionário de acordo com o valor"
   ]
  },
  {
   "cell_type": "code",
   "execution_count": 7,
   "metadata": {},
   "outputs": [
    {
     "name": "stdout",
     "output_type": "stream",
     "text": [
      "[('vinho', 100), ('cafeiteira', 150), ('microondas', 300), ('missig', 66789), ('mop', 50), ('iphone', 5500)]\n"
     ]
    }
   ],
   "source": [
    "vendas_produtos = {'vinho': 100, 'cafeiteira': 150, 'microondas': 300, \"missig\": 66789, \"mop\": 50, 'iphone': 5500}\n",
    "\n",
    "lista_profutos = list(vendas_produtos.items()) # a função items torna cada um dos valores da tupla como sendo um item. e usamos o list no início adicionaremos cada intem para destro de uma lista\n",
    "\n",
    "print(lista_profutos)"
   ]
  },
  {
   "cell_type": "markdown",
   "metadata": {},
   "source": [
    "o que queremos na verdade é ordenar os valores do maior para o menor. só que antes precisamos de uma função que utilise os valores  como chave e não as palavras. "
   ]
  },
  {
   "cell_type": "code",
   "execution_count": 8,
   "metadata": {},
   "outputs": [
    {
     "name": "stdout",
     "output_type": "stream",
     "text": [
      "[('mop', 50), ('vinho', 100), ('cafeiteira', 150), ('microondas', 300), ('iphone', 5500), ('missig', 66789)]\n"
     ]
    }
   ],
   "source": [
    "def segundo_item(tupla): # Nesse caso eu pego a tupla e seleciono o segundo item da mesma \n",
    "    return tupla[1]\n",
    "\n",
    "lista_profutos.sort(key= segundo_item) # e se quisermos trasnformar isso do maior para o meno re so usar o reverse = True\n",
    "print(lista_profutos)"
   ]
  },
  {
   "cell_type": "markdown",
   "metadata": {},
   "source": [
    "Lambda Expressions\n",
    "\n",
    "### Objetivo:\n",
    "\n",
    "- As lambdas expressions são funções anônimas (sem nome mesmo) que tem 1 linha de código e são atribuidas a uma variável, como se a variável virasse uma função.\n",
    "- Elas normalmente são usadas para fazer uma única ação, mas em Python usamos principalmente dentro de métodos como argumento, para não precisarmos criar uma função só para isso (vamos ver isso na aula que vem)\n",
    "- Outra aplicação delas está em criar um \"gerador de funções\" (vamos ver na 3ª Aula dessa Seção)\n",
    "\n",
    "### Obs\n",
    "\n",
    "- Não é \"obrigatório\" usar lambda expression, até porque praticamente tudo o que você faz com elas você consegue fazer com functions normais. Mas, é importante saber entender quando encontrar e saber usar a medida que você for se acostumando e vendo necessidade\n",
    "\n",
    "### Estrutura:\n",
    "\n",
    "minha_funcao = lambda parametro: expressão"
   ]
  },
  {
   "cell_type": "code",
   "execution_count": 9,
   "metadata": {},
   "outputs": [
    {
     "name": "stdout",
     "output_type": "stream",
     "text": [
      "10\n"
     ]
    }
   ],
   "source": [
    "# uso com  função normal:\n",
    "def minha_function(num):\n",
    "    return num * 2 \n",
    "print(minha_function(5))\n",
    " "
   ]
  },
  {
   "cell_type": "code",
   "execution_count": 10,
   "metadata": {},
   "outputs": [
    {
     "name": "stdout",
     "output_type": "stream",
     "text": [
      "10\n"
     ]
    }
   ],
   "source": [
    "# Agora fazendo uso da estrutura lambda \n",
    "\n",
    "minha_function2 = lambda num : num * 2 \n",
    "print(minha_function2(5))"
   ]
  },
  {
   "cell_type": "markdown",
   "metadata": {},
   "source": [
    "- Exemplo útil: Vamos usar lambda expressions para criar uma função que calcula o preço dos produtos acrescido do imposto"
   ]
  },
  {
   "cell_type": "code",
   "execution_count": 13,
   "metadata": {},
   "outputs": [
    {
     "name": "stdout",
     "output_type": "stream",
     "text": [
      "130.0\n",
      "130.0\n"
     ]
    }
   ],
   "source": [
    "imposto = 0.3\n",
    "def preco_imposto(preco):\n",
    "    return preco +  (preco * imposto)\n",
    "\n",
    "preco_imposto2 = lambda preco : preco +  (preco * imposto)\n",
    "print(preco_imposto(100))\n",
    "print(preco_imposto2(100))"
   ]
  }
 ],
 "metadata": {
  "kernelspec": {
   "display_name": "Python 3",
   "language": "python",
   "name": "python3"
  },
  "language_info": {
   "codemirror_mode": {
    "name": "ipython",
    "version": 3
   },
   "file_extension": ".py",
   "mimetype": "text/x-python",
   "name": "python",
   "nbconvert_exporter": "python",
   "pygments_lexer": "ipython3",
   "version": "3.12.2"
  }
 },
 "nbformat": 4,
 "nbformat_minor": 2
}
