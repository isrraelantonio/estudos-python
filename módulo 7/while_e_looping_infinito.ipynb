{
 "cells": [
  {
   "cell_type": "markdown",
   "metadata": {},
   "source": [
    "<h4>Estrutura while:</h4>\n",
    "\n",
    " Funcionamento:\n",
    "\n",
    "Usamos o while quando queremos repetir um código de forma indeterminada até uma condição se tornar verdadeira/falsa. Nesse caso o seu uso é em casos onde não se sabe quantas vezes será necessário fazer a repetição do código.\n",
    "\n",
    "A lógica é: enquanto a condição for verdadeira, o while executa o código. Assim que ela terminar de ser verdadeira, o código \"sai\" do while.\n",
    "\n",
    "Um bom exemplo do uso do while é quando temos uma página em carregamneto, não se sabe quanto tem po demorará para que isso se finalize, logo, esse é um bom exemplo para o uso desse while.\n",
    "\n",
    "while condicao:\n",
    "    repete esse código"
   ]
  },
  {
   "cell_type": "markdown",
   "metadata": {},
   "source": [
    "Exemplo: Quando criamos automações na internet\n",
    "- Exemplo2: Crie um programa que funcione como o registro de vendas de uma empresa.\n",
    "\n",
    "Nele, a pessoa deve inserir o nome do produto e o produto deve ser adicionado na lista de venda. Enquanto o usuário não encerrar o programa, significa que ele está registrando novos produtos, então o programa deve permitir e entrada de quantos produtos o usuário quiser."
   ]
  },
  {
   "cell_type": "code",
   "execution_count": 5,
   "metadata": {},
   "outputs": [
    {
     "name": "stdout",
     "output_type": "stream",
     "text": [
      "registro finalizado. As vendas cadastradas foram ['arroz ', 'feijão ', 'carne de frango ', 'ovo ', 'leite ', 'massa de pão ', 'massa de amburguer']\n"
     ]
    }
   ],
   "source": [
    "venda = input(\"digite o produto que deseja cadastrar. Caso não deseje cadastrar outro produto é só deigitar enter, que o cadasro irá ser concluído.\")\n",
    "vendas = []\n",
    "\n",
    "while venda != \"\":\n",
    "    vendas.append(venda)\n",
    "    venda = input(\"digite o produto que deseja cadastrar.\")\n",
    "\n",
    "print(\"registro finalizado. As vendas cadastradas foram {}\".format(vendas))"
   ]
  },
  {
   "cell_type": "markdown",
   "metadata": {},
   "source": [
    "Cuuidado com o while pode acontecer de haver um looping infinito, pois se o mesmo não reconhecer a condição como verdadeira ele irá se repetir continuamente."
   ]
  },
  {
   "cell_type": "code",
   "execution_count": 8,
   "metadata": {},
   "outputs": [
    {
     "name": "stdout",
     "output_type": "stream",
     "text": [
      "Maria bateu a meta, com venda de 941\n",
      "José bateu a meta, com venda de 852\n",
      "Antônio bateu a meta, com venda de 783\n",
      "João bateu a meta, com venda de 714\n",
      "Francisco bateu a meta, com venda de 697\n",
      "Ana bateu a meta, com venda de 686\n",
      "Luiz bateu a meta, com venda de 685\n",
      "Paulo bateu a meta, com venda de 670\n",
      "Carlos bateu a meta, com venda de 631\n",
      "Manoel bateu a meta, com venda de 453\n",
      "Pedro bateu a meta, com venda de 386\n",
      "Francisca bateu a meta, com venda de 371\n",
      "Marcos bateu a meta, com venda de 294\n",
      "Raimundo bateu a meta, com venda de 269\n",
      "Sebastião bateu a meta, com venda de 259\n",
      "Antônia bateu a meta, com venda de 218\n",
      "Marcelo bateu a meta, com venda de 208\n",
      "Jorge bateu a meta, com venda de 163\n",
      "Márcia bateu a meta, com venda de 125\n",
      "Geraldo bateu a meta, com venda de 102\n",
      "Adriana bateu a meta, com venda de 87\n"
     ]
    }
   ],
   "source": [
    "vendas = [941, 852, 783, 714, 697, 686, 685, 670, 631, 453, 386, 371, 294, 269, 259, 218, 208, 163, 125, 102, 87, 47, 7]\n",
    "vendedores = ['Maria', 'José', 'Antônio', 'João', 'Francisco', 'Ana', 'Luiz', 'Paulo', 'Carlos', 'Manoel', 'Pedro', 'Francisca', 'Marcos', 'Raimundo', 'Sebastião', 'Antônia', 'Marcelo', 'Jorge', 'Márcia', 'Geraldo', 'Adriana', 'Sandra', 'Luis']\n",
    "meta = 50\n",
    "\n",
    "i = 0\n",
    "while vendas[i] > meta:\n",
    "    print(\"{} bateu a meta, com venda de {}\".format(vendedores[i], vendas[i]))\n",
    "    i += 1\n"
   ]
  },
  {
   "cell_type": "markdown",
   "metadata": {},
   "source": [
    "Input até o usuário parar\n",
    "\n",
    "Vamos criar um sistema de vendas. Nosso programa deve registrar os produtos e as quantidades (2 inputs) e adicionar em uma lista.\n",
    "\n",
    "O programa deve continuar rodando até o input ser vazio, ou seja, o usuário apertar enter sem digitar nenhum produto ou quantidade.\n",
    "\n",
    "Ao final do programa, ele deve printar todos os produtos e quantidades vendidas.\n",
    "\n",
    "Obs: Caso queira, para o print ficar mais visual, pode usar o join para cada item ser printado em uma linha.\n",
    "Sugestão para sua lista de produtos vendidos:"
   ]
  },
  {
   "cell_type": "markdown",
   "metadata": {},
   "source": [
    "vendas = [\n",
    "    ['maçã', 5],\n",
    "    ['banana', 15],\n",
    "    ['azeite', 1],\n",
    "    ['vinho', 3],\n",
    "]"
   ]
  },
  {
   "cell_type": "code",
   "execution_count": 13,
   "metadata": {},
   "outputs": [
    {
     "name": "stdout",
     "output_type": "stream",
     "text": [
      "[['margarina', '160']]\n"
     ]
    }
   ],
   "source": [
    "vendas = []\n",
    "while True:\n",
    "    produto =  input(\"Digite o nome do produto\")\n",
    "    quantidade = input(\"digite a quantidade de produto\")\n",
    "    if produto and quantidade:\n",
    "        vendas.append([produto,quantidade])\n",
    "    else: \n",
    "        break\n",
    "print(vendas)\n"
   ]
  },
  {
   "cell_type": "markdown",
   "metadata": {},
   "source": []
  }
 ],
 "metadata": {
  "kernelspec": {
   "display_name": "Python 3",
   "language": "python",
   "name": "python3"
  },
  "language_info": {
   "codemirror_mode": {
    "name": "ipython",
    "version": 3
   },
   "file_extension": ".py",
   "mimetype": "text/x-python",
   "name": "python",
   "nbconvert_exporter": "python",
   "pygments_lexer": "ipython3",
   "version": "3.12.2"
  }
 },
 "nbformat": 4,
 "nbformat_minor": 2
}
