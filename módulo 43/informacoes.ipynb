{
 "cells": [
  {
   "cell_type": "code",
   "execution_count": null,
   "metadata": {},
   "outputs": [],
   "source": []
  },
  {
   "cell_type": "markdown",
   "metadata": {},
   "source": [
    "para construção de sites com python fazemos uso do framework. No caso iremos fazer uso do flask nesse caso o mesmo não é tão interessante pois com o mesmo não precisaremos começar a criação do nosso código do inteiro zero. pois o mesmo já nos permiote colocar o nosso site no ar assim como para outras funcionalidades como o sistema de autênticações que podem ser feitos pelo própio programador porém temos esse recurso disponível para tal dentro de ferramentas presentes no mesmo. Fazendo toda a gerencia de semhas criptografia para o seu banco de dados por exemplo. além dele temos o jango que também pode ser uma opção bem interessante."
   ]
  },
  {
   "cell_type": "markdown",
   "metadata": {},
   "source": []
  }
 ],
 "metadata": {
  "kernelspec": {
   "display_name": "Python 3",
   "language": "python",
   "name": "python3"
  },
  "language_info": {
   "codemirror_mode": {
    "name": "ipython",
    "version": 3
   },
   "file_extension": ".py",
   "mimetype": "text/x-python",
   "name": "python",
   "nbconvert_exporter": "python",
   "pygments_lexer": "ipython3",
   "version": "3.12.2"
  }
 },
 "nbformat": 4,
 "nbformat_minor": 2
}
